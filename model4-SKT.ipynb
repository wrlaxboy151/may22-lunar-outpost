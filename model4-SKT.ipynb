{
 "cells": [
  {
   "cell_type": "markdown",
   "id": "adfbeee0",
   "metadata": {},
   "source": [
    "A written summary of this notebook can be found here:\n",
    "TBD\n"
   ]
  },
  {
   "cell_type": "markdown",
   "id": "f9cb6415",
   "metadata": {},
   "source": [
    "# Downloading the necessary packages and data"
   ]
  },
  {
   "cell_type": "code",
   "execution_count": 1,
   "id": "33f458a5",
   "metadata": {},
   "outputs": [],
   "source": [
    "import pandas as pd"
   ]
  },
  {
   "cell_type": "code",
   "execution_count": 2,
   "id": "f7652233",
   "metadata": {},
   "outputs": [],
   "source": [
    "import numpy as np"
   ]
  },
  {
   "cell_type": "code",
   "execution_count": 3,
   "id": "f4af12c2",
   "metadata": {},
   "outputs": [],
   "source": [
    "from sklearn.metrics import precision_score, recall_score\n",
    "from sklearn.linear_model import LogisticRegression\n",
    "from sklearn.tree import DecisionTreeClassifier\n",
    "from sklearn.decomposition import PCA\n",
    "from sklearn.preprocessing import StandardScaler\n",
    "from sklearn.svm import SVC\n",
    "from sklearn.neighbors import KNeighborsClassifier\n",
    "\n",
    "from sklearn.ensemble import VotingClassifier, RandomForestClassifier"
   ]
  },
  {
   "cell_type": "code",
   "execution_count": 4,
   "id": "838fcb23",
   "metadata": {},
   "outputs": [],
   "source": [
    "import matplotlib.pyplot as plt\n",
    "import seaborn as sns"
   ]
  },
  {
   "cell_type": "code",
   "execution_count": 5,
   "id": "75f7a65a",
   "metadata": {},
   "outputs": [],
   "source": [
    "main2=pd.read_pickle('Data/data_from_imdb_extra.pkl')"
   ]
  },
  {
   "cell_type": "code",
   "execution_count": 6,
   "id": "89bc99ad",
   "metadata": {},
   "outputs": [
    {
     "data": {
      "text/plain": [
       "Index(['imdb_id', 'titles', 'year', 'original_air_date', 'countries',\n",
       "       'language', 'genres', 'certificates', 'rating', 'votes', 'color_info',\n",
       "       'runtimes', 'box_office', 'producers', 'directors',\n",
       "       'production_company', 'distributors', 'metascore', 'is_nominee',\n",
       "       'United States', 'Family', 'Adventure', 'Comedy', 'Fantasy', 'Other',\n",
       "       'G', 'PG', 'PG-13', 'R', 'Unrated', 'metascore_available', 'prev_dir',\n",
       "       'prev_prod', 'metascore_0', 'metascore_ave'],\n",
       "      dtype='object')"
      ]
     },
     "execution_count": 6,
     "metadata": {},
     "output_type": "execute_result"
    }
   ],
   "source": [
    "main2.columns"
   ]
  },
  {
   "cell_type": "code",
   "execution_count": 9,
   "id": "d2f92f16",
   "metadata": {},
   "outputs": [],
   "source": [
    "month_df=pd.read_pickle('Data/df_of_months')\n",
    "prodcomp_df=pd.read_pickle('Data/df_previous_nom_production_comp.pkl')"
   ]
  },
  {
   "cell_type": "code",
   "execution_count": 10,
   "id": "c958cbdf",
   "metadata": {},
   "outputs": [
    {
     "data": {
      "text/html": [
       "<div>\n",
       "<style scoped>\n",
       "    .dataframe tbody tr th:only-of-type {\n",
       "        vertical-align: middle;\n",
       "    }\n",
       "\n",
       "    .dataframe tbody tr th {\n",
       "        vertical-align: top;\n",
       "    }\n",
       "\n",
       "    .dataframe thead th {\n",
       "        text-align: right;\n",
       "    }\n",
       "</style>\n",
       "<table border=\"1\" class=\"dataframe\">\n",
       "  <thead>\n",
       "    <tr style=\"text-align: right;\">\n",
       "      <th></th>\n",
       "      <th>imdb_id</th>\n",
       "      <th>day</th>\n",
       "      <th>month</th>\n",
       "      <th>year</th>\n",
       "      <th>country</th>\n",
       "      <th>month_num</th>\n",
       "    </tr>\n",
       "  </thead>\n",
       "  <tbody>\n",
       "    <tr>\n",
       "      <th>0</th>\n",
       "      <td>0388130</td>\n",
       "      <td>13</td>\n",
       "      <td>Jan</td>\n",
       "      <td>2001</td>\n",
       "      <td>(Japan)</td>\n",
       "      <td>1</td>\n",
       "    </tr>\n",
       "    <tr>\n",
       "      <th>1</th>\n",
       "      <td>0273772</td>\n",
       "      <td>17</td>\n",
       "      <td>Jan</td>\n",
       "      <td>2001</td>\n",
       "      <td>(France)</td>\n",
       "      <td>1</td>\n",
       "    </tr>\n",
       "  </tbody>\n",
       "</table>\n",
       "</div>"
      ],
      "text/plain": [
       "   imdb_id day month  year   country  month_num\n",
       "0  0388130  13   Jan  2001   (Japan)          1\n",
       "1  0273772  17   Jan  2001  (France)          1"
      ]
     },
     "execution_count": 10,
     "metadata": {},
     "output_type": "execute_result"
    }
   ],
   "source": [
    "month_df.head(2)"
   ]
  },
  {
   "cell_type": "code",
   "execution_count": 11,
   "id": "eb80ef6f",
   "metadata": {
    "scrolled": true
   },
   "outputs": [
    {
     "data": {
      "text/html": [
       "<div>\n",
       "<style scoped>\n",
       "    .dataframe tbody tr th:only-of-type {\n",
       "        vertical-align: middle;\n",
       "    }\n",
       "\n",
       "    .dataframe tbody tr th {\n",
       "        vertical-align: top;\n",
       "    }\n",
       "\n",
       "    .dataframe thead th {\n",
       "        text-align: right;\n",
       "    }\n",
       "</style>\n",
       "<table border=\"1\" class=\"dataframe\">\n",
       "  <thead>\n",
       "    <tr style=\"text-align: right;\">\n",
       "      <th></th>\n",
       "      <th>imdb_id</th>\n",
       "      <th>prev nom pcomp</th>\n",
       "      <th>prev nom pcomp encoded</th>\n",
       "    </tr>\n",
       "  </thead>\n",
       "  <tbody>\n",
       "    <tr>\n",
       "      <th>0</th>\n",
       "      <td>0388130</td>\n",
       "      <td>Not Previously Nominated</td>\n",
       "      <td>0</td>\n",
       "    </tr>\n",
       "    <tr>\n",
       "      <th>1</th>\n",
       "      <td>0273772</td>\n",
       "      <td>Not Previously Nominated</td>\n",
       "      <td>0</td>\n",
       "    </tr>\n",
       "  </tbody>\n",
       "</table>\n",
       "</div>"
      ],
      "text/plain": [
       "   imdb_id            prev nom pcomp  prev nom pcomp encoded\n",
       "0  0388130  Not Previously Nominated                       0\n",
       "1  0273772  Not Previously Nominated                       0"
      ]
     },
     "execution_count": 11,
     "metadata": {},
     "output_type": "execute_result"
    }
   ],
   "source": [
    "prodcomp_df.head(2)"
   ]
  },
  {
   "cell_type": "code",
   "execution_count": 12,
   "id": "e6503e9a",
   "metadata": {},
   "outputs": [],
   "source": [
    "main2['month']=month_df['month_num']\n",
    "main2['prev_pc'] = prodcomp_df['prev nom pcomp encoded']"
   ]
  },
  {
   "cell_type": "code",
   "execution_count": 17,
   "id": "2ed48ac5",
   "metadata": {
    "scrolled": true
   },
   "outputs": [
    {
     "data": {
      "text/plain": [
       "0       [100]\n",
       "1        [70]\n",
       "2        [99]\n",
       "3        [46]\n",
       "4        [81]\n",
       "        ...  \n",
       "3896     [70]\n",
       "3897     [78]\n",
       "3898     [60]\n",
       "3899     [90]\n",
       "3900     [89]\n",
       "Name: runtimes, Length: 3901, dtype: object"
      ]
     },
     "execution_count": 17,
     "metadata": {},
     "output_type": "execute_result"
    }
   ],
   "source": [
    "main2['runtimes']"
   ]
  },
  {
   "cell_type": "code",
   "execution_count": 20,
   "id": "bdd6345e",
   "metadata": {},
   "outputs": [],
   "source": [
    "runtime_ints=[]\n",
    "for i in range(len(main2)):\n",
    "    runtime_ints.append(main2.iloc[i]['runtimes'][0])"
   ]
  },
  {
   "cell_type": "code",
   "execution_count": 21,
   "id": "e175eaf2",
   "metadata": {},
   "outputs": [],
   "source": [
    "main2['runtime_ints'] = runtime_ints"
   ]
  },
  {
   "cell_type": "code",
   "execution_count": 22,
   "id": "42f2fb60",
   "metadata": {},
   "outputs": [],
   "source": [
    "main2.to_pickle('Data/data_from_imdb_extra_2.pkl')"
   ]
  },
  {
   "cell_type": "markdown",
   "id": "caeb5550",
   "metadata": {},
   "source": [
    "# Splitting the test and training data"
   ]
  },
  {
   "cell_type": "code",
   "execution_count": 23,
   "id": "b5b9155c",
   "metadata": {},
   "outputs": [],
   "source": [
    "main_df=pd.read_pickle('Data/data_from_imdb_extra_2.pkl')"
   ]
  },
  {
   "cell_type": "code",
   "execution_count": 24,
   "id": "89e01e37",
   "metadata": {},
   "outputs": [],
   "source": [
    "#create a dataframe that drops given years\n",
    "def drop_test(df,L):\n",
    "    '''input a dataframe of movies (df) and a list of years as int (L)\n",
    "    outputs a dataframe that does not include the movies in years in L'''\n",
    "    indices =[]\n",
    "    for i in range(len(df)):\n",
    "        if df.iloc[i]['year'] in L:\n",
    "            indices.append(i)\n",
    "    new_df=df.drop(indices)\n",
    "    return(new_df)"
   ]
  },
  {
   "cell_type": "code",
   "execution_count": 25,
   "id": "caf0aaf3",
   "metadata": {},
   "outputs": [],
   "source": [
    "train_set=drop_test(main2, [2018,2019,2020,2021])"
   ]
  },
  {
   "cell_type": "code",
   "execution_count": 26,
   "id": "5925fb0d",
   "metadata": {},
   "outputs": [],
   "source": [
    "def timeseries_split(df, k):\n",
    "    '''takes in a movie dataframe (df),  k (int)\n",
    "    and outputs a tuple that behaves like kfold.split when kfold =kfold = TimeSeriesSplit(n_splits = k,\n",
    "                           test_size = 1)\n",
    "    that is, the output is a tuple of 2-tuples, where\n",
    "    the first element of each tuple is the indices of the train set and\n",
    "    the second element is the indices of the test set\n",
    "    unlike TimeSeriesSplit it can only handle one dataframe at a time'''\n",
    "    if len(df['year'].value_counts()) <k:\n",
    "        raise ValueError(\"Not enough data for given k\")\n",
    "        \n",
    "    df=df.copy()\n",
    "    \n",
    "    answer=[]\n",
    "    i=0\n",
    "    while i <k:\n",
    "        last_year=df['year'].max()\n",
    "        \n",
    "        #get array of indices of last year in list\n",
    "        index_set=np.array(df[df['year']==last_year].index)\n",
    "        \n",
    "        #delete rows from dataframe\n",
    "        df=drop_test(df,[last_year])\n",
    "        #print(len(df))\n",
    "        \n",
    "        #add to train_sets\n",
    "        index_set2=np.array(df.index)\n",
    "        \n",
    "        new_set=(index_set2, index_set)\n",
    "        answer=[new_set] + answer\n",
    "        \n",
    "        i=i+1\n",
    "    \n",
    "    return tuple(answer)"
   ]
  },
  {
   "cell_type": "markdown",
   "id": "46d8178f",
   "metadata": {},
   "source": [
    "# Models based on more features"
   ]
  },
  {
   "cell_type": "code",
   "execution_count": 27,
   "id": "fbdf0ccc",
   "metadata": {},
   "outputs": [
    {
     "data": {
      "text/plain": [
       "Index(['imdb_id', 'titles', 'year', 'original_air_date', 'countries',\n",
       "       'language', 'genres', 'certificates', 'rating', 'votes', 'color_info',\n",
       "       'runtimes', 'box_office', 'producers', 'directors',\n",
       "       'production_company', 'distributors', 'metascore', 'is_nominee',\n",
       "       'United States', 'Family', 'Adventure', 'Comedy', 'Fantasy', 'Other',\n",
       "       'G', 'PG', 'PG-13', 'R', 'Unrated', 'metascore_available', 'prev_dir',\n",
       "       'prev_prod', 'metascore_0', 'metascore_ave', 'month', 'prev_pc',\n",
       "       'runtime_ints'],\n",
       "      dtype='object')"
      ]
     },
     "execution_count": 27,
     "metadata": {},
     "output_type": "execute_result"
    }
   ],
   "source": [
    "train_set.columns"
   ]
  },
  {
   "cell_type": "code",
   "execution_count": 28,
   "id": "d4cb471b",
   "metadata": {},
   "outputs": [],
   "source": [
    "viable_columns = [\n",
    "       'United States', 'Family', 'Adventure', 'Comedy', 'Fantasy', 'Other',\n",
    "       'G', 'PG', 'PG-13', 'R', 'Unrated', 'metascore_available', 'prev_dir',\n",
    "       'prev_prod', 'metascore_0', 'metascore_ave', 'month', 'prev_pc',\n",
    "       'runtime_ints']"
   ]
  },
  {
   "cell_type": "markdown",
   "id": "8da481af",
   "metadata": {},
   "source": [
    "### Random Forest"
   ]
  },
  {
   "cell_type": "code",
   "execution_count": 29,
   "id": "8ff2a075",
   "metadata": {},
   "outputs": [],
   "source": [
    "def est_forest(j):\n",
    "    '''goes through j n-estimaters values on decision trees on training set.\n",
    "    Creates an array of precisions and recalls, to be processed'''\n",
    "    precs=np.zeros((j,5))\n",
    "    recs = np.zeros((j,5))\n",
    "    for i in range(0,j):\n",
    "        k=0\n",
    "        for train_index, val_index in timeseries_split(train_set,5):\n",
    "\n",
    "            # make random forest with maxdepth=10 and n_estimators=80\n",
    "            tree=RandomForestClassifier(n_estimators=80, max_depth=10)\n",
    "            tree.fit(\n",
    "                train_set.iloc[train_index][viable_columns],\n",
    "                train_set.iloc[train_index]['is_nominee']\n",
    "                    )\n",
    "            pred=tree.predict(train_set.iloc[val_index][viable_columns]\n",
    "                        )\n",
    "\n",
    "            # add metrics to the tables\n",
    "            precs[i,k]=precision_score(train_set.iloc[val_index]['is_nominee'], pred, zero_division=0)\n",
    "            recs[i,k]=recall_score(train_set.iloc[val_index]['is_nominee'], pred, zero_division=0)\n",
    "            k=k+1\n",
    "\n",
    "    return(precs, recs)"
   ]
  },
  {
   "cell_type": "code",
   "execution_count": 30,
   "id": "54d72bae",
   "metadata": {},
   "outputs": [],
   "source": [
    "metrics_forest=est_forest(1)"
   ]
  },
  {
   "cell_type": "code",
   "execution_count": 31,
   "id": "a853de88",
   "metadata": {
    "scrolled": false
   },
   "outputs": [
    {
     "data": {
      "text/plain": [
       "(array([[1.        , 0.6       , 0.66666667, 0.8       , 0.33333333]]),\n",
       " array([[0.66666667, 0.6       , 0.66666667, 0.8       , 0.2       ]]))"
      ]
     },
     "execution_count": 31,
     "metadata": {},
     "output_type": "execute_result"
    }
   ],
   "source": [
    "metrics_forest"
   ]
  },
  {
   "cell_type": "code",
   "execution_count": 45,
   "id": "ef955c14",
   "metadata": {
    "scrolled": false
   },
   "outputs": [
    {
     "data": {
      "image/png": "[encoded data removed]",
      "text/plain": [
       "<Figure size 576x432 with 1 Axes>"
      ]
     },
     "metadata": {
      "needs_background": "light"
     },
     "output_type": "display_data"
    }
   ],
   "source": [
    "plt.figure(figsize=(8,6))\n",
    "\n",
    "plt.scatter(range(2013,2018), metrics_forest[0])\n",
    "\n",
    "plt.plot(range(2013,2018), 5*[np.mean(metrics_forest[0])], label='Average')\n",
    "\n",
    "plt.title('Precision Scores for Random Forest', fontsize=20)\n",
    "plt.xlabel('Years')\n",
    "plt.ylabel('Precision')\n",
    "plt.ylim(-0.1,1.1)\n",
    "\n",
    "plt.legend()\n",
    "\n",
    "plt.show()"
   ]
  },
  {
   "cell_type": "code",
   "execution_count": 54,
   "id": "1303d66e",
   "metadata": {},
   "outputs": [
    {
     "data": {
      "image/png": "[encoded data removed]",
      "text/plain": [
       "<Figure size 576x432 with 1 Axes>"
      ]
     },
     "metadata": {
      "needs_background": "light"
     },
     "output_type": "display_data"
    }
   ],
   "source": [
    "plt.figure(figsize=(8,6))\n",
    "\n",
    "plt.scatter(range(2013,2018), metrics_forest[1])\n",
    "\n",
    "plt.plot(range(2013,2018), 5*[np.mean(metrics_forest[1])], label='Average')\n",
    "\n",
    "plt.title('Recall Scores for Random Forest', fontsize=20)\n",
    "plt.xlabel('Years')\n",
    "plt.ylabel('Recall')\n",
    "plt.ylim(-0.1,1.1)\n",
    "\n",
    "plt.legend()\n",
    "\n",
    "plt.show()"
   ]
  },
  {
   "cell_type": "code",
   "execution_count": 42,
   "id": "6fec53bd",
   "metadata": {},
   "outputs": [
    {
     "name": "stdout",
     "output_type": "stream",
     "text": [
      "Recall:\n",
      "[0.58666667]\n",
      "Precision:\n",
      "[0.68]\n"
     ]
    }
   ],
   "source": [
    "print('Recall:')\n",
    "print(np.mean(metrics_forest[1], axis=1))\n",
    "print('Precision:')\n",
    "print(np.mean(metrics_forest[0], axis=1))"
   ]
  },
  {
   "cell_type": "markdown",
   "id": "a2e5bda5",
   "metadata": {},
   "source": [
    "#### <font color='MediumOrchid'>For Random Forests, these metrics are both lower than before we incorporated the new features. </font>"
   ]
  },
  {
   "cell_type": "markdown",
   "id": "597d8bbe",
   "metadata": {},
   "source": [
    "### k Nearest Neighbors Classifier"
   ]
  },
  {
   "cell_type": "code",
   "execution_count": 47,
   "id": "f7b61bcd",
   "metadata": {},
   "outputs": [],
   "source": [
    "def est_knn(j):\n",
    "    '''goes through k in range(1,j+1) on kNN models on training set.\n",
    "    Creates an array of precisions and recalls, to be processed'''\n",
    "    precs=np.zeros((j,5))\n",
    "    recs = np.zeros((j,5))\n",
    "    for i in range(0,j):\n",
    "        x=0\n",
    "        for train_index, val_index in timeseries_split(train_set,5):\n",
    "\n",
    "            # make k Nearest Neighbors model with k=i+1\n",
    "            kNN = KNeighborsClassifier(n_neighbors=1, p=1)\n",
    "            kNN.fit(\n",
    "                train_set.iloc[train_index][viable_columns],\n",
    "                train_set.iloc[train_index]['is_nominee']\n",
    "                    )\n",
    "            pred=kNN.predict(train_set.iloc[val_index][viable_columns]\n",
    "                        )\n",
    "\n",
    "            # add metrics to the tables\n",
    "            precs[i,x]=precision_score(train_set.iloc[val_index]['is_nominee'], pred, zero_division=0)\n",
    "            recs[i,x]=recall_score(train_set.iloc[val_index]['is_nominee'], pred, zero_division=0)\n",
    "            x=x+1\n",
    "\n",
    "    return(precs, recs)"
   ]
  },
  {
   "cell_type": "code",
   "execution_count": 48,
   "id": "32d939bf",
   "metadata": {},
   "outputs": [],
   "source": [
    "metrics_knn=est_knn(1)"
   ]
  },
  {
   "cell_type": "code",
   "execution_count": 49,
   "id": "bd7494c8",
   "metadata": {
    "scrolled": true
   },
   "outputs": [
    {
     "data": {
      "text/plain": [
       "(array([[0.33333333, 0.8       , 0.66666667, 0.44444444, 0.28571429]]),\n",
       " array([[0.16666667, 0.8       , 0.66666667, 0.8       , 0.4       ]]))"
      ]
     },
     "execution_count": 49,
     "metadata": {},
     "output_type": "execute_result"
    }
   ],
   "source": [
    "metrics_knn"
   ]
  },
  {
   "cell_type": "code",
   "execution_count": 55,
   "id": "1436ca63",
   "metadata": {
    "scrolled": true
   },
   "outputs": [
    {
     "data": {
      "image/png": "[encoded data removed]",
      "text/plain": [
       "<Figure size 576x432 with 1 Axes>"
      ]
     },
     "metadata": {
      "needs_background": "light"
     },
     "output_type": "display_data"
    }
   ],
   "source": [
    "plt.figure(figsize=(8,6))\n",
    "\n",
    "plt.scatter(range(1,6), metrics_knn[1])\n",
    "\n",
    "plt.plot(range(1,6), 5*[np.mean(metrics_knn[1])], label='Average')\n",
    "\n",
    "plt.title('Recall Scores for k Nearest Neighbors', fontsize=20)\n",
    "plt.xlabel('Years')\n",
    "plt.ylabel('Recall')\n",
    "plt.ylim(-0.1,1.1)\n",
    "\n",
    "plt.legend()\n",
    "\n",
    "plt.show()"
   ]
  },
  {
   "cell_type": "code",
   "execution_count": 56,
   "id": "d9df403d",
   "metadata": {},
   "outputs": [
    {
     "data": {
      "image/png": "[encoded data removed]",
      "text/plain": [
       "<Figure size 576x432 with 1 Axes>"
      ]
     },
     "metadata": {
      "needs_background": "light"
     },
     "output_type": "display_data"
    }
   ],
   "source": [
    "plt.figure(figsize=(8,6))\n",
    "\n",
    "plt.scatter(range(1,6), metrics_forest[0])\n",
    "\n",
    "plt.plot(range(1,6), 5*[np.mean(metrics_forest[0])], label='Average')\n",
    "\n",
    "plt.title('Precision Scores for Random Forest', fontsize=20)\n",
    "plt.xlabel('Years')\n",
    "plt.ylabel('Precision')\n",
    "plt.ylim(-0.1,1.1)\n",
    "\n",
    "plt.legend()\n",
    "\n",
    "plt.show()"
   ]
  },
  {
   "cell_type": "code",
   "execution_count": 53,
   "id": "d41f5e48",
   "metadata": {},
   "outputs": [
    {
     "name": "stdout",
     "output_type": "stream",
     "text": [
      "Recall:\n",
      "0.5666666666666667\n",
      "Precision:\n",
      "0.506031746031746\n"
     ]
    }
   ],
   "source": [
    "print('Recall:')\n",
    "print(np.mean(metrics_knn[1], axis=1)[0])\n",
    "print('Precision:')\n",
    "print(np.mean(metrics_knn[0], axis=1)[0])"
   ]
  },
  {
   "cell_type": "markdown",
   "id": "9b2f5d87",
   "metadata": {},
   "source": [
    "#### <font color='MediumOrchid'> For kNN, the precision increased but the recall decreased when adding features. Precision is decreasing over time.\n",
    "</font>"
   ]
  },
  {
   "cell_type": "markdown",
   "id": "ca6af42e",
   "metadata": {},
   "source": [
    "### Logistic Regression"
   ]
  },
  {
   "cell_type": "code",
   "execution_count": 61,
   "id": "8dcc5cb1",
   "metadata": {},
   "outputs": [],
   "source": [
    "def est_log_reg(j):\n",
    "    '''goes through C in range(j) on logistic regression models on training set.\n",
    "    Creates an array of precisions and recalls, to be processed'''\n",
    "    precs=np.zeros((j,5))\n",
    "    recs = np.zeros((j,5))\n",
    "    for i in range(0,j):\n",
    "        x=0\n",
    "        for train_index, val_index in timeseries_split(train_set,5):\n",
    "\n",
    "            # make k Nearest Neighbors model with k=i+1\n",
    "            logreg = LogisticRegression(C=2**(-1*5), max_iter=1000)\n",
    "            logreg.fit(\n",
    "                train_set.iloc[train_index][viable_columns],\n",
    "                train_set.iloc[train_index]['is_nominee']\n",
    "                    )\n",
    "            pred=logreg.predict(train_set.iloc[val_index][viable_columns]\n",
    "                        )\n",
    "\n",
    "            # add metrics to the tables\n",
    "            precs[i,x]=precision_score(train_set.iloc[val_index]['is_nominee'], pred, zero_division=0)\n",
    "            recs[i,x]=recall_score(train_set.iloc[val_index]['is_nominee'], pred, zero_division=0)\n",
    "            x=x+1\n",
    "\n",
    "    return(precs, recs)"
   ]
  },
  {
   "cell_type": "code",
   "execution_count": 62,
   "id": "e7d30326",
   "metadata": {},
   "outputs": [],
   "source": [
    "metrics_logreg=est_log_reg(1)"
   ]
  },
  {
   "cell_type": "code",
   "execution_count": 63,
   "id": "63e2a242",
   "metadata": {},
   "outputs": [
    {
     "data": {
      "text/plain": [
       "(array([[1.        , 0.75      , 0.75      , 0.55555556, 1.        ]]),\n",
       " array([[0.5, 0.6, 1. , 1. , 0.4]]))"
      ]
     },
     "execution_count": 63,
     "metadata": {},
     "output_type": "execute_result"
    }
   ],
   "source": [
    "metrics_logreg"
   ]
  },
  {
   "cell_type": "code",
   "execution_count": 65,
   "id": "155a031c",
   "metadata": {},
   "outputs": [
    {
     "data": {
      "image/png": "[encoded data removed]",
      "text/plain": [
       "<Figure size 576x432 with 1 Axes>"
      ]
     },
     "metadata": {
      "needs_background": "light"
     },
     "output_type": "display_data"
    }
   ],
   "source": [
    "plt.figure(figsize=(8,6))\n",
    "\n",
    "plt.scatter(range(1,6), metrics_logreg[1])\n",
    "\n",
    "plt.plot(range(1,6), 5*[np.mean(metrics_logreg[1])], label='Average')\n",
    "\n",
    "plt.title('Recall Scores for Random Forest', fontsize=20)\n",
    "plt.xlabel('Years')\n",
    "plt.ylabel('Recall')\n",
    "plt.ylim(-0.1,1.1)\n",
    "\n",
    "plt.legend()\n",
    "\n",
    "plt.show()"
   ]
  },
  {
   "cell_type": "code",
   "execution_count": 66,
   "id": "738f306a",
   "metadata": {},
   "outputs": [
    {
     "data": {
      "image/png": "[encoded data removed]",
      "text/plain": [
       "<Figure size 576x432 with 1 Axes>"
      ]
     },
     "metadata": {
      "needs_background": "light"
     },
     "output_type": "display_data"
    }
   ],
   "source": [
    "plt.figure(figsize=(8,6))\n",
    "\n",
    "plt.scatter(range(1,6), metrics_logreg[0])\n",
    "\n",
    "plt.plot(range(1,6), 5*[np.mean(metrics_logreg[0])], label='Average')\n",
    "\n",
    "plt.title('Precision Scores for Random Forest', fontsize=20)\n",
    "plt.xlabel('Years')\n",
    "plt.ylabel('Precision')\n",
    "plt.ylim(-0.1,1.1)\n",
    "\n",
    "plt.legend()\n",
    "\n",
    "plt.show()"
   ]
  },
  {
   "cell_type": "code",
   "execution_count": 75,
   "id": "d17f8063",
   "metadata": {},
   "outputs": [
    {
     "name": "stdout",
     "output_type": "stream",
     "text": [
      "Recall:\n",
      "0.7\n",
      "Precision:\n",
      "0.8111111111111111\n"
     ]
    }
   ],
   "source": [
    "print('Recall:')\n",
    "print(np.mean(metrics_logreg[1]))\n",
    "print('Precision:')\n",
    "print(np.mean(metrics_logreg[0]))"
   ]
  },
  {
   "cell_type": "markdown",
   "id": "587cc8b8",
   "metadata": {},
   "source": [
    "#### <font color='MediumOrchid'> For Logistic Regression, recall went down but precision went up by a lot when adding features </font>"
   ]
  },
  {
   "cell_type": "markdown",
   "id": "7bc08529",
   "metadata": {},
   "source": [
    "### Support Vector Machines"
   ]
  },
  {
   "cell_type": "code",
   "execution_count": 70,
   "id": "9dab6e3d",
   "metadata": {},
   "outputs": [],
   "source": [
    "def est_poly_svc(j):\n",
    "    '''goes through C in range(j) on SVC models on training set.\n",
    "    with polynomial degree n\n",
    "    Creates an array of precisions and recalls, to be processed'''\n",
    "    precs=np.zeros((j,5))\n",
    "    recs = np.zeros((j,5))\n",
    "    for i in range(0,j):\n",
    "        x=0\n",
    "        for train_index, val_index in timeseries_split(train_set,5):\n",
    "\n",
    "            # make k Nearest Neighbors model with k=i+1\n",
    "            svc = SVC(C=2**(-1*9), kernel='poly', degree=10, max_iter=10000)\n",
    "            svc.fit(\n",
    "                train_set.iloc[train_index][viable_columns],\n",
    "                train_set.iloc[train_index]['is_nominee']\n",
    "                    )\n",
    "            pred=svc.predict(train_set.iloc[val_index][viable_columns]\n",
    "                        )\n",
    "\n",
    "            # add metrics to the tables\n",
    "            precs[i,x]=precision_score(train_set.iloc[val_index]['is_nominee'], pred, zero_division=0)\n",
    "            recs[i,x]=recall_score(train_set.iloc[val_index]['is_nominee'], pred, zero_division=0)\n",
    "            x=x+1\n",
    "\n",
    "    return(precs, recs)"
   ]
  },
  {
   "cell_type": "code",
   "execution_count": 71,
   "id": "cf496f3b",
   "metadata": {},
   "outputs": [],
   "source": [
    "metrics_poly=est_poly_svc(1)"
   ]
  },
  {
   "cell_type": "code",
   "execution_count": 72,
   "id": "17877af5",
   "metadata": {},
   "outputs": [
    {
     "data": {
      "text/plain": [
       "(array([[1.        , 0.5       , 0.66666667, 0.66666667, 1.        ]]),\n",
       " array([[0.33333333, 0.2       , 0.66666667, 0.8       , 0.2       ]]))"
      ]
     },
     "execution_count": 72,
     "metadata": {},
     "output_type": "execute_result"
    }
   ],
   "source": [
    "metrics_poly"
   ]
  },
  {
   "cell_type": "code",
   "execution_count": 73,
   "id": "4085b230",
   "metadata": {
    "scrolled": true
   },
   "outputs": [
    {
     "data": {
      "image/png": "[encoded data removed]",
      "text/plain": [
       "<Figure size 576x432 with 1 Axes>"
      ]
     },
     "metadata": {
      "needs_background": "light"
     },
     "output_type": "display_data"
    }
   ],
   "source": [
    "plt.figure(figsize=(8,6))\n",
    "\n",
    "plt.scatter(range(1,6), metrics_poly[1])\n",
    "\n",
    "plt.plot(range(1,6), 5*[np.mean(metrics_poly[1])], label='Average')\n",
    "\n",
    "plt.title('Recall Scores for Random Forest', fontsize=20)\n",
    "plt.xlabel('Years')\n",
    "plt.ylabel('Recall')\n",
    "plt.ylim(-0.1,1.1)\n",
    "\n",
    "plt.legend()\n",
    "\n",
    "plt.show()"
   ]
  },
  {
   "cell_type": "code",
   "execution_count": 74,
   "id": "a1d3382f",
   "metadata": {},
   "outputs": [
    {
     "data": {
      "image/png": "[encoded data removed]",
      "text/plain": [
       "<Figure size 576x432 with 1 Axes>"
      ]
     },
     "metadata": {
      "needs_background": "light"
     },
     "output_type": "display_data"
    }
   ],
   "source": [
    "plt.figure(figsize=(8,6))\n",
    "\n",
    "plt.scatter(range(1,6), metrics_poly[0])\n",
    "\n",
    "plt.plot(range(1,6), 5*[np.mean(metrics_poly[0])], label='Average')\n",
    "\n",
    "plt.title('Precision Scores for Polynomial SVC', fontsize=20)\n",
    "plt.xlabel('Years')\n",
    "plt.ylabel('Precision')\n",
    "plt.ylim(-0.1,1.1)\n",
    "\n",
    "plt.legend()\n",
    "\n",
    "plt.show()"
   ]
  },
  {
   "cell_type": "code",
   "execution_count": 77,
   "id": "f55809b4",
   "metadata": {},
   "outputs": [
    {
     "name": "stdout",
     "output_type": "stream",
     "text": [
      "Recall:\n",
      "[0.44]\n",
      "Precision:\n",
      "[0.76666667]\n"
     ]
    }
   ],
   "source": [
    "print('Recall:')\n",
    "print(np.mean(metrics_poly[1], axis=1))\n",
    "print('Precision:')\n",
    "print(np.mean(metrics_poly[0], axis=1))"
   ]
  },
  {
   "cell_type": "markdown",
   "id": "c4d88450",
   "metadata": {},
   "source": [
    "#### <font color=MediumOrchid> For SVC, both precision and recall went down when adding features. </font>"
   ]
  },
  {
   "cell_type": "markdown",
   "id": "7b282ab8",
   "metadata": {},
   "source": [
    "# A Voting Model based on the above"
   ]
  },
  {
   "cell_type": "code",
   "execution_count": 78,
   "id": "26390342",
   "metadata": {},
   "outputs": [],
   "source": [
    "def voting(n):\n",
    "    '''n = weights of the voting model\n",
    "    Creates an array of precisions and recalls, to be processed'''\n",
    "    precs=np.zeros((n,5))\n",
    "    recs = np.zeros((n,5))\n",
    "    for i in range(0,n):\n",
    "        x=0\n",
    "        for train_index, val_index in timeseries_split(train_set,5):\n",
    "\n",
    "            # make voting model \n",
    "            voting = VotingClassifier([\n",
    "                ('forest',RandomForestClassifier(max_depth=10, n_estimators=80)),\n",
    "                ('knn', KNeighborsClassifier(n_neighbors=1, p=1)),\n",
    "                ('svc', SVC(C=2**(-1*9), kernel='poly', degree=10, max_iter=10000)),\n",
    "                ('log_reg', LogisticRegression(C=2**(-1*5), max_iter=1000))\n",
    "                                    ],\n",
    "                weights=None)\n",
    "            voting.fit(\n",
    "                train_set.iloc[train_index][viable_columns],\n",
    "                train_set.iloc[train_index]['is_nominee']\n",
    "                    )\n",
    "            pred=voting.predict(train_set.iloc[val_index][viable_columns]\n",
    "                        )\n",
    "\n",
    "            # add metrics to the tables\n",
    "            precs[i,x]=precision_score(train_set.iloc[val_index]['is_nominee'], pred, zero_division=0)\n",
    "            recs[i,x]=recall_score(train_set.iloc[val_index]['is_nominee'], pred, zero_division=0)\n",
    "            x=x+1\n",
    "\n",
    "    return(precs, recs)"
   ]
  },
  {
   "cell_type": "code",
   "execution_count": 79,
   "id": "6ed6ead6",
   "metadata": {},
   "outputs": [],
   "source": [
    "metrics_voting=voting(1)"
   ]
  },
  {
   "cell_type": "code",
   "execution_count": 80,
   "id": "2a0ea842",
   "metadata": {},
   "outputs": [
    {
     "data": {
      "text/plain": [
       "(array([[1.        , 0.75      , 0.66666667, 0.66666667, 1.        ]]),\n",
       " array([[0.33333333, 0.6       , 0.66666667, 0.8       , 0.4       ]]))"
      ]
     },
     "execution_count": 80,
     "metadata": {},
     "output_type": "execute_result"
    }
   ],
   "source": [
    "metrics_voting"
   ]
  },
  {
   "cell_type": "code",
   "execution_count": 81,
   "id": "29180b4b",
   "metadata": {},
   "outputs": [
    {
     "data": {
      "image/png": "[encoded data removed]",
      "text/plain": [
       "<Figure size 576x432 with 1 Axes>"
      ]
     },
     "metadata": {
      "needs_background": "light"
     },
     "output_type": "display_data"
    }
   ],
   "source": [
    "plt.figure(figsize=(8,6))\n",
    "\n",
    "plt.scatter(range(1,6), metrics_voting[1])\n",
    "\n",
    "plt.plot(range(1,6), 5*[np.mean(metrics_voting[1])], label='Average')\n",
    "\n",
    "plt.title('Recall Scores for Random Forest', fontsize=20)\n",
    "plt.xlabel('Years')\n",
    "plt.ylabel('Recall')\n",
    "plt.ylim(-0.1,1.1)\n",
    "\n",
    "plt.legend()\n",
    "\n",
    "plt.show()"
   ]
  },
  {
   "cell_type": "code",
   "execution_count": 82,
   "id": "6b8c6e78",
   "metadata": {},
   "outputs": [
    {
     "name": "stdout",
     "output_type": "stream",
     "text": [
      "Recall:\n",
      "0.56\n",
      "Precision:\n",
      "0.8166666666666667\n"
     ]
    }
   ],
   "source": [
    "print('Recall:')\n",
    "print(np.mean(metrics_voting[1]))\n",
    "print('Precision:')\n",
    "print(np.mean(metrics_voting[0]))"
   ]
  },
  {
   "cell_type": "markdown",
   "id": "dce89935",
   "metadata": {},
   "source": [
    "#### <font color=MediumOrchid> Precision went up but recall went down </font>"
   ]
  },
  {
   "cell_type": "markdown",
   "id": "c1190663",
   "metadata": {},
   "source": [
    "# Trends over validation sets"
   ]
  },
  {
   "cell_type": "code",
   "execution_count": 94,
   "id": "39ff04c8",
   "metadata": {},
   "outputs": [
    {
     "data": {
      "image/png": "[encoded data removed]",
      "text/plain": [
       "<Figure size 576x432 with 1 Axes>"
      ]
     },
     "metadata": {
      "needs_background": "light"
     },
     "output_type": "display_data"
    }
   ],
   "source": [
    "plt.figure(figsize=(8,6))\n",
    "\n",
    "\n",
    "\n",
    "plt.plot(['2013','2014','2015','2016','2017'], np.transpose(metrics_forest[1]).reshape(-1,1), label='random forest')\n",
    "\n",
    "plt.plot(['2013','2014','2015','2016','2017'], np.transpose(metrics_knn[1]).reshape(-1,1), label='k Nearest Neighbor')\n",
    "\n",
    "plt.plot(['2013','2014','2015','2016','2017'], np.transpose(metrics_poly[1]).reshape(-1,1), label='SVC')\n",
    "\n",
    "plt.plot(['2013','2014','2015','2016','2017'], np.transpose(metrics_logreg[1]).reshape(-1,1), label='Logistic Regression')\n",
    "\n",
    "plt.plot(['2013','2014','2015','2016','2017'], np.transpose(metrics_voting[1]).reshape(-1,1), linewidth=5, \n",
    "         label='voting',color='k')\n",
    "\n",
    "plt.title('Recall Scores for Models', fontsize=20)\n",
    "plt.xlabel('Years')\n",
    "plt.ylabel('Recall')\n",
    "plt.ylim(-0.1,1.1)\n",
    "\n",
    "plt.legend()\n",
    "\n",
    "plt.show()"
   ]
  },
  {
   "cell_type": "code",
   "execution_count": 93,
   "id": "e7744d27",
   "metadata": {},
   "outputs": [
    {
     "data": {
      "image/png": "[encoded data removed]",
      "text/plain": [
       "<Figure size 576x432 with 1 Axes>"
      ]
     },
     "metadata": {
      "needs_background": "light"
     },
     "output_type": "display_data"
    }
   ],
   "source": [
    "plt.figure(figsize=(8,6))\n",
    "\n",
    "\n",
    "plt.plot(['2013','2014','2015','2016','2017'], np.transpose(metrics_forest[0]).reshape(-1,1), label='random forest')\n",
    "\n",
    "plt.plot(['2013','2014','2015','2016','2017'], np.transpose(metrics_knn[0]).reshape(-1,1), label='k Nearest Neighbor')\n",
    "\n",
    "plt.plot(['2013','2014','2015','2016','2017'], np.transpose(metrics_poly[0]).reshape(-1,1), label='SVC')\n",
    "\n",
    "plt.plot(['2013','2014','2015','2016','2017'], np.transpose(metrics_logreg[0]).reshape(-1,1), label='Logistic Regression')\n",
    "\n",
    "plt.plot(['2013','2014','2015','2016','2017'], np.transpose(metrics_voting[0]).reshape(-1,1),linewidth=5, \n",
    "         label='voting', color='k')\n",
    "\n",
    "plt.title('Precision Scores for Models', fontsize=20)\n",
    "plt.xlabel('Years')\n",
    "plt.ylabel('Precision')\n",
    "plt.ylim(-0.1,1.1)\n",
    "\n",
    "plt.legend()\n",
    "\n",
    "plt.show()"
   ]
  },
  {
   "cell_type": "markdown",
   "id": "2eecdaa0",
   "metadata": {},
   "source": [
    "# Leaving off features"
   ]
  },
  {
   "cell_type": "markdown",
   "id": "8c8ef010",
   "metadata": {},
   "source": [
    "# A different train-test split"
   ]
  },
  {
   "cell_type": "markdown",
   "id": "6d21cfdd",
   "metadata": {},
   "source": [
    "# Ensemble types"
   ]
  },
  {
   "cell_type": "code",
   "execution_count": null,
   "id": "617ecffc",
   "metadata": {},
   "outputs": [],
   "source": []
  }
 ],
 "metadata": {
  "kernelspec": {
   "display_name": "Python 3 (ipykernel)",
   "language": "python",
   "name": "python3"
  },
  "language_info": {
   "codemirror_mode": {
    "name": "ipython",
    "version": 3
   },
   "file_extension": ".py",
   "mimetype": "text/x-python",
   "name": "python",
   "nbconvert_exporter": "python",
   "pygments_lexer": "ipython3",
   "version": "3.9.7"
  }
 },
 "nbformat": 4,
 "nbformat_minor": 5
}
