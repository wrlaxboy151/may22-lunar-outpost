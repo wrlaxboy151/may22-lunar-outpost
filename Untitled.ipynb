{
 "cells": [
  {
   "cell_type": "code",
   "execution_count": 1,
   "id": "eb164444",
   "metadata": {},
   "outputs": [],
   "source": [
    "## For data handling\n",
    "import pandas as pd\n",
    "import numpy as np\n",
    "\n",
    "## For plotting\n",
    "import matplotlib.pyplot as plt\n",
    "from seaborn import set_style\n",
    "\n",
    "## This sets the plot style\n",
    "## to have a grid on a white background\n",
    "set_style(\"whitegrid\")"
   ]
  },
  {
   "cell_type": "code",
   "execution_count": 9,
   "id": "e26a0257",
   "metadata": {},
   "outputs": [],
   "source": [
    "imdb_data = pd.read_pickle('Data/df_of_imdb_data.pkl')"
   ]
  },
  {
   "cell_type": "code",
   "execution_count": 10,
   "id": "d8654b65",
   "metadata": {},
   "outputs": [],
   "source": [
    "imdb_data.at[3107,'year']=2019"
   ]
  },
  {
   "cell_type": "code",
   "execution_count": 11,
   "id": "6985ef7f",
   "metadata": {},
   "outputs": [],
   "source": [
    "imdb_data['rating'] = imdb_data['rating'].apply(lambda x: x if type(x) == float else np.nan)\n",
    "imdb_data['runtimes'] = imdb_data['runtimes'].apply(lambda x: int(x[0]) if type(x[0]) == str else np.nan)\n",
    "imdb_data['metascore'] = imdb_data['metascore'].apply(lambda x: int(x['data']['metascore']) if 'metascore' in x['data'].keys() else np.nan)"
   ]
  },
  {
   "cell_type": "code",
   "execution_count": 12,
   "id": "0fea13eb",
   "metadata": {},
   "outputs": [],
   "source": [
    "prev_nom_data = pd.read_pickle('Data/df_previous_nom.pkl')"
   ]
  },
  {
   "cell_type": "code",
   "execution_count": 13,
   "id": "7cad0b87",
   "metadata": {},
   "outputs": [],
   "source": [
    "imdb_data = imdb_data.join(prev_nom_data.set_index('imdb_id'), on='imdb_id')"
   ]
  },
  {
   "cell_type": "code",
   "execution_count": 18,
   "id": "708fbc9b",
   "metadata": {},
   "outputs": [
    {
     "data": {
      "text/plain": [
       "['Denmark',\n",
       " 'France',\n",
       " 'Norway',\n",
       " 'Sweden',\n",
       " 'Netherlands',\n",
       " 'United Kingdom',\n",
       " 'United States',\n",
       " 'Finland',\n",
       " 'Italy',\n",
       " 'Spain',\n",
       " 'Estonia',\n",
       " 'Slovenia']"
      ]
     },
     "execution_count": 18,
     "metadata": {},
     "output_type": "execute_result"
    }
   ],
   "source": [
    "imdb_data['countries'][3900]"
   ]
  },
  {
   "cell_type": "code",
   "execution_count": null,
   "id": "43f8d899",
   "metadata": {},
   "outputs": [],
   "source": [
    "imdb_data['rating']"
   ]
  }
 ],
 "metadata": {
  "kernelspec": {
   "display_name": "Python 3 (ipykernel)",
   "language": "python",
   "name": "python3"
  },
  "language_info": {
   "codemirror_mode": {
    "name": "ipython",
    "version": 3
   },
   "file_extension": ".py",
   "mimetype": "text/x-python",
   "name": "python",
   "nbconvert_exporter": "python",
   "pygments_lexer": "ipython3",
   "version": "3.9.12"
  }
 },
 "nbformat": 4,
 "nbformat_minor": 5
}
