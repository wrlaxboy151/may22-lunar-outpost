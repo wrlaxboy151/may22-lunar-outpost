{
 "cells": [
  {
   "cell_type": "markdown",
   "id": "adfbeee0",
   "metadata": {},
   "source": [
    "A written summary of this notebook can be found here:\n",
    "   <a href=\"https://docs.google.com/document/d/17NH-92WnBpFSNAv9ZaFUdF3cu6hYejQo5Snf1nVSbmU/edit?usp=sharing\">\n",
    "    Google Doc </a>"
   ]
  },
  {
   "cell_type": "markdown",
   "id": "f9cb6415",
   "metadata": {},
   "source": [
    "# Downloading the necessary packages and data"
   ]
  },
  {
   "cell_type": "code",
   "execution_count": 1,
   "id": "33f458a5",
   "metadata": {},
   "outputs": [],
   "source": [
    "import pandas as pd"
   ]
  },
  {
   "cell_type": "code",
   "execution_count": 2,
   "id": "f7652233",
   "metadata": {},
   "outputs": [],
   "source": [
    "import numpy as np"
   ]
  },
  {
   "cell_type": "code",
   "execution_count": 3,
   "id": "f4af12c2",
   "metadata": {},
   "outputs": [],
   "source": [
    "from sklearn.metrics import precision_score, recall_score\n",
    "from sklearn.linear_model import LogisticRegression\n",
    "from sklearn.tree import DecisionTreeClassifier\n",
    "#from sklearn.decomposition import PCA\n",
    "#from sklearn.preprocessing import StandardScaler\n",
    "from sklearn.svm import SVC\n",
    "from sklearn.neighbors import KNeighborsClassifier\n",
    "\n",
    "from sklearn.ensemble import VotingClassifier, RandomForestClassifier"
   ]
  },
  {
   "cell_type": "code",
   "execution_count": 4,
   "id": "838fcb23",
   "metadata": {},
   "outputs": [],
   "source": [
    "import matplotlib.pyplot as plt\n",
    "import seaborn as sns"
   ]
  },
  {
   "cell_type": "code",
   "execution_count": 5,
   "id": "75f7a65a",
   "metadata": {},
   "outputs": [],
   "source": [
    "main2=pd.read_pickle('Data/Data_from_imdb_onehot1.pkl')"
   ]
  },
  {
   "cell_type": "code",
   "execution_count": 9,
   "id": "d2f92f16",
   "metadata": {},
   "outputs": [],
   "source": [
    "prev_data = pd.read_pickle('Data/df_previous_nom.pkl')"
   ]
  },
  {
   "cell_type": "code",
   "execution_count": 12,
   "id": "11bef84d",
   "metadata": {
    "scrolled": true
   },
   "outputs": [],
   "source": [
    "main2['prev_dir'] = prev_data['prev nom dir encoded']\n",
    "main2['prev_prod'] = prev_data['prev nom prod encoded']"
   ]
  },
  {
   "cell_type": "code",
   "execution_count": 28,
   "id": "5c4f6ba4",
   "metadata": {},
   "outputs": [],
   "source": [
    "def get_meta_values(df, default_value):\n",
    "    '''takes in a dataframe (df) and outputs a list (column) of metascore values\n",
    "    where if there is no metascore, replaces it with default_value'''\n",
    "    meta_real=[]\n",
    "    for i in range(len(df)):\n",
    "        if df.iloc[i]['metascore']['data']== {}:\n",
    "            meta_real.append(default_value)\n",
    "        else:\n",
    "            meta_real.append(int(df.iloc[i]['metascore']['data']['metascore']))\n",
    "    return meta_real"
   ]
  },
  {
   "cell_type": "code",
   "execution_count": 39,
   "id": "6b62f086",
   "metadata": {},
   "outputs": [
    {
     "data": {
      "text/plain": [
       "60.3912037037037"
      ]
     },
     "execution_count": 39,
     "metadata": {},
     "output_type": "execute_result"
    }
   ],
   "source": [
    "L=[]\n",
    "for i in range(len(main2)):\n",
    "    if main2.iloc[i]['metascore']['data'] != {}:\n",
    "        L.append(int(main2.iloc[i]['metascore']['data']['metascore']))\n",
    "\n",
    "ave_metascore = np.mean(L)\n",
    "ave_metascore"
   ]
  },
  {
   "cell_type": "code",
   "execution_count": 40,
   "id": "7b22a0a5",
   "metadata": {},
   "outputs": [],
   "source": [
    "meta_real0 = get_meta_values(main2, 0)\n",
    "meta_real_ave=get_meta_values(main2, ave_metascore)"
   ]
  },
  {
   "cell_type": "code",
   "execution_count": 41,
   "id": "20e6cb2d",
   "metadata": {},
   "outputs": [
    {
     "data": {
      "text/plain": [
       "60.3912037037037"
      ]
     },
     "execution_count": 41,
     "metadata": {},
     "output_type": "execute_result"
    }
   ],
   "source": [
    "np.mean(meta_real_ave)"
   ]
  },
  {
   "cell_type": "code",
   "execution_count": 43,
   "id": "bf329d37",
   "metadata": {},
   "outputs": [],
   "source": [
    "main2['metascore_0'] = meta_real0\n",
    "main2['metascore_ave'] = meta_real_ave"
   ]
  },
  {
   "cell_type": "code",
   "execution_count": 44,
   "id": "fcde1e47",
   "metadata": {},
   "outputs": [
    {
     "data": {
      "text/plain": [
       "Index(['imdb_id', 'titles', 'year', 'original_air_date', 'countries',\n",
       "       'language', 'genres', 'certificates', 'rating', 'votes', 'color_info',\n",
       "       'runtimes', 'box_office', 'producers', 'directors',\n",
       "       'production_company', 'distributors', 'metascore', 'is_nominee',\n",
       "       'United States', 'Family', 'Adventure', 'Comedy', 'Fantasy', 'Other',\n",
       "       'G', 'PG', 'PG-13', 'R', 'Unrated', 'metascore_available', 'prev_dir',\n",
       "       'prev_prod', 'metascore_0', 'metascore_ave'],\n",
       "      dtype='object')"
      ]
     },
     "execution_count": 44,
     "metadata": {},
     "output_type": "execute_result"
    }
   ],
   "source": [
    "main2.columns"
   ]
  },
  {
   "cell_type": "code",
   "execution_count": 45,
   "id": "42f2fb60",
   "metadata": {},
   "outputs": [],
   "source": [
    "main2.to_pickle('Data/data_from_imdb_extra.pkl')"
   ]
  },
  {
   "cell_type": "markdown",
   "id": "caeb5550",
   "metadata": {},
   "source": [
    "# Splitting the test and training data"
   ]
  },
  {
   "cell_type": "code",
   "execution_count": 46,
   "id": "b5b9155c",
   "metadata": {},
   "outputs": [],
   "source": [
    "main_df=pd.read_pickle('Data/data_from_imdb_extra.pkl')"
   ]
  },
  {
   "cell_type": "code",
   "execution_count": 47,
   "id": "89e01e37",
   "metadata": {},
   "outputs": [],
   "source": [
    "#create a dataframe that drops given years\n",
    "def drop_test(df,L):\n",
    "    '''input a dataframe of movies (df) and a list of years as int (L)\n",
    "    outputs a dataframe that does not include the movies in years in L'''\n",
    "    indices =[]\n",
    "    for i in range(len(df)):\n",
    "        if df.iloc[i]['year'] in L:\n",
    "            indices.append(i)\n",
    "    new_df=df.drop(indices)\n",
    "    return(new_df)"
   ]
  },
  {
   "cell_type": "code",
   "execution_count": 48,
   "id": "caf0aaf3",
   "metadata": {},
   "outputs": [],
   "source": [
    "train_set=drop_test(main2, [2018,2019,2020,2021])"
   ]
  },
  {
   "cell_type": "code",
   "execution_count": 49,
   "id": "5925fb0d",
   "metadata": {},
   "outputs": [],
   "source": [
    "def timeseries_split(df, k):\n",
    "    '''takes in a movie dataframe (df),  k (int)\n",
    "    and outputs a tuple that behaves like kfold.split when kfold =kfold = TimeSeriesSplit(n_splits = k,\n",
    "                           test_size = 1)\n",
    "    that is, the output is a tuple of 2-tuples, where\n",
    "    the first element of each tuple is the indices of the train set and\n",
    "    the second element is the indices of the test set\n",
    "    unlike TimeSeriesSplit it can only handle one dataframe at a time'''\n",
    "    if len(df['year'].value_counts()) <k:\n",
    "        raise ValueError(\"Not enough data for given k\")\n",
    "        \n",
    "    df=df.copy()\n",
    "    \n",
    "    answer=[]\n",
    "    i=0\n",
    "    while i <k:\n",
    "        last_year=df['year'].max()\n",
    "        \n",
    "        #get array of indices of last year in list\n",
    "        index_set=np.array(df[df['year']==last_year].index)\n",
    "        \n",
    "        #delete rows from dataframe\n",
    "        df=drop_test(df,[last_year])\n",
    "        #print(len(df))\n",
    "        \n",
    "        #add to train_sets\n",
    "        index_set2=np.array(df.index)\n",
    "        \n",
    "        new_set=(index_set2, index_set)\n",
    "        answer=[new_set] + answer\n",
    "        \n",
    "        i=i+1\n",
    "    \n",
    "    return tuple(answer)"
   ]
  },
  {
   "cell_type": "markdown",
   "id": "46d8178f",
   "metadata": {},
   "source": [
    "# Models based on more info"
   ]
  },
  {
   "cell_type": "markdown",
   "id": "d19ff6df",
   "metadata": {},
   "source": [
    "Hopefuls:\n",
    "    kNN(n_neighbors=1)\n",
    "    DecisionTree(max_depth=10)\n",
    "    \n",
    "Less hopefuls:\n",
    "    Logistic regression\n",
    "    SVC(poly, sigmoid)\n",
    "   \n",
    "Then, for the ones that have non-trivial precision/recall\n",
    "    Voting model\n",
    "    AdaBoost\n",
    "    Random Forest"
   ]
  },
  {
   "cell_type": "code",
   "execution_count": 50,
   "id": "fbdf0ccc",
   "metadata": {},
   "outputs": [
    {
     "data": {
      "text/plain": [
       "Index(['imdb_id', 'titles', 'year', 'original_air_date', 'countries',\n",
       "       'language', 'genres', 'certificates', 'rating', 'votes', 'color_info',\n",
       "       'runtimes', 'box_office', 'producers', 'directors',\n",
       "       'production_company', 'distributors', 'metascore', 'is_nominee',\n",
       "       'United States', 'Family', 'Adventure', 'Comedy', 'Fantasy', 'Other',\n",
       "       'G', 'PG', 'PG-13', 'R', 'Unrated', 'metascore_available', 'prev_dir',\n",
       "       'prev_prod', 'metascore_0', 'metascore_ave'],\n",
       "      dtype='object')"
      ]
     },
     "execution_count": 50,
     "metadata": {},
     "output_type": "execute_result"
    }
   ],
   "source": [
    "train_set.columns"
   ]
  },
  {
   "cell_type": "code",
   "execution_count": 52,
   "id": "d4cb471b",
   "metadata": {},
   "outputs": [],
   "source": [
    "viable_columns = [\n",
    "    #'original_air_date'\n",
    "    #'runtimes',\n",
    "       'United States', 'Family', 'Adventure', 'Comedy', 'Fantasy', 'Other',\n",
    "       'G', 'PG', 'PG-13', 'R', 'Unrated', 'metascore_available', 'prev_dir',\n",
    "       'prev_prod', 'metascore_0', 'metascore_ave']"
   ]
  },
  {
   "cell_type": "markdown",
   "id": "8da481af",
   "metadata": {},
   "source": [
    "### Decision Trees"
   ]
  },
  {
   "cell_type": "code",
   "execution_count": 53,
   "id": "bcbe0d78",
   "metadata": {},
   "outputs": [],
   "source": [
    "def est_decision_tree(j):\n",
    "    '''goes through j max_depth values on decision trees on training set.\n",
    "    Creates an array of precisions and recalls, to be processed'''\n",
    "    precs=np.zeros((j,5))\n",
    "    recs = np.zeros((j,5))\n",
    "    for i in range(0,j):\n",
    "        k=0\n",
    "        for train_index, val_index in timeseries_split(train_set,5):\n",
    "\n",
    "            # make decision tree with maxdepth i+1\n",
    "            tree=DecisionTreeClassifier(max_depth=10)\n",
    "            tree.fit(\n",
    "                train_set.iloc[train_index][viable_columns],\n",
    "                train_set.iloc[train_index]['is_nominee']\n",
    "                    )\n",
    "            pred=tree.predict(train_set.iloc[val_index][viable_columns]\n",
    "                        )\n",
    "\n",
    "            # add metrics to the tables\n",
    "            precs[i,k]=precision_score(train_set.iloc[val_index]['is_nominee'], pred, zero_division=0)\n",
    "            recs[i,k]=recall_score(train_set.iloc[val_index]['is_nominee'], pred, zero_division=0)\n",
    "            k=k+1\n",
    "\n",
    "    return(precs, recs)"
   ]
  },
  {
   "cell_type": "code",
   "execution_count": 55,
   "id": "622d1f18",
   "metadata": {},
   "outputs": [],
   "source": [
    "metrics_tree=est_decision_tree(1)"
   ]
  },
  {
   "cell_type": "code",
   "execution_count": 56,
   "id": "91fe43aa",
   "metadata": {},
   "outputs": [
    {
     "data": {
      "text/plain": [
       "(array([[0.71428571, 0.44444444, 0.33333333, 0.4       , 0.16666667]]),\n",
       " array([[0.83333333, 0.8       , 0.33333333, 0.8       , 0.2       ]]))"
      ]
     },
     "execution_count": 56,
     "metadata": {},
     "output_type": "execute_result"
    }
   ],
   "source": [
    "metrics_tree"
   ]
  },
  {
   "cell_type": "code",
   "execution_count": 58,
   "id": "8ff2a075",
   "metadata": {},
   "outputs": [],
   "source": [
    "def est_forest(j):\n",
    "    '''goes through j n-estimaters values on decision trees on training set.\n",
    "    Creates an array of precisions and recalls, to be processed'''\n",
    "    precs=np.zeros((j,5))\n",
    "    recs = np.zeros((j,5))\n",
    "    for i in range(0,j):\n",
    "        k=0\n",
    "        for train_index, val_index in timeseries_split(train_set,5):\n",
    "\n",
    "            # make random forest with maxdepth=10 and n_estimators multiples of 10\n",
    "            tree=RandomForestClassifier(n_estimators=10*(i+1), max_depth=10)\n",
    "            tree.fit(\n",
    "                train_set.iloc[train_index][viable_columns],\n",
    "                train_set.iloc[train_index]['is_nominee']\n",
    "                    )\n",
    "            pred=tree.predict(train_set.iloc[val_index][viable_columns]\n",
    "                        )\n",
    "\n",
    "            # add metrics to the tables\n",
    "            precs[i,k]=precision_score(train_set.iloc[val_index]['is_nominee'], pred, zero_division=0)\n",
    "            recs[i,k]=recall_score(train_set.iloc[val_index]['is_nominee'], pred, zero_division=0)\n",
    "            k=k+1\n",
    "\n",
    "    return(precs, recs)"
   ]
  },
  {
   "cell_type": "code",
   "execution_count": 59,
   "id": "54d72bae",
   "metadata": {},
   "outputs": [],
   "source": [
    "metrics_forest=est_forest(10)"
   ]
  },
  {
   "cell_type": "code",
   "execution_count": 60,
   "id": "a853de88",
   "metadata": {
    "scrolled": false
   },
   "outputs": [
    {
     "data": {
      "text/plain": [
       "(array([[1.        , 0.5       , 0.33333333, 0.57142857, 0.4       ],\n",
       "        [0.75      , 0.8       , 0.33333333, 0.57142857, 0.4       ],\n",
       "        [1.        , 0.6       , 0.4       , 0.66666667, 0.4       ],\n",
       "        [1.        , 0.6       , 0.28571429, 0.66666667, 0.4       ],\n",
       "        [1.        , 0.6       , 0.5       , 0.66666667, 0.66666667],\n",
       "        [1.        , 0.6       , 0.4       , 0.66666667, 0.4       ],\n",
       "        [1.        , 0.6       , 0.5       , 0.66666667, 0.4       ],\n",
       "        [1.        , 0.75      , 0.4       , 0.71428571, 0.5       ],\n",
       "        [1.        , 0.5       , 0.5       , 0.66666667, 0.4       ],\n",
       "        [1.        , 0.75      , 0.5       , 0.66666667, 0.5       ]]),\n",
       " array([[0.5       , 0.4       , 0.66666667, 0.8       , 0.4       ],\n",
       "        [0.5       , 0.8       , 0.66666667, 0.8       , 0.4       ],\n",
       "        [0.66666667, 0.6       , 0.66666667, 0.8       , 0.4       ],\n",
       "        [0.66666667, 0.6       , 0.66666667, 0.8       , 0.4       ],\n",
       "        [0.66666667, 0.6       , 0.66666667, 0.8       , 0.4       ],\n",
       "        [0.5       , 0.6       , 0.66666667, 0.8       , 0.4       ],\n",
       "        [0.66666667, 0.6       , 0.66666667, 0.8       , 0.4       ],\n",
       "        [0.66666667, 0.6       , 0.66666667, 1.        , 0.4       ],\n",
       "        [0.66666667, 0.6       , 0.66666667, 0.8       , 0.4       ],\n",
       "        [0.66666667, 0.6       , 0.66666667, 0.8       , 0.4       ]]))"
      ]
     },
     "execution_count": 60,
     "metadata": {},
     "output_type": "execute_result"
    }
   ],
   "source": [
    "metrics_forest"
   ]
  },
  {
   "cell_type": "markdown",
   "id": "00c35ad4",
   "metadata": {},
   "source": [
    "So the forest is better than the tree.  Let's visualize this."
   ]
  },
  {
   "cell_type": "code",
   "execution_count": 61,
   "id": "ef955c14",
   "metadata": {
    "scrolled": true
   },
   "outputs": [
    {
     "data": {
      "image/png": "[encoded data removed]",
      "text/plain": [
       "<Figure size 576x432 with 1 Axes>"
      ]
     },
     "metadata": {
      "needs_background": "light"
     },
     "output_type": "display_data"
    }
   ],
   "source": [
    "plt.figure(figsize=(8,6))\n",
    "\n",
    "plt.scatter(5*[1,2,3,4,5,6,7,8,9,10], np.transpose(metrics_forest[0]).reshape(1,-1))\n",
    "\n",
    "plt.scatter(range(1,11), np.mean(metrics_forest[0], axis=1), label='Average')\n",
    "\n",
    "plt.title('Precision Scores for Random Forest', fontsize=20)\n",
    "plt.xlabel('10 x n_estimators')\n",
    "plt.ylabel('Precision')\n",
    "plt.ylim(-0.1,1.1)\n",
    "\n",
    "plt.legend()\n",
    "\n",
    "plt.show()"
   ]
  },
  {
   "cell_type": "code",
   "execution_count": 62,
   "id": "415a7ff9",
   "metadata": {},
   "outputs": [
    {
     "data": {
      "image/png": "[encoded data removed]",
      "text/plain": [
       "<Figure size 576x432 with 1 Axes>"
      ]
     },
     "metadata": {
      "needs_background": "light"
     },
     "output_type": "display_data"
    }
   ],
   "source": [
    "plt.figure(figsize=(8,6))\n",
    "\n",
    "plt.scatter(5*[1,2,3,4,5,6,7,8,9,10], np.transpose(metrics_forest[1]).reshape(1,-1))\n",
    "\n",
    "plt.scatter(range(1,11), np.mean(metrics_forest[1], axis=1), label='Average')\n",
    "\n",
    "plt.title('Recall Scores for Random Forest', fontsize=20)\n",
    "plt.xlabel('10 x n_estimators')\n",
    "plt.ylabel('Recall')\n",
    "plt.ylim(-0.1,1.1)\n",
    "\n",
    "plt.legend()\n",
    "\n",
    "plt.show()"
   ]
  },
  {
   "cell_type": "markdown",
   "id": "a2e5bda5",
   "metadata": {},
   "source": [
    "#### <font color='MediumOrchid'>For Random Forests, using n_estimators=80 seems best based on our samples.  So, the best (for now) Random Forest is: </font>"
   ]
  },
  {
   "cell_type": "code",
   "execution_count": 63,
   "id": "93549a4a",
   "metadata": {},
   "outputs": [
    {
     "data": {
      "text/plain": [
       "RandomForestClassifier(max_depth=10, n_estimators=800)"
      ]
     },
     "execution_count": 63,
     "metadata": {},
     "output_type": "execute_result"
    }
   ],
   "source": [
    "forest=RandomForestClassifier(max_depth=10, n_estimators=80)\n",
    "\n",
    "forest.fit(train_set[viable_columns],\n",
    "        train_set['is_nominee']\n",
    "        )"
   ]
  },
  {
   "cell_type": "code",
   "execution_count": 120,
   "id": "6fec53bd",
   "metadata": {},
   "outputs": [
    {
     "name": "stdout",
     "output_type": "stream",
     "text": [
      "Recall:\n",
      "0.6266666666666667\n",
      "Precision:\n",
      "0.6133333333333333\n"
     ]
    }
   ],
   "source": [
    "print('Recall:')\n",
    "print(np.mean(metrics_forest[1], axis=1)[8])\n",
    "print('Precision:')\n",
    "print(np.mean(metrics_forest[0], axis=1)[8])"
   ]
  },
  {
   "cell_type": "markdown",
   "id": "597d8bbe",
   "metadata": {},
   "source": [
    "### k Nearest Neighbors Classifier\n",
    "\n",
    "Last time, we saw that a kNN classifier with k=1 was the best model, using the default settings for the rest of the parameters.  Now, let's try to vary the other parameters.  First, we'll vary p=1-5"
   ]
  },
  {
   "cell_type": "code",
   "execution_count": 64,
   "id": "f7b61bcd",
   "metadata": {},
   "outputs": [],
   "source": [
    "def est_knn(j):\n",
    "    '''goes through k in range(1,j+1) on kNN models on training set.\n",
    "    Creates an array of precisions and recalls, to be processed'''\n",
    "    precs=np.zeros((j,5))\n",
    "    recs = np.zeros((j,5))\n",
    "    for i in range(0,j):\n",
    "        x=0\n",
    "        for train_index, val_index in timeseries_split(train_set,5):\n",
    "\n",
    "            # make k Nearest Neighbors model with k=i+1\n",
    "            kNN = KNeighborsClassifier(n_neighbors=1, p=i+1)\n",
    "            kNN.fit(\n",
    "                train_set.iloc[train_index][viable_columns],\n",
    "                train_set.iloc[train_index]['is_nominee']\n",
    "                    )\n",
    "            pred=kNN.predict(train_set.iloc[val_index][viable_columns]\n",
    "                        )\n",
    "\n",
    "            # add metrics to the tables\n",
    "            precs[i,x]=precision_score(train_set.iloc[val_index]['is_nominee'], pred, zero_division=0)\n",
    "            recs[i,x]=recall_score(train_set.iloc[val_index]['is_nominee'], pred, zero_division=0)\n",
    "            x=x+1\n",
    "\n",
    "    return(precs, recs)"
   ]
  },
  {
   "cell_type": "code",
   "execution_count": 65,
   "id": "32d939bf",
   "metadata": {},
   "outputs": [],
   "source": [
    "metrics_knn=est_knn(5)"
   ]
  },
  {
   "cell_type": "code",
   "execution_count": 66,
   "id": "bd7494c8",
   "metadata": {
    "scrolled": true
   },
   "outputs": [
    {
     "data": {
      "text/plain": [
       "(array([[0.75      , 0.4       , 0.5       , 0.36363636, 0.28571429],\n",
       "        [0.75      , 0.4       , 0.4       , 0.36363636, 0.28571429],\n",
       "        [0.75      , 0.4       , 0.4       , 0.36363636, 0.28571429],\n",
       "        [0.75      , 0.4       , 0.4       , 0.36363636, 0.28571429],\n",
       "        [0.75      , 0.4       , 0.4       , 0.36363636, 0.28571429]]),\n",
       " array([[0.5       , 0.4       , 1.        , 0.8       , 0.4       ],\n",
       "        [0.5       , 0.4       , 0.66666667, 0.8       , 0.4       ],\n",
       "        [0.5       , 0.4       , 0.66666667, 0.8       , 0.4       ],\n",
       "        [0.5       , 0.4       , 0.66666667, 0.8       , 0.4       ],\n",
       "        [0.5       , 0.4       , 0.66666667, 0.8       , 0.4       ]]))"
      ]
     },
     "execution_count": 66,
     "metadata": {},
     "output_type": "execute_result"
    }
   ],
   "source": [
    "metrics_knn"
   ]
  },
  {
   "cell_type": "markdown",
   "id": "6baa77bc",
   "metadata": {},
   "source": [
    "so this performs best under the taxicab metric (p=1)"
   ]
  },
  {
   "cell_type": "code",
   "execution_count": 67,
   "id": "f99d6844",
   "metadata": {},
   "outputs": [],
   "source": [
    "def est_knn2(j):\n",
    "    '''goes through k in range(1,j+1) on kNN models on training set.\n",
    "    Creates an array of precisions and recalls, to be processed'''\n",
    "    precs=np.zeros((j,5))\n",
    "    recs = np.zeros((j,5))\n",
    "    for i in range(0,j):\n",
    "        x=0\n",
    "        for train_index, val_index in timeseries_split(train_set,5):\n",
    "\n",
    "            # make k Nearest Neighbors model with k=i+1\n",
    "            kNN = KNeighborsClassifier(n_neighbors=1, weights='distance', p=1)\n",
    "            kNN.fit(\n",
    "                train_set.iloc[train_index][viable_columns],\n",
    "                train_set.iloc[train_index]['is_nominee']\n",
    "                    )\n",
    "            pred=kNN.predict(train_set.iloc[val_index][viable_columns]\n",
    "                        )\n",
    "\n",
    "            # add metrics to the tables\n",
    "            precs[i,x]=precision_score(train_set.iloc[val_index]['is_nominee'], pred, zero_division=0)\n",
    "            recs[i,x]=recall_score(train_set.iloc[val_index]['is_nominee'], pred, zero_division=0)\n",
    "            x=x+1\n",
    "\n",
    "    return(precs, recs)"
   ]
  },
  {
   "cell_type": "code",
   "execution_count": 68,
   "id": "d8737065",
   "metadata": {},
   "outputs": [],
   "source": [
    "metrics_knn_distance=est_knn2(1)"
   ]
  },
  {
   "cell_type": "code",
   "execution_count": 69,
   "id": "95ba61d3",
   "metadata": {},
   "outputs": [
    {
     "data": {
      "text/plain": [
       "(array([[0.75      , 0.4       , 0.5       , 0.36363636, 0.28571429]]),\n",
       " array([[0.5, 0.4, 1. , 0.8, 0.4]]))"
      ]
     },
     "execution_count": 69,
     "metadata": {},
     "output_type": "execute_result"
    }
   ],
   "source": [
    "metrics_knn_distance"
   ]
  },
  {
   "cell_type": "code",
   "execution_count": 126,
   "id": "d41f5e48",
   "metadata": {},
   "outputs": [
    {
     "name": "stdout",
     "output_type": "stream",
     "text": [
      "Recall:\n",
      "0.62\n",
      "Precision:\n",
      "0.4598701298701299\n"
     ]
    }
   ],
   "source": [
    "print('Recall:')\n",
    "print(np.mean(metrics_knn[1], axis=1)[0])\n",
    "print('Precision:')\n",
    "print(np.mean(metrics_knn[0], axis=1)[0])"
   ]
  },
  {
   "cell_type": "markdown",
   "id": "42d8da53",
   "metadata": {},
   "source": [
    "Using the distance as a weight perfoms exactly the same as not.  We may as well make it simple, and make the voting uniform"
   ]
  },
  {
   "cell_type": "code",
   "execution_count": null,
   "id": "93f1501a",
   "metadata": {
    "scrolled": true
   },
   "outputs": [],
   "source": [
    "kNN = KNeighborsClassifier(n_neighbors=1, p=1)\n",
    "kNN.fit(\n",
    "        train_set.iloc[train_index][viable_columns],\n",
    "        train_set.iloc[train_index]['is_nominee']\n",
    "        )"
   ]
  },
  {
   "cell_type": "markdown",
   "id": "ca6af42e",
   "metadata": {},
   "source": [
    "### Logistic Regression"
   ]
  },
  {
   "cell_type": "code",
   "execution_count": 112,
   "id": "8dcc5cb1",
   "metadata": {},
   "outputs": [],
   "source": [
    "def est_log_reg(j):\n",
    "    '''goes through C in range(j) on logistic regression models on training set.\n",
    "    Creates an array of precisions and recalls, to be processed'''\n",
    "    precs=np.zeros((j,5))\n",
    "    recs = np.zeros((j,5))\n",
    "    for i in range(0,j):\n",
    "        x=0\n",
    "        for train_index, val_index in timeseries_split(train_set,5):\n",
    "\n",
    "            # make k Nearest Neighbors model with k=i+1\n",
    "            logreg = LogisticRegression(C=2**(-1*i), max_iter=1000)\n",
    "            logreg.fit(\n",
    "                train_set.iloc[train_index][viable_columns],\n",
    "                train_set.iloc[train_index]['is_nominee']\n",
    "                    )\n",
    "            pred=logreg.predict(train_set.iloc[val_index][viable_columns]\n",
    "                        )\n",
    "\n",
    "            # add metrics to the tables\n",
    "            precs[i,x]=precision_score(train_set.iloc[val_index]['is_nominee'], pred, zero_division=0)\n",
    "            recs[i,x]=recall_score(train_set.iloc[val_index]['is_nominee'], pred, zero_division=0)\n",
    "            x=x+1\n",
    "\n",
    "    return(precs, recs)"
   ]
  },
  {
   "cell_type": "code",
   "execution_count": 113,
   "id": "e7d30326",
   "metadata": {},
   "outputs": [],
   "source": [
    "metrics_logreg=est_log_reg(10)"
   ]
  },
  {
   "cell_type": "code",
   "execution_count": 114,
   "id": "63e2a242",
   "metadata": {},
   "outputs": [
    {
     "data": {
      "text/plain": [
       "(array([[1.        , 0.8       , 0.28571429, 0.71428571, 0.5       ],\n",
       "        [1.        , 0.75      , 0.33333333, 0.83333333, 0.5       ],\n",
       "        [1.        , 0.75      , 0.5       , 0.83333333, 0.5       ],\n",
       "        [1.        , 0.75      , 0.5       , 0.83333333, 0.5       ],\n",
       "        [1.        , 0.75      , 0.75      , 0.71428571, 0.66666667],\n",
       "        [1.        , 0.75      , 0.75      , 0.71428571, 0.5       ],\n",
       "        [1.        , 0.66666667, 0.75      , 0.625     , 1.        ],\n",
       "        [1.        , 0.66666667, 0.75      , 0.55555556, 1.        ],\n",
       "        [1.        , 0.66666667, 0.75      , 0.625     , 1.        ],\n",
       "        [1.        , 0.5       , 0.75      , 0.625     , 1.        ]]),\n",
       " array([[0.66666667, 0.8       , 0.66666667, 1.        , 0.4       ],\n",
       "        [0.66666667, 0.6       , 0.66666667, 1.        , 0.4       ],\n",
       "        [0.66666667, 0.6       , 1.        , 1.        , 0.4       ],\n",
       "        [0.66666667, 0.6       , 1.        , 1.        , 0.4       ],\n",
       "        [0.66666667, 0.6       , 1.        , 1.        , 0.4       ],\n",
       "        [0.66666667, 0.6       , 1.        , 1.        , 0.2       ],\n",
       "        [0.5       , 0.4       , 1.        , 1.        , 0.2       ],\n",
       "        [0.5       , 0.4       , 1.        , 1.        , 0.2       ],\n",
       "        [0.5       , 0.4       , 1.        , 1.        , 0.2       ],\n",
       "        [0.5       , 0.2       , 1.        , 1.        , 0.2       ]]))"
      ]
     },
     "execution_count": 114,
     "metadata": {},
     "output_type": "execute_result"
    }
   ],
   "source": [
    "metrics_logreg"
   ]
  },
  {
   "cell_type": "code",
   "execution_count": 133,
   "id": "155a031c",
   "metadata": {},
   "outputs": [
    {
     "data": {
      "image/png": "[encoded data removed]",
      "text/plain": [
       "<Figure size 576x432 with 1 Axes>"
      ]
     },
     "metadata": {
      "needs_background": "light"
     },
     "output_type": "display_data"
    }
   ],
   "source": [
    "plt.figure(figsize=(8,6))\n",
    "\n",
    "plt.scatter(5*[0,1,2,3,4,5,6,7,8,9], np.transpose(metrics_logreg[1]).reshape(1,-1))\n",
    "\n",
    "plt.scatter(range(1,11), np.mean(metrics_logreg[1], axis=1), label='Average')\n",
    "\n",
    "plt.title('Recall Scores for Logistic Regression', fontsize=20)\n",
    "plt.xlabel('$C=2^{-x}$')\n",
    "plt.ylabel('Recall')\n",
    "plt.ylim(-0.1,1.1)\n",
    "\n",
    "plt.legend()\n",
    "\n",
    "plt.show()"
   ]
  },
  {
   "cell_type": "code",
   "execution_count": 136,
   "id": "738f306a",
   "metadata": {},
   "outputs": [
    {
     "data": {
      "image/png": "[encoded data removed]",
      "text/plain": [
       "<Figure size 576x432 with 1 Axes>"
      ]
     },
     "metadata": {
      "needs_background": "light"
     },
     "output_type": "display_data"
    }
   ],
   "source": [
    "plt.figure(figsize=(8,6))\n",
    "\n",
    "plt.scatter(5*[0,1,2,3,4,5,6,7,8,9], np.transpose(metrics_logreg[0]).reshape(1,-1))\n",
    "\n",
    "plt.scatter(range(1,11), np.mean(metrics_logreg[0], axis=1), label='Average')\n",
    "\n",
    "plt.title('Precision Scores for Logistic Regression', fontsize=20)\n",
    "plt.xlabel('$C=2^{-x}$')\n",
    "plt.ylabel('Precision')\n",
    "plt.ylim(-0.1,1.1)\n",
    "\n",
    "plt.legend()\n",
    "\n",
    "plt.show()"
   ]
  },
  {
   "cell_type": "code",
   "execution_count": 127,
   "id": "d17f8063",
   "metadata": {},
   "outputs": [
    {
     "name": "stdout",
     "output_type": "stream",
     "text": [
      "Recall:\n",
      "0.7333333333333333\n",
      "Precision:\n",
      "0.43987012987012986\n"
     ]
    }
   ],
   "source": [
    "print('Recall:')\n",
    "print(np.mean(metrics_logreg[1], axis=1)[4])\n",
    "print('Precision:')\n",
    "print(np.mean(metrics_knn[0], axis=1)[4])"
   ]
  },
  {
   "cell_type": "markdown",
   "id": "7bc08529",
   "metadata": {},
   "source": [
    "### Support Vector Machines"
   ]
  },
  {
   "cell_type": "code",
   "execution_count": 139,
   "id": "c73b7078",
   "metadata": {},
   "outputs": [],
   "source": [
    "def est_sig_svc(j):\n",
    "    '''goes through C in range(j) on SVC models on training set.\n",
    "    Creates an array of precisions and recalls, to be processed'''\n",
    "    precs=np.zeros((j,5))\n",
    "    recs = np.zeros((j,5))\n",
    "    for i in range(0,j):\n",
    "        x=0\n",
    "        for train_index, val_index in timeseries_split(train_set,5):\n",
    "\n",
    "            # make k Nearest Neighbors model with k=i+1\n",
    "            svc = SVC(C=2**(-1*i), kernel='sigmoid', max_iter=10000)\n",
    "            svc.fit(\n",
    "                train_set.iloc[train_index][viable_columns],\n",
    "                train_set.iloc[train_index]['is_nominee']\n",
    "                    )\n",
    "            pred=svc.predict(train_set.iloc[val_index][viable_columns]\n",
    "                        )\n",
    "\n",
    "            # add metrics to the tables\n",
    "            precs[i,x]=precision_score(train_set.iloc[val_index]['is_nominee'], pred, zero_division=0)\n",
    "            recs[i,x]=recall_score(train_set.iloc[val_index]['is_nominee'], pred, zero_division=0)\n",
    "            x=x+1\n",
    "\n",
    "    return(precs, recs)"
   ]
  },
  {
   "cell_type": "code",
   "execution_count": 140,
   "id": "6e0ea59d",
   "metadata": {},
   "outputs": [],
   "source": [
    "metrics_svc_sigmoid=est_sig_svc(10)"
   ]
  },
  {
   "cell_type": "code",
   "execution_count": 141,
   "id": "a15b630e",
   "metadata": {},
   "outputs": [
    {
     "data": {
      "text/plain": [
       "(array([[0., 0., 0., 0., 0.],\n",
       "        [0., 0., 0., 0., 0.],\n",
       "        [0., 0., 0., 0., 0.],\n",
       "        [0., 0., 0., 0., 0.],\n",
       "        [0., 0., 0., 0., 0.],\n",
       "        [0., 0., 0., 0., 0.],\n",
       "        [0., 0., 0., 0., 0.],\n",
       "        [0., 0., 0., 0., 0.],\n",
       "        [0., 0., 0., 0., 0.],\n",
       "        [0., 0., 0., 0., 0.]]),\n",
       " array([[0., 0., 0., 0., 0.],\n",
       "        [0., 0., 0., 0., 0.],\n",
       "        [0., 0., 0., 0., 0.],\n",
       "        [0., 0., 0., 0., 0.],\n",
       "        [0., 0., 0., 0., 0.],\n",
       "        [0., 0., 0., 0., 0.],\n",
       "        [0., 0., 0., 0., 0.],\n",
       "        [0., 0., 0., 0., 0.],\n",
       "        [0., 0., 0., 0., 0.],\n",
       "        [0., 0., 0., 0., 0.]]))"
      ]
     },
     "execution_count": 141,
     "metadata": {},
     "output_type": "execute_result"
    }
   ],
   "source": [
    "metrics_svc_sigmoid"
   ]
  },
  {
   "cell_type": "code",
   "execution_count": 80,
   "id": "9dab6e3d",
   "metadata": {},
   "outputs": [],
   "source": [
    "def est_poly_svc(j,n):\n",
    "    '''goes through C in range(j) on SVC models on training set.\n",
    "    with polynomial degree n\n",
    "    Creates an array of precisions and recalls, to be processed'''\n",
    "    precs=np.zeros((j,5))\n",
    "    recs = np.zeros((j,5))\n",
    "    for i in range(0,j):\n",
    "        x=0\n",
    "        for train_index, val_index in timeseries_split(train_set,5):\n",
    "\n",
    "            # make k Nearest Neighbors model with k=i+1\n",
    "            svc = SVC(C=2**(-1*i), kernel='poly', degree=n, max_iter=10000)\n",
    "            svc.fit(\n",
    "                train_set.iloc[train_index][viable_columns],\n",
    "                train_set.iloc[train_index]['is_nominee']\n",
    "                    )\n",
    "            pred=svc.predict(train_set.iloc[val_index][viable_columns]\n",
    "                        )\n",
    "\n",
    "            # add metrics to the tables\n",
    "            precs[i,x]=precision_score(train_set.iloc[val_index]['is_nominee'], pred, zero_division=0)\n",
    "            recs[i,x]=recall_score(train_set.iloc[val_index]['is_nominee'], pred, zero_division=0)\n",
    "            x=x+1\n",
    "\n",
    "    return(precs, recs)"
   ]
  },
  {
   "cell_type": "code",
   "execution_count": 81,
   "id": "cf496f3b",
   "metadata": {},
   "outputs": [
    {
     "name": "stderr",
     "output_type": "stream",
     "text": [
      "C:\\Users\\sheri\\anaconda3\\lib\\site-packages\\sklearn\\svm\\_base.py:255: ConvergenceWarning: Solver terminated early (max_iter=10000).  Consider pre-processing your data with StandardScaler or MinMaxScaler.\n",
      "  warnings.warn('Solver terminated early (max_iter=%i).'\n",
      "C:\\Users\\sheri\\anaconda3\\lib\\site-packages\\sklearn\\svm\\_base.py:255: ConvergenceWarning: Solver terminated early (max_iter=10000).  Consider pre-processing your data with StandardScaler or MinMaxScaler.\n",
      "  warnings.warn('Solver terminated early (max_iter=%i).'\n",
      "C:\\Users\\sheri\\anaconda3\\lib\\site-packages\\sklearn\\svm\\_base.py:255: ConvergenceWarning: Solver terminated early (max_iter=10000).  Consider pre-processing your data with StandardScaler or MinMaxScaler.\n",
      "  warnings.warn('Solver terminated early (max_iter=%i).'\n",
      "C:\\Users\\sheri\\anaconda3\\lib\\site-packages\\sklearn\\svm\\_base.py:255: ConvergenceWarning: Solver terminated early (max_iter=10000).  Consider pre-processing your data with StandardScaler or MinMaxScaler.\n",
      "  warnings.warn('Solver terminated early (max_iter=%i).'\n",
      "C:\\Users\\sheri\\anaconda3\\lib\\site-packages\\sklearn\\svm\\_base.py:255: ConvergenceWarning: Solver terminated early (max_iter=10000).  Consider pre-processing your data with StandardScaler or MinMaxScaler.\n",
      "  warnings.warn('Solver terminated early (max_iter=%i).'\n",
      "C:\\Users\\sheri\\anaconda3\\lib\\site-packages\\sklearn\\svm\\_base.py:255: ConvergenceWarning: Solver terminated early (max_iter=10000).  Consider pre-processing your data with StandardScaler or MinMaxScaler.\n",
      "  warnings.warn('Solver terminated early (max_iter=%i).'\n",
      "C:\\Users\\sheri\\anaconda3\\lib\\site-packages\\sklearn\\svm\\_base.py:255: ConvergenceWarning: Solver terminated early (max_iter=10000).  Consider pre-processing your data with StandardScaler or MinMaxScaler.\n",
      "  warnings.warn('Solver terminated early (max_iter=%i).'\n",
      "C:\\Users\\sheri\\anaconda3\\lib\\site-packages\\sklearn\\svm\\_base.py:255: ConvergenceWarning: Solver terminated early (max_iter=10000).  Consider pre-processing your data with StandardScaler or MinMaxScaler.\n",
      "  warnings.warn('Solver terminated early (max_iter=%i).'\n",
      "C:\\Users\\sheri\\anaconda3\\lib\\site-packages\\sklearn\\svm\\_base.py:255: ConvergenceWarning: Solver terminated early (max_iter=10000).  Consider pre-processing your data with StandardScaler or MinMaxScaler.\n",
      "  warnings.warn('Solver terminated early (max_iter=%i).'\n",
      "C:\\Users\\sheri\\anaconda3\\lib\\site-packages\\sklearn\\svm\\_base.py:255: ConvergenceWarning: Solver terminated early (max_iter=10000).  Consider pre-processing your data with StandardScaler or MinMaxScaler.\n",
      "  warnings.warn('Solver terminated early (max_iter=%i).'\n",
      "C:\\Users\\sheri\\anaconda3\\lib\\site-packages\\sklearn\\svm\\_base.py:255: ConvergenceWarning: Solver terminated early (max_iter=10000).  Consider pre-processing your data with StandardScaler or MinMaxScaler.\n",
      "  warnings.warn('Solver terminated early (max_iter=%i).'\n",
      "C:\\Users\\sheri\\anaconda3\\lib\\site-packages\\sklearn\\svm\\_base.py:255: ConvergenceWarning: Solver terminated early (max_iter=10000).  Consider pre-processing your data with StandardScaler or MinMaxScaler.\n",
      "  warnings.warn('Solver terminated early (max_iter=%i).'\n",
      "C:\\Users\\sheri\\anaconda3\\lib\\site-packages\\sklearn\\svm\\_base.py:255: ConvergenceWarning: Solver terminated early (max_iter=10000).  Consider pre-processing your data with StandardScaler or MinMaxScaler.\n",
      "  warnings.warn('Solver terminated early (max_iter=%i).'\n",
      "C:\\Users\\sheri\\anaconda3\\lib\\site-packages\\sklearn\\svm\\_base.py:255: ConvergenceWarning: Solver terminated early (max_iter=10000).  Consider pre-processing your data with StandardScaler or MinMaxScaler.\n",
      "  warnings.warn('Solver terminated early (max_iter=%i).'\n",
      "C:\\Users\\sheri\\anaconda3\\lib\\site-packages\\sklearn\\svm\\_base.py:255: ConvergenceWarning: Solver terminated early (max_iter=10000).  Consider pre-processing your data with StandardScaler or MinMaxScaler.\n",
      "  warnings.warn('Solver terminated early (max_iter=%i).'\n",
      "C:\\Users\\sheri\\anaconda3\\lib\\site-packages\\sklearn\\svm\\_base.py:255: ConvergenceWarning: Solver terminated early (max_iter=10000).  Consider pre-processing your data with StandardScaler or MinMaxScaler.\n",
      "  warnings.warn('Solver terminated early (max_iter=%i).'\n",
      "C:\\Users\\sheri\\anaconda3\\lib\\site-packages\\sklearn\\svm\\_base.py:255: ConvergenceWarning: Solver terminated early (max_iter=10000).  Consider pre-processing your data with StandardScaler or MinMaxScaler.\n",
      "  warnings.warn('Solver terminated early (max_iter=%i).'\n",
      "C:\\Users\\sheri\\anaconda3\\lib\\site-packages\\sklearn\\svm\\_base.py:255: ConvergenceWarning: Solver terminated early (max_iter=10000).  Consider pre-processing your data with StandardScaler or MinMaxScaler.\n",
      "  warnings.warn('Solver terminated early (max_iter=%i).'\n",
      "C:\\Users\\sheri\\anaconda3\\lib\\site-packages\\sklearn\\svm\\_base.py:255: ConvergenceWarning: Solver terminated early (max_iter=10000).  Consider pre-processing your data with StandardScaler or MinMaxScaler.\n",
      "  warnings.warn('Solver terminated early (max_iter=%i).'\n",
      "C:\\Users\\sheri\\anaconda3\\lib\\site-packages\\sklearn\\svm\\_base.py:255: ConvergenceWarning: Solver terminated early (max_iter=10000).  Consider pre-processing your data with StandardScaler or MinMaxScaler.\n",
      "  warnings.warn('Solver terminated early (max_iter=%i).'\n",
      "C:\\Users\\sheri\\anaconda3\\lib\\site-packages\\sklearn\\svm\\_base.py:255: ConvergenceWarning: Solver terminated early (max_iter=10000).  Consider pre-processing your data with StandardScaler or MinMaxScaler.\n",
      "  warnings.warn('Solver terminated early (max_iter=%i).'\n",
      "C:\\Users\\sheri\\anaconda3\\lib\\site-packages\\sklearn\\svm\\_base.py:255: ConvergenceWarning: Solver terminated early (max_iter=10000).  Consider pre-processing your data with StandardScaler or MinMaxScaler.\n",
      "  warnings.warn('Solver terminated early (max_iter=%i).'\n",
      "C:\\Users\\sheri\\anaconda3\\lib\\site-packages\\sklearn\\svm\\_base.py:255: ConvergenceWarning: Solver terminated early (max_iter=10000).  Consider pre-processing your data with StandardScaler or MinMaxScaler.\n",
      "  warnings.warn('Solver terminated early (max_iter=%i).'\n",
      "C:\\Users\\sheri\\anaconda3\\lib\\site-packages\\sklearn\\svm\\_base.py:255: ConvergenceWarning: Solver terminated early (max_iter=10000).  Consider pre-processing your data with StandardScaler or MinMaxScaler.\n",
      "  warnings.warn('Solver terminated early (max_iter=%i).'\n",
      "C:\\Users\\sheri\\anaconda3\\lib\\site-packages\\sklearn\\svm\\_base.py:255: ConvergenceWarning: Solver terminated early (max_iter=10000).  Consider pre-processing your data with StandardScaler or MinMaxScaler.\n",
      "  warnings.warn('Solver terminated early (max_iter=%i).'\n",
      "C:\\Users\\sheri\\anaconda3\\lib\\site-packages\\sklearn\\svm\\_base.py:255: ConvergenceWarning: Solver terminated early (max_iter=10000).  Consider pre-processing your data with StandardScaler or MinMaxScaler.\n",
      "  warnings.warn('Solver terminated early (max_iter=%i).'\n",
      "C:\\Users\\sheri\\anaconda3\\lib\\site-packages\\sklearn\\svm\\_base.py:255: ConvergenceWarning: Solver terminated early (max_iter=10000).  Consider pre-processing your data with StandardScaler or MinMaxScaler.\n",
      "  warnings.warn('Solver terminated early (max_iter=%i).'\n",
      "C:\\Users\\sheri\\anaconda3\\lib\\site-packages\\sklearn\\svm\\_base.py:255: ConvergenceWarning: Solver terminated early (max_iter=10000).  Consider pre-processing your data with StandardScaler or MinMaxScaler.\n",
      "  warnings.warn('Solver terminated early (max_iter=%i).'\n",
      "C:\\Users\\sheri\\anaconda3\\lib\\site-packages\\sklearn\\svm\\_base.py:255: ConvergenceWarning: Solver terminated early (max_iter=10000).  Consider pre-processing your data with StandardScaler or MinMaxScaler.\n",
      "  warnings.warn('Solver terminated early (max_iter=%i).'\n",
      "C:\\Users\\sheri\\anaconda3\\lib\\site-packages\\sklearn\\svm\\_base.py:255: ConvergenceWarning: Solver terminated early (max_iter=10000).  Consider pre-processing your data with StandardScaler or MinMaxScaler.\n",
      "  warnings.warn('Solver terminated early (max_iter=%i).'\n",
      "C:\\Users\\sheri\\anaconda3\\lib\\site-packages\\sklearn\\svm\\_base.py:255: ConvergenceWarning: Solver terminated early (max_iter=10000).  Consider pre-processing your data with StandardScaler or MinMaxScaler.\n",
      "  warnings.warn('Solver terminated early (max_iter=%i).'\n",
      "C:\\Users\\sheri\\anaconda3\\lib\\site-packages\\sklearn\\svm\\_base.py:255: ConvergenceWarning: Solver terminated early (max_iter=10000).  Consider pre-processing your data with StandardScaler or MinMaxScaler.\n",
      "  warnings.warn('Solver terminated early (max_iter=%i).'\n",
      "C:\\Users\\sheri\\anaconda3\\lib\\site-packages\\sklearn\\svm\\_base.py:255: ConvergenceWarning: Solver terminated early (max_iter=10000).  Consider pre-processing your data with StandardScaler or MinMaxScaler.\n",
      "  warnings.warn('Solver terminated early (max_iter=%i).'\n",
      "C:\\Users\\sheri\\anaconda3\\lib\\site-packages\\sklearn\\svm\\_base.py:255: ConvergenceWarning: Solver terminated early (max_iter=10000).  Consider pre-processing your data with StandardScaler or MinMaxScaler.\n",
      "  warnings.warn('Solver terminated early (max_iter=%i).'\n"
     ]
    },
    {
     "name": "stderr",
     "output_type": "stream",
     "text": [
      "C:\\Users\\sheri\\anaconda3\\lib\\site-packages\\sklearn\\svm\\_base.py:255: ConvergenceWarning: Solver terminated early (max_iter=10000).  Consider pre-processing your data with StandardScaler or MinMaxScaler.\n",
      "  warnings.warn('Solver terminated early (max_iter=%i).'\n",
      "C:\\Users\\sheri\\anaconda3\\lib\\site-packages\\sklearn\\svm\\_base.py:255: ConvergenceWarning: Solver terminated early (max_iter=10000).  Consider pre-processing your data with StandardScaler or MinMaxScaler.\n",
      "  warnings.warn('Solver terminated early (max_iter=%i).'\n",
      "C:\\Users\\sheri\\anaconda3\\lib\\site-packages\\sklearn\\svm\\_base.py:255: ConvergenceWarning: Solver terminated early (max_iter=10000).  Consider pre-processing your data with StandardScaler or MinMaxScaler.\n",
      "  warnings.warn('Solver terminated early (max_iter=%i).'\n",
      "C:\\Users\\sheri\\anaconda3\\lib\\site-packages\\sklearn\\svm\\_base.py:255: ConvergenceWarning: Solver terminated early (max_iter=10000).  Consider pre-processing your data with StandardScaler or MinMaxScaler.\n",
      "  warnings.warn('Solver terminated early (max_iter=%i).'\n",
      "C:\\Users\\sheri\\anaconda3\\lib\\site-packages\\sklearn\\svm\\_base.py:255: ConvergenceWarning: Solver terminated early (max_iter=10000).  Consider pre-processing your data with StandardScaler or MinMaxScaler.\n",
      "  warnings.warn('Solver terminated early (max_iter=%i).'\n",
      "C:\\Users\\sheri\\anaconda3\\lib\\site-packages\\sklearn\\svm\\_base.py:255: ConvergenceWarning: Solver terminated early (max_iter=10000).  Consider pre-processing your data with StandardScaler or MinMaxScaler.\n",
      "  warnings.warn('Solver terminated early (max_iter=%i).'\n",
      "C:\\Users\\sheri\\anaconda3\\lib\\site-packages\\sklearn\\svm\\_base.py:255: ConvergenceWarning: Solver terminated early (max_iter=10000).  Consider pre-processing your data with StandardScaler or MinMaxScaler.\n",
      "  warnings.warn('Solver terminated early (max_iter=%i).'\n",
      "C:\\Users\\sheri\\anaconda3\\lib\\site-packages\\sklearn\\svm\\_base.py:255: ConvergenceWarning: Solver terminated early (max_iter=10000).  Consider pre-processing your data with StandardScaler or MinMaxScaler.\n",
      "  warnings.warn('Solver terminated early (max_iter=%i).'\n",
      "C:\\Users\\sheri\\anaconda3\\lib\\site-packages\\sklearn\\svm\\_base.py:255: ConvergenceWarning: Solver terminated early (max_iter=10000).  Consider pre-processing your data with StandardScaler or MinMaxScaler.\n",
      "  warnings.warn('Solver terminated early (max_iter=%i).'\n",
      "C:\\Users\\sheri\\anaconda3\\lib\\site-packages\\sklearn\\svm\\_base.py:255: ConvergenceWarning: Solver terminated early (max_iter=10000).  Consider pre-processing your data with StandardScaler or MinMaxScaler.\n",
      "  warnings.warn('Solver terminated early (max_iter=%i).'\n",
      "C:\\Users\\sheri\\anaconda3\\lib\\site-packages\\sklearn\\svm\\_base.py:255: ConvergenceWarning: Solver terminated early (max_iter=10000).  Consider pre-processing your data with StandardScaler or MinMaxScaler.\n",
      "  warnings.warn('Solver terminated early (max_iter=%i).'\n",
      "C:\\Users\\sheri\\anaconda3\\lib\\site-packages\\sklearn\\svm\\_base.py:255: ConvergenceWarning: Solver terminated early (max_iter=10000).  Consider pre-processing your data with StandardScaler or MinMaxScaler.\n",
      "  warnings.warn('Solver terminated early (max_iter=%i).'\n"
     ]
    },
    {
     "name": "stdout",
     "output_type": "stream",
     "text": [
      "i= 9\n",
      "[[1.         0.75       0.5        0.5        0.66666667]\n",
      " [1.         1.         0.5        0.5        0.66666667]\n",
      " [1.         0.75       0.5        0.00869565 0.66666667]\n",
      " [1.         0.75       0.22222222 0.00873362 0.01908397]\n",
      " [1.         0.75       0.5        0.71428571 0.66666667]\n",
      " [1.         0.75       0.4        0.8        0.66666667]\n",
      " [1.         0.75       0.5        0.8        0.66666667]\n",
      " [1.         0.75       0.66666667 0.83333333 0.66666667]\n",
      " [1.         0.75       0.66666667 0.83333333 0.66666667]\n",
      " [1.         0.66666667 0.66666667 0.83333333 1.        ]]\n",
      "[[0.5        0.6        0.66666667 1.         0.4       ]\n",
      " [0.66666667 0.6        0.66666667 1.         0.4       ]\n",
      " [0.66666667 0.6        0.66666667 0.4        0.4       ]\n",
      " [0.66666667 0.6        0.66666667 0.4        1.        ]\n",
      " [0.66666667 0.6        0.66666667 1.         0.4       ]\n",
      " [0.66666667 0.6        0.66666667 0.8        0.4       ]\n",
      " [0.66666667 0.6        0.66666667 0.8        0.4       ]\n",
      " [0.66666667 0.6        0.66666667 1.         0.4       ]\n",
      " [0.5        0.6        0.66666667 1.         0.4       ]\n",
      " [0.5        0.4        0.66666667 1.         0.4       ]]\n",
      "\n",
      "============================\n"
     ]
    },
    {
     "name": "stderr",
     "output_type": "stream",
     "text": [
      "C:\\Users\\sheri\\anaconda3\\lib\\site-packages\\sklearn\\svm\\_base.py:255: ConvergenceWarning: Solver terminated early (max_iter=10000).  Consider pre-processing your data with StandardScaler or MinMaxScaler.\n",
      "  warnings.warn('Solver terminated early (max_iter=%i).'\n",
      "C:\\Users\\sheri\\anaconda3\\lib\\site-packages\\sklearn\\svm\\_base.py:255: ConvergenceWarning: Solver terminated early (max_iter=10000).  Consider pre-processing your data with StandardScaler or MinMaxScaler.\n",
      "  warnings.warn('Solver terminated early (max_iter=%i).'\n",
      "C:\\Users\\sheri\\anaconda3\\lib\\site-packages\\sklearn\\svm\\_base.py:255: ConvergenceWarning: Solver terminated early (max_iter=10000).  Consider pre-processing your data with StandardScaler or MinMaxScaler.\n",
      "  warnings.warn('Solver terminated early (max_iter=%i).'\n",
      "C:\\Users\\sheri\\anaconda3\\lib\\site-packages\\sklearn\\svm\\_base.py:255: ConvergenceWarning: Solver terminated early (max_iter=10000).  Consider pre-processing your data with StandardScaler or MinMaxScaler.\n",
      "  warnings.warn('Solver terminated early (max_iter=%i).'\n",
      "C:\\Users\\sheri\\anaconda3\\lib\\site-packages\\sklearn\\svm\\_base.py:255: ConvergenceWarning: Solver terminated early (max_iter=10000).  Consider pre-processing your data with StandardScaler or MinMaxScaler.\n",
      "  warnings.warn('Solver terminated early (max_iter=%i).'\n",
      "C:\\Users\\sheri\\anaconda3\\lib\\site-packages\\sklearn\\svm\\_base.py:255: ConvergenceWarning: Solver terminated early (max_iter=10000).  Consider pre-processing your data with StandardScaler or MinMaxScaler.\n",
      "  warnings.warn('Solver terminated early (max_iter=%i).'\n",
      "C:\\Users\\sheri\\anaconda3\\lib\\site-packages\\sklearn\\svm\\_base.py:255: ConvergenceWarning: Solver terminated early (max_iter=10000).  Consider pre-processing your data with StandardScaler or MinMaxScaler.\n",
      "  warnings.warn('Solver terminated early (max_iter=%i).'\n",
      "C:\\Users\\sheri\\anaconda3\\lib\\site-packages\\sklearn\\svm\\_base.py:255: ConvergenceWarning: Solver terminated early (max_iter=10000).  Consider pre-processing your data with StandardScaler or MinMaxScaler.\n",
      "  warnings.warn('Solver terminated early (max_iter=%i).'\n",
      "C:\\Users\\sheri\\anaconda3\\lib\\site-packages\\sklearn\\svm\\_base.py:255: ConvergenceWarning: Solver terminated early (max_iter=10000).  Consider pre-processing your data with StandardScaler or MinMaxScaler.\n",
      "  warnings.warn('Solver terminated early (max_iter=%i).'\n",
      "C:\\Users\\sheri\\anaconda3\\lib\\site-packages\\sklearn\\svm\\_base.py:255: ConvergenceWarning: Solver terminated early (max_iter=10000).  Consider pre-processing your data with StandardScaler or MinMaxScaler.\n",
      "  warnings.warn('Solver terminated early (max_iter=%i).'\n",
      "C:\\Users\\sheri\\anaconda3\\lib\\site-packages\\sklearn\\svm\\_base.py:255: ConvergenceWarning: Solver terminated early (max_iter=10000).  Consider pre-processing your data with StandardScaler or MinMaxScaler.\n",
      "  warnings.warn('Solver terminated early (max_iter=%i).'\n",
      "C:\\Users\\sheri\\anaconda3\\lib\\site-packages\\sklearn\\svm\\_base.py:255: ConvergenceWarning: Solver terminated early (max_iter=10000).  Consider pre-processing your data with StandardScaler or MinMaxScaler.\n",
      "  warnings.warn('Solver terminated early (max_iter=%i).'\n",
      "C:\\Users\\sheri\\anaconda3\\lib\\site-packages\\sklearn\\svm\\_base.py:255: ConvergenceWarning: Solver terminated early (max_iter=10000).  Consider pre-processing your data with StandardScaler or MinMaxScaler.\n",
      "  warnings.warn('Solver terminated early (max_iter=%i).'\n",
      "C:\\Users\\sheri\\anaconda3\\lib\\site-packages\\sklearn\\svm\\_base.py:255: ConvergenceWarning: Solver terminated early (max_iter=10000).  Consider pre-processing your data with StandardScaler or MinMaxScaler.\n",
      "  warnings.warn('Solver terminated early (max_iter=%i).'\n",
      "C:\\Users\\sheri\\anaconda3\\lib\\site-packages\\sklearn\\svm\\_base.py:255: ConvergenceWarning: Solver terminated early (max_iter=10000).  Consider pre-processing your data with StandardScaler or MinMaxScaler.\n",
      "  warnings.warn('Solver terminated early (max_iter=%i).'\n",
      "C:\\Users\\sheri\\anaconda3\\lib\\site-packages\\sklearn\\svm\\_base.py:255: ConvergenceWarning: Solver terminated early (max_iter=10000).  Consider pre-processing your data with StandardScaler or MinMaxScaler.\n",
      "  warnings.warn('Solver terminated early (max_iter=%i).'\n",
      "C:\\Users\\sheri\\anaconda3\\lib\\site-packages\\sklearn\\svm\\_base.py:255: ConvergenceWarning: Solver terminated early (max_iter=10000).  Consider pre-processing your data with StandardScaler or MinMaxScaler.\n",
      "  warnings.warn('Solver terminated early (max_iter=%i).'\n",
      "C:\\Users\\sheri\\anaconda3\\lib\\site-packages\\sklearn\\svm\\_base.py:255: ConvergenceWarning: Solver terminated early (max_iter=10000).  Consider pre-processing your data with StandardScaler or MinMaxScaler.\n",
      "  warnings.warn('Solver terminated early (max_iter=%i).'\n",
      "C:\\Users\\sheri\\anaconda3\\lib\\site-packages\\sklearn\\svm\\_base.py:255: ConvergenceWarning: Solver terminated early (max_iter=10000).  Consider pre-processing your data with StandardScaler or MinMaxScaler.\n",
      "  warnings.warn('Solver terminated early (max_iter=%i).'\n",
      "C:\\Users\\sheri\\anaconda3\\lib\\site-packages\\sklearn\\svm\\_base.py:255: ConvergenceWarning: Solver terminated early (max_iter=10000).  Consider pre-processing your data with StandardScaler or MinMaxScaler.\n",
      "  warnings.warn('Solver terminated early (max_iter=%i).'\n",
      "C:\\Users\\sheri\\anaconda3\\lib\\site-packages\\sklearn\\svm\\_base.py:255: ConvergenceWarning: Solver terminated early (max_iter=10000).  Consider pre-processing your data with StandardScaler or MinMaxScaler.\n",
      "  warnings.warn('Solver terminated early (max_iter=%i).'\n",
      "C:\\Users\\sheri\\anaconda3\\lib\\site-packages\\sklearn\\svm\\_base.py:255: ConvergenceWarning: Solver terminated early (max_iter=10000).  Consider pre-processing your data with StandardScaler or MinMaxScaler.\n",
      "  warnings.warn('Solver terminated early (max_iter=%i).'\n",
      "C:\\Users\\sheri\\anaconda3\\lib\\site-packages\\sklearn\\svm\\_base.py:255: ConvergenceWarning: Solver terminated early (max_iter=10000).  Consider pre-processing your data with StandardScaler or MinMaxScaler.\n",
      "  warnings.warn('Solver terminated early (max_iter=%i).'\n",
      "C:\\Users\\sheri\\anaconda3\\lib\\site-packages\\sklearn\\svm\\_base.py:255: ConvergenceWarning: Solver terminated early (max_iter=10000).  Consider pre-processing your data with StandardScaler or MinMaxScaler.\n",
      "  warnings.warn('Solver terminated early (max_iter=%i).'\n",
      "C:\\Users\\sheri\\anaconda3\\lib\\site-packages\\sklearn\\svm\\_base.py:255: ConvergenceWarning: Solver terminated early (max_iter=10000).  Consider pre-processing your data with StandardScaler or MinMaxScaler.\n",
      "  warnings.warn('Solver terminated early (max_iter=%i).'\n",
      "C:\\Users\\sheri\\anaconda3\\lib\\site-packages\\sklearn\\svm\\_base.py:255: ConvergenceWarning: Solver terminated early (max_iter=10000).  Consider pre-processing your data with StandardScaler or MinMaxScaler.\n",
      "  warnings.warn('Solver terminated early (max_iter=%i).'\n",
      "C:\\Users\\sheri\\anaconda3\\lib\\site-packages\\sklearn\\svm\\_base.py:255: ConvergenceWarning: Solver terminated early (max_iter=10000).  Consider pre-processing your data with StandardScaler or MinMaxScaler.\n",
      "  warnings.warn('Solver terminated early (max_iter=%i).'\n",
      "C:\\Users\\sheri\\anaconda3\\lib\\site-packages\\sklearn\\svm\\_base.py:255: ConvergenceWarning: Solver terminated early (max_iter=10000).  Consider pre-processing your data with StandardScaler or MinMaxScaler.\n",
      "  warnings.warn('Solver terminated early (max_iter=%i).'\n",
      "C:\\Users\\sheri\\anaconda3\\lib\\site-packages\\sklearn\\svm\\_base.py:255: ConvergenceWarning: Solver terminated early (max_iter=10000).  Consider pre-processing your data with StandardScaler or MinMaxScaler.\n",
      "  warnings.warn('Solver terminated early (max_iter=%i).'\n",
      "C:\\Users\\sheri\\anaconda3\\lib\\site-packages\\sklearn\\svm\\_base.py:255: ConvergenceWarning: Solver terminated early (max_iter=10000).  Consider pre-processing your data with StandardScaler or MinMaxScaler.\n",
      "  warnings.warn('Solver terminated early (max_iter=%i).'\n",
      "C:\\Users\\sheri\\anaconda3\\lib\\site-packages\\sklearn\\svm\\_base.py:255: ConvergenceWarning: Solver terminated early (max_iter=10000).  Consider pre-processing your data with StandardScaler or MinMaxScaler.\n",
      "  warnings.warn('Solver terminated early (max_iter=%i).'\n",
      "C:\\Users\\sheri\\anaconda3\\lib\\site-packages\\sklearn\\svm\\_base.py:255: ConvergenceWarning: Solver terminated early (max_iter=10000).  Consider pre-processing your data with StandardScaler or MinMaxScaler.\n",
      "  warnings.warn('Solver terminated early (max_iter=%i).'\n",
      "C:\\Users\\sheri\\anaconda3\\lib\\site-packages\\sklearn\\svm\\_base.py:255: ConvergenceWarning: Solver terminated early (max_iter=10000).  Consider pre-processing your data with StandardScaler or MinMaxScaler.\n",
      "  warnings.warn('Solver terminated early (max_iter=%i).'\n"
     ]
    },
    {
     "name": "stderr",
     "output_type": "stream",
     "text": [
      "C:\\Users\\sheri\\anaconda3\\lib\\site-packages\\sklearn\\svm\\_base.py:255: ConvergenceWarning: Solver terminated early (max_iter=10000).  Consider pre-processing your data with StandardScaler or MinMaxScaler.\n",
      "  warnings.warn('Solver terminated early (max_iter=%i).'\n",
      "C:\\Users\\sheri\\anaconda3\\lib\\site-packages\\sklearn\\svm\\_base.py:255: ConvergenceWarning: Solver terminated early (max_iter=10000).  Consider pre-processing your data with StandardScaler or MinMaxScaler.\n",
      "  warnings.warn('Solver terminated early (max_iter=%i).'\n",
      "C:\\Users\\sheri\\anaconda3\\lib\\site-packages\\sklearn\\svm\\_base.py:255: ConvergenceWarning: Solver terminated early (max_iter=10000).  Consider pre-processing your data with StandardScaler or MinMaxScaler.\n",
      "  warnings.warn('Solver terminated early (max_iter=%i).'\n",
      "C:\\Users\\sheri\\anaconda3\\lib\\site-packages\\sklearn\\svm\\_base.py:255: ConvergenceWarning: Solver terminated early (max_iter=10000).  Consider pre-processing your data with StandardScaler or MinMaxScaler.\n",
      "  warnings.warn('Solver terminated early (max_iter=%i).'\n",
      "C:\\Users\\sheri\\anaconda3\\lib\\site-packages\\sklearn\\svm\\_base.py:255: ConvergenceWarning: Solver terminated early (max_iter=10000).  Consider pre-processing your data with StandardScaler or MinMaxScaler.\n",
      "  warnings.warn('Solver terminated early (max_iter=%i).'\n",
      "C:\\Users\\sheri\\anaconda3\\lib\\site-packages\\sklearn\\svm\\_base.py:255: ConvergenceWarning: Solver terminated early (max_iter=10000).  Consider pre-processing your data with StandardScaler or MinMaxScaler.\n",
      "  warnings.warn('Solver terminated early (max_iter=%i).'\n",
      "C:\\Users\\sheri\\anaconda3\\lib\\site-packages\\sklearn\\svm\\_base.py:255: ConvergenceWarning: Solver terminated early (max_iter=10000).  Consider pre-processing your data with StandardScaler or MinMaxScaler.\n",
      "  warnings.warn('Solver terminated early (max_iter=%i).'\n",
      "C:\\Users\\sheri\\anaconda3\\lib\\site-packages\\sklearn\\svm\\_base.py:255: ConvergenceWarning: Solver terminated early (max_iter=10000).  Consider pre-processing your data with StandardScaler or MinMaxScaler.\n",
      "  warnings.warn('Solver terminated early (max_iter=%i).'\n",
      "C:\\Users\\sheri\\anaconda3\\lib\\site-packages\\sklearn\\svm\\_base.py:255: ConvergenceWarning: Solver terminated early (max_iter=10000).  Consider pre-processing your data with StandardScaler or MinMaxScaler.\n",
      "  warnings.warn('Solver terminated early (max_iter=%i).'\n",
      "C:\\Users\\sheri\\anaconda3\\lib\\site-packages\\sklearn\\svm\\_base.py:255: ConvergenceWarning: Solver terminated early (max_iter=10000).  Consider pre-processing your data with StandardScaler or MinMaxScaler.\n",
      "  warnings.warn('Solver terminated early (max_iter=%i).'\n",
      "C:\\Users\\sheri\\anaconda3\\lib\\site-packages\\sklearn\\svm\\_base.py:255: ConvergenceWarning: Solver terminated early (max_iter=10000).  Consider pre-processing your data with StandardScaler or MinMaxScaler.\n",
      "  warnings.warn('Solver terminated early (max_iter=%i).'\n",
      "C:\\Users\\sheri\\anaconda3\\lib\\site-packages\\sklearn\\svm\\_base.py:255: ConvergenceWarning: Solver terminated early (max_iter=10000).  Consider pre-processing your data with StandardScaler or MinMaxScaler.\n",
      "  warnings.warn('Solver terminated early (max_iter=%i).'\n",
      "C:\\Users\\sheri\\anaconda3\\lib\\site-packages\\sklearn\\svm\\_base.py:255: ConvergenceWarning: Solver terminated early (max_iter=10000).  Consider pre-processing your data with StandardScaler or MinMaxScaler.\n",
      "  warnings.warn('Solver terminated early (max_iter=%i).'\n",
      "C:\\Users\\sheri\\anaconda3\\lib\\site-packages\\sklearn\\svm\\_base.py:255: ConvergenceWarning: Solver terminated early (max_iter=10000).  Consider pre-processing your data with StandardScaler or MinMaxScaler.\n",
      "  warnings.warn('Solver terminated early (max_iter=%i).'\n",
      "C:\\Users\\sheri\\anaconda3\\lib\\site-packages\\sklearn\\svm\\_base.py:255: ConvergenceWarning: Solver terminated early (max_iter=10000).  Consider pre-processing your data with StandardScaler or MinMaxScaler.\n",
      "  warnings.warn('Solver terminated early (max_iter=%i).'\n",
      "C:\\Users\\sheri\\anaconda3\\lib\\site-packages\\sklearn\\svm\\_base.py:255: ConvergenceWarning: Solver terminated early (max_iter=10000).  Consider pre-processing your data with StandardScaler or MinMaxScaler.\n",
      "  warnings.warn('Solver terminated early (max_iter=%i).'\n",
      "C:\\Users\\sheri\\anaconda3\\lib\\site-packages\\sklearn\\svm\\_base.py:255: ConvergenceWarning: Solver terminated early (max_iter=10000).  Consider pre-processing your data with StandardScaler or MinMaxScaler.\n",
      "  warnings.warn('Solver terminated early (max_iter=%i).'\n"
     ]
    },
    {
     "name": "stdout",
     "output_type": "stream",
     "text": [
      "i= 10\n",
      "[[1.         0.6        0.33333333 0.5        0.5       ]\n",
      " [1.         0.75       0.75       0.55555556 0.4       ]\n",
      " [1.         0.75       0.66666667 0.5        0.66666667]\n",
      " [1.         0.01809955 0.66666667 0.55555556 0.66666667]\n",
      " [1.         0.75       0.66666667 0.625      0.01901141]\n",
      " [1.         0.75       0.5        0.66666667 0.66666667]\n",
      " [1.         0.75       0.4        0.66666667 0.4       ]\n",
      " [1.         0.75       0.5        0.8        1.        ]\n",
      " [1.         0.75       0.66666667 0.8        1.        ]\n",
      " [1.         0.75       0.66666667 0.83333333 1.        ]]\n",
      "[[0.66666667 0.6        0.66666667 1.         0.4       ]\n",
      " [0.66666667 0.6        1.         1.         0.8       ]\n",
      " [0.66666667 0.6        0.66666667 0.8        0.4       ]\n",
      " [0.66666667 0.8        0.66666667 1.         0.4       ]\n",
      " [0.66666667 0.6        0.66666667 1.         1.        ]\n",
      " [0.66666667 0.6        0.66666667 0.8        0.4       ]\n",
      " [0.66666667 0.6        0.66666667 0.8        0.4       ]\n",
      " [0.66666667 0.6        0.66666667 0.8        0.4       ]\n",
      " [0.66666667 0.6        0.66666667 0.8        0.4       ]\n",
      " [0.66666667 0.6        0.66666667 1.         0.4       ]]\n",
      "\n",
      "============================\n"
     ]
    },
    {
     "name": "stderr",
     "output_type": "stream",
     "text": [
      "C:\\Users\\sheri\\anaconda3\\lib\\site-packages\\sklearn\\svm\\_base.py:255: ConvergenceWarning: Solver terminated early (max_iter=10000).  Consider pre-processing your data with StandardScaler or MinMaxScaler.\n",
      "  warnings.warn('Solver terminated early (max_iter=%i).'\n",
      "C:\\Users\\sheri\\anaconda3\\lib\\site-packages\\sklearn\\svm\\_base.py:255: ConvergenceWarning: Solver terminated early (max_iter=10000).  Consider pre-processing your data with StandardScaler or MinMaxScaler.\n",
      "  warnings.warn('Solver terminated early (max_iter=%i).'\n",
      "C:\\Users\\sheri\\anaconda3\\lib\\site-packages\\sklearn\\svm\\_base.py:255: ConvergenceWarning: Solver terminated early (max_iter=10000).  Consider pre-processing your data with StandardScaler or MinMaxScaler.\n",
      "  warnings.warn('Solver terminated early (max_iter=%i).'\n",
      "C:\\Users\\sheri\\anaconda3\\lib\\site-packages\\sklearn\\svm\\_base.py:255: ConvergenceWarning: Solver terminated early (max_iter=10000).  Consider pre-processing your data with StandardScaler or MinMaxScaler.\n",
      "  warnings.warn('Solver terminated early (max_iter=%i).'\n",
      "C:\\Users\\sheri\\anaconda3\\lib\\site-packages\\sklearn\\svm\\_base.py:255: ConvergenceWarning: Solver terminated early (max_iter=10000).  Consider pre-processing your data with StandardScaler or MinMaxScaler.\n",
      "  warnings.warn('Solver terminated early (max_iter=%i).'\n",
      "C:\\Users\\sheri\\anaconda3\\lib\\site-packages\\sklearn\\svm\\_base.py:255: ConvergenceWarning: Solver terminated early (max_iter=10000).  Consider pre-processing your data with StandardScaler or MinMaxScaler.\n",
      "  warnings.warn('Solver terminated early (max_iter=%i).'\n",
      "C:\\Users\\sheri\\anaconda3\\lib\\site-packages\\sklearn\\svm\\_base.py:255: ConvergenceWarning: Solver terminated early (max_iter=10000).  Consider pre-processing your data with StandardScaler or MinMaxScaler.\n",
      "  warnings.warn('Solver terminated early (max_iter=%i).'\n",
      "C:\\Users\\sheri\\anaconda3\\lib\\site-packages\\sklearn\\svm\\_base.py:255: ConvergenceWarning: Solver terminated early (max_iter=10000).  Consider pre-processing your data with StandardScaler or MinMaxScaler.\n",
      "  warnings.warn('Solver terminated early (max_iter=%i).'\n",
      "C:\\Users\\sheri\\anaconda3\\lib\\site-packages\\sklearn\\svm\\_base.py:255: ConvergenceWarning: Solver terminated early (max_iter=10000).  Consider pre-processing your data with StandardScaler or MinMaxScaler.\n",
      "  warnings.warn('Solver terminated early (max_iter=%i).'\n",
      "C:\\Users\\sheri\\anaconda3\\lib\\site-packages\\sklearn\\svm\\_base.py:255: ConvergenceWarning: Solver terminated early (max_iter=10000).  Consider pre-processing your data with StandardScaler or MinMaxScaler.\n",
      "  warnings.warn('Solver terminated early (max_iter=%i).'\n",
      "C:\\Users\\sheri\\anaconda3\\lib\\site-packages\\sklearn\\svm\\_base.py:255: ConvergenceWarning: Solver terminated early (max_iter=10000).  Consider pre-processing your data with StandardScaler or MinMaxScaler.\n",
      "  warnings.warn('Solver terminated early (max_iter=%i).'\n",
      "C:\\Users\\sheri\\anaconda3\\lib\\site-packages\\sklearn\\svm\\_base.py:255: ConvergenceWarning: Solver terminated early (max_iter=10000).  Consider pre-processing your data with StandardScaler or MinMaxScaler.\n",
      "  warnings.warn('Solver terminated early (max_iter=%i).'\n",
      "C:\\Users\\sheri\\anaconda3\\lib\\site-packages\\sklearn\\svm\\_base.py:255: ConvergenceWarning: Solver terminated early (max_iter=10000).  Consider pre-processing your data with StandardScaler or MinMaxScaler.\n",
      "  warnings.warn('Solver terminated early (max_iter=%i).'\n",
      "C:\\Users\\sheri\\anaconda3\\lib\\site-packages\\sklearn\\svm\\_base.py:255: ConvergenceWarning: Solver terminated early (max_iter=10000).  Consider pre-processing your data with StandardScaler or MinMaxScaler.\n",
      "  warnings.warn('Solver terminated early (max_iter=%i).'\n",
      "C:\\Users\\sheri\\anaconda3\\lib\\site-packages\\sklearn\\svm\\_base.py:255: ConvergenceWarning: Solver terminated early (max_iter=10000).  Consider pre-processing your data with StandardScaler or MinMaxScaler.\n",
      "  warnings.warn('Solver terminated early (max_iter=%i).'\n",
      "C:\\Users\\sheri\\anaconda3\\lib\\site-packages\\sklearn\\svm\\_base.py:255: ConvergenceWarning: Solver terminated early (max_iter=10000).  Consider pre-processing your data with StandardScaler or MinMaxScaler.\n",
      "  warnings.warn('Solver terminated early (max_iter=%i).'\n",
      "C:\\Users\\sheri\\anaconda3\\lib\\site-packages\\sklearn\\svm\\_base.py:255: ConvergenceWarning: Solver terminated early (max_iter=10000).  Consider pre-processing your data with StandardScaler or MinMaxScaler.\n",
      "  warnings.warn('Solver terminated early (max_iter=%i).'\n",
      "C:\\Users\\sheri\\anaconda3\\lib\\site-packages\\sklearn\\svm\\_base.py:255: ConvergenceWarning: Solver terminated early (max_iter=10000).  Consider pre-processing your data with StandardScaler or MinMaxScaler.\n",
      "  warnings.warn('Solver terminated early (max_iter=%i).'\n",
      "C:\\Users\\sheri\\anaconda3\\lib\\site-packages\\sklearn\\svm\\_base.py:255: ConvergenceWarning: Solver terminated early (max_iter=10000).  Consider pre-processing your data with StandardScaler or MinMaxScaler.\n",
      "  warnings.warn('Solver terminated early (max_iter=%i).'\n",
      "C:\\Users\\sheri\\anaconda3\\lib\\site-packages\\sklearn\\svm\\_base.py:255: ConvergenceWarning: Solver terminated early (max_iter=10000).  Consider pre-processing your data with StandardScaler or MinMaxScaler.\n",
      "  warnings.warn('Solver terminated early (max_iter=%i).'\n",
      "C:\\Users\\sheri\\anaconda3\\lib\\site-packages\\sklearn\\svm\\_base.py:255: ConvergenceWarning: Solver terminated early (max_iter=10000).  Consider pre-processing your data with StandardScaler or MinMaxScaler.\n",
      "  warnings.warn('Solver terminated early (max_iter=%i).'\n",
      "C:\\Users\\sheri\\anaconda3\\lib\\site-packages\\sklearn\\svm\\_base.py:255: ConvergenceWarning: Solver terminated early (max_iter=10000).  Consider pre-processing your data with StandardScaler or MinMaxScaler.\n",
      "  warnings.warn('Solver terminated early (max_iter=%i).'\n",
      "C:\\Users\\sheri\\anaconda3\\lib\\site-packages\\sklearn\\svm\\_base.py:255: ConvergenceWarning: Solver terminated early (max_iter=10000).  Consider pre-processing your data with StandardScaler or MinMaxScaler.\n",
      "  warnings.warn('Solver terminated early (max_iter=%i).'\n",
      "C:\\Users\\sheri\\anaconda3\\lib\\site-packages\\sklearn\\svm\\_base.py:255: ConvergenceWarning: Solver terminated early (max_iter=10000).  Consider pre-processing your data with StandardScaler or MinMaxScaler.\n",
      "  warnings.warn('Solver terminated early (max_iter=%i).'\n",
      "C:\\Users\\sheri\\anaconda3\\lib\\site-packages\\sklearn\\svm\\_base.py:255: ConvergenceWarning: Solver terminated early (max_iter=10000).  Consider pre-processing your data with StandardScaler or MinMaxScaler.\n",
      "  warnings.warn('Solver terminated early (max_iter=%i).'\n",
      "C:\\Users\\sheri\\anaconda3\\lib\\site-packages\\sklearn\\svm\\_base.py:255: ConvergenceWarning: Solver terminated early (max_iter=10000).  Consider pre-processing your data with StandardScaler or MinMaxScaler.\n",
      "  warnings.warn('Solver terminated early (max_iter=%i).'\n",
      "C:\\Users\\sheri\\anaconda3\\lib\\site-packages\\sklearn\\svm\\_base.py:255: ConvergenceWarning: Solver terminated early (max_iter=10000).  Consider pre-processing your data with StandardScaler or MinMaxScaler.\n",
      "  warnings.warn('Solver terminated early (max_iter=%i).'\n",
      "C:\\Users\\sheri\\anaconda3\\lib\\site-packages\\sklearn\\svm\\_base.py:255: ConvergenceWarning: Solver terminated early (max_iter=10000).  Consider pre-processing your data with StandardScaler or MinMaxScaler.\n",
      "  warnings.warn('Solver terminated early (max_iter=%i).'\n",
      "C:\\Users\\sheri\\anaconda3\\lib\\site-packages\\sklearn\\svm\\_base.py:255: ConvergenceWarning: Solver terminated early (max_iter=10000).  Consider pre-processing your data with StandardScaler or MinMaxScaler.\n",
      "  warnings.warn('Solver terminated early (max_iter=%i).'\n",
      "C:\\Users\\sheri\\anaconda3\\lib\\site-packages\\sklearn\\svm\\_base.py:255: ConvergenceWarning: Solver terminated early (max_iter=10000).  Consider pre-processing your data with StandardScaler or MinMaxScaler.\n",
      "  warnings.warn('Solver terminated early (max_iter=%i).'\n",
      "C:\\Users\\sheri\\anaconda3\\lib\\site-packages\\sklearn\\svm\\_base.py:255: ConvergenceWarning: Solver terminated early (max_iter=10000).  Consider pre-processing your data with StandardScaler or MinMaxScaler.\n",
      "  warnings.warn('Solver terminated early (max_iter=%i).'\n",
      "C:\\Users\\sheri\\anaconda3\\lib\\site-packages\\sklearn\\svm\\_base.py:255: ConvergenceWarning: Solver terminated early (max_iter=10000).  Consider pre-processing your data with StandardScaler or MinMaxScaler.\n",
      "  warnings.warn('Solver terminated early (max_iter=%i).'\n",
      "C:\\Users\\sheri\\anaconda3\\lib\\site-packages\\sklearn\\svm\\_base.py:255: ConvergenceWarning: Solver terminated early (max_iter=10000).  Consider pre-processing your data with StandardScaler or MinMaxScaler.\n",
      "  warnings.warn('Solver terminated early (max_iter=%i).'\n"
     ]
    },
    {
     "name": "stderr",
     "output_type": "stream",
     "text": [
      "C:\\Users\\sheri\\anaconda3\\lib\\site-packages\\sklearn\\svm\\_base.py:255: ConvergenceWarning: Solver terminated early (max_iter=10000).  Consider pre-processing your data with StandardScaler or MinMaxScaler.\n",
      "  warnings.warn('Solver terminated early (max_iter=%i).'\n",
      "C:\\Users\\sheri\\anaconda3\\lib\\site-packages\\sklearn\\svm\\_base.py:255: ConvergenceWarning: Solver terminated early (max_iter=10000).  Consider pre-processing your data with StandardScaler or MinMaxScaler.\n",
      "  warnings.warn('Solver terminated early (max_iter=%i).'\n",
      "C:\\Users\\sheri\\anaconda3\\lib\\site-packages\\sklearn\\svm\\_base.py:255: ConvergenceWarning: Solver terminated early (max_iter=10000).  Consider pre-processing your data with StandardScaler or MinMaxScaler.\n",
      "  warnings.warn('Solver terminated early (max_iter=%i).'\n",
      "C:\\Users\\sheri\\anaconda3\\lib\\site-packages\\sklearn\\svm\\_base.py:255: ConvergenceWarning: Solver terminated early (max_iter=10000).  Consider pre-processing your data with StandardScaler or MinMaxScaler.\n",
      "  warnings.warn('Solver terminated early (max_iter=%i).'\n",
      "C:\\Users\\sheri\\anaconda3\\lib\\site-packages\\sklearn\\svm\\_base.py:255: ConvergenceWarning: Solver terminated early (max_iter=10000).  Consider pre-processing your data with StandardScaler or MinMaxScaler.\n",
      "  warnings.warn('Solver terminated early (max_iter=%i).'\n",
      "C:\\Users\\sheri\\anaconda3\\lib\\site-packages\\sklearn\\svm\\_base.py:255: ConvergenceWarning: Solver terminated early (max_iter=10000).  Consider pre-processing your data with StandardScaler or MinMaxScaler.\n",
      "  warnings.warn('Solver terminated early (max_iter=%i).'\n",
      "C:\\Users\\sheri\\anaconda3\\lib\\site-packages\\sklearn\\svm\\_base.py:255: ConvergenceWarning: Solver terminated early (max_iter=10000).  Consider pre-processing your data with StandardScaler or MinMaxScaler.\n",
      "  warnings.warn('Solver terminated early (max_iter=%i).'\n",
      "C:\\Users\\sheri\\anaconda3\\lib\\site-packages\\sklearn\\svm\\_base.py:255: ConvergenceWarning: Solver terminated early (max_iter=10000).  Consider pre-processing your data with StandardScaler or MinMaxScaler.\n",
      "  warnings.warn('Solver terminated early (max_iter=%i).'\n",
      "C:\\Users\\sheri\\anaconda3\\lib\\site-packages\\sklearn\\svm\\_base.py:255: ConvergenceWarning: Solver terminated early (max_iter=10000).  Consider pre-processing your data with StandardScaler or MinMaxScaler.\n",
      "  warnings.warn('Solver terminated early (max_iter=%i).'\n",
      "C:\\Users\\sheri\\anaconda3\\lib\\site-packages\\sklearn\\svm\\_base.py:255: ConvergenceWarning: Solver terminated early (max_iter=10000).  Consider pre-processing your data with StandardScaler or MinMaxScaler.\n",
      "  warnings.warn('Solver terminated early (max_iter=%i).'\n",
      "C:\\Users\\sheri\\anaconda3\\lib\\site-packages\\sklearn\\svm\\_base.py:255: ConvergenceWarning: Solver terminated early (max_iter=10000).  Consider pre-processing your data with StandardScaler or MinMaxScaler.\n",
      "  warnings.warn('Solver terminated early (max_iter=%i).'\n",
      "C:\\Users\\sheri\\anaconda3\\lib\\site-packages\\sklearn\\svm\\_base.py:255: ConvergenceWarning: Solver terminated early (max_iter=10000).  Consider pre-processing your data with StandardScaler or MinMaxScaler.\n",
      "  warnings.warn('Solver terminated early (max_iter=%i).'\n",
      "C:\\Users\\sheri\\anaconda3\\lib\\site-packages\\sklearn\\svm\\_base.py:255: ConvergenceWarning: Solver terminated early (max_iter=10000).  Consider pre-processing your data with StandardScaler or MinMaxScaler.\n",
      "  warnings.warn('Solver terminated early (max_iter=%i).'\n",
      "C:\\Users\\sheri\\anaconda3\\lib\\site-packages\\sklearn\\svm\\_base.py:255: ConvergenceWarning: Solver terminated early (max_iter=10000).  Consider pre-processing your data with StandardScaler or MinMaxScaler.\n",
      "  warnings.warn('Solver terminated early (max_iter=%i).'\n",
      "C:\\Users\\sheri\\anaconda3\\lib\\site-packages\\sklearn\\svm\\_base.py:255: ConvergenceWarning: Solver terminated early (max_iter=10000).  Consider pre-processing your data with StandardScaler or MinMaxScaler.\n",
      "  warnings.warn('Solver terminated early (max_iter=%i).'\n",
      "C:\\Users\\sheri\\anaconda3\\lib\\site-packages\\sklearn\\svm\\_base.py:255: ConvergenceWarning: Solver terminated early (max_iter=10000).  Consider pre-processing your data with StandardScaler or MinMaxScaler.\n",
      "  warnings.warn('Solver terminated early (max_iter=%i).'\n",
      "C:\\Users\\sheri\\anaconda3\\lib\\site-packages\\sklearn\\svm\\_base.py:255: ConvergenceWarning: Solver terminated early (max_iter=10000).  Consider pre-processing your data with StandardScaler or MinMaxScaler.\n",
      "  warnings.warn('Solver terminated early (max_iter=%i).'\n"
     ]
    },
    {
     "name": "stdout",
     "output_type": "stream",
     "text": [
      "i= 11\n",
      "[[1.         0.5        0.5        0.45454545 0.66666667]\n",
      " [1.         0.6        0.66666667 0.         0.66666667]\n",
      " [1.         0.75       0.6        0.41666667 0.66666667]\n",
      " [1.         0.75       0.75       0.28571429 0.01145038]\n",
      " [1.         0.66666667 0.         0.5        0.66666667]\n",
      " [1.         0.75       0.66666667 0.00436681 0.66666667]\n",
      " [0.02020202 0.75       0.5        0.625      0.4       ]\n",
      " [1.         0.75       0.00803213 0.66666667 0.01901141]\n",
      " [1.         0.75       0.28571429 0.75       0.01901141]\n",
      " [1.         0.75       0.5        0.8        0.5       ]]\n",
      "[[0.66666667 0.4        1.         1.         0.4       ]\n",
      " [0.66666667 0.6        0.66666667 0.         0.4       ]\n",
      " [0.66666667 0.6        1.         1.         0.4       ]\n",
      " [0.66666667 0.6        1.         0.4        0.6       ]\n",
      " [0.66666667 0.4        0.         1.         0.4       ]\n",
      " [0.66666667 0.6        0.66666667 0.2        0.4       ]\n",
      " [0.66666667 0.6        0.66666667 1.         0.4       ]\n",
      " [0.66666667 0.6        0.66666667 0.8        1.        ]\n",
      " [0.66666667 0.6        0.66666667 0.6        1.        ]\n",
      " [0.66666667 0.6        0.66666667 0.8        0.4       ]]\n",
      "\n",
      "============================\n"
     ]
    },
    {
     "name": "stderr",
     "output_type": "stream",
     "text": [
      "C:\\Users\\sheri\\anaconda3\\lib\\site-packages\\sklearn\\svm\\_base.py:255: ConvergenceWarning: Solver terminated early (max_iter=10000).  Consider pre-processing your data with StandardScaler or MinMaxScaler.\n",
      "  warnings.warn('Solver terminated early (max_iter=%i).'\n",
      "C:\\Users\\sheri\\anaconda3\\lib\\site-packages\\sklearn\\svm\\_base.py:255: ConvergenceWarning: Solver terminated early (max_iter=10000).  Consider pre-processing your data with StandardScaler or MinMaxScaler.\n",
      "  warnings.warn('Solver terminated early (max_iter=%i).'\n",
      "C:\\Users\\sheri\\anaconda3\\lib\\site-packages\\sklearn\\svm\\_base.py:255: ConvergenceWarning: Solver terminated early (max_iter=10000).  Consider pre-processing your data with StandardScaler or MinMaxScaler.\n",
      "  warnings.warn('Solver terminated early (max_iter=%i).'\n",
      "C:\\Users\\sheri\\anaconda3\\lib\\site-packages\\sklearn\\svm\\_base.py:255: ConvergenceWarning: Solver terminated early (max_iter=10000).  Consider pre-processing your data with StandardScaler or MinMaxScaler.\n",
      "  warnings.warn('Solver terminated early (max_iter=%i).'\n",
      "C:\\Users\\sheri\\anaconda3\\lib\\site-packages\\sklearn\\svm\\_base.py:255: ConvergenceWarning: Solver terminated early (max_iter=10000).  Consider pre-processing your data with StandardScaler or MinMaxScaler.\n",
      "  warnings.warn('Solver terminated early (max_iter=%i).'\n",
      "C:\\Users\\sheri\\anaconda3\\lib\\site-packages\\sklearn\\svm\\_base.py:255: ConvergenceWarning: Solver terminated early (max_iter=10000).  Consider pre-processing your data with StandardScaler or MinMaxScaler.\n",
      "  warnings.warn('Solver terminated early (max_iter=%i).'\n",
      "C:\\Users\\sheri\\anaconda3\\lib\\site-packages\\sklearn\\svm\\_base.py:255: ConvergenceWarning: Solver terminated early (max_iter=10000).  Consider pre-processing your data with StandardScaler or MinMaxScaler.\n",
      "  warnings.warn('Solver terminated early (max_iter=%i).'\n",
      "C:\\Users\\sheri\\anaconda3\\lib\\site-packages\\sklearn\\svm\\_base.py:255: ConvergenceWarning: Solver terminated early (max_iter=10000).  Consider pre-processing your data with StandardScaler or MinMaxScaler.\n",
      "  warnings.warn('Solver terminated early (max_iter=%i).'\n",
      "C:\\Users\\sheri\\anaconda3\\lib\\site-packages\\sklearn\\svm\\_base.py:255: ConvergenceWarning: Solver terminated early (max_iter=10000).  Consider pre-processing your data with StandardScaler or MinMaxScaler.\n",
      "  warnings.warn('Solver terminated early (max_iter=%i).'\n",
      "C:\\Users\\sheri\\anaconda3\\lib\\site-packages\\sklearn\\svm\\_base.py:255: ConvergenceWarning: Solver terminated early (max_iter=10000).  Consider pre-processing your data with StandardScaler or MinMaxScaler.\n",
      "  warnings.warn('Solver terminated early (max_iter=%i).'\n",
      "C:\\Users\\sheri\\anaconda3\\lib\\site-packages\\sklearn\\svm\\_base.py:255: ConvergenceWarning: Solver terminated early (max_iter=10000).  Consider pre-processing your data with StandardScaler or MinMaxScaler.\n",
      "  warnings.warn('Solver terminated early (max_iter=%i).'\n",
      "C:\\Users\\sheri\\anaconda3\\lib\\site-packages\\sklearn\\svm\\_base.py:255: ConvergenceWarning: Solver terminated early (max_iter=10000).  Consider pre-processing your data with StandardScaler or MinMaxScaler.\n",
      "  warnings.warn('Solver terminated early (max_iter=%i).'\n",
      "C:\\Users\\sheri\\anaconda3\\lib\\site-packages\\sklearn\\svm\\_base.py:255: ConvergenceWarning: Solver terminated early (max_iter=10000).  Consider pre-processing your data with StandardScaler or MinMaxScaler.\n",
      "  warnings.warn('Solver terminated early (max_iter=%i).'\n",
      "C:\\Users\\sheri\\anaconda3\\lib\\site-packages\\sklearn\\svm\\_base.py:255: ConvergenceWarning: Solver terminated early (max_iter=10000).  Consider pre-processing your data with StandardScaler or MinMaxScaler.\n",
      "  warnings.warn('Solver terminated early (max_iter=%i).'\n",
      "C:\\Users\\sheri\\anaconda3\\lib\\site-packages\\sklearn\\svm\\_base.py:255: ConvergenceWarning: Solver terminated early (max_iter=10000).  Consider pre-processing your data with StandardScaler or MinMaxScaler.\n",
      "  warnings.warn('Solver terminated early (max_iter=%i).'\n",
      "C:\\Users\\sheri\\anaconda3\\lib\\site-packages\\sklearn\\svm\\_base.py:255: ConvergenceWarning: Solver terminated early (max_iter=10000).  Consider pre-processing your data with StandardScaler or MinMaxScaler.\n",
      "  warnings.warn('Solver terminated early (max_iter=%i).'\n",
      "C:\\Users\\sheri\\anaconda3\\lib\\site-packages\\sklearn\\svm\\_base.py:255: ConvergenceWarning: Solver terminated early (max_iter=10000).  Consider pre-processing your data with StandardScaler or MinMaxScaler.\n",
      "  warnings.warn('Solver terminated early (max_iter=%i).'\n",
      "C:\\Users\\sheri\\anaconda3\\lib\\site-packages\\sklearn\\svm\\_base.py:255: ConvergenceWarning: Solver terminated early (max_iter=10000).  Consider pre-processing your data with StandardScaler or MinMaxScaler.\n",
      "  warnings.warn('Solver terminated early (max_iter=%i).'\n",
      "C:\\Users\\sheri\\anaconda3\\lib\\site-packages\\sklearn\\svm\\_base.py:255: ConvergenceWarning: Solver terminated early (max_iter=10000).  Consider pre-processing your data with StandardScaler or MinMaxScaler.\n",
      "  warnings.warn('Solver terminated early (max_iter=%i).'\n",
      "C:\\Users\\sheri\\anaconda3\\lib\\site-packages\\sklearn\\svm\\_base.py:255: ConvergenceWarning: Solver terminated early (max_iter=10000).  Consider pre-processing your data with StandardScaler or MinMaxScaler.\n",
      "  warnings.warn('Solver terminated early (max_iter=%i).'\n",
      "C:\\Users\\sheri\\anaconda3\\lib\\site-packages\\sklearn\\svm\\_base.py:255: ConvergenceWarning: Solver terminated early (max_iter=10000).  Consider pre-processing your data with StandardScaler or MinMaxScaler.\n",
      "  warnings.warn('Solver terminated early (max_iter=%i).'\n",
      "C:\\Users\\sheri\\anaconda3\\lib\\site-packages\\sklearn\\svm\\_base.py:255: ConvergenceWarning: Solver terminated early (max_iter=10000).  Consider pre-processing your data with StandardScaler or MinMaxScaler.\n",
      "  warnings.warn('Solver terminated early (max_iter=%i).'\n",
      "C:\\Users\\sheri\\anaconda3\\lib\\site-packages\\sklearn\\svm\\_base.py:255: ConvergenceWarning: Solver terminated early (max_iter=10000).  Consider pre-processing your data with StandardScaler or MinMaxScaler.\n",
      "  warnings.warn('Solver terminated early (max_iter=%i).'\n",
      "C:\\Users\\sheri\\anaconda3\\lib\\site-packages\\sklearn\\svm\\_base.py:255: ConvergenceWarning: Solver terminated early (max_iter=10000).  Consider pre-processing your data with StandardScaler or MinMaxScaler.\n",
      "  warnings.warn('Solver terminated early (max_iter=%i).'\n",
      "C:\\Users\\sheri\\anaconda3\\lib\\site-packages\\sklearn\\svm\\_base.py:255: ConvergenceWarning: Solver terminated early (max_iter=10000).  Consider pre-processing your data with StandardScaler or MinMaxScaler.\n",
      "  warnings.warn('Solver terminated early (max_iter=%i).'\n",
      "C:\\Users\\sheri\\anaconda3\\lib\\site-packages\\sklearn\\svm\\_base.py:255: ConvergenceWarning: Solver terminated early (max_iter=10000).  Consider pre-processing your data with StandardScaler or MinMaxScaler.\n",
      "  warnings.warn('Solver terminated early (max_iter=%i).'\n",
      "C:\\Users\\sheri\\anaconda3\\lib\\site-packages\\sklearn\\svm\\_base.py:255: ConvergenceWarning: Solver terminated early (max_iter=10000).  Consider pre-processing your data with StandardScaler or MinMaxScaler.\n",
      "  warnings.warn('Solver terminated early (max_iter=%i).'\n",
      "C:\\Users\\sheri\\anaconda3\\lib\\site-packages\\sklearn\\svm\\_base.py:255: ConvergenceWarning: Solver terminated early (max_iter=10000).  Consider pre-processing your data with StandardScaler or MinMaxScaler.\n",
      "  warnings.warn('Solver terminated early (max_iter=%i).'\n",
      "C:\\Users\\sheri\\anaconda3\\lib\\site-packages\\sklearn\\svm\\_base.py:255: ConvergenceWarning: Solver terminated early (max_iter=10000).  Consider pre-processing your data with StandardScaler or MinMaxScaler.\n",
      "  warnings.warn('Solver terminated early (max_iter=%i).'\n",
      "C:\\Users\\sheri\\anaconda3\\lib\\site-packages\\sklearn\\svm\\_base.py:255: ConvergenceWarning: Solver terminated early (max_iter=10000).  Consider pre-processing your data with StandardScaler or MinMaxScaler.\n",
      "  warnings.warn('Solver terminated early (max_iter=%i).'\n",
      "C:\\Users\\sheri\\anaconda3\\lib\\site-packages\\sklearn\\svm\\_base.py:255: ConvergenceWarning: Solver terminated early (max_iter=10000).  Consider pre-processing your data with StandardScaler or MinMaxScaler.\n",
      "  warnings.warn('Solver terminated early (max_iter=%i).'\n",
      "C:\\Users\\sheri\\anaconda3\\lib\\site-packages\\sklearn\\svm\\_base.py:255: ConvergenceWarning: Solver terminated early (max_iter=10000).  Consider pre-processing your data with StandardScaler or MinMaxScaler.\n",
      "  warnings.warn('Solver terminated early (max_iter=%i).'\n",
      "C:\\Users\\sheri\\anaconda3\\lib\\site-packages\\sklearn\\svm\\_base.py:255: ConvergenceWarning: Solver terminated early (max_iter=10000).  Consider pre-processing your data with StandardScaler or MinMaxScaler.\n",
      "  warnings.warn('Solver terminated early (max_iter=%i).'\n"
     ]
    },
    {
     "name": "stderr",
     "output_type": "stream",
     "text": [
      "C:\\Users\\sheri\\anaconda3\\lib\\site-packages\\sklearn\\svm\\_base.py:255: ConvergenceWarning: Solver terminated early (max_iter=10000).  Consider pre-processing your data with StandardScaler or MinMaxScaler.\n",
      "  warnings.warn('Solver terminated early (max_iter=%i).'\n",
      "C:\\Users\\sheri\\anaconda3\\lib\\site-packages\\sklearn\\svm\\_base.py:255: ConvergenceWarning: Solver terminated early (max_iter=10000).  Consider pre-processing your data with StandardScaler or MinMaxScaler.\n",
      "  warnings.warn('Solver terminated early (max_iter=%i).'\n",
      "C:\\Users\\sheri\\anaconda3\\lib\\site-packages\\sklearn\\svm\\_base.py:255: ConvergenceWarning: Solver terminated early (max_iter=10000).  Consider pre-processing your data with StandardScaler or MinMaxScaler.\n",
      "  warnings.warn('Solver terminated early (max_iter=%i).'\n",
      "C:\\Users\\sheri\\anaconda3\\lib\\site-packages\\sklearn\\svm\\_base.py:255: ConvergenceWarning: Solver terminated early (max_iter=10000).  Consider pre-processing your data with StandardScaler or MinMaxScaler.\n",
      "  warnings.warn('Solver terminated early (max_iter=%i).'\n",
      "C:\\Users\\sheri\\anaconda3\\lib\\site-packages\\sklearn\\svm\\_base.py:255: ConvergenceWarning: Solver terminated early (max_iter=10000).  Consider pre-processing your data with StandardScaler or MinMaxScaler.\n",
      "  warnings.warn('Solver terminated early (max_iter=%i).'\n",
      "C:\\Users\\sheri\\anaconda3\\lib\\site-packages\\sklearn\\svm\\_base.py:255: ConvergenceWarning: Solver terminated early (max_iter=10000).  Consider pre-processing your data with StandardScaler or MinMaxScaler.\n",
      "  warnings.warn('Solver terminated early (max_iter=%i).'\n",
      "C:\\Users\\sheri\\anaconda3\\lib\\site-packages\\sklearn\\svm\\_base.py:255: ConvergenceWarning: Solver terminated early (max_iter=10000).  Consider pre-processing your data with StandardScaler or MinMaxScaler.\n",
      "  warnings.warn('Solver terminated early (max_iter=%i).'\n",
      "C:\\Users\\sheri\\anaconda3\\lib\\site-packages\\sklearn\\svm\\_base.py:255: ConvergenceWarning: Solver terminated early (max_iter=10000).  Consider pre-processing your data with StandardScaler or MinMaxScaler.\n",
      "  warnings.warn('Solver terminated early (max_iter=%i).'\n",
      "C:\\Users\\sheri\\anaconda3\\lib\\site-packages\\sklearn\\svm\\_base.py:255: ConvergenceWarning: Solver terminated early (max_iter=10000).  Consider pre-processing your data with StandardScaler or MinMaxScaler.\n",
      "  warnings.warn('Solver terminated early (max_iter=%i).'\n",
      "C:\\Users\\sheri\\anaconda3\\lib\\site-packages\\sklearn\\svm\\_base.py:255: ConvergenceWarning: Solver terminated early (max_iter=10000).  Consider pre-processing your data with StandardScaler or MinMaxScaler.\n",
      "  warnings.warn('Solver terminated early (max_iter=%i).'\n",
      "C:\\Users\\sheri\\anaconda3\\lib\\site-packages\\sklearn\\svm\\_base.py:255: ConvergenceWarning: Solver terminated early (max_iter=10000).  Consider pre-processing your data with StandardScaler or MinMaxScaler.\n",
      "  warnings.warn('Solver terminated early (max_iter=%i).'\n",
      "C:\\Users\\sheri\\anaconda3\\lib\\site-packages\\sklearn\\svm\\_base.py:255: ConvergenceWarning: Solver terminated early (max_iter=10000).  Consider pre-processing your data with StandardScaler or MinMaxScaler.\n",
      "  warnings.warn('Solver terminated early (max_iter=%i).'\n",
      "C:\\Users\\sheri\\anaconda3\\lib\\site-packages\\sklearn\\svm\\_base.py:255: ConvergenceWarning: Solver terminated early (max_iter=10000).  Consider pre-processing your data with StandardScaler or MinMaxScaler.\n",
      "  warnings.warn('Solver terminated early (max_iter=%i).'\n",
      "C:\\Users\\sheri\\anaconda3\\lib\\site-packages\\sklearn\\svm\\_base.py:255: ConvergenceWarning: Solver terminated early (max_iter=10000).  Consider pre-processing your data with StandardScaler or MinMaxScaler.\n",
      "  warnings.warn('Solver terminated early (max_iter=%i).'\n",
      "C:\\Users\\sheri\\anaconda3\\lib\\site-packages\\sklearn\\svm\\_base.py:255: ConvergenceWarning: Solver terminated early (max_iter=10000).  Consider pre-processing your data with StandardScaler or MinMaxScaler.\n",
      "  warnings.warn('Solver terminated early (max_iter=%i).'\n"
     ]
    },
    {
     "name": "stdout",
     "output_type": "stream",
     "text": [
      "i= 13\n",
      "[[0.8        0.66666667 0.5        0.00436681 0.33333333]\n",
      " [0.8        0.66666667 0.16666667 0.41666667 0.33333333]\n",
      " [0.01515152 0.57142857 0.6        0.41666667 0.4       ]\n",
      " [1.         0.6        0.6        0.625      0.33333333]\n",
      " [0.01515152 0.66666667 0.66666667 0.45454545 0.66666667]\n",
      " [1.         0.6        0.66666667 0.5        1.        ]\n",
      " [1.         0.6        0.         0.66666667 1.        ]\n",
      " [1.         0.75       0.5        0.57142857 0.66666667]\n",
      " [1.         0.75       0.66666667 0.00869565 0.66666667]\n",
      " [1.         0.75       1.         0.71428571 0.66666667]]\n",
      "[[0.66666667 0.8        1.         0.2        0.4       ]\n",
      " [0.66666667 0.8        0.33333333 1.         0.4       ]\n",
      " [0.5        0.8        1.         1.         0.4       ]\n",
      " [0.66666667 0.6        1.         1.         0.4       ]\n",
      " [0.5        0.8        0.66666667 1.         0.4       ]\n",
      " [0.66666667 0.6        0.66666667 1.         0.4       ]\n",
      " [0.66666667 0.6        0.         0.8        0.4       ]\n",
      " [0.66666667 0.6        0.66666667 0.8        0.4       ]\n",
      " [0.33333333 0.6        0.66666667 0.4        0.4       ]\n",
      " [0.66666667 0.6        0.66666667 1.         0.4       ]]\n",
      "\n",
      "============================\n"
     ]
    },
    {
     "name": "stderr",
     "output_type": "stream",
     "text": [
      "C:\\Users\\sheri\\anaconda3\\lib\\site-packages\\sklearn\\svm\\_base.py:255: ConvergenceWarning: Solver terminated early (max_iter=10000).  Consider pre-processing your data with StandardScaler or MinMaxScaler.\n",
      "  warnings.warn('Solver terminated early (max_iter=%i).'\n",
      "C:\\Users\\sheri\\anaconda3\\lib\\site-packages\\sklearn\\svm\\_base.py:255: ConvergenceWarning: Solver terminated early (max_iter=10000).  Consider pre-processing your data with StandardScaler or MinMaxScaler.\n",
      "  warnings.warn('Solver terminated early (max_iter=%i).'\n"
     ]
    }
   ],
   "source": [
    "metrics_poly=[]\n",
    "for i in [9,10,11,13]:\n",
    "    metrics=est_poly_svc(10,i)\n",
    "    metrics_poly.append(metrics)\n",
    "    print('i=', str(i))\n",
    "    print(metrics[0])\n",
    "    print(metrics[1])\n",
    "    print()\n",
    "    print('============================')\n",
    "    "
   ]
  },
  {
   "cell_type": "code",
   "execution_count": 82,
   "id": "17877af5",
   "metadata": {},
   "outputs": [
    {
     "data": {
      "text/plain": [
       "[(array([[1.        , 0.75      , 0.5       , 0.5       , 0.66666667],\n",
       "         [1.        , 1.        , 0.5       , 0.5       , 0.66666667],\n",
       "         [1.        , 0.75      , 0.5       , 0.00869565, 0.66666667],\n",
       "         [1.        , 0.75      , 0.22222222, 0.00873362, 0.01908397],\n",
       "         [1.        , 0.75      , 0.5       , 0.71428571, 0.66666667],\n",
       "         [1.        , 0.75      , 0.4       , 0.8       , 0.66666667],\n",
       "         [1.        , 0.75      , 0.5       , 0.8       , 0.66666667],\n",
       "         [1.        , 0.75      , 0.66666667, 0.83333333, 0.66666667],\n",
       "         [1.        , 0.75      , 0.66666667, 0.83333333, 0.66666667],\n",
       "         [1.        , 0.66666667, 0.66666667, 0.83333333, 1.        ]]),\n",
       "  array([[0.5       , 0.6       , 0.66666667, 1.        , 0.4       ],\n",
       "         [0.66666667, 0.6       , 0.66666667, 1.        , 0.4       ],\n",
       "         [0.66666667, 0.6       , 0.66666667, 0.4       , 0.4       ],\n",
       "         [0.66666667, 0.6       , 0.66666667, 0.4       , 1.        ],\n",
       "         [0.66666667, 0.6       , 0.66666667, 1.        , 0.4       ],\n",
       "         [0.66666667, 0.6       , 0.66666667, 0.8       , 0.4       ],\n",
       "         [0.66666667, 0.6       , 0.66666667, 0.8       , 0.4       ],\n",
       "         [0.66666667, 0.6       , 0.66666667, 1.        , 0.4       ],\n",
       "         [0.5       , 0.6       , 0.66666667, 1.        , 0.4       ],\n",
       "         [0.5       , 0.4       , 0.66666667, 1.        , 0.4       ]])),\n",
       " (array([[1.        , 0.6       , 0.33333333, 0.5       , 0.5       ],\n",
       "         [1.        , 0.75      , 0.75      , 0.55555556, 0.4       ],\n",
       "         [1.        , 0.75      , 0.66666667, 0.5       , 0.66666667],\n",
       "         [1.        , 0.01809955, 0.66666667, 0.55555556, 0.66666667],\n",
       "         [1.        , 0.75      , 0.66666667, 0.625     , 0.01901141],\n",
       "         [1.        , 0.75      , 0.5       , 0.66666667, 0.66666667],\n",
       "         [1.        , 0.75      , 0.4       , 0.66666667, 0.4       ],\n",
       "         [1.        , 0.75      , 0.5       , 0.8       , 1.        ],\n",
       "         [1.        , 0.75      , 0.66666667, 0.8       , 1.        ],\n",
       "         [1.        , 0.75      , 0.66666667, 0.83333333, 1.        ]]),\n",
       "  array([[0.66666667, 0.6       , 0.66666667, 1.        , 0.4       ],\n",
       "         [0.66666667, 0.6       , 1.        , 1.        , 0.8       ],\n",
       "         [0.66666667, 0.6       , 0.66666667, 0.8       , 0.4       ],\n",
       "         [0.66666667, 0.8       , 0.66666667, 1.        , 0.4       ],\n",
       "         [0.66666667, 0.6       , 0.66666667, 1.        , 1.        ],\n",
       "         [0.66666667, 0.6       , 0.66666667, 0.8       , 0.4       ],\n",
       "         [0.66666667, 0.6       , 0.66666667, 0.8       , 0.4       ],\n",
       "         [0.66666667, 0.6       , 0.66666667, 0.8       , 0.4       ],\n",
       "         [0.66666667, 0.6       , 0.66666667, 0.8       , 0.4       ],\n",
       "         [0.66666667, 0.6       , 0.66666667, 1.        , 0.4       ]])),\n",
       " (array([[1.        , 0.5       , 0.5       , 0.45454545, 0.66666667],\n",
       "         [1.        , 0.6       , 0.66666667, 0.        , 0.66666667],\n",
       "         [1.        , 0.75      , 0.6       , 0.41666667, 0.66666667],\n",
       "         [1.        , 0.75      , 0.75      , 0.28571429, 0.01145038],\n",
       "         [1.        , 0.66666667, 0.        , 0.5       , 0.66666667],\n",
       "         [1.        , 0.75      , 0.66666667, 0.00436681, 0.66666667],\n",
       "         [0.02020202, 0.75      , 0.5       , 0.625     , 0.4       ],\n",
       "         [1.        , 0.75      , 0.00803213, 0.66666667, 0.01901141],\n",
       "         [1.        , 0.75      , 0.28571429, 0.75      , 0.01901141],\n",
       "         [1.        , 0.75      , 0.5       , 0.8       , 0.5       ]]),\n",
       "  array([[0.66666667, 0.4       , 1.        , 1.        , 0.4       ],\n",
       "         [0.66666667, 0.6       , 0.66666667, 0.        , 0.4       ],\n",
       "         [0.66666667, 0.6       , 1.        , 1.        , 0.4       ],\n",
       "         [0.66666667, 0.6       , 1.        , 0.4       , 0.6       ],\n",
       "         [0.66666667, 0.4       , 0.        , 1.        , 0.4       ],\n",
       "         [0.66666667, 0.6       , 0.66666667, 0.2       , 0.4       ],\n",
       "         [0.66666667, 0.6       , 0.66666667, 1.        , 0.4       ],\n",
       "         [0.66666667, 0.6       , 0.66666667, 0.8       , 1.        ],\n",
       "         [0.66666667, 0.6       , 0.66666667, 0.6       , 1.        ],\n",
       "         [0.66666667, 0.6       , 0.66666667, 0.8       , 0.4       ]])),\n",
       " (array([[0.8       , 0.66666667, 0.5       , 0.00436681, 0.33333333],\n",
       "         [0.8       , 0.66666667, 0.16666667, 0.41666667, 0.33333333],\n",
       "         [0.01515152, 0.57142857, 0.6       , 0.41666667, 0.4       ],\n",
       "         [1.        , 0.6       , 0.6       , 0.625     , 0.33333333],\n",
       "         [0.01515152, 0.66666667, 0.66666667, 0.45454545, 0.66666667],\n",
       "         [1.        , 0.6       , 0.66666667, 0.5       , 1.        ],\n",
       "         [1.        , 0.6       , 0.        , 0.66666667, 1.        ],\n",
       "         [1.        , 0.75      , 0.5       , 0.57142857, 0.66666667],\n",
       "         [1.        , 0.75      , 0.66666667, 0.00869565, 0.66666667],\n",
       "         [1.        , 0.75      , 1.        , 0.71428571, 0.66666667]]),\n",
       "  array([[0.66666667, 0.8       , 1.        , 0.2       , 0.4       ],\n",
       "         [0.66666667, 0.8       , 0.33333333, 1.        , 0.4       ],\n",
       "         [0.5       , 0.8       , 1.        , 1.        , 0.4       ],\n",
       "         [0.66666667, 0.6       , 1.        , 1.        , 0.4       ],\n",
       "         [0.5       , 0.8       , 0.66666667, 1.        , 0.4       ],\n",
       "         [0.66666667, 0.6       , 0.66666667, 1.        , 0.4       ],\n",
       "         [0.66666667, 0.6       , 0.        , 0.8       , 0.4       ],\n",
       "         [0.66666667, 0.6       , 0.66666667, 0.8       , 0.4       ],\n",
       "         [0.33333333, 0.6       , 0.66666667, 0.4       , 0.4       ],\n",
       "         [0.66666667, 0.6       , 0.66666667, 1.        , 0.4       ]]))]"
      ]
     },
     "execution_count": 82,
     "metadata": {},
     "output_type": "execute_result"
    }
   ],
   "source": [
    "metrics_poly"
   ]
  },
  {
   "cell_type": "code",
   "execution_count": 138,
   "id": "4085b230",
   "metadata": {},
   "outputs": [
    {
     "data": {
      "image/png": "[encoded data removed]",
      "text/plain": [
       "<Figure size 576x432 with 1 Axes>"
      ]
     },
     "metadata": {
      "needs_background": "light"
     },
     "output_type": "display_data"
    }
   ],
   "source": [
    "plt.figure(figsize=(8,6))\n",
    "\n",
    "plt.scatter(5*[0,1,2,3,4,5,6,7,8,9], np.transpose(metrics_poly[0][1]).reshape(1,-1), label='9', color='b')\n",
    "plt.plot(range(0,10), np.mean(metrics_poly[0][1], axis=1), label='Average 9', color='b')\n",
    "\n",
    "plt.scatter(5*[0,1,2,3,4,5,6,7,8,9], np.transpose(metrics_poly[1][1]).reshape(1,-1), label='10', color='r')\n",
    "plt.plot(range(0,10), np.mean(metrics_poly[1][1], axis=1), label='Average 10', color='r')\n",
    "\n",
    "\n",
    "plt.scatter(5*[0,1,2,3,4,5,6,7,8,9], np.transpose(metrics_poly[2][1]).reshape(1,-1), label='11', color='g')\n",
    "plt.plot(range(0,10), np.mean(metrics_poly[2][1], axis=1), label='Average 11', color='g')\n",
    "\n",
    "\n",
    "plt.scatter(5*[0,1,2,3,4,5,6,7,8,9], np.transpose(metrics_poly[3][1]).reshape(1,-1), label='13', color='y')\n",
    "plt.plot(range(0,10), np.mean(metrics_poly[3][1], axis=1), label='Average 13', color='y')\n",
    "\n",
    "\n",
    "plt.title('Recall Scores for Polynomial SVC', fontsize=20)\n",
    "plt.xlabel('$C=2^{-x}$')\n",
    "plt.ylabel('Recall')\n",
    "plt.ylim(-0.1,1.1)\n",
    "\n",
    "plt.legend()\n",
    "\n",
    "plt.show()"
   ]
  },
  {
   "cell_type": "markdown",
   "id": "aa4ca24e",
   "metadata": {},
   "source": [
    "Degree 10, C=2^(-5)"
   ]
  },
  {
   "cell_type": "code",
   "execution_count": 142,
   "id": "0247e6ac",
   "metadata": {},
   "outputs": [
    {
     "data": {
      "image/png": "[encoded data removed]",
      "text/plain": [
       "<Figure size 576x432 with 1 Axes>"
      ]
     },
     "metadata": {
      "needs_background": "light"
     },
     "output_type": "display_data"
    }
   ],
   "source": [
    "plt.figure(figsize=(8,6))\n",
    "\n",
    "plt.scatter(5*[0,1,2,3,4,5,6,7,8,9], np.transpose(metrics_poly[0][0]).reshape(1,-1), label='9', color='b')\n",
    "plt.plot(range(0,10), np.mean(metrics_poly[0][0], axis=1), label='Average 9', color='b')\n",
    "\n",
    "plt.scatter(5*[0,1,2,3,4,5,6,7,8,9], np.transpose(metrics_poly[1][0]).reshape(1,-1), label='10', color='r')\n",
    "plt.plot(range(0,10), np.mean(metrics_poly[1][0], axis=1), label='Average 10', color='r')\n",
    "\n",
    "\n",
    "plt.scatter(5*[0,1,2,3,4,5,6,7,8,9], np.transpose(metrics_poly[2][0]).reshape(1,-1), label='11', color='g')\n",
    "plt.plot(range(0,10), np.mean(metrics_poly[2][0], axis=1), label='Average 11', color='g')\n",
    "\n",
    "\n",
    "plt.scatter(5*[0,1,2,3,4,5,6,7,8,9], np.transpose(metrics_poly[3][0]).reshape(1,-1), label='13', color='y')\n",
    "plt.plot(range(0,10), np.mean(metrics_poly[3][0], axis=1), label='Average 13', color='y')\n",
    "\n",
    "\n",
    "plt.title('Precision Scores for Polynomial SVC', fontsize=20)\n",
    "plt.xlabel('$C=2^{-x}$')\n",
    "plt.ylabel('Precision')\n",
    "plt.ylim(-0.1,1.1)\n",
    "\n",
    "plt.legend()\n",
    "\n",
    "plt.show()"
   ]
  },
  {
   "cell_type": "markdown",
   "id": "f895220d",
   "metadata": {},
   "source": [
    "#### <font color='MediumOrchid'>For SVC's, a polynomial classifier with degree=10 and $C=2^{-5}$ seems best based on our samples. This didn't converge most of the time, so we may consider scaling and/or PCA before running these on a future iteration.</font>"
   ]
  },
  {
   "cell_type": "code",
   "execution_count": 143,
   "id": "f55809b4",
   "metadata": {},
   "outputs": [
    {
     "name": "stdout",
     "output_type": "stream",
     "text": [
      "Recall:\n",
      "0.6266666666666667\n",
      "Precision:\n",
      "0.7166666666666666\n"
     ]
    }
   ],
   "source": [
    "print('Recall:')\n",
    "print(np.mean(metrics_poly[1][1], axis=1)[5])\n",
    "print('Precision:')\n",
    "print(np.mean(metrics_poly[1][0], axis=1)[5])"
   ]
  },
  {
   "cell_type": "code",
   "execution_count": 129,
   "id": "788428f8",
   "metadata": {},
   "outputs": [
    {
     "name": "stdout",
     "output_type": "stream",
     "text": [
      "Recall:\n",
      "0.6666666666666666\n",
      "Precision:\n",
      "0.85\n"
     ]
    }
   ],
   "source": [
    "print('Recall:')\n",
    "print(np.mean(metrics_poly[1][1], axis=1)[9])\n",
    "print('Precision:')\n",
    "print(np.mean(metrics_poly[1][0], axis=1)[9])"
   ]
  },
  {
   "cell_type": "markdown",
   "id": "7b282ab8",
   "metadata": {},
   "source": [
    "# A Voting Model based on the above"
   ]
  },
  {
   "cell_type": "code",
   "execution_count": 121,
   "id": "984632dd",
   "metadata": {},
   "outputs": [
    {
     "name": "stderr",
     "output_type": "stream",
     "text": [
      "<>:2: SyntaxWarning: 'tuple' object is not callable; perhaps you missed a comma?\n",
      "<>:2: SyntaxWarning: 'tuple' object is not callable; perhaps you missed a comma?\n",
      "C:\\Users\\sheri\\AppData\\Local\\Temp/ipykernel_3500/934592466.py:2: SyntaxWarning: 'tuple' object is not callable; perhaps you missed a comma?\n",
      "  ()\n"
     ]
    },
    {
     "ename": "TypeError",
     "evalue": "'tuple' object is not callable",
     "output_type": "error",
     "traceback": [
      "\u001b[1;31m---------------------------------------------------------------------------\u001b[0m",
      "\u001b[1;31mTypeError\u001b[0m                                 Traceback (most recent call last)",
      "\u001b[1;32m~\\AppData\\Local\\Temp/ipykernel_3500/934592466.py\u001b[0m in \u001b[0;36m<module>\u001b[1;34m\u001b[0m\n\u001b[0;32m      1\u001b[0m voting = VotingClassifier([\n\u001b[1;32m----> 2\u001b[1;33m     \u001b[1;33m(\u001b[0m\u001b[1;33m)\u001b[0m\u001b[1;33m\u001b[0m\u001b[1;33m\u001b[0m\u001b[0m\n\u001b[0m\u001b[0;32m      3\u001b[0m     \u001b[1;33m(\u001b[0m\u001b[1;34m'knn'\u001b[0m\u001b[1;33m,\u001b[0m \u001b[0mKNeighborsClassifier\u001b[0m\u001b[1;33m(\u001b[0m\u001b[0mn_neighbors\u001b[0m\u001b[1;33m=\u001b[0m\u001b[1;36m1\u001b[0m\u001b[1;33m,\u001b[0m \u001b[0mp\u001b[0m\u001b[1;33m=\u001b[0m\u001b[1;36m1\u001b[0m\u001b[1;33m)\u001b[0m\u001b[1;33m)\u001b[0m\u001b[1;33m,\u001b[0m\u001b[1;33m\u001b[0m\u001b[1;33m\u001b[0m\u001b[0m\n\u001b[0;32m      4\u001b[0m     \u001b[1;33m(\u001b[0m\u001b[1;34m'tree'\u001b[0m\u001b[1;33m,\u001b[0m \u001b[0mDecisionTreeClassifier\u001b[0m\u001b[1;33m(\u001b[0m\u001b[0mmax_depth\u001b[0m\u001b[1;33m=\u001b[0m\u001b[1;36m10\u001b[0m\u001b[1;33m)\u001b[0m\u001b[1;33m)\u001b[0m\u001b[1;33m\u001b[0m\u001b[1;33m\u001b[0m\u001b[0m\n\u001b[0;32m      5\u001b[0m ])\n",
      "\u001b[1;31mTypeError\u001b[0m: 'tuple' object is not callable"
     ]
    }
   ],
   "source": [
    "voting = VotingClassifier([\n",
    "    ()\n",
    "    ('knn', KNeighborsClassifier(n_neighbors=1, p=1)),\n",
    "    ('tree', DecisionTreeClassifier(max_depth=10))\n",
    "])\n",
    "\n",
    "voting.fit(\n",
    "                train_set.iloc[train_index][viable_columns],\n",
    "                train_set.iloc[train_index]['is_nominee']\n",
    "                    )"
   ]
  },
  {
   "cell_type": "code",
   "execution_count": 144,
   "id": "26390342",
   "metadata": {},
   "outputs": [],
   "source": [
    "def voting(n):\n",
    "    '''n = weights of the voting model\n",
    "    Creates an array of precisions and recalls, to be processed'''\n",
    "    precs=np.zeros((n,5))\n",
    "    recs = np.zeros((n,5))\n",
    "    for i in range(0,n):\n",
    "        x=0\n",
    "        for train_index, val_index in timeseries_split(train_set,5):\n",
    "\n",
    "            # make voting model \n",
    "            voting = VotingClassifier([\n",
    "                ('forest',RandomForestClassifier(max_depth=10, n_estimators=80)),\n",
    "                ('knn', KNeighborsClassifier(n_neighbors=1, p=1)),\n",
    "                ('svc', SVC(C=2**(-1*9), kernel='poly', degree=10, max_iter=10000)),\n",
    "                ('log_reg', LogisticRegression(C=2**(-1*5), max_iter=1000))\n",
    "                                    ],\n",
    "                weights=None)\n",
    "            voting.fit(\n",
    "                train_set.iloc[train_index][viable_columns],\n",
    "                train_set.iloc[train_index]['is_nominee']\n",
    "                    )\n",
    "            pred=voting.predict(train_set.iloc[val_index][viable_columns]\n",
    "                        )\n",
    "\n",
    "            # add metrics to the tables\n",
    "            precs[i,x]=precision_score(train_set.iloc[val_index]['is_nominee'], pred, zero_division=0)\n",
    "            recs[i,x]=recall_score(train_set.iloc[val_index]['is_nominee'], pred, zero_division=0)\n",
    "            x=x+1\n",
    "\n",
    "    return(precs, recs)"
   ]
  },
  {
   "cell_type": "code",
   "execution_count": 145,
   "id": "6ed6ead6",
   "metadata": {},
   "outputs": [
    {
     "name": "stderr",
     "output_type": "stream",
     "text": [
      "C:\\Users\\sheri\\anaconda3\\lib\\site-packages\\sklearn\\svm\\_base.py:255: ConvergenceWarning: Solver terminated early (max_iter=10000).  Consider pre-processing your data with StandardScaler or MinMaxScaler.\n",
      "  warnings.warn('Solver terminated early (max_iter=%i).'\n",
      "C:\\Users\\sheri\\anaconda3\\lib\\site-packages\\sklearn\\svm\\_base.py:255: ConvergenceWarning: Solver terminated early (max_iter=10000).  Consider pre-processing your data with StandardScaler or MinMaxScaler.\n",
      "  warnings.warn('Solver terminated early (max_iter=%i).'\n",
      "C:\\Users\\sheri\\anaconda3\\lib\\site-packages\\sklearn\\svm\\_base.py:255: ConvergenceWarning: Solver terminated early (max_iter=10000).  Consider pre-processing your data with StandardScaler or MinMaxScaler.\n",
      "  warnings.warn('Solver terminated early (max_iter=%i).'\n",
      "C:\\Users\\sheri\\anaconda3\\lib\\site-packages\\sklearn\\svm\\_base.py:255: ConvergenceWarning: Solver terminated early (max_iter=10000).  Consider pre-processing your data with StandardScaler or MinMaxScaler.\n",
      "  warnings.warn('Solver terminated early (max_iter=%i).'\n",
      "C:\\Users\\sheri\\anaconda3\\lib\\site-packages\\sklearn\\svm\\_base.py:255: ConvergenceWarning: Solver terminated early (max_iter=10000).  Consider pre-processing your data with StandardScaler or MinMaxScaler.\n",
      "  warnings.warn('Solver terminated early (max_iter=%i).'\n"
     ]
    }
   ],
   "source": [
    "metrics_voting=voting(1)"
   ]
  },
  {
   "cell_type": "code",
   "execution_count": 146,
   "id": "2a0ea842",
   "metadata": {},
   "outputs": [
    {
     "data": {
      "text/plain": [
       "(array([[1.        , 0.75      , 0.66666667, 0.8       , 0.66666667]]),\n",
       " array([[0.66666667, 0.6       , 0.66666667, 0.8       , 0.4       ]]))"
      ]
     },
     "execution_count": 146,
     "metadata": {},
     "output_type": "execute_result"
    }
   ],
   "source": [
    "metrics_voting"
   ]
  },
  {
   "cell_type": "code",
   "execution_count": 150,
   "id": "8144a326",
   "metadata": {},
   "outputs": [
    {
     "data": {
      "image/png": "[encoded data removed]",
      "text/plain": [
       "<Figure size 576x432 with 1 Axes>"
      ]
     },
     "metadata": {
      "needs_background": "light"
     },
     "output_type": "display_data"
    }
   ],
   "source": [
    "plt.figure(figsize=(8,6))\n",
    "\n",
    "plt.scatter(['2013','2014','2015','2016','2017'], np.transpose(metrics_voting[0]).reshape(1,-1))\n",
    "plt.plot(['2013','2017'], [np.mean(metrics_voting[0], axis=1), np.mean(metrics_voting[0], axis=1)], label='Average')\n",
    "\n",
    "\n",
    "\n",
    "plt.title('Precision Scores for Voting Model', fontsize=20)\n",
    "plt.xlabel('Years')\n",
    "plt.ylabel('Precision')\n",
    "plt.ylim(-0.1,1.1)\n",
    "\n",
    "plt.legend()\n",
    "\n",
    "plt.show()"
   ]
  },
  {
   "cell_type": "code",
   "execution_count": 152,
   "id": "d275d297",
   "metadata": {},
   "outputs": [
    {
     "data": {
      "image/png": "[encoded data removed]",
      "text/plain": [
       "<Figure size 576x432 with 1 Axes>"
      ]
     },
     "metadata": {
      "needs_background": "light"
     },
     "output_type": "display_data"
    }
   ],
   "source": [
    "plt.figure(figsize=(8,6))\n",
    "\n",
    "plt.scatter(['2013','2014','2015','2016','2017'], np.transpose(metrics_voting[1]).reshape(1,-1))\n",
    "plt.plot(['2013','2017'], [np.mean(metrics_voting[1], axis=1), np.mean(metrics_voting[1], axis=1)], label='Average')\n",
    "\n",
    "\n",
    "\n",
    "plt.title('Recall Scores for Voting Model', fontsize=20)\n",
    "plt.xlabel('Years')\n",
    "plt.ylabel('Recall')\n",
    "plt.ylim(-0.1,1.1)\n",
    "\n",
    "plt.legend()\n",
    "\n",
    "plt.show()"
   ]
  },
  {
   "cell_type": "code",
   "execution_count": 148,
   "id": "6b8c6e78",
   "metadata": {},
   "outputs": [
    {
     "name": "stdout",
     "output_type": "stream",
     "text": [
      "Recall:\n",
      "0.6266666666666667\n",
      "Precision:\n",
      "0.7766666666666666\n"
     ]
    }
   ],
   "source": [
    "print('Recall:')\n",
    "print(np.mean(metrics_voting[1], axis=1)[0])\n",
    "print('Precision:')\n",
    "print(np.mean(metrics_voting[0], axis=1)[0])"
   ]
  },
  {
   "cell_type": "markdown",
   "id": "c1190663",
   "metadata": {},
   "source": [
    "# Trends over validation sets"
   ]
  },
  {
   "cell_type": "code",
   "execution_count": 163,
   "id": "39ff04c8",
   "metadata": {},
   "outputs": [
    {
     "data": {
      "image/png": "[encoded data removed]",
      "text/plain": [
       "<Figure size 576x432 with 1 Axes>"
      ]
     },
     "metadata": {
      "needs_background": "light"
     },
     "output_type": "display_data"
    }
   ],
   "source": [
    "plt.figure(figsize=(8,6))\n",
    "\n",
    "plt.plot(['2013','2014','2015','2016','2017'], np.transpose(metrics_voting[1]).reshape(-1,1), label='voting')\n",
    "\n",
    "plt.plot(['2013','2014','2015','2016','2017'], np.transpose(metrics_forest[1][7]).reshape(-1,1), label='random forest')\n",
    "\n",
    "plt.plot(['2013','2014','2015','2016','2017'], np.transpose(metrics_knn[1][0]).reshape(-1,1), label='k Nearest Neighbor')\n",
    "\n",
    "plt.plot(['2013','2014','2015','2016','2017'], np.transpose(metrics_poly[1][1][9]).reshape(-1,1), label='SVC')\n",
    "\n",
    "plt.plot(['2013','2014','2015','2016','2017'], np.transpose(metrics_logreg[1][4]).reshape(-1,1), label='Logistic Regression')\n",
    "\n",
    "plt.title('Recall Scores for Models', fontsize=20)\n",
    "plt.xlabel('Years')\n",
    "plt.ylabel('Recall')\n",
    "plt.ylim(-0.1,1.1)\n",
    "\n",
    "plt.legend()\n",
    "\n",
    "plt.show()"
   ]
  },
  {
   "cell_type": "code",
   "execution_count": 164,
   "id": "e7744d27",
   "metadata": {},
   "outputs": [
    {
     "data": {
      "image/png": "[encoded data removed]",
      "text/plain": [
       "<Figure size 576x432 with 1 Axes>"
      ]
     },
     "metadata": {
      "needs_background": "light"
     },
     "output_type": "display_data"
    }
   ],
   "source": [
    "plt.figure(figsize=(8,6))\n",
    "\n",
    "plt.plot(['2013','2014','2015','2016','2017'], np.transpose(metrics_voting[0]).reshape(-1,1), label='voting')\n",
    "\n",
    "plt.plot(['2013','2014','2015','2016','2017'], np.transpose(metrics_forest[0][7]).reshape(-1,1), label='random forest')\n",
    "\n",
    "plt.plot(['2013','2014','2015','2016','2017'], np.transpose(metrics_knn[0][0]).reshape(-1,1), label='k Nearest Neighbor')\n",
    "\n",
    "plt.plot(['2013','2014','2015','2016','2017'], np.transpose(metrics_poly[1][0][9]).reshape(-1,1), label='SVC')\n",
    "\n",
    "plt.plot(['2013','2014','2015','2016','2017'], np.transpose(metrics_logreg[0][4]).reshape(-1,1), label='Logistic Regression')\n",
    "\n",
    "plt.title('Precision Scores for Models', fontsize=20)\n",
    "plt.xlabel('Years')\n",
    "plt.ylabel('Precision')\n",
    "plt.ylim(-0.1,1.1)\n",
    "\n",
    "plt.legend()\n",
    "\n",
    "plt.show()"
   ]
  },
  {
   "cell_type": "markdown",
   "id": "77d35411",
   "metadata": {},
   "source": [
    "Precision does seem to decrease over time"
   ]
  },
  {
   "cell_type": "code",
   "execution_count": null,
   "id": "76424376",
   "metadata": {},
   "outputs": [],
   "source": []
  }
 ],
 "metadata": {
  "kernelspec": {
   "display_name": "Python 3 (ipykernel)",
   "language": "python",
   "name": "python3"
  },
  "language_info": {
   "codemirror_mode": {
    "name": "ipython",
    "version": 3
   },
   "file_extension": ".py",
   "mimetype": "text/x-python",
   "name": "python",
   "nbconvert_exporter": "python",
   "pygments_lexer": "ipython3",
   "version": "3.9.12"
  }
 },
 "nbformat": 4,
 "nbformat_minor": 5
}
