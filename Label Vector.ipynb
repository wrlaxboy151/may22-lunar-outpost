{
 "cells": [
  {
   "cell_type": "markdown",
   "id": "992a9f50",
   "metadata": {},
   "source": [
    "# Label Vector for Films Nominated for The Best Animated Feature "
   ]
  },
  {
   "cell_type": "code",
   "execution_count": 97,
   "id": "9d3c5c34",
   "metadata": {},
   "outputs": [],
   "source": [
    "# import all the packages we will need\n",
    "\n",
    "import imdb\n",
    "from imdb import Cinemagoer\n",
    "import requests\n",
    "import pandas as pd\n",
    "import bs4\n",
    "from bs4 import BeautifulSoup"
   ]
  },
  {
   "cell_type": "code",
   "execution_count": 9,
   "id": "917ebc23",
   "metadata": {},
   "outputs": [],
   "source": [
    "ia = Cinemagoer()"
   ]
  },
  {
   "cell_type": "code",
   "execution_count": 3,
   "id": "adbdb7f1",
   "metadata": {},
   "outputs": [],
   "source": [
    "# for a given page url on imdb, this function will gather all the links for the searched films and return a list of \n",
    "# film ids of the form '/titls/tt########'\n",
    "\n",
    "def gather_id_urls(url):\n",
    "    id_urls = []\n",
    "    r = requests.get(url)\n",
    "    soup = BeautifulSoup(r.content, 'html.parser')\n",
    "    movies= []\n",
    "    for a in soup.find_all('a', href=True):\n",
    "        if ('/title/tt' in a['href']) & (a['href'] not in id_urls):\n",
    "            id_urls.append(a['href'])    \n",
    "    return id_urls"
   ]
  },
  {
   "cell_type": "code",
   "execution_count": 4,
   "id": "e8ca525a",
   "metadata": {},
   "outputs": [],
   "source": [
    "# given a list of imdb ids of the form '/title/tt######/' returns id of the form ######\n",
    "\n",
    "def clean_ids_from_urls(id_urls):\n",
    "    imdb_ids = []\n",
    "    for ids in id_urls:\n",
    "        imdb_ids.append(ids[9:-1])\n",
    "    return imdb_ids"
   ]
  },
  {
   "cell_type": "code",
   "execution_count": 7,
   "id": "5b4bc37e",
   "metadata": {},
   "outputs": [],
   "source": [
    "## creates a dataframe of academy award nominated animated feature films\n",
    "\n",
    "def create_nominee_label(nominee_ids):\n",
    "    title = []\n",
    "    nomination = []\n",
    "    for nominee in nominee_ids:\n",
    "        title.append(ia.get_movie(nominee)['localized title'])\n",
    "        nomination.append(ia.get_movie_awards(nominee)['data']['awards'][0]['notes'])\n",
    "    binary_nomination = [1 if i[0:21] == 'Best Animated Feature' else 0 for i in nomination]\n",
    "    d = {'imdb ids':nominee_ids, 'title': title, 'nomination':nomination, 'label':binary_nomination}\n",
    "    return pd.DataFrame(d)"
   ]
  },
  {
   "cell_type": "code",
   "execution_count": 5,
   "id": "9b92c2f8",
   "metadata": {},
   "outputs": [],
   "source": [
    "## imdb advanced search to find all animated feature films nominated for an academy award\n",
    "## betwenn 2001 and 2021\n",
    "\n",
    "url_nominees = 'https://www.imdb.com/search/title/?title_type=feature&release_date=2001-01-01,2021-12-31&genres=animation&groups=oscar_nominee&runtime=40,&sort=year,asc&count=250&view=simple'"
   ]
  },
  {
   "cell_type": "code",
   "execution_count": 10,
   "id": "f7f45fee",
   "metadata": {},
   "outputs": [],
   "source": [
    "nominee_ids = clean_ids_from_urls(gather_id_urls(url_nominees))\n",
    "labels_1 = create_nominee_label(nominee_ids)"
   ]
  },
  {
   "cell_type": "code",
   "execution_count": 31,
   "id": "f44876ad",
   "metadata": {},
   "outputs": [
    {
     "data": {
      "text/html": [
       "<div>\n",
       "<style scoped>\n",
       "    .dataframe tbody tr th:only-of-type {\n",
       "        vertical-align: middle;\n",
       "    }\n",
       "\n",
       "    .dataframe tbody tr th {\n",
       "        vertical-align: top;\n",
       "    }\n",
       "\n",
       "    .dataframe thead th {\n",
       "        text-align: right;\n",
       "    }\n",
       "</style>\n",
       "<table border=\"1\" class=\"dataframe\">\n",
       "  <thead>\n",
       "    <tr style=\"text-align: right;\">\n",
       "      <th></th>\n",
       "      <th>imdb ids</th>\n",
       "      <th>title</th>\n",
       "      <th>nomination</th>\n",
       "      <th>label</th>\n",
       "    </tr>\n",
       "  </thead>\n",
       "  <tbody>\n",
       "    <tr>\n",
       "      <th>0</th>\n",
       "      <td>0126029</td>\n",
       "      <td>Shrek</td>\n",
       "      <td>Best Animated Feature</td>\n",
       "      <td>1</td>\n",
       "    </tr>\n",
       "    <tr>\n",
       "      <th>1</th>\n",
       "      <td>0198781</td>\n",
       "      <td>Monsters, Inc.</td>\n",
       "      <td>Best Music, Original Song</td>\n",
       "      <td>0</td>\n",
       "    </tr>\n",
       "    <tr>\n",
       "      <th>2</th>\n",
       "      <td>0245429</td>\n",
       "      <td>Spirited Away</td>\n",
       "      <td>Best Animated Feature</td>\n",
       "      <td>1</td>\n",
       "    </tr>\n",
       "    <tr>\n",
       "      <th>3</th>\n",
       "      <td>0268397</td>\n",
       "      <td>Jimmy Neutron: Boy Genius</td>\n",
       "      <td>Best Animated Feature</td>\n",
       "      <td>1</td>\n",
       "    </tr>\n",
       "    <tr>\n",
       "      <th>4</th>\n",
       "      <td>0133240</td>\n",
       "      <td>Treasure Planet</td>\n",
       "      <td>Best Animated Feature</td>\n",
       "      <td>1</td>\n",
       "    </tr>\n",
       "  </tbody>\n",
       "</table>\n",
       "</div>"
      ],
      "text/plain": [
       "  imdb ids                      title                 nomination  label\n",
       "0  0126029                      Shrek      Best Animated Feature      1\n",
       "1  0198781             Monsters, Inc.  Best Music, Original Song      0\n",
       "2  0245429              Spirited Away      Best Animated Feature      1\n",
       "3  0268397  Jimmy Neutron: Boy Genius      Best Animated Feature      1\n",
       "4  0133240            Treasure Planet      Best Animated Feature      1"
      ]
     },
     "execution_count": 31,
     "metadata": {},
     "output_type": "execute_result"
    }
   ],
   "source": [
    "labels_1.head()"
   ]
  },
  {
   "cell_type": "code",
   "execution_count": 36,
   "id": "e164a124",
   "metadata": {},
   "outputs": [],
   "source": [
    "best_animated_film_ids = labels_1['imdb ids'].loc[labels_1['label']==1].copy()"
   ]
  },
  {
   "cell_type": "code",
   "execution_count": 92,
   "id": "4388d2b5",
   "metadata": {},
   "outputs": [],
   "source": [
    "with open('animated_films_ids.csv', 'r') as f:\n",
    "    all_animated_films = [line[0:-2] for line in f] #[0:-2] drops the ,\\n"
   ]
  },
  {
   "cell_type": "code",
   "execution_count": 83,
   "id": "efcddb3a",
   "metadata": {},
   "outputs": [],
   "source": [
    "y = [(film_id in best_animated_film_ids.values)*1  for film_id in all_animated_films]"
   ]
  },
  {
   "cell_type": "code",
   "execution_count": 96,
   "id": "e1ab460c",
   "metadata": {
    "scrolled": false
   },
   "outputs": [
    {
     "data": {
      "text/plain": [
       "True"
      ]
     },
     "execution_count": 96,
     "metadata": {},
     "output_type": "execute_result"
    }
   ],
   "source": [
    "sum(y) == len(best_animated_film_ids)  #Sanity check but we will need to spot check the total dataframe."
   ]
  },
  {
   "cell_type": "code",
   "execution_count": null,
   "id": "3e447170",
   "metadata": {},
   "outputs": [],
   "source": []
  }
 ],
 "metadata": {
  "kernelspec": {
   "display_name": "Python 3 (ipykernel)",
   "language": "python",
   "name": "python3"
  },
  "language_info": {
   "codemirror_mode": {
    "name": "ipython",
    "version": 3
   },
   "file_extension": ".py",
   "mimetype": "text/x-python",
   "name": "python",
   "nbconvert_exporter": "python",
   "pygments_lexer": "ipython3",
   "version": "3.9.12"
  }
 },
 "nbformat": 4,
 "nbformat_minor": 5
}
