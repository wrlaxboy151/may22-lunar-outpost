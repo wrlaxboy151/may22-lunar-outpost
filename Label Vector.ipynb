{
 "cells": [
  {
   "cell_type": "markdown",
   "id": "992a9f50",
   "metadata": {},
   "source": [
    "# Label Vector for Films Nominated for The Best Animated Feature "
   ]
  },
  {
   "cell_type": "code",
   "execution_count": 1,
   "id": "9d3c5c34",
   "metadata": {},
   "outputs": [],
   "source": [
    "# import all the packages we will need\n",
    "\n",
    "import imdb\n",
    "from imdb import Cinemagoer\n",
    "import requests\n",
    "import pandas as pd\n",
    "import bs4\n",
    "from bs4 import BeautifulSoup"
   ]
  },
  {
   "cell_type": "code",
   "execution_count": 2,
   "id": "917ebc23",
   "metadata": {},
   "outputs": [],
   "source": [
    "ia = Cinemagoer()"
   ]
  },
  {
   "cell_type": "code",
   "execution_count": 3,
   "id": "adbdb7f1",
   "metadata": {},
   "outputs": [],
   "source": [
    "# for a given page url on imdb, this function will gather all the links for the searched films and return a list of \n",
    "# film ids of the form '/titls/tt########'\n",
    "\n",
    "def gather_id_urls(url):\n",
    "    id_urls = []\n",
    "    r = requests.get(url)\n",
    "    soup = BeautifulSoup(r.content, 'html.parser')\n",
    "    movies= []\n",
    "    for a in soup.find_all('a', href=True):\n",
    "        if ('/title/tt' in a['href']) & (a['href'] not in id_urls):\n",
    "            id_urls.append(a['href'])    \n",
    "    return id_urls"
   ]
  },
  {
   "cell_type": "code",
   "execution_count": 4,
   "id": "e8ca525a",
   "metadata": {},
   "outputs": [],
   "source": [
    "# given a list of imdb ids of the form '/title/tt######/' returns id of the form ######\n",
    "\n",
    "def clean_ids_from_urls(id_urls):\n",
    "    imdb_ids = []\n",
    "    for ids in id_urls:\n",
    "        imdb_ids.append(ids[9:-1])\n",
    "    return imdb_ids"
   ]
  },
  {
   "cell_type": "code",
   "execution_count": 5,
   "id": "5b4bc37e",
   "metadata": {},
   "outputs": [],
   "source": [
    "## creates a dataframe of academy award nominated animated feature films\n",
    "\n",
    "def create_nominee_label(nominee_ids):\n",
    "    title = []\n",
    "    nomination = []\n",
    "    for nominee in nominee_ids:\n",
    "        title.append(ia.get_movie(nominee)['localized title'])\n",
    "        nomination.append(ia.get_movie_awards(nominee)['data']['awards'][0]['notes'])\n",
    "    binary_nomination = [1 if i[0:21] == 'Best Animated Feature' else 0 for i in nomination]\n",
    "    d = {'imdb ids':nominee_ids, 'title': title, 'nomination':nomination, 'label':binary_nomination}\n",
    "    return pd.DataFrame(d)"
   ]
  },
  {
   "cell_type": "code",
   "execution_count": 6,
   "id": "9b92c2f8",
   "metadata": {},
   "outputs": [],
   "source": [
    "## imdb advanced search to find all animated feature films nominated for an academy award\n",
    "## betwenn 2001 and 2021\n",
    "\n",
    "url_nominees = 'https://www.imdb.com/search/title/?title_type=feature&release_date=2001-01-01,2021-12-31&genres=animation&groups=oscar_nominee&runtime=40,&sort=year,asc&count=250&view=simple'"
   ]
  },
  {
   "cell_type": "code",
   "execution_count": 7,
   "id": "f7f45fee",
   "metadata": {},
   "outputs": [],
   "source": [
    "nominee_ids = clean_ids_from_urls(gather_id_urls(url_nominees))\n",
    "labels_1 = create_nominee_label(nominee_ids)"
   ]
  },
  {
   "cell_type": "code",
   "execution_count": 18,
   "id": "f44876ad",
   "metadata": {},
   "outputs": [
    {
     "data": {
      "text/plain": [
       "Best Animated Feature Film of the Year                                    42\n",
       "Best Animated Feature Film                                                22\n",
       "Best Animated Feature                                                     14\n",
       "Best Achievement in Music Written for Motion Pictures, Original Song       8\n",
       "Best Music, Original Song                                                  3\n",
       "Best Achievement in Music Written for Motion Pictures, Original Score      3\n",
       "Best Achievement in Music Written for Motion Pictures (Original Song)      3\n",
       "Best Achievement in Music Written for Motion Pictures (Original Score)     2\n",
       "Best Achievement in Visual Effects                                         1\n",
       "Name: nomination, dtype: int64"
      ]
     },
     "execution_count": 18,
     "metadata": {},
     "output_type": "execute_result"
    }
   ],
   "source": [
    "labels_1['nomination'].value_counts()"
   ]
  },
  {
   "cell_type": "code",
   "execution_count": 17,
   "id": "8ba486df",
   "metadata": {},
   "outputs": [
    {
     "data": {
      "text/plain": [
       "imdb ids                         0317705\n",
       "title                    The Incredibles\n",
       "nomination    Best Animated Feature Film\n",
       "label                                  1\n",
       "Name: 14, dtype: object"
      ]
     },
     "execution_count": 17,
     "metadata": {},
     "output_type": "execute_result"
    }
   ],
   "source": [
    "labels_1.iloc[14] "
   ]
  },
  {
   "cell_type": "code",
   "execution_count": 15,
   "id": "f8e85c9a",
   "metadata": {},
   "outputs": [
    {
     "data": {
      "text/html": [
       "<div>\n",
       "<style scoped>\n",
       "    .dataframe tbody tr th:only-of-type {\n",
       "        vertical-align: middle;\n",
       "    }\n",
       "\n",
       "    .dataframe tbody tr th {\n",
       "        vertical-align: top;\n",
       "    }\n",
       "\n",
       "    .dataframe thead th {\n",
       "        text-align: right;\n",
       "    }\n",
       "</style>\n",
       "<table border=\"1\" class=\"dataframe\">\n",
       "  <thead>\n",
       "    <tr style=\"text-align: right;\">\n",
       "      <th></th>\n",
       "      <th>imdb ids</th>\n",
       "      <th>title</th>\n",
       "      <th>nomination</th>\n",
       "      <th>label</th>\n",
       "    </tr>\n",
       "  </thead>\n",
       "  <tbody>\n",
       "    <tr>\n",
       "      <th>1</th>\n",
       "      <td>0198781</td>\n",
       "      <td>Monsters, Inc.</td>\n",
       "      <td>Best Music, Original Song</td>\n",
       "      <td>0</td>\n",
       "    </tr>\n",
       "    <tr>\n",
       "      <th>8</th>\n",
       "      <td>0282120</td>\n",
       "      <td>The Wild Thornberrys</td>\n",
       "      <td>Best Music, Original Song</td>\n",
       "      <td>0</td>\n",
       "    </tr>\n",
       "    <tr>\n",
       "      <th>10</th>\n",
       "      <td>0286244</td>\n",
       "      <td>The Triplets of Belleville</td>\n",
       "      <td>Best Music, Original Song</td>\n",
       "      <td>0</td>\n",
       "    </tr>\n",
       "  </tbody>\n",
       "</table>\n",
       "</div>"
      ],
      "text/plain": [
       "   imdb ids                       title                 nomination  label\n",
       "1   0198781              Monsters, Inc.  Best Music, Original Song      0\n",
       "8   0282120        The Wild Thornberrys  Best Music, Original Song      0\n",
       "10  0286244  The Triplets of Belleville  Best Music, Original Song      0"
      ]
     },
     "execution_count": 15,
     "metadata": {},
     "output_type": "execute_result"
    }
   ],
   "source": [
    "labels_1.loc[labels_1['nomination'] == 'Best Music, Original Song']"
   ]
  },
  {
   "cell_type": "code",
   "execution_count": 12,
   "id": "e164a124",
   "metadata": {},
   "outputs": [],
   "source": [
    "best_animated_film_ids = labels_1['imdb ids'].loc[labels_1['label']==1].copy()"
   ]
  },
  {
   "cell_type": "code",
   "execution_count": 92,
   "id": "4388d2b5",
   "metadata": {},
   "outputs": [],
   "source": [
    "with open('animated_films_ids.csv', 'r') as f:\n",
    "    all_animated_films = [line[0:-2] for line in f] #[0:-2] drops the ,\\n"
   ]
  },
  {
   "cell_type": "code",
   "execution_count": 83,
   "id": "efcddb3a",
   "metadata": {},
   "outputs": [],
   "source": [
    "y = [(film_id in best_animated_film_ids.values)*1  for film_id in all_animated_films]"
   ]
  },
  {
   "cell_type": "code",
   "execution_count": 96,
   "id": "e1ab460c",
   "metadata": {
    "scrolled": false
   },
   "outputs": [
    {
     "data": {
      "text/plain": [
       "True"
      ]
     },
     "execution_count": 96,
     "metadata": {},
     "output_type": "execute_result"
    }
   ],
   "source": [
    "sum(y) == len(best_animated_film_ids)  #Sanity check but we will need to spot check the total dataframe."
   ]
  },
  {
   "cell_type": "code",
   "execution_count": 25,
   "id": "3e447170",
   "metadata": {},
   "outputs": [
    {
     "ename": "NameError",
     "evalue": "name 'imdb_ids' is not defined",
     "output_type": "error",
     "traceback": [
      "\u001b[1;31m---------------------------------------------------------------------------\u001b[0m",
      "\u001b[1;31mNameError\u001b[0m                                 Traceback (most recent call last)",
      "Input \u001b[1;32mIn [25]\u001b[0m, in \u001b[0;36m<cell line: 1>\u001b[1;34m()\u001b[0m\n\u001b[1;32m----> 1\u001b[0m \u001b[43mimdb_ids\u001b[49m\n",
      "\u001b[1;31mNameError\u001b[0m: name 'imdb_ids' is not defined"
     ]
    }
   ],
   "source": [
    "imdb_ids"
   ]
  },
  {
   "cell_type": "code",
   "execution_count": null,
   "id": "75ac16c7",
   "metadata": {},
   "outputs": [],
   "source": []
  }
 ],
 "metadata": {
  "kernelspec": {
   "display_name": "Python 3 (ipykernel)",
   "language": "python",
   "name": "python3"
  },
  "language_info": {
   "codemirror_mode": {
    "name": "ipython",
    "version": 3
   },
   "file_extension": ".py",
   "mimetype": "text/x-python",
   "name": "python",
   "nbconvert_exporter": "python",
   "pygments_lexer": "ipython3",
   "version": "3.9.12"
  }
 },
 "nbformat": 4,
 "nbformat_minor": 5
}
