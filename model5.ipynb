{
 "cells": [
  {
   "cell_type": "markdown",
   "id": "adfbeee0",
   "metadata": {},
   "source": [
    "A written summary of this notebook can be found here:\n",
    "<a href=\"https://docs.google.com/document/d/1ixcw77YqVwDlHVwd8yMmWrxTdTnFWGL1kgmeqkeDoHg/edit?usp=sharing\">\n",
    "    Google Doc </a>\n"
   ]
  },
  {
   "cell_type": "markdown",
   "id": "f9cb6415",
   "metadata": {},
   "source": [
    "# Downloading the necessary packages and data"
   ]
  },
  {
   "cell_type": "code",
   "execution_count": 1,
   "id": "33f458a5",
   "metadata": {},
   "outputs": [],
   "source": [
    "import pandas as pd"
   ]
  },
  {
   "cell_type": "code",
   "execution_count": 2,
   "id": "f7652233",
   "metadata": {},
   "outputs": [],
   "source": [
    "import numpy as np"
   ]
  },
  {
   "cell_type": "code",
   "execution_count": 3,
   "id": "f4af12c2",
   "metadata": {},
   "outputs": [],
   "source": [
    "from sklearn.metrics import precision_score, recall_score\n",
    "from sklearn.linear_model import LogisticRegression\n",
    "from sklearn.tree import DecisionTreeClassifier\n",
    "from sklearn.decomposition import PCA\n",
    "from sklearn.preprocessing import StandardScaler\n",
    "from sklearn.svm import SVC\n",
    "from sklearn.neighbors import KNeighborsClassifier\n",
    "\n",
    "from sklearn.ensemble import VotingClassifier, RandomForestClassifier, AdaBoostClassifier"
   ]
  },
  {
   "cell_type": "code",
   "execution_count": 4,
   "id": "838fcb23",
   "metadata": {},
   "outputs": [],
   "source": [
    "import matplotlib.pyplot as plt\n",
    "import seaborn as sns"
   ]
  },
  {
   "cell_type": "code",
   "execution_count": 5,
   "id": "b5b9155c",
   "metadata": {},
   "outputs": [],
   "source": [
    "main_df=pd.read_pickle('Data/data_from_imdb_extra_2.pkl')"
   ]
  },
  {
   "cell_type": "code",
   "execution_count": 6,
   "id": "d62a7145",
   "metadata": {},
   "outputs": [
    {
     "data": {
      "text/plain": [
       "Index(['imdb_id', 'titles', 'year', 'original_air_date', 'countries',\n",
       "       'language', 'genres', 'certificates', 'rating', 'votes', 'color_info',\n",
       "       'runtimes', 'box_office', 'producers', 'directors',\n",
       "       'production_company', 'distributors', 'metascore', 'is_nominee',\n",
       "       'United States', 'Family', 'Adventure', 'Comedy', 'Fantasy', 'Other',\n",
       "       'G', 'PG', 'PG-13', 'R', 'Unrated', 'metascore_available', 'prev_dir',\n",
       "       'prev_prod', 'metascore_0', 'metascore_ave', 'month', 'prev_pc',\n",
       "       'runtime_ints'],\n",
       "      dtype='object')"
      ]
     },
     "execution_count": 6,
     "metadata": {},
     "output_type": "execute_result"
    }
   ],
   "source": [
    "main_df.columns"
   ]
  },
  {
   "cell_type": "markdown",
   "id": "caeb5550",
   "metadata": {},
   "source": [
    "# Splitting the test and training data"
   ]
  },
  {
   "cell_type": "code",
   "execution_count": 7,
   "id": "89e01e37",
   "metadata": {},
   "outputs": [],
   "source": [
    "#A helper function that drops all movies of a given year from a dataframe\n",
    "def drop_test(df,L):\n",
    "    '''input a dataframe of movies (df) and a list of years as int (L)\n",
    "    outputs a dataframe that does not include the movies released in the years in L'''\n",
    "    indices =[]\n",
    "    for i in range(len(df)):\n",
    "        if df.iloc[i]['year'] in L:\n",
    "            indices.append(i)\n",
    "    new_df=df.drop(indices)\n",
    "    return(new_df)"
   ]
  },
  {
   "cell_type": "markdown",
   "id": "60148deb",
   "metadata": {},
   "source": [
    "We decided to disregard 2020 and 2021 since we make the assumption that trends in film will return to their pre-pandemic norms.  This means that we reserve 2018 and 2019 as our testing years."
   ]
  },
  {
   "cell_type": "code",
   "execution_count": 8,
   "id": "caf0aaf3",
   "metadata": {},
   "outputs": [],
   "source": [
    "train_set=drop_test(main_df, [2018,2019,2020,2021])"
   ]
  },
  {
   "cell_type": "markdown",
   "id": "7877d15c",
   "metadata": {},
   "source": [
    "We write a function that performs a Time Series Split for our specific type of data.  Since we have a different number of movies released each year, the TimeSeriesSplit function included in scikitlearn would not have worked for our project."
   ]
  },
  {
   "cell_type": "code",
   "execution_count": 9,
   "id": "bdaf0d9d",
   "metadata": {},
   "outputs": [],
   "source": [
    "def timeseries_split2(df, k, n):\n",
    "    '''takes in a movie dataframe (df),  k (int)\n",
    "    and outputs a tuple that behaves like kfold.split when kfold =kfold = TimeSeriesSplit(n_splits = k,\n",
    "                           test_size = 1)\n",
    "    but only keeps n years in each train_set\n",
    "    that is, the output is a tuple of 2-tuples, where\n",
    "    the first element of each tuple is the indices of the train set (each train set contains n years of movies) and\n",
    "    the second element is the indices of the test set (one year of movies)\n",
    "    unlike TimeSeriesSplit it can only handle one dataframe at a time'''\n",
    "    if len(df['year'].value_counts()) <k+n:\n",
    "        raise ValueError(\"Not enough data for given k and n\")\n",
    "        \n",
    "    df=df.copy()\n",
    "    \n",
    "    answer=[]\n",
    "    i=0\n",
    "    while i <k:\n",
    "        last_year=df['year'].max()\n",
    "        \n",
    "        #get array of indices of last year in list\n",
    "        index_set=np.array(df[df['year']==last_year].index)\n",
    "        \n",
    "        #delete rows from dataframe\n",
    "        df=drop_test(df,[last_year])\n",
    "        \n",
    "        m=1\n",
    "        temp_train=[]\n",
    "        while m<n+1:\n",
    "            temp_train=list(df[df['year'] == last_year-m].index) + temp_train\n",
    "            m=m+1\n",
    "        \n",
    "        #add to train_sets\n",
    "        index_set2=np.array(temp_train)\n",
    "        \n",
    "        new_set=(index_set2, index_set)\n",
    "        answer=[new_set] + answer\n",
    "        \n",
    "        i=i+1\n",
    "    \n",
    "    return tuple(answer)"
   ]
  },
  {
   "cell_type": "markdown",
   "id": "043e8e1e",
   "metadata": {},
   "source": [
    "While performing cross validations, the train-test split was:\n",
    "\n",
    "Train 1: 2001-2012\\\n",
    "Test 1: 2013\n",
    "\n",
    "Train 2: 2002-2013\\\n",
    "Test 2: 2014\n",
    "\n",
    "Train 3: 2003-2014\\\n",
    "Test 3: 2015\n",
    "\n",
    "Train 4: 2004-2015\\\n",
    "Test 4: 2016\n",
    "\n",
    "Train 5: 2005-2016\\\n",
    "Test 5: 2017"
   ]
  },
  {
   "cell_type": "markdown",
   "id": "7b282ab8",
   "metadata": {},
   "source": [
    "# The Main Model"
   ]
  },
  {
   "cell_type": "markdown",
   "id": "35558074",
   "metadata": {},
   "source": [
    "We write a function that finds precisions and recalls for our model.\n",
    "\n",
    "The model is a voting model that incorporates a random forest, a K-neighbors classifier, a support vector classifier, and a logistic regression.  The options on the models and the weights in the voting model were determined by cross validations performed in previous notebooks."
   ]
  },
  {
   "cell_type": "code",
   "execution_count": 10,
   "id": "26390342",
   "metadata": {},
   "outputs": [],
   "source": [
    "def voting(df, columns):\n",
    "    '''takes in a list of features (columns) and applies the voting model to those features in the dataframe (df)\n",
    "    Creates an array of precisions (0) and recalls (1), which can then be processed\n",
    "    Uses a 5-fold validation split'''\n",
    "    n=1\n",
    "    precs=np.zeros((n,5))\n",
    "    recs = np.zeros((n,5))\n",
    "    for i in range(0,n):\n",
    "        x=0\n",
    "        for train_index, val_index in timeseries_split2(df,5,12):\n",
    "\n",
    "            # make voting model \n",
    "            voting = VotingClassifier([\n",
    "                ('forest',RandomForestClassifier(max_depth=10, n_estimators=80)),\n",
    "                ('knn', KNeighborsClassifier(n_neighbors=1, p=1)),\n",
    "                ('svc', SVC(C=2**(-1*9), kernel='poly', degree=10, max_iter=100000)),\n",
    "                ('log_reg', LogisticRegression(C=2**(-1*5), max_iter=1000))\n",
    "                                    ],\n",
    "                weights=[1,1,2,2])\n",
    "            voting.fit(\n",
    "                df.iloc[train_index][columns],\n",
    "                df.iloc[train_index]['is_nominee']\n",
    "                    )\n",
    "            pred=voting.predict(df.iloc[val_index][columns]\n",
    "                        )\n",
    "\n",
    "            # add metrics to the tables\n",
    "            precs[i,x]=precision_score(df.iloc[val_index]['is_nominee'], pred, zero_division=0)\n",
    "            recs[i,x]=recall_score(df.iloc[val_index]['is_nominee'], pred, zero_division=0)\n",
    "            x=x+1\n",
    "\n",
    "    return(precs, recs)"
   ]
  },
  {
   "cell_type": "markdown",
   "id": "dcd81b53",
   "metadata": {},
   "source": [
    "Next, we calculate the precisions and recalls for the 5 validation sets."
   ]
  },
  {
   "cell_type": "code",
   "execution_count": 11,
   "id": "6914394e",
   "metadata": {},
   "outputs": [],
   "source": [
    "viable_columns=['United States', 'Family', 'Adventure', 'Comedy', 'Fantasy', 'Other',\n",
    "       'G', 'PG', 'PG-13', 'R', 'Unrated', 'metascore_available', 'prev_dir',\n",
    "       'prev_prod', 'metascore_0', 'metascore_ave', 'month', 'prev_pc']"
   ]
  },
  {
   "cell_type": "code",
   "execution_count": 12,
   "id": "6ed6ead6",
   "metadata": {},
   "outputs": [],
   "source": [
    "metrics_voting=voting(train_set, viable_columns)"
   ]
  },
  {
   "cell_type": "code",
   "execution_count": 13,
   "id": "2a0ea842",
   "metadata": {},
   "outputs": [
    {
     "data": {
      "text/plain": [
       "(array([[1.        , 0.75      , 0.75      , 0.83333333, 1.        ]]),\n",
       " array([[0.5, 0.6, 1. , 1. , 0.4]]))"
      ]
     },
     "execution_count": 13,
     "metadata": {},
     "output_type": "execute_result"
    }
   ],
   "source": [
    "metrics_voting"
   ]
  },
  {
   "cell_type": "markdown",
   "id": "cdde9bfc",
   "metadata": {},
   "source": [
    "The average precision and recall over the validation sets are given below."
   ]
  },
  {
   "cell_type": "code",
   "execution_count": 14,
   "id": "b921bf38",
   "metadata": {},
   "outputs": [
    {
     "name": "stdout",
     "output_type": "stream",
     "text": [
      "Precision:\n",
      "0.8666666666666668\n",
      "Recall:\n",
      "0.7\n"
     ]
    }
   ],
   "source": [
    "print('Precision:')\n",
    "print(np.mean(metrics_voting[0]))\n",
    "print('Recall:')\n",
    "print(np.mean(metrics_voting[1]))"
   ]
  },
  {
   "cell_type": "markdown",
   "id": "5812b391",
   "metadata": {},
   "source": [
    "Let's finally check our work on the test set that we set aside."
   ]
  },
  {
   "cell_type": "code",
   "execution_count": 15,
   "id": "f5e808c0",
   "metadata": {},
   "outputs": [
    {
     "data": {
      "text/plain": [
       "(array([[1.        , 1.        , 1.        , 0.66666667, 0.75      ]]),\n",
       " array([[0.4       , 0.8       , 0.16666667, 0.5       , 0.6       ]]))"
      ]
     },
     "execution_count": 15,
     "metadata": {},
     "output_type": "execute_result"
    }
   ],
   "source": [
    "metrics_final=voting(main_df, viable_columns)\n",
    "metrics_final"
   ]
  },
  {
   "cell_type": "markdown",
   "id": "cabd14f4",
   "metadata": {},
   "source": [
    "The above 5 columns correspond to 2017 (a validation set), 2018, 2019 (the test sets), 2020, and 2021 (years affected by the pandemic).\n",
    "\n",
    "Let's see this on a graph."
   ]
  },
  {
   "cell_type": "code",
   "execution_count": 83,
   "id": "536f8990",
   "metadata": {},
   "outputs": [],
   "source": [
    "sns.set_style('whitegrid')"
   ]
  },
  {
   "cell_type": "code",
   "execution_count": 84,
   "id": "5a36dee6",
   "metadata": {},
   "outputs": [
    {
     "data": {
      "image/png": "[encoded data removed]",
      "text/plain": [
       "<Figure size 576x432 with 1 Axes>"
      ]
     },
     "metadata": {},
     "output_type": "display_data"
    }
   ],
   "source": [
    "plt.figure(figsize=(8,6))\n",
    "\n",
    "val_years=[str(i) for i in range(2013,2018)]\n",
    "test_years=[str(i) for i in range(2017,2022)]\n",
    "\n",
    "plt.plot(val_years, metrics_voting[0].reshape(-1,1), label='Precision', color='blue')\n",
    "plt.plot(val_years, metrics_voting[1].reshape(-1,1), label='Recall', color='r')\n",
    "\n",
    "plt.plot(test_years, metrics_final[0].reshape(-1,1), '--', color='blue')\n",
    "plt.plot(test_years, metrics_final[1].reshape(-1,1), '--', color='r')\n",
    "\n",
    "plt.plot(['2013','2021'], [0.02, 0.02], label='Baseline', color='k')\n",
    "\n",
    "plt.title('Metrics of Model', fontsize=20)\n",
    "plt.legend(fontsize=12, loc=0)\n",
    "\n",
    "plt.xlabel('Year', fontsize=16)\n",
    "plt.ylabel('Metrics', fontsize=16)\n",
    "\n",
    "\n",
    "\n",
    "plt.ylim(-0.1,1.1)\n",
    "plt.show()"
   ]
  },
  {
   "cell_type": "code",
   "execution_count": 94,
   "id": "d49f6285",
   "metadata": {},
   "outputs": [
    {
     "data": {
      "text/plain": [
       "array([1.        , 1.        , 1.        , 0.66666667, 0.75      ])"
      ]
     },
     "execution_count": 94,
     "metadata": {},
     "output_type": "execute_result"
    }
   ],
   "source": [
    "metrics_final[0][0]"
   ]
  },
  {
   "cell_type": "code",
   "execution_count": 97,
   "id": "af749d0f",
   "metadata": {},
   "outputs": [
    {
     "data": {
      "image/png": "[encoded data removed]",
      "text/plain": [
       "<Figure size 576x432 with 1 Axes>"
      ]
     },
     "metadata": {},
     "output_type": "display_data"
    }
   ],
   "source": [
    "plt.figure(figsize=(8,6))\n",
    "\n",
    "val_years=[str(i) for i in range(2013,2018)]\n",
    "test_years=[str(i) for i in range(2017,2022)]\n",
    "\n",
    "plt.plot(val_years, metrics_voting[0].reshape(-1,1), label='Precision', color='blue')\n",
    "plt.plot(val_years, metrics_voting[1].reshape(-1,1), label='Recall', color='r')\n",
    "\n",
    "plt.plot(test_years[0:3], metrics_final[0][0][0:3].reshape(-1,1), '--', color='blue')\n",
    "plt.plot(test_years[0:3], metrics_final[1][0][0:3].reshape(-1,1), '--', color='r')\n",
    "\n",
    "plt.plot(val_years+test_years, (len(test_years)+len(val_years))*[0.02], label='Baseline', color='k')\n",
    "\n",
    "plt.title('Metrics of Model', fontsize=20)\n",
    "plt.legend(fontsize=12, loc=0)\n",
    "\n",
    "plt.xlabel('Year', fontsize=16)\n",
    "plt.ylabel('Metrics', fontsize=16)\n",
    "\n",
    "\n",
    "\n",
    "plt.ylim(-0.1,1.1)\n",
    "plt.show()"
   ]
  },
  {
   "cell_type": "markdown",
   "id": "7031b801",
   "metadata": {},
   "source": [
    "There's quite a bit of variance, but we stay safely above the baseline (what you would expect if you randomly guess nominees)"
   ]
  },
  {
   "cell_type": "markdown",
   "id": "56470900",
   "metadata": {},
   "source": [
    "# Exploring the features"
   ]
  },
  {
   "cell_type": "markdown",
   "id": "383928c7",
   "metadata": {},
   "source": [
    "Which features are the most important when determining the model?  When we exclude one feature at a time, we obtain the following:"
   ]
  },
  {
   "cell_type": "code",
   "execution_count": 53,
   "id": "da797a68",
   "metadata": {},
   "outputs": [
    {
     "name": "stderr",
     "output_type": "stream",
     "text": [
      "C:\\Users\\sheri\\anaconda3\\lib\\site-packages\\sklearn\\svm\\_base.py:255: ConvergenceWarning: Solver terminated early (max_iter=100000).  Consider pre-processing your data with StandardScaler or MinMaxScaler.\n",
      "  warnings.warn('Solver terminated early (max_iter=%i).'\n",
      "C:\\Users\\sheri\\anaconda3\\lib\\site-packages\\sklearn\\svm\\_base.py:255: ConvergenceWarning: Solver terminated early (max_iter=100000).  Consider pre-processing your data with StandardScaler or MinMaxScaler.\n",
      "  warnings.warn('Solver terminated early (max_iter=%i).'\n",
      "C:\\Users\\sheri\\anaconda3\\lib\\site-packages\\sklearn\\svm\\_base.py:255: ConvergenceWarning: Solver terminated early (max_iter=100000).  Consider pre-processing your data with StandardScaler or MinMaxScaler.\n",
      "  warnings.warn('Solver terminated early (max_iter=%i).'\n",
      "C:\\Users\\sheri\\anaconda3\\lib\\site-packages\\sklearn\\svm\\_base.py:255: ConvergenceWarning: Solver terminated early (max_iter=100000).  Consider pre-processing your data with StandardScaler or MinMaxScaler.\n",
      "  warnings.warn('Solver terminated early (max_iter=%i).'\n",
      "C:\\Users\\sheri\\anaconda3\\lib\\site-packages\\sklearn\\svm\\_base.py:255: ConvergenceWarning: Solver terminated early (max_iter=100000).  Consider pre-processing your data with StandardScaler or MinMaxScaler.\n",
      "  warnings.warn('Solver terminated early (max_iter=%i).'\n"
     ]
    }
   ],
   "source": [
    "all_precs=[]\n",
    "all_recs=[]\n",
    "for feature in viable_columns:\n",
    "    #print(feature)\n",
    "    new_cols=viable_columns.copy()\n",
    "    new_cols.remove(feature)\n",
    "    metrics=voting(train_set, new_cols)\n",
    "    all_precs.append(metrics[0])\n",
    "    all_recs.append(metrics[1])"
   ]
  },
  {
   "cell_type": "code",
   "execution_count": 56,
   "id": "4ed387d3",
   "metadata": {},
   "outputs": [
    {
     "name": "stdout",
     "output_type": "stream",
     "text": [
      "United States\n",
      "0.7761904761904762\n",
      "Family\n",
      "0.86\n",
      "Adventure\n",
      "0.8666666666666668\n",
      "Comedy\n",
      "0.8666666666666668\n",
      "Fantasy\n",
      "0.8666666666666668\n",
      "Other\n",
      "0.85\n",
      "G\n",
      "0.8261904761904763\n",
      "PG\n",
      "0.825\n",
      "PG-13\n",
      "0.8666666666666668\n",
      "R\n",
      "0.8666666666666668\n",
      "Unrated\n",
      "0.8428571428571429\n",
      "metascore_available\n",
      "0.85\n",
      "prev_dir\n",
      "0.8666666666666668\n",
      "prev_prod\n",
      "0.8666666666666668\n",
      "metascore_0\n",
      "0.825\n",
      "metascore_ave\n",
      "0.7295238095238095\n",
      "month\n",
      "0.8666666666666668\n",
      "prev_pc\n",
      "0.8666666666666668\n"
     ]
    }
   ],
   "source": [
    "for i in range(len(all_precs)):\n",
    "    print(viable_columns[i])\n",
    "    print(np.mean(all_precs[i]))"
   ]
  },
  {
   "cell_type": "code",
   "execution_count": 57,
   "id": "c46a3981",
   "metadata": {},
   "outputs": [
    {
     "name": "stdout",
     "output_type": "stream",
     "text": [
      "United States\n",
      "0.7\n",
      "Family\n",
      "0.6933333333333332\n",
      "Adventure\n",
      "0.7\n",
      "Comedy\n",
      "0.7\n",
      "Fantasy\n",
      "0.7\n",
      "Other\n",
      "0.6333333333333333\n",
      "G\n",
      "0.6\n",
      "PG\n",
      "0.6666666666666667\n",
      "PG-13\n",
      "0.7\n",
      "R\n",
      "0.7\n",
      "Unrated\n",
      "0.7\n",
      "metascore_available\n",
      "0.6333333333333333\n",
      "prev_dir\n",
      "0.7\n",
      "prev_prod\n",
      "0.7\n",
      "metascore_0\n",
      "0.5933333333333334\n",
      "metascore_ave\n",
      "0.6\n",
      "month\n",
      "0.7333333333333333\n",
      "prev_pc\n",
      "0.7\n"
     ]
    }
   ],
   "source": [
    "for i in range(len(all_recs)):\n",
    "    print(viable_columns[i])\n",
    "    print(np.mean(all_recs[i]))"
   ]
  },
  {
   "cell_type": "markdown",
   "id": "291de3b8",
   "metadata": {},
   "source": [
    "So the most important indicators are metascore, followed by rating, but really it seems that all the features are working together about evenly.\n",
    "\n",
    "Now let's explore if we exclude one category at a time, instead of just one feature."
   ]
  },
  {
   "cell_type": "code",
   "execution_count": 58,
   "id": "e9175e25",
   "metadata": {},
   "outputs": [
    {
     "data": {
      "text/plain": [
       "['United States',\n",
       " 'Family',\n",
       " 'Adventure',\n",
       " 'Comedy',\n",
       " 'Fantasy',\n",
       " 'Other',\n",
       " 'G',\n",
       " 'PG',\n",
       " 'PG-13',\n",
       " 'R',\n",
       " 'Unrated',\n",
       " 'metascore_available',\n",
       " 'prev_dir',\n",
       " 'prev_prod',\n",
       " 'metascore_0',\n",
       " 'metascore_ave',\n",
       " 'month',\n",
       " 'prev_pc']"
      ]
     },
     "execution_count": 58,
     "metadata": {},
     "output_type": "execute_result"
    }
   ],
   "source": [
    "viable_columns"
   ]
  },
  {
   "cell_type": "code",
   "execution_count": 60,
   "id": "1487ca18",
   "metadata": {},
   "outputs": [],
   "source": [
    "features_by_type=[\n",
    "['Family','Adventure','Comedy','Fantasy','Other','G','PG','PG-13','R',\n",
    " 'Unrated','metascore_available','prev_dir','prev_prod','metascore_0','metascore_ave','month','prev_pc'],\n",
    "['United States','G','PG','PG-13','R','Unrated',\n",
    " 'metascore_available','prev_dir','prev_prod','metascore_0','metascore_ave','month','prev_pc'],\n",
    "['United States','Family','Adventure','Comedy','Fantasy','Other',\n",
    " 'metascore_available','prev_dir','prev_prod','metascore_0','metascore_ave','month','prev_pc'],\n",
    "['United States','Family','Adventure','Comedy','Fantasy','Other','G','PG','PG-13','R','Unrated',\n",
    " 'prev_dir','prev_prod','month','prev_pc'],\n",
    "['United States','Family','Adventure','Comedy','Fantasy','Other','G','PG','PG-13','R','Unrated',\n",
    " 'metascore_available','metascore_0','metascore_ave','month'],\n",
    "['United States','Family','Adventure','Comedy','Fantasy','Other','G','PG','PG-13','R','Unrated',\n",
    " 'metascore_available','prev_dir','prev_prod','metascore_0','metascore_ave','prev_pc']\n",
    "]\n",
    "\n",
    "feature_type_names=['US', 'genre', 'certificates', 'metascore', 'previous success', 'month']"
   ]
  },
  {
   "cell_type": "code",
   "execution_count": 61,
   "id": "b2f6fe98",
   "metadata": {},
   "outputs": [
    {
     "name": "stderr",
     "output_type": "stream",
     "text": [
      "C:\\Users\\sheri\\anaconda3\\lib\\site-packages\\sklearn\\svm\\_base.py:255: ConvergenceWarning: Solver terminated early (max_iter=100000).  Consider pre-processing your data with StandardScaler or MinMaxScaler.\n",
      "  warnings.warn('Solver terminated early (max_iter=%i).'\n"
     ]
    }
   ],
   "source": [
    "all_precs=[]\n",
    "all_recs=[]\n",
    "for L in features_by_type:    \n",
    "    metrics=voting(train_set, L)\n",
    "    all_precs.append(metrics[0])\n",
    "    all_recs.append(metrics[1])"
   ]
  },
  {
   "cell_type": "code",
   "execution_count": 62,
   "id": "75a56c70",
   "metadata": {},
   "outputs": [
    {
     "name": "stdout",
     "output_type": "stream",
     "text": [
      "US\n",
      "0.7761904761904762\n",
      "genre\n",
      "0.86\n",
      "certificates\n",
      "0.825\n",
      "metascore\n",
      "0.6\n",
      "previous success\n",
      "0.8333333333333333\n",
      "month\n",
      "0.85\n"
     ]
    }
   ],
   "source": [
    "for i in range(len(features_by_type)):\n",
    "    print(feature_type_names[i])\n",
    "    print(np.mean(all_precs[i]))"
   ]
  },
  {
   "cell_type": "code",
   "execution_count": 63,
   "id": "8c9ee173",
   "metadata": {},
   "outputs": [
    {
     "name": "stdout",
     "output_type": "stream",
     "text": [
      "US\n",
      "0.7\n",
      "genre\n",
      "0.66\n",
      "certificates\n",
      "0.6666666666666667\n",
      "metascore\n",
      "0.16\n",
      "previous success\n",
      "0.4866666666666667\n",
      "month\n",
      "0.6666666666666666\n"
     ]
    }
   ],
   "source": [
    "for i in range(len(features_by_type)):\n",
    "    print(feature_type_names[i])\n",
    "    print(np.mean(all_recs[i]))"
   ]
  },
  {
   "cell_type": "markdown",
   "id": "08cec8dd",
   "metadata": {},
   "source": [
    "# Exploring the model"
   ]
  },
  {
   "cell_type": "code",
   "execution_count": 20,
   "id": "e299ccf4",
   "metadata": {},
   "outputs": [
    {
     "data": {
      "text/plain": [
       "VotingClassifier(estimators=[('forest',\n",
       "                              RandomForestClassifier(max_depth=10,\n",
       "                                                     n_estimators=80)),\n",
       "                             ('knn', KNeighborsClassifier(n_neighbors=1, p=1)),\n",
       "                             ('svc',\n",
       "                              SVC(C=0.001953125, degree=10, kernel='poly',\n",
       "                                  max_iter=100000)),\n",
       "                             ('log_reg',\n",
       "                              LogisticRegression(C=0.03125, max_iter=1000))],\n",
       "                 weights=[1, 1, 2, 2])"
      ]
     },
     "execution_count": 20,
     "metadata": {},
     "output_type": "execute_result"
    }
   ],
   "source": [
    "voting = VotingClassifier([\n",
    "                ('forest',RandomForestClassifier(max_depth=10, n_estimators=80)),\n",
    "                ('knn', KNeighborsClassifier(n_neighbors=1, p=1)),\n",
    "                ('svc', SVC(C=2**(-1*9), kernel='poly', degree=10, max_iter=100000)),\n",
    "                ('log_reg', LogisticRegression(C=2**(-1*5), max_iter=1000))\n",
    "                                    ],\n",
    "                weights=[1,1,2,2])\n",
    "voting.fit(\n",
    "                train_set[viable_columns],\n",
    "                train_set['is_nominee']\n",
    "                    )"
   ]
  },
  {
   "cell_type": "code",
   "execution_count": 42,
   "id": "ae13b16b",
   "metadata": {},
   "outputs": [],
   "source": [
    "pred_2018=voting.predict(main_df[main_df[\"year\"]==2018][viable_columns])"
   ]
  },
  {
   "cell_type": "code",
   "execution_count": 43,
   "id": "7f1ca5cd",
   "metadata": {},
   "outputs": [],
   "source": [
    "pred_2019=voting.predict(main_df[main_df[\"year\"]==2019][viable_columns])"
   ]
  },
  {
   "cell_type": "code",
   "execution_count": 67,
   "id": "8f5035d3",
   "metadata": {},
   "outputs": [],
   "source": [
    "pred_2020=voting.predict(main_df[main_df[\"year\"]==2020][viable_columns])\n",
    "pred_2021=voting.predict(main_df[main_df[\"year\"]==2021][viable_columns])"
   ]
  },
  {
   "cell_type": "code",
   "execution_count": 58,
   "id": "d913d141",
   "metadata": {},
   "outputs": [],
   "source": [
    "def find_nominees(df, preds):\n",
    "    '''Outputs the dataframe of nominees'''\n",
    "    answer_df=pd.DataFrame({})\n",
    "    for i in range(len(df)):\n",
    "        if preds[i]==1:\n",
    "            answer_df=answer_df.append(df.iloc[i])\n",
    "    return answer_df\n",
    "            \n",
    "            "
   ]
  },
  {
   "cell_type": "code",
   "execution_count": 59,
   "id": "4e6d33a0",
   "metadata": {},
   "outputs": [
    {
     "name": "stderr",
     "output_type": "stream",
     "text": [
      "C:\\Users\\sheri\\AppData\\Local\\Temp/ipykernel_8068/366469178.py:6: FutureWarning: The frame.append method is deprecated and will be removed from pandas in a future version. Use pandas.concat instead.\n",
      "  answer_df=answer_df.append(df.iloc[i])\n",
      "C:\\Users\\sheri\\AppData\\Local\\Temp/ipykernel_8068/366469178.py:6: FutureWarning: The frame.append method is deprecated and will be removed from pandas in a future version. Use pandas.concat instead.\n",
      "  answer_df=answer_df.append(df.iloc[i])\n",
      "C:\\Users\\sheri\\AppData\\Local\\Temp/ipykernel_8068/366469178.py:6: FutureWarning: The frame.append method is deprecated and will be removed from pandas in a future version. Use pandas.concat instead.\n",
      "  answer_df=answer_df.append(df.iloc[i])\n",
      "C:\\Users\\sheri\\AppData\\Local\\Temp/ipykernel_8068/366469178.py:6: FutureWarning: The frame.append method is deprecated and will be removed from pandas in a future version. Use pandas.concat instead.\n",
      "  answer_df=answer_df.append(df.iloc[i])\n"
     ]
    }
   ],
   "source": [
    "pred_df_2018=find_nominees(main_df[main_df[\"year\"]==2018], pred_2018)"
   ]
  },
  {
   "cell_type": "code",
   "execution_count": 63,
   "id": "b6a95167",
   "metadata": {},
   "outputs": [
    {
     "data": {
      "text/html": [
       "<div>\n",
       "<style scoped>\n",
       "    .dataframe tbody tr th:only-of-type {\n",
       "        vertical-align: middle;\n",
       "    }\n",
       "\n",
       "    .dataframe tbody tr th {\n",
       "        vertical-align: top;\n",
       "    }\n",
       "\n",
       "    .dataframe thead th {\n",
       "        text-align: right;\n",
       "    }\n",
       "</style>\n",
       "<table border=\"1\" class=\"dataframe\">\n",
       "  <thead>\n",
       "    <tr style=\"text-align: right;\">\n",
       "      <th></th>\n",
       "      <th>titles</th>\n",
       "      <th>is_nominee</th>\n",
       "    </tr>\n",
       "  </thead>\n",
       "  <tbody>\n",
       "    <tr>\n",
       "      <th>2687</th>\n",
       "      <td>Isle of Dogs</td>\n",
       "      <td>1</td>\n",
       "    </tr>\n",
       "    <tr>\n",
       "      <th>2745</th>\n",
       "      <td>Mirai</td>\n",
       "      <td>1</td>\n",
       "    </tr>\n",
       "    <tr>\n",
       "      <th>2755</th>\n",
       "      <td>Incredibles 2</td>\n",
       "      <td>1</td>\n",
       "    </tr>\n",
       "    <tr>\n",
       "      <th>2901</th>\n",
       "      <td>Spider-Man: Into the Spider-Verse</td>\n",
       "      <td>1</td>\n",
       "    </tr>\n",
       "  </tbody>\n",
       "</table>\n",
       "</div>"
      ],
      "text/plain": [
       "                                 titles  is_nominee\n",
       "2687                       Isle of Dogs           1\n",
       "2745                              Mirai           1\n",
       "2755                      Incredibles 2           1\n",
       "2901  Spider-Man: Into the Spider-Verse           1"
      ]
     },
     "execution_count": 63,
     "metadata": {},
     "output_type": "execute_result"
    }
   ],
   "source": [
    "pred_df_2018[['titles','is_nominee']]"
   ]
  },
  {
   "cell_type": "code",
   "execution_count": 65,
   "id": "ad321431",
   "metadata": {},
   "outputs": [
    {
     "name": "stderr",
     "output_type": "stream",
     "text": [
      "C:\\Users\\sheri\\AppData\\Local\\Temp/ipykernel_8068/366469178.py:6: FutureWarning: The frame.append method is deprecated and will be removed from pandas in a future version. Use pandas.concat instead.\n",
      "  answer_df=answer_df.append(df.iloc[i])\n"
     ]
    },
    {
     "data": {
      "text/html": [
       "<div>\n",
       "<style scoped>\n",
       "    .dataframe tbody tr th:only-of-type {\n",
       "        vertical-align: middle;\n",
       "    }\n",
       "\n",
       "    .dataframe tbody tr th {\n",
       "        vertical-align: top;\n",
       "    }\n",
       "\n",
       "    .dataframe thead th {\n",
       "        text-align: right;\n",
       "    }\n",
       "</style>\n",
       "<table border=\"1\" class=\"dataframe\">\n",
       "  <thead>\n",
       "    <tr style=\"text-align: right;\">\n",
       "      <th></th>\n",
       "      <th>titles</th>\n",
       "      <th>is_nominee</th>\n",
       "    </tr>\n",
       "  </thead>\n",
       "  <tbody>\n",
       "    <tr>\n",
       "      <th>3088</th>\n",
       "      <td>Toy Story 4</td>\n",
       "      <td>1</td>\n",
       "    </tr>\n",
       "  </tbody>\n",
       "</table>\n",
       "</div>"
      ],
      "text/plain": [
       "           titles  is_nominee\n",
       "3088  Toy Story 4           1"
      ]
     },
     "execution_count": 65,
     "metadata": {},
     "output_type": "execute_result"
    }
   ],
   "source": [
    "pred_df_2019=find_nominees(main_df[main_df[\"year\"]==2019], pred_2019)\n",
    "pred_df_2019[['titles','is_nominee']]"
   ]
  },
  {
   "cell_type": "code",
   "execution_count": 68,
   "id": "cf8a98f1",
   "metadata": {},
   "outputs": [
    {
     "name": "stderr",
     "output_type": "stream",
     "text": [
      "C:\\Users\\sheri\\AppData\\Local\\Temp/ipykernel_8068/366469178.py:6: FutureWarning: The frame.append method is deprecated and will be removed from pandas in a future version. Use pandas.concat instead.\n",
      "  answer_df=answer_df.append(df.iloc[i])\n",
      "C:\\Users\\sheri\\AppData\\Local\\Temp/ipykernel_8068/366469178.py:6: FutureWarning: The frame.append method is deprecated and will be removed from pandas in a future version. Use pandas.concat instead.\n",
      "  answer_df=answer_df.append(df.iloc[i])\n",
      "C:\\Users\\sheri\\AppData\\Local\\Temp/ipykernel_8068/366469178.py:6: FutureWarning: The frame.append method is deprecated and will be removed from pandas in a future version. Use pandas.concat instead.\n",
      "  answer_df=answer_df.append(df.iloc[i])\n"
     ]
    },
    {
     "data": {
      "text/html": [
       "<div>\n",
       "<style scoped>\n",
       "    .dataframe tbody tr th:only-of-type {\n",
       "        vertical-align: middle;\n",
       "    }\n",
       "\n",
       "    .dataframe tbody tr th {\n",
       "        vertical-align: top;\n",
       "    }\n",
       "\n",
       "    .dataframe thead th {\n",
       "        text-align: right;\n",
       "    }\n",
       "</style>\n",
       "<table border=\"1\" class=\"dataframe\">\n",
       "  <thead>\n",
       "    <tr style=\"text-align: right;\">\n",
       "      <th></th>\n",
       "      <th>titles</th>\n",
       "      <th>is_nominee</th>\n",
       "    </tr>\n",
       "  </thead>\n",
       "  <tbody>\n",
       "    <tr>\n",
       "      <th>3465</th>\n",
       "      <td>Phineas and Ferb the Movie: Candace Against th...</td>\n",
       "      <td>0</td>\n",
       "    </tr>\n",
       "    <tr>\n",
       "      <th>3478</th>\n",
       "      <td>Wolfwalkers</td>\n",
       "      <td>1</td>\n",
       "    </tr>\n",
       "    <tr>\n",
       "      <th>3509</th>\n",
       "      <td>Soul</td>\n",
       "      <td>1</td>\n",
       "    </tr>\n",
       "  </tbody>\n",
       "</table>\n",
       "</div>"
      ],
      "text/plain": [
       "                                                 titles  is_nominee\n",
       "3465  Phineas and Ferb the Movie: Candace Against th...           0\n",
       "3478                                        Wolfwalkers           1\n",
       "3509                                               Soul           1"
      ]
     },
     "execution_count": 68,
     "metadata": {},
     "output_type": "execute_result"
    }
   ],
   "source": [
    "pred_df_2020=find_nominees(main_df[main_df[\"year\"]==2020], pred_2020)\n",
    "pred_df_2020[['titles', 'is_nominee']]"
   ]
  },
  {
   "cell_type": "code",
   "execution_count": 69,
   "id": "aee11cc2",
   "metadata": {},
   "outputs": [
    {
     "name": "stderr",
     "output_type": "stream",
     "text": [
      "C:\\Users\\sheri\\AppData\\Local\\Temp/ipykernel_8068/366469178.py:6: FutureWarning: The frame.append method is deprecated and will be removed from pandas in a future version. Use pandas.concat instead.\n",
      "  answer_df=answer_df.append(df.iloc[i])\n",
      "C:\\Users\\sheri\\AppData\\Local\\Temp/ipykernel_8068/366469178.py:6: FutureWarning: The frame.append method is deprecated and will be removed from pandas in a future version. Use pandas.concat instead.\n",
      "  answer_df=answer_df.append(df.iloc[i])\n",
      "C:\\Users\\sheri\\AppData\\Local\\Temp/ipykernel_8068/366469178.py:6: FutureWarning: The frame.append method is deprecated and will be removed from pandas in a future version. Use pandas.concat instead.\n",
      "  answer_df=answer_df.append(df.iloc[i])\n",
      "C:\\Users\\sheri\\AppData\\Local\\Temp/ipykernel_8068/366469178.py:6: FutureWarning: The frame.append method is deprecated and will be removed from pandas in a future version. Use pandas.concat instead.\n",
      "  answer_df=answer_df.append(df.iloc[i])\n",
      "C:\\Users\\sheri\\AppData\\Local\\Temp/ipykernel_8068/366469178.py:6: FutureWarning: The frame.append method is deprecated and will be removed from pandas in a future version. Use pandas.concat instead.\n",
      "  answer_df=answer_df.append(df.iloc[i])\n"
     ]
    },
    {
     "data": {
      "text/html": [
       "<div>\n",
       "<style scoped>\n",
       "    .dataframe tbody tr th:only-of-type {\n",
       "        vertical-align: middle;\n",
       "    }\n",
       "\n",
       "    .dataframe tbody tr th {\n",
       "        vertical-align: top;\n",
       "    }\n",
       "\n",
       "    .dataframe thead th {\n",
       "        text-align: right;\n",
       "    }\n",
       "</style>\n",
       "<table border=\"1\" class=\"dataframe\">\n",
       "  <thead>\n",
       "    <tr style=\"text-align: right;\">\n",
       "      <th></th>\n",
       "      <th>titles</th>\n",
       "      <th>is_nominee</th>\n",
       "    </tr>\n",
       "  </thead>\n",
       "  <tbody>\n",
       "    <tr>\n",
       "      <th>3632</th>\n",
       "      <td>Raya and the Last Dragon</td>\n",
       "      <td>1</td>\n",
       "    </tr>\n",
       "    <tr>\n",
       "      <th>3656</th>\n",
       "      <td>The Mitchells vs the Machines</td>\n",
       "      <td>1</td>\n",
       "    </tr>\n",
       "    <tr>\n",
       "      <th>3725</th>\n",
       "      <td>Belle</td>\n",
       "      <td>0</td>\n",
       "    </tr>\n",
       "    <tr>\n",
       "      <th>3829</th>\n",
       "      <td>Encanto</td>\n",
       "      <td>1</td>\n",
       "    </tr>\n",
       "    <tr>\n",
       "      <th>3900</th>\n",
       "      <td>Flee</td>\n",
       "      <td>1</td>\n",
       "    </tr>\n",
       "  </tbody>\n",
       "</table>\n",
       "</div>"
      ],
      "text/plain": [
       "                             titles  is_nominee\n",
       "3632       Raya and the Last Dragon           1\n",
       "3656  The Mitchells vs the Machines           1\n",
       "3725                          Belle           0\n",
       "3829                        Encanto           1\n",
       "3900                           Flee           1"
      ]
     },
     "execution_count": 69,
     "metadata": {},
     "output_type": "execute_result"
    }
   ],
   "source": [
    "pred_df_2021=find_nominees(main_df[main_df[\"year\"]==2021], pred_2021)\n",
    "pred_df_2021[['titles', 'is_nominee']]"
   ]
  },
  {
   "cell_type": "code",
   "execution_count": 98,
   "id": "36e24d5b",
   "metadata": {},
   "outputs": [
    {
     "ename": "AttributeError",
     "evalue": "predict_proba is not available when voting='hard'",
     "output_type": "error",
     "traceback": [
      "\u001b[1;31m---------------------------------------------------------------------------\u001b[0m",
      "\u001b[1;31mAttributeError\u001b[0m                            Traceback (most recent call last)",
      "\u001b[1;32m~\\AppData\\Local\\Temp/ipykernel_8068/2566447843.py\u001b[0m in \u001b[0;36m<module>\u001b[1;34m\u001b[0m\n\u001b[1;32m----> 1\u001b[1;33m \u001b[0mpred_2019_proba\u001b[0m\u001b[1;33m=\u001b[0m\u001b[0mvoting\u001b[0m\u001b[1;33m.\u001b[0m\u001b[0mpredict_proba\u001b[0m\u001b[1;33m(\u001b[0m\u001b[0mmain_df\u001b[0m\u001b[1;33m[\u001b[0m\u001b[0mmain_df\u001b[0m\u001b[1;33m[\u001b[0m\u001b[1;34m\"year\"\u001b[0m\u001b[1;33m]\u001b[0m\u001b[1;33m==\u001b[0m\u001b[1;36m2019\u001b[0m\u001b[1;33m]\u001b[0m\u001b[1;33m[\u001b[0m\u001b[0mviable_columns\u001b[0m\u001b[1;33m]\u001b[0m\u001b[1;33m)\u001b[0m\u001b[1;33m\u001b[0m\u001b[1;33m\u001b[0m\u001b[0m\n\u001b[0m",
      "\u001b[1;32m~\\anaconda3\\lib\\site-packages\\sklearn\\ensemble\\_voting.py\u001b[0m in \u001b[0;36mpredict_proba\u001b[1;34m(self)\u001b[0m\n\u001b[0;32m    346\u001b[0m         \"\"\"\n\u001b[0;32m    347\u001b[0m         \u001b[1;32mif\u001b[0m \u001b[0mself\u001b[0m\u001b[1;33m.\u001b[0m\u001b[0mvoting\u001b[0m \u001b[1;33m==\u001b[0m \u001b[1;34m'hard'\u001b[0m\u001b[1;33m:\u001b[0m\u001b[1;33m\u001b[0m\u001b[1;33m\u001b[0m\u001b[0m\n\u001b[1;32m--> 348\u001b[1;33m             raise AttributeError(\"predict_proba is not available when\"\n\u001b[0m\u001b[0;32m    349\u001b[0m                                  \" voting=%r\" % self.voting)\n\u001b[0;32m    350\u001b[0m         \u001b[1;32mreturn\u001b[0m \u001b[0mself\u001b[0m\u001b[1;33m.\u001b[0m\u001b[0m_predict_proba\u001b[0m\u001b[1;33m\u001b[0m\u001b[1;33m\u001b[0m\u001b[0m\n",
      "\u001b[1;31mAttributeError\u001b[0m: predict_proba is not available when voting='hard'"
     ]
    }
   ],
   "source": [
    "pred_2019_proba=voting.predict_proba(main_df[main_df[\"year\"]==2019][viable_columns])"
   ]
  },
  {
   "cell_type": "code",
   "execution_count": 101,
   "id": "5c2c28df",
   "metadata": {},
   "outputs": [
    {
     "data": {
      "text/plain": [
       "VotingClassifier(estimators=[('forest',\n",
       "                              RandomForestClassifier(max_depth=10,\n",
       "                                                     n_estimators=80)),\n",
       "                             ('knn', KNeighborsClassifier(n_neighbors=1, p=1)),\n",
       "                             ('svc',\n",
       "                              SVC(C=0.001953125, degree=10, kernel='poly',\n",
       "                                  max_iter=100000, probability=True)),\n",
       "                             ('log_reg',\n",
       "                              LogisticRegression(C=0.03125, max_iter=1000))],\n",
       "                 voting='soft', weights=[1, 1, 2, 2])"
      ]
     },
     "execution_count": 101,
     "metadata": {},
     "output_type": "execute_result"
    }
   ],
   "source": [
    "voting_soft = VotingClassifier([\n",
    "                ('forest',RandomForestClassifier(max_depth=10, n_estimators=80)),\n",
    "                ('knn', KNeighborsClassifier(n_neighbors=1, p=1)),\n",
    "                ('svc', SVC(C=2**(-1*9), kernel='poly', degree=10, max_iter=100000, probability=True)),\n",
    "                ('log_reg', LogisticRegression(C=2**(-1*5), max_iter=1000))\n",
    "                                    ],\n",
    "                weights=[1,1,2,2],\n",
    "                voting='soft')\n",
    "voting_soft.fit(\n",
    "                train_set[viable_columns],\n",
    "                train_set['is_nominee']\n",
    "                    )"
   ]
  },
  {
   "cell_type": "code",
   "execution_count": 104,
   "id": "13fcea69",
   "metadata": {},
   "outputs": [],
   "source": [
    "pred_2019_proba=voting_soft.predict_proba(main_df[main_df[\"year\"]==2019][viable_columns])"
   ]
  },
  {
   "cell_type": "code",
   "execution_count": 113,
   "id": "3d22215b",
   "metadata": {},
   "outputs": [
    {
     "name": "stdout",
     "output_type": "stream",
     "text": [
      "0.794587567213472\n",
      "I Lost My Body\n",
      "0.7453658457194269\n",
      "The Secret Life of Pets 2\n",
      "0.6277141389907384\n",
      "Away\n",
      "0.1830904315458944\n",
      "Toy Story 4\n",
      "0.7029520518535275\n",
      "Abominable\n",
      "0.7882553270487462\n",
      "On-Gaku: Our Sound\n",
      "0.6801445659246647\n",
      "A Shaun the Sheep Movie: Farmageddon\n"
     ]
    }
   ],
   "source": [
    "for i in range(len(pred_2019_proba)):\n",
    "    if pred_2019_proba[i][0]<0.80:\n",
    "        print(pred_2019_proba[i][0])\n",
    "        print(main_df[main_df['year']==2019].iloc[i]['titles'])"
   ]
  },
  {
   "cell_type": "code",
   "execution_count": 114,
   "id": "09c4d1cb",
   "metadata": {},
   "outputs": [],
   "source": [
    "pred_2020_proba=voting_soft.predict_proba(main_df[main_df[\"year\"]==2020][viable_columns])"
   ]
  },
  {
   "cell_type": "code",
   "execution_count": 115,
   "id": "bd5c9007",
   "metadata": {},
   "outputs": [
    {
     "name": "stdout",
     "output_type": "stream",
     "text": [
      "0.6833135268935981\n",
      "Josep\n",
      "0.30604963472416785\n",
      "Phineas and Ferb the Movie: Candace Against the Universe\n",
      "0.06578879467485586\n",
      "Wolfwalkers\n",
      "0.08606243818295749\n",
      "Soul\n",
      "0.7237041481785026\n",
      "Over the Moon\n"
     ]
    }
   ],
   "source": [
    "for i in range(len(pred_2020_proba)):\n",
    "    if pred_2020_proba[i][0]<0.80:\n",
    "        print(pred_2020_proba[i][0])\n",
    "        print(main_df[main_df['year']==2020].iloc[i]['titles'])"
   ]
  },
  {
   "cell_type": "code",
   "execution_count": 118,
   "id": "b5fc558f",
   "metadata": {},
   "outputs": [],
   "source": [
    "exp_2019=voting.transform(main_df[main_df[\"year\"]==2019][viable_columns])"
   ]
  },
  {
   "cell_type": "code",
   "execution_count": 130,
   "id": "53186d2e",
   "metadata": {},
   "outputs": [
    {
     "name": "stdout",
     "output_type": "stream",
     "text": [
      "126\n",
      "[0 0 0 1]\n",
      "132\n",
      "[0 1 0 0]\n",
      "137\n",
      "[0 1 0 0]\n",
      "146\n",
      "[1 1 1 1]\n",
      "146\n",
      "[1 1 1 1]\n",
      "146\n",
      "[1 1 1 1]\n",
      "146\n",
      "[1 1 1 1]\n",
      "217\n",
      "[0 1 0 0]\n",
      "233\n",
      "[0 0 0 1]\n"
     ]
    }
   ],
   "source": [
    "for i in range(len(exp_2019)):\n",
    "    for j in range(4):\n",
    "        if exp_2019[i][j] != 0:\n",
    "            print(i)\n",
    "            print(exp_2019[i])"
   ]
  },
  {
   "cell_type": "code",
   "execution_count": 133,
   "id": "6c344016",
   "metadata": {},
   "outputs": [
    {
     "name": "stdout",
     "output_type": "stream",
     "text": [
      "I Lost My Body\n",
      "The Secret Life of Pets 2\n",
      "Away\n",
      "Abominable\n",
      "On-Gaku: Our Sound\n"
     ]
    }
   ],
   "source": [
    "for i in [126,132,137,217,233]:\n",
    "    print(main_df[main_df[\"year\"]==2019].iloc[i]['titles'])"
   ]
  },
  {
   "cell_type": "code",
   "execution_count": 126,
   "id": "b43186b6",
   "metadata": {},
   "outputs": [
    {
     "data": {
      "text/plain": [
       "True"
      ]
     },
     "execution_count": 126,
     "metadata": {},
     "output_type": "execute_result"
    }
   ],
   "source": [
    "exp_2019[0][0] ==0"
   ]
  },
  {
   "cell_type": "markdown",
   "id": "b5539a92",
   "metadata": {},
   "source": [
    "# Exploring available 2022 data"
   ]
  },
  {
   "cell_type": "markdown",
   "id": "87e7d652",
   "metadata": {},
   "source": [
    "This needs to be taken with a grain of salt because not all the info for 2022 movies is available yet.  This is especially relevant since June and November are the prime months, which have not happened yet."
   ]
  },
  {
   "cell_type": "code",
   "execution_count": 143,
   "id": "65ba0010",
   "metadata": {},
   "outputs": [],
   "source": [
    "main_2022=pd.read_pickle('Data/data_from_imdb_extra_2022.pkl')"
   ]
  },
  {
   "cell_type": "code",
   "execution_count": 144,
   "id": "ac57de8e",
   "metadata": {},
   "outputs": [
    {
     "data": {
      "text/html": [
       "<div>\n",
       "<style scoped>\n",
       "    .dataframe tbody tr th:only-of-type {\n",
       "        vertical-align: middle;\n",
       "    }\n",
       "\n",
       "    .dataframe tbody tr th {\n",
       "        vertical-align: top;\n",
       "    }\n",
       "\n",
       "    .dataframe thead th {\n",
       "        text-align: right;\n",
       "    }\n",
       "</style>\n",
       "<table border=\"1\" class=\"dataframe\">\n",
       "  <thead>\n",
       "    <tr style=\"text-align: right;\">\n",
       "      <th></th>\n",
       "      <th>imdb_id</th>\n",
       "      <th>titles</th>\n",
       "      <th>year</th>\n",
       "      <th>original_air_date</th>\n",
       "      <th>countries</th>\n",
       "      <th>language</th>\n",
       "      <th>genres</th>\n",
       "      <th>certificates</th>\n",
       "      <th>rating</th>\n",
       "      <th>votes</th>\n",
       "      <th>...</th>\n",
       "      <th>R</th>\n",
       "      <th>Unrated</th>\n",
       "      <th>G</th>\n",
       "      <th>metascore_available</th>\n",
       "      <th>prev_dir</th>\n",
       "      <th>prev_prod</th>\n",
       "      <th>prev_pc</th>\n",
       "      <th>metascore_0</th>\n",
       "      <th>metascore_ave</th>\n",
       "      <th>month</th>\n",
       "    </tr>\n",
       "  </thead>\n",
       "  <tbody>\n",
       "    <tr>\n",
       "      <th>0</th>\n",
       "      <td>19784074</td>\n",
       "      <td>MULT v kino 134. Sanki, gorki, dva konka</td>\n",
       "      <td>2022</td>\n",
       "      <td>01 Jan 2022 (Russia)</td>\n",
       "      <td>[Russia]</td>\n",
       "      <td>[ru]</td>\n",
       "      <td>[Animation]</td>\n",
       "      <td>[Russia:0+]</td>\n",
       "      <td>[]</td>\n",
       "      <td>[]</td>\n",
       "      <td>...</td>\n",
       "      <td>0</td>\n",
       "      <td>1</td>\n",
       "      <td>0.0</td>\n",
       "      <td>0</td>\n",
       "      <td>0</td>\n",
       "      <td>0</td>\n",
       "      <td>0</td>\n",
       "      <td>0</td>\n",
       "      <td>60</td>\n",
       "      <td>1</td>\n",
       "    </tr>\n",
       "    <tr>\n",
       "      <th>1</th>\n",
       "      <td>11534450</td>\n",
       "      <td>Aslan: Hürkus kayip Elmas</td>\n",
       "      <td>2022</td>\n",
       "      <td>07 Jan 2022 (Turkey)</td>\n",
       "      <td>[Turkey]</td>\n",
       "      <td>[tr]</td>\n",
       "      <td>[Animation]</td>\n",
       "      <td>[Germany:0, Turkey:G]</td>\n",
       "      <td>6.3</td>\n",
       "      <td>112</td>\n",
       "      <td>...</td>\n",
       "      <td>0</td>\n",
       "      <td>1</td>\n",
       "      <td>0.0</td>\n",
       "      <td>0</td>\n",
       "      <td>0</td>\n",
       "      <td>0</td>\n",
       "      <td>0</td>\n",
       "      <td>0</td>\n",
       "      <td>60</td>\n",
       "      <td>1</td>\n",
       "    </tr>\n",
       "    <tr>\n",
       "      <th>2</th>\n",
       "      <td>15689046</td>\n",
       "      <td>The Yin Yang Brothers</td>\n",
       "      <td>2022</td>\n",
       "      <td>04 Nov 2022 (USA)</td>\n",
       "      <td>[United States, China]</td>\n",
       "      <td>[en]</td>\n",
       "      <td>[Animation, Adventure, Comedy]</td>\n",
       "      <td>[]</td>\n",
       "      <td>[]</td>\n",
       "      <td>[]</td>\n",
       "      <td>...</td>\n",
       "      <td>0</td>\n",
       "      <td>1</td>\n",
       "      <td>0.0</td>\n",
       "      <td>0</td>\n",
       "      <td>0</td>\n",
       "      <td>1</td>\n",
       "      <td>0</td>\n",
       "      <td>0</td>\n",
       "      <td>60</td>\n",
       "      <td>11</td>\n",
       "    </tr>\n",
       "    <tr>\n",
       "      <th>3</th>\n",
       "      <td>9848626</td>\n",
       "      <td>Hotel Transylvania 4: Transformania</td>\n",
       "      <td>2022</td>\n",
       "      <td>14 Jan 2022 (USA)</td>\n",
       "      <td>[United States]</td>\n",
       "      <td>[en]</td>\n",
       "      <td>[Animation, Adventure, Comedy, Family, Fantasy...</td>\n",
       "      <td>[Argentina:Atp, Australia:PG, Brazil:10::(self...</td>\n",
       "      <td>6.0</td>\n",
       "      <td>26969</td>\n",
       "      <td>...</td>\n",
       "      <td>0</td>\n",
       "      <td>0</td>\n",
       "      <td>0.0</td>\n",
       "      <td>1</td>\n",
       "      <td>0</td>\n",
       "      <td>0</td>\n",
       "      <td>1</td>\n",
       "      <td>46</td>\n",
       "      <td>46</td>\n",
       "      <td>1</td>\n",
       "    </tr>\n",
       "    <tr>\n",
       "      <th>4</th>\n",
       "      <td>11703050</td>\n",
       "      <td>The House</td>\n",
       "      <td>2022</td>\n",
       "      <td>14 Jan 2022 (USA)</td>\n",
       "      <td>[United Kingdom, United States]</td>\n",
       "      <td>[en]</td>\n",
       "      <td>[Animation, Comedy, Drama, Mystery, Thriller]</td>\n",
       "      <td>[Argentina:13, Australia:M::(self-applied), Br...</td>\n",
       "      <td>6.8</td>\n",
       "      <td>13006</td>\n",
       "      <td>...</td>\n",
       "      <td>1</td>\n",
       "      <td>0</td>\n",
       "      <td>0.0</td>\n",
       "      <td>0</td>\n",
       "      <td>0</td>\n",
       "      <td>0</td>\n",
       "      <td>0</td>\n",
       "      <td>0</td>\n",
       "      <td>60</td>\n",
       "      <td>1</td>\n",
       "    </tr>\n",
       "  </tbody>\n",
       "</table>\n",
       "<p>5 rows × 37 columns</p>\n",
       "</div>"
      ],
      "text/plain": [
       "    imdb_id                                    titles  year  \\\n",
       "0  19784074  MULT v kino 134. Sanki, gorki, dva konka  2022   \n",
       "1  11534450                 Aslan: Hürkus kayip Elmas  2022   \n",
       "2  15689046                     The Yin Yang Brothers  2022   \n",
       "3   9848626       Hotel Transylvania 4: Transformania  2022   \n",
       "4  11703050                                 The House  2022   \n",
       "\n",
       "      original_air_date                        countries language  \\\n",
       "0  01 Jan 2022 (Russia)                         [Russia]     [ru]   \n",
       "1  07 Jan 2022 (Turkey)                         [Turkey]     [tr]   \n",
       "2     04 Nov 2022 (USA)           [United States, China]     [en]   \n",
       "3     14 Jan 2022 (USA)                  [United States]     [en]   \n",
       "4     14 Jan 2022 (USA)  [United Kingdom, United States]     [en]   \n",
       "\n",
       "                                              genres  \\\n",
       "0                                        [Animation]   \n",
       "1                                        [Animation]   \n",
       "2                     [Animation, Adventure, Comedy]   \n",
       "3  [Animation, Adventure, Comedy, Family, Fantasy...   \n",
       "4      [Animation, Comedy, Drama, Mystery, Thriller]   \n",
       "\n",
       "                                        certificates rating  votes  ...  R  \\\n",
       "0                                        [Russia:0+]     []     []  ...  0   \n",
       "1                              [Germany:0, Turkey:G]    6.3    112  ...  0   \n",
       "2                                                 []     []     []  ...  0   \n",
       "3  [Argentina:Atp, Australia:PG, Brazil:10::(self...    6.0  26969  ...  0   \n",
       "4  [Argentina:13, Australia:M::(self-applied), Br...    6.8  13006  ...  1   \n",
       "\n",
       "  Unrated    G metascore_available prev_dir prev_prod prev_pc metascore_0  \\\n",
       "0       1  0.0                   0        0         0       0           0   \n",
       "1       1  0.0                   0        0         0       0           0   \n",
       "2       1  0.0                   0        0         1       0           0   \n",
       "3       0  0.0                   1        0         0       1          46   \n",
       "4       0  0.0                   0        0         0       0           0   \n",
       "\n",
       "   metascore_ave  month  \n",
       "0             60      1  \n",
       "1             60      1  \n",
       "2             60     11  \n",
       "3             46      1  \n",
       "4             60      1  \n",
       "\n",
       "[5 rows x 37 columns]"
      ]
     },
     "execution_count": 144,
     "metadata": {},
     "output_type": "execute_result"
    }
   ],
   "source": [
    "main_2022.head()"
   ]
  },
  {
   "cell_type": "code",
   "execution_count": 145,
   "id": "cc076c7d",
   "metadata": {},
   "outputs": [
    {
     "data": {
      "text/plain": [
       "['United States',\n",
       " 'Family',\n",
       " 'Adventure',\n",
       " 'Comedy',\n",
       " 'Fantasy',\n",
       " 'Other',\n",
       " 'G',\n",
       " 'PG',\n",
       " 'PG-13',\n",
       " 'R',\n",
       " 'Unrated',\n",
       " 'metascore_available',\n",
       " 'prev_dir',\n",
       " 'prev_prod',\n",
       " 'metascore_0',\n",
       " 'metascore_ave',\n",
       " 'month',\n",
       " 'prev_pc']"
      ]
     },
     "execution_count": 145,
     "metadata": {},
     "output_type": "execute_result"
    }
   ],
   "source": [
    "viable_columns"
   ]
  },
  {
   "cell_type": "code",
   "execution_count": 150,
   "id": "e711b5d1",
   "metadata": {},
   "outputs": [],
   "source": [
    "train_2022=drop_test(main_df, range(2001,2010))"
   ]
  },
  {
   "cell_type": "code",
   "execution_count": 151,
   "id": "6f950fae",
   "metadata": {},
   "outputs": [
    {
     "data": {
      "text/plain": [
       "VotingClassifier(estimators=[('forest',\n",
       "                              RandomForestClassifier(max_depth=10,\n",
       "                                                     n_estimators=80)),\n",
       "                             ('knn', KNeighborsClassifier(n_neighbors=1, p=1)),\n",
       "                             ('svc',\n",
       "                              SVC(C=0.001953125, degree=10, kernel='poly',\n",
       "                                  max_iter=100000)),\n",
       "                             ('log_reg',\n",
       "                              LogisticRegression(C=0.03125, max_iter=1000))],\n",
       "                 weights=[1, 1, 2, 2])"
      ]
     },
     "execution_count": 151,
     "metadata": {},
     "output_type": "execute_result"
    }
   ],
   "source": [
    "voting.fit(train_2022[viable_columns], train_2022['is_nominee'])"
   ]
  },
  {
   "cell_type": "code",
   "execution_count": 152,
   "id": "f122d290",
   "metadata": {},
   "outputs": [],
   "source": [
    "pred_2022=voting.predict(main_2022[viable_columns])"
   ]
  },
  {
   "cell_type": "code",
   "execution_count": 142,
   "id": "07ef8874",
   "metadata": {},
   "outputs": [
    {
     "data": {
      "text/plain": [
       "Index(['imdb_id', 'titles', 'year', 'original_air_date', 'countries',\n",
       "       'language', 'genres', 'certificates', 'rating', 'votes', 'color_info',\n",
       "       'runtimes', 'box_office', 'producers', 'directors',\n",
       "       'production_company', 'distributors', 'metascore', 'is_nominee',\n",
       "       'catname', 'metascore_0', 'metascore_ave', 'month'],\n",
       "      dtype='object')"
      ]
     },
     "execution_count": 142,
     "metadata": {},
     "output_type": "execute_result"
    }
   ],
   "source": [
    "main_2022.columns"
   ]
  },
  {
   "cell_type": "code",
   "execution_count": 153,
   "id": "dca25acf",
   "metadata": {},
   "outputs": [
    {
     "name": "stderr",
     "output_type": "stream",
     "text": [
      "C:\\Users\\sheri\\AppData\\Local\\Temp/ipykernel_8068/366469178.py:6: FutureWarning: The frame.append method is deprecated and will be removed from pandas in a future version. Use pandas.concat instead.\n",
      "  answer_df=answer_df.append(df.iloc[i])\n",
      "C:\\Users\\sheri\\AppData\\Local\\Temp/ipykernel_8068/366469178.py:6: FutureWarning: The frame.append method is deprecated and will be removed from pandas in a future version. Use pandas.concat instead.\n",
      "  answer_df=answer_df.append(df.iloc[i])\n"
     ]
    },
    {
     "data": {
      "text/html": [
       "<div>\n",
       "<style scoped>\n",
       "    .dataframe tbody tr th:only-of-type {\n",
       "        vertical-align: middle;\n",
       "    }\n",
       "\n",
       "    .dataframe tbody tr th {\n",
       "        vertical-align: top;\n",
       "    }\n",
       "\n",
       "    .dataframe thead th {\n",
       "        text-align: right;\n",
       "    }\n",
       "</style>\n",
       "<table border=\"1\" class=\"dataframe\">\n",
       "  <thead>\n",
       "    <tr style=\"text-align: right;\">\n",
       "      <th></th>\n",
       "      <th>titles</th>\n",
       "      <th>is_nominee</th>\n",
       "    </tr>\n",
       "  </thead>\n",
       "  <tbody>\n",
       "    <tr>\n",
       "      <th>32</th>\n",
       "      <td>Turning Red</td>\n",
       "      <td>0.0</td>\n",
       "    </tr>\n",
       "    <tr>\n",
       "      <th>39</th>\n",
       "      <td>Apollo 10½: A Space Age Childhood</td>\n",
       "      <td>0.0</td>\n",
       "    </tr>\n",
       "  </tbody>\n",
       "</table>\n",
       "</div>"
      ],
      "text/plain": [
       "                               titles  is_nominee\n",
       "32                        Turning Red         0.0\n",
       "39  Apollo 10½: A Space Age Childhood         0.0"
      ]
     },
     "execution_count": 153,
     "metadata": {},
     "output_type": "execute_result"
    }
   ],
   "source": [
    "pred_df_2022=find_nominees(main_2022, pred_2022)\n",
    "pred_df_2022[['titles', 'is_nominee']]"
   ]
  },
  {
   "cell_type": "code",
   "execution_count": null,
   "id": "17616f8b",
   "metadata": {},
   "outputs": [],
   "source": []
  }
 ],
 "metadata": {
  "kernelspec": {
   "display_name": "Python 3 (ipykernel)",
   "language": "python",
   "name": "python3"
  },
  "language_info": {
   "codemirror_mode": {
    "name": "ipython",
    "version": 3
   },
   "file_extension": ".py",
   "mimetype": "text/x-python",
   "name": "python",
   "nbconvert_exporter": "python",
   "pygments_lexer": "ipython3",
   "version": "3.9.7"
  }
 },
 "nbformat": 4,
 "nbformat_minor": 5
}
