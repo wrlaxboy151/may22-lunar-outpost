{
 "cells": [
  {
   "cell_type": "markdown",
   "id": "adfbeee0",
   "metadata": {},
   "source": [
    "A written summary of this notebook can be found here:\n",
    "<a href=\"https://docs.google.com/document/d/1ixcw77YqVwDlHVwd8yMmWrxTdTnFWGL1kgmeqkeDoHg/edit?usp=sharing\">\n",
    "    Google Doc </a>\n"
   ]
  },
  {
   "cell_type": "markdown",
   "id": "f9cb6415",
   "metadata": {},
   "source": [
    "# Downloading the necessary packages and data"
   ]
  },
  {
   "cell_type": "code",
   "execution_count": 1,
   "id": "33f458a5",
   "metadata": {},
   "outputs": [],
   "source": [
    "import pandas as pd"
   ]
  },
  {
   "cell_type": "code",
   "execution_count": 2,
   "id": "f7652233",
   "metadata": {},
   "outputs": [],
   "source": [
    "import numpy as np"
   ]
  },
  {
   "cell_type": "code",
   "execution_count": 3,
   "id": "f4af12c2",
   "metadata": {},
   "outputs": [],
   "source": [
    "from sklearn.metrics import precision_score, recall_score\n",
    "from sklearn.linear_model import LogisticRegression\n",
    "from sklearn.tree import DecisionTreeClassifier\n",
    "from sklearn.decomposition import PCA\n",
    "from sklearn.preprocessing import StandardScaler\n",
    "from sklearn.svm import SVC\n",
    "from sklearn.neighbors import KNeighborsClassifier\n",
    "\n",
    "from sklearn.ensemble import VotingClassifier, RandomForestClassifier, AdaBoostClassifier"
   ]
  },
  {
   "cell_type": "code",
   "execution_count": 4,
   "id": "838fcb23",
   "metadata": {},
   "outputs": [],
   "source": [
    "import matplotlib.pyplot as plt\n",
    "import seaborn as sns"
   ]
  },
  {
   "cell_type": "code",
   "execution_count": 5,
   "id": "b5b9155c",
   "metadata": {},
   "outputs": [],
   "source": [
    "main_df=pd.read_pickle('Data/data_from_imdb_extra_2.pkl')"
   ]
  },
  {
   "cell_type": "markdown",
   "id": "caeb5550",
   "metadata": {},
   "source": [
    "# Splitting the test and training data"
   ]
  },
  {
   "cell_type": "code",
   "execution_count": 6,
   "id": "89e01e37",
   "metadata": {},
   "outputs": [],
   "source": [
    "#A helper function that drops all movies of a given year from a dataframe\n",
    "def drop_test(df,L):\n",
    "    '''input a dataframe of movies (df) and a list of years as int (L)\n",
    "    outputs a dataframe that does not include the movies released in the years in L'''\n",
    "    indices =[]\n",
    "    for i in range(len(df)):\n",
    "        if df.iloc[i]['year'] in L:\n",
    "            indices.append(i)\n",
    "    new_df=df.drop(indices)\n",
    "    return(new_df)"
   ]
  },
  {
   "cell_type": "markdown",
   "id": "7d57caf2",
   "metadata": {},
   "source": [
    "We decided to disregard 2020 and 2021 since we make the assumption that trends in film will return to their pre-pandemic norms.  This means that we reserve 2018 and 2019 as our testing years."
   ]
  },
  {
   "cell_type": "code",
   "execution_count": 8,
   "id": "caf0aaf3",
   "metadata": {},
   "outputs": [],
   "source": [
    "train_set=drop_test(main_df, [2018,2019,2020,2021])"
   ]
  },
  {
   "cell_type": "markdown",
   "id": "18a1d3d9",
   "metadata": {},
   "source": [
    "We write a function that performs a Time Series Split for our specific type of data.  Since we have a different number of movies released each year, the TimeSeriesSplit function included in scikitlearn would not have worked for our project."
   ]
  },
  {
   "cell_type": "code",
   "execution_count": 9,
   "id": "bdaf0d9d",
   "metadata": {},
   "outputs": [],
   "source": [
    "def timeseries_split2(df, k, n):\n",
    "    '''takes in a movie dataframe (df),  k (int)\n",
    "    and outputs a tuple that behaves like kfold.split when kfold =kfold = TimeSeriesSplit(n_splits = k,\n",
    "                           test_size = 1)\n",
    "    but only keeps n years in each train_set\n",
    "    that is, the output is a tuple of 2-tuples, where\n",
    "    the first element of each tuple is the indices of the train set (each train set contains n years of movies) and\n",
    "    the second element is the indices of the test set (one year of movies)\n",
    "    unlike TimeSeriesSplit it can only handle one dataframe at a time'''\n",
    "    if len(df['year'].value_counts()) <k+n:\n",
    "        raise ValueError(\"Not enough data for given k and n\")\n",
    "        \n",
    "    df=df.copy()\n",
    "    \n",
    "    answer=[]\n",
    "    i=0\n",
    "    while i <k:\n",
    "        last_year=df['year'].max()\n",
    "        \n",
    "        #get array of indices of last year in list\n",
    "        index_set=np.array(df[df['year']==last_year].index)\n",
    "        \n",
    "        #delete rows from dataframe\n",
    "        df=drop_test(df,[last_year])\n",
    "        \n",
    "        m=1\n",
    "        temp_train=[]\n",
    "        while m<n+1:\n",
    "            temp_train=list(df[df['year'] == last_year-m].index) + temp_train\n",
    "            m=m+1\n",
    "        \n",
    "        #add to train_sets\n",
    "        index_set2=np.array(temp_train)\n",
    "        \n",
    "        new_set=(index_set2, index_set)\n",
    "        answer=[new_set] + answer\n",
    "        \n",
    "        i=i+1\n",
    "    \n",
    "    return tuple(answer)"
   ]
  },
  {
   "cell_type": "markdown",
   "id": "b718eeaf",
   "metadata": {},
   "source": [
    "While performing cross validations, the train-test split was:\n",
    "\n",
    "Train 1: 2001-2012\\\n",
    "Test 1: 2013\n",
    "\n",
    "Train 2: 2002-2013\\\n",
    "Test 2: 2014\n",
    "\n",
    "Train 3: 2003-2014\\\n",
    "Test 3: 2015\n",
    "\n",
    "Train 4: 2004-2015\\\n",
    "Test 4: 2016\n",
    "\n",
    "Train 5: 2005-2016\\\n",
    "Test 5: 2017"
   ]
  },
  {
   "cell_type": "markdown",
   "id": "7b282ab8",
   "metadata": {},
   "source": [
    "# The Main Model"
   ]
  },
  {
   "cell_type": "markdown",
   "id": "8d9ddab1",
   "metadata": {},
   "source": [
    "We write a function that finds precisions and recalls for our model.\n",
    "\n",
    "The model is a voting model that incorporates a random forest, a K-neighbors classifier, a support vector classifier, and a logistic regression.  The options on the models and the weights in the voting model were determined by cross validations performed in previous notebooks."
   ]
  },
  {
   "cell_type": "code",
   "execution_count": 30,
   "id": "26390342",
   "metadata": {},
   "outputs": [],
   "source": [
    "def voting(df, columns):\n",
    "    '''takes in a list of features (columns) and applies the voting model to those features in the dataframe (df)\n",
    "    Creates an array of precisions (0) and recalls (1), which can then be processed\n",
    "    Uses a 5-fold validation split'''\n",
    "    n=1\n",
    "    precs=np.zeros((n,5))\n",
    "    recs = np.zeros((n,5))\n",
    "    for i in range(0,n):\n",
    "        x=0\n",
    "        for train_index, val_index in timeseries_split2(df,5,12):\n",
    "\n",
    "            # make voting model \n",
    "            voting = VotingClassifier([\n",
    "                ('forest',RandomForestClassifier(max_depth=10, n_estimators=80)),\n",
    "                ('knn', KNeighborsClassifier(n_neighbors=1, p=1)),\n",
    "                ('svc', SVC(C=2**(-1*9), kernel='poly', degree=10, max_iter=100000)),\n",
    "                ('log_reg', LogisticRegression(C=2**(-1*5), max_iter=1000))\n",
    "                                    ],\n",
    "                weights=[1,1,2,2])\n",
    "            voting.fit(\n",
    "                df.iloc[train_index][columns],\n",
    "                df.iloc[train_index]['is_nominee']\n",
    "                    )\n",
    "            pred=voting.predict(df.iloc[val_index][columns]\n",
    "                        )\n",
    "\n",
    "            # add metrics to the tables\n",
    "            precs[i,x]=precision_score(df.iloc[val_index]['is_nominee'], pred, zero_division=0)\n",
    "            recs[i,x]=recall_score(df.iloc[val_index]['is_nominee'], pred, zero_division=0)\n",
    "            x=x+1\n",
    "\n",
    "    return(precs, recs)"
   ]
  },
  {
   "cell_type": "markdown",
   "id": "20909130",
   "metadata": {},
   "source": [
    "Next, we calculate the precisions and recalls for the 5 validation sets."
   ]
  },
  {
   "cell_type": "code",
   "execution_count": 31,
   "id": "360a0d2f",
   "metadata": {},
   "outputs": [],
   "source": [
    "viable_columns=['United States', 'Family', 'Adventure', 'Comedy', 'Fantasy', 'Other',\n",
    "       'G', 'PG', 'PG-13', 'R', 'Unrated', 'metascore_available', 'prev_dir',\n",
    "       'prev_prod', 'metascore_0', 'metascore_ave', 'month', 'prev_pc']"
   ]
  },
  {
   "cell_type": "code",
   "execution_count": 32,
   "id": "6ed6ead6",
   "metadata": {},
   "outputs": [],
   "source": [
    "metrics_voting=voting(train_set, viable_columns)"
   ]
  },
  {
   "cell_type": "code",
   "execution_count": 33,
   "id": "2a0ea842",
   "metadata": {},
   "outputs": [
    {
     "data": {
      "text/plain": [
       "(array([[1.        , 0.75      , 0.66666667, 0.83333333, 1.        ]]),\n",
       " array([[0.5       , 0.6       , 0.66666667, 1.        , 0.4       ]]))"
      ]
     },
     "execution_count": 33,
     "metadata": {},
     "output_type": "execute_result"
    }
   ],
   "source": [
    "metrics_voting"
   ]
  },
  {
   "cell_type": "markdown",
   "id": "16341899",
   "metadata": {},
   "source": [
    "The average precision and recall over the validation sets are given below."
   ]
  },
  {
   "cell_type": "code",
   "execution_count": 34,
   "id": "40008be9",
   "metadata": {},
   "outputs": [
    {
     "name": "stdout",
     "output_type": "stream",
     "text": [
      "Precision:\n",
      "0.85\n",
      "Recall:\n",
      "0.6333333333333333\n"
     ]
    }
   ],
   "source": [
    "print('Precision:')\n",
    "print(np.mean(metrics_voting[0]))\n",
    "print('Recall:')\n",
    "print(np.mean(metrics_voting[1]))"
   ]
  },
  {
   "cell_type": "markdown",
   "id": "804dab60",
   "metadata": {},
   "source": [
    "Let's finally check our work on the test set that we set aside."
   ]
  },
  {
   "cell_type": "code",
   "execution_count": 35,
   "id": "9faf29cd",
   "metadata": {},
   "outputs": [
    {
     "data": {
      "text/plain": [
       "(array([[1.        , 1.        , 1.        , 0.66666667, 0.75      ]]),\n",
       " array([[0.4       , 0.8       , 0.16666667, 0.5       , 0.6       ]]))"
      ]
     },
     "execution_count": 35,
     "metadata": {},
     "output_type": "execute_result"
    }
   ],
   "source": [
    "metrics_final=voting(main_df, viable_columns)\n",
    "metrics_final"
   ]
  },
  {
   "cell_type": "markdown",
   "id": "66d7e103",
   "metadata": {},
   "source": [
    "The above 5 columns correspond to 2017 (a validation set), 2018, 2019 (the test sets), 2020, and 2021 (years affected by the pandemic).\n",
    "\n",
    "Let's see this on a graph."
   ]
  },
  {
   "cell_type": "code",
   "execution_count": 51,
   "id": "9f73e818",
   "metadata": {},
   "outputs": [
    {
     "data": {
      "image/png": "[encoded data removed]",
      "text/plain": [
       "<Figure size 576x432 with 1 Axes>"
      ]
     },
     "metadata": {
      "needs_background": "light"
     },
     "output_type": "display_data"
    }
   ],
   "source": [
    "plt.figure(figsize=(8,6))\n",
    "\n",
    "val_years=[str(i) for i in range(2013,2018)]\n",
    "test_years=[str(i) for i in range(2017,2022)]\n",
    "\n",
    "plt.plot(val_years, metrics_voting[0].reshape(-1,1), label='Precision', color='blue')\n",
    "plt.plot(val_years, metrics_voting[1].reshape(-1,1), label='Recall', color='r')\n",
    "\n",
    "plt.plot(test_years, metrics_final[0].reshape(-1,1), '--', color='blue')\n",
    "plt.plot(test_years, metrics_final[1].reshape(-1,1), '--', color='r')\n",
    "\n",
    "plt.plot(['2013','2021'], [0.02, 0.02], label='Baseline', color='k')\n",
    "\n",
    "plt.title('Metrics of Model', fontsize=20)\n",
    "plt.legend()\n",
    "\n",
    "plt.xlabel('Year')\n",
    "plt.ylabel('Metrics')\n",
    "\n",
    "plt.ylim(-0.1,1.1)\n",
    "plt.show()"
   ]
  },
  {
   "cell_type": "markdown",
   "id": "0802a35d",
   "metadata": {},
   "source": [
    "There's quite a bit of variance, but we stay safely above the baseline (what you would expect if you randomly guess nominees)"
   ]
  },
  {
   "cell_type": "markdown",
   "id": "524bfbb0",
   "metadata": {},
   "source": [
    "# Exploring the features"
   ]
  },
  {
   "cell_type": "markdown",
   "id": "62727680",
   "metadata": {},
   "source": [
    "Which features are the most important when determining the model?  When we exclude one feature at a time, we obtain the following:"
   ]
  },
  {
   "cell_type": "code",
   "execution_count": 53,
   "id": "e10322da",
   "metadata": {},
   "outputs": [
    {
     "name": "stderr",
     "output_type": "stream",
     "text": [
      "C:\\Users\\sheri\\anaconda3\\lib\\site-packages\\sklearn\\svm\\_base.py:255: ConvergenceWarning: Solver terminated early (max_iter=100000).  Consider pre-processing your data with StandardScaler or MinMaxScaler.\n",
      "  warnings.warn('Solver terminated early (max_iter=%i).'\n",
      "C:\\Users\\sheri\\anaconda3\\lib\\site-packages\\sklearn\\svm\\_base.py:255: ConvergenceWarning: Solver terminated early (max_iter=100000).  Consider pre-processing your data with StandardScaler or MinMaxScaler.\n",
      "  warnings.warn('Solver terminated early (max_iter=%i).'\n",
      "C:\\Users\\sheri\\anaconda3\\lib\\site-packages\\sklearn\\svm\\_base.py:255: ConvergenceWarning: Solver terminated early (max_iter=100000).  Consider pre-processing your data with StandardScaler or MinMaxScaler.\n",
      "  warnings.warn('Solver terminated early (max_iter=%i).'\n",
      "C:\\Users\\sheri\\anaconda3\\lib\\site-packages\\sklearn\\svm\\_base.py:255: ConvergenceWarning: Solver terminated early (max_iter=100000).  Consider pre-processing your data with StandardScaler or MinMaxScaler.\n",
      "  warnings.warn('Solver terminated early (max_iter=%i).'\n",
      "C:\\Users\\sheri\\anaconda3\\lib\\site-packages\\sklearn\\svm\\_base.py:255: ConvergenceWarning: Solver terminated early (max_iter=100000).  Consider pre-processing your data with StandardScaler or MinMaxScaler.\n",
      "  warnings.warn('Solver terminated early (max_iter=%i).'\n"
     ]
    }
   ],
   "source": [
    "all_precs=[]\n",
    "all_recs=[]\n",
    "for feature in viable_columns:\n",
    "    #print(feature)\n",
    "    new_cols=viable_columns.copy()\n",
    "    new_cols.remove(feature)\n",
    "    metrics=voting(train_set, new_cols)\n",
    "    all_precs.append(metrics[0])\n",
    "    all_recs.append(metrics[1])"
   ]
  },
  {
   "cell_type": "code",
   "execution_count": 56,
   "id": "d4e36699",
   "metadata": {},
   "outputs": [
    {
     "name": "stdout",
     "output_type": "stream",
     "text": [
      "United States\n",
      "0.7761904761904762\n",
      "Family\n",
      "0.86\n",
      "Adventure\n",
      "0.8666666666666668\n",
      "Comedy\n",
      "0.8666666666666668\n",
      "Fantasy\n",
      "0.8666666666666668\n",
      "Other\n",
      "0.85\n",
      "G\n",
      "0.8261904761904763\n",
      "PG\n",
      "0.825\n",
      "PG-13\n",
      "0.8666666666666668\n",
      "R\n",
      "0.8666666666666668\n",
      "Unrated\n",
      "0.8428571428571429\n",
      "metascore_available\n",
      "0.85\n",
      "prev_dir\n",
      "0.8666666666666668\n",
      "prev_prod\n",
      "0.8666666666666668\n",
      "metascore_0\n",
      "0.825\n",
      "metascore_ave\n",
      "0.7295238095238095\n",
      "month\n",
      "0.8666666666666668\n",
      "prev_pc\n",
      "0.8666666666666668\n"
     ]
    }
   ],
   "source": [
    "for i in range(len(all_precs)):\n",
    "    print(viable_columns[i])\n",
    "    print(np.mean(all_precs[i]))"
   ]
  },
  {
   "cell_type": "code",
   "execution_count": 57,
   "id": "4946890b",
   "metadata": {},
   "outputs": [
    {
     "name": "stdout",
     "output_type": "stream",
     "text": [
      "United States\n",
      "0.7\n",
      "Family\n",
      "0.6933333333333332\n",
      "Adventure\n",
      "0.7\n",
      "Comedy\n",
      "0.7\n",
      "Fantasy\n",
      "0.7\n",
      "Other\n",
      "0.6333333333333333\n",
      "G\n",
      "0.6\n",
      "PG\n",
      "0.6666666666666667\n",
      "PG-13\n",
      "0.7\n",
      "R\n",
      "0.7\n",
      "Unrated\n",
      "0.7\n",
      "metascore_available\n",
      "0.6333333333333333\n",
      "prev_dir\n",
      "0.7\n",
      "prev_prod\n",
      "0.7\n",
      "metascore_0\n",
      "0.5933333333333334\n",
      "metascore_ave\n",
      "0.6\n",
      "month\n",
      "0.7333333333333333\n",
      "prev_pc\n",
      "0.7\n"
     ]
    }
   ],
   "source": [
    "for i in range(len(all_recs)):\n",
    "    print(viable_columns[i])\n",
    "    print(np.mean(all_recs[i]))"
   ]
  },
  {
   "cell_type": "markdown",
   "id": "96737200",
   "metadata": {},
   "source": [
    "So the most important indicators are metascore, followed by rating, but really it seems that all the features are working together about evenly.\n",
    "\n",
    "Now let's explore if we exclude one category at a time, instead of just one feature."
   ]
  },
  {
   "cell_type": "code",
   "execution_count": 58,
   "id": "505110c8",
   "metadata": {},
   "outputs": [
    {
     "data": {
      "text/plain": [
       "['United States',\n",
       " 'Family',\n",
       " 'Adventure',\n",
       " 'Comedy',\n",
       " 'Fantasy',\n",
       " 'Other',\n",
       " 'G',\n",
       " 'PG',\n",
       " 'PG-13',\n",
       " 'R',\n",
       " 'Unrated',\n",
       " 'metascore_available',\n",
       " 'prev_dir',\n",
       " 'prev_prod',\n",
       " 'metascore_0',\n",
       " 'metascore_ave',\n",
       " 'month',\n",
       " 'prev_pc']"
      ]
     },
     "execution_count": 58,
     "metadata": {},
     "output_type": "execute_result"
    }
   ],
   "source": [
    "viable_columns"
   ]
  },
  {
   "cell_type": "code",
   "execution_count": 60,
   "id": "6dec39d2",
   "metadata": {},
   "outputs": [],
   "source": [
    "features_by_type=[\n",
    "['Family','Adventure','Comedy','Fantasy','Other','G','PG','PG-13','R',\n",
    " 'Unrated','metascore_available','prev_dir','prev_prod','metascore_0','metascore_ave','month','prev_pc'],\n",
    "['United States','G','PG','PG-13','R','Unrated',\n",
    " 'metascore_available','prev_dir','prev_prod','metascore_0','metascore_ave','month','prev_pc'],\n",
    "['United States','Family','Adventure','Comedy','Fantasy','Other',\n",
    " 'metascore_available','prev_dir','prev_prod','metascore_0','metascore_ave','month','prev_pc'],\n",
    "['United States','Family','Adventure','Comedy','Fantasy','Other','G','PG','PG-13','R','Unrated',\n",
    " 'prev_dir','prev_prod','month','prev_pc'],\n",
    "['United States','Family','Adventure','Comedy','Fantasy','Other','G','PG','PG-13','R','Unrated',\n",
    " 'metascore_available','metascore_0','metascore_ave','month'],\n",
    "['United States','Family','Adventure','Comedy','Fantasy','Other','G','PG','PG-13','R','Unrated',\n",
    " 'metascore_available','prev_dir','prev_prod','metascore_0','metascore_ave','prev_pc']\n",
    "]\n",
    "\n",
    "feature_type_names=['US', 'genre', 'certificates', 'metascore', 'previous success', 'month']"
   ]
  },
  {
   "cell_type": "code",
   "execution_count": 61,
   "id": "f8f944c6",
   "metadata": {},
   "outputs": [
    {
     "name": "stderr",
     "output_type": "stream",
     "text": [
      "C:\\Users\\sheri\\anaconda3\\lib\\site-packages\\sklearn\\svm\\_base.py:255: ConvergenceWarning: Solver terminated early (max_iter=100000).  Consider pre-processing your data with StandardScaler or MinMaxScaler.\n",
      "  warnings.warn('Solver terminated early (max_iter=%i).'\n"
     ]
    }
   ],
   "source": [
    "all_precs=[]\n",
    "all_recs=[]\n",
    "for L in features_by_type:    \n",
    "    metrics=voting(train_set, L)\n",
    "    all_precs.append(metrics[0])\n",
    "    all_recs.append(metrics[1])"
   ]
  },
  {
   "cell_type": "code",
   "execution_count": 62,
   "id": "f9c2f7ba",
   "metadata": {},
   "outputs": [
    {
     "name": "stdout",
     "output_type": "stream",
     "text": [
      "US\n",
      "0.7761904761904762\n",
      "genre\n",
      "0.86\n",
      "certificates\n",
      "0.825\n",
      "metascore\n",
      "0.6\n",
      "previous success\n",
      "0.8333333333333333\n",
      "month\n",
      "0.85\n"
     ]
    }
   ],
   "source": [
    "for i in range(len(features_by_type)):\n",
    "    print(feature_type_names[i])\n",
    "    print(np.mean(all_precs[i]))"
   ]
  },
  {
   "cell_type": "code",
   "execution_count": 63,
   "id": "7f97f5e2",
   "metadata": {},
   "outputs": [
    {
     "name": "stdout",
     "output_type": "stream",
     "text": [
      "US\n",
      "0.7\n",
      "genre\n",
      "0.66\n",
      "certificates\n",
      "0.6666666666666667\n",
      "metascore\n",
      "0.16\n",
      "previous success\n",
      "0.4866666666666667\n",
      "month\n",
      "0.6666666666666666\n"
     ]
    }
   ],
   "source": [
    "for i in range(len(features_by_type)):\n",
    "    print(feature_type_names[i])\n",
    "    print(np.mean(all_recs[i]))"
   ]
  },
  {
   "cell_type": "code",
   "execution_count": null,
   "id": "2790cbcf",
   "metadata": {},
   "outputs": [],
   "source": []
  }
 ],
 "metadata": {
  "kernelspec": {
   "display_name": "Python 3 (ipykernel)",
   "language": "python",
   "name": "python3"
  },
  "language_info": {
   "codemirror_mode": {
    "name": "ipython",
    "version": 3
   },
   "file_extension": ".py",
   "mimetype": "text/x-python",
   "name": "python",
   "nbconvert_exporter": "python",
   "pygments_lexer": "ipython3",
   "version": "3.9.7"
  }
 },
 "nbformat": 4,
 "nbformat_minor": 5
}
