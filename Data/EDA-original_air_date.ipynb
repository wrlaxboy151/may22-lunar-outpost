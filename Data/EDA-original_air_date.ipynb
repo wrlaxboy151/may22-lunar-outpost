{
 "cells": [
  {
   "cell_type": "markdown",
   "id": "dfdb4511",
   "metadata": {},
   "source": [
    "# Importing the necessary packages and data\n"
   ]
  },
  {
   "cell_type": "code",
   "execution_count": 1,
   "id": "ee922cf0",
   "metadata": {},
   "outputs": [
    {
     "data": {
      "text/plain": [
       "'1.4.2'"
      ]
     },
     "execution_count": 1,
     "metadata": {},
     "output_type": "execute_result"
    }
   ],
   "source": [
    "import pandas as pd\n",
    "\n",
    "pd.__version__"
   ]
  },
  {
   "cell_type": "code",
   "execution_count": 2,
   "id": "7d2943c8",
   "metadata": {},
   "outputs": [],
   "source": [
    "from sklearn.model_selection import train_test_split"
   ]
  },
  {
   "cell_type": "code",
   "execution_count": 177,
   "id": "effcc2d9",
   "metadata": {},
   "outputs": [],
   "source": [
    "import matplotlib.pyplot as plt\n",
    "import seaborn as sns\n",
    "import numpy as np"
   ]
  },
  {
   "cell_type": "code",
   "execution_count": 3,
   "id": "a3acfea7",
   "metadata": {},
   "outputs": [],
   "source": [
    "main_df=pd.read_pickle('Data/Data_from_imdb.pkl')\n",
    "#main_df=pd.read_csv('Data/Data_from_imdb.csv')\n",
    "\n",
    "nominee_vector=pd.read_csv('Data/df_of_nominees.csv')\n",
    "\n",
    "y=nominee_vector['is_nominee'].copy()"
   ]
  },
  {
   "cell_type": "markdown",
   "id": "cc67954a",
   "metadata": {},
   "source": [
    "# Making the train-test split"
   ]
  },
  {
   "cell_type": "code",
   "execution_count": 5,
   "id": "e47ab8b1",
   "metadata": {},
   "outputs": [],
   "source": [
    "X_train, X_test, y_train, y_test = train_test_split(main_df.copy(), y,\n",
    "                                                       shuffle=True,\n",
    "                                                       random_state=126029,\n",
    "                                                       test_size=.2,\n",
    "                                                       stratify=y\n",
    "                                                   )"
   ]
  },
  {
   "cell_type": "markdown",
   "id": "a2ba13ed",
   "metadata": {},
   "source": [
    "# Making the date information readable"
   ]
  },
  {
   "cell_type": "code",
   "execution_count": 142,
   "id": "59727e27",
   "metadata": {},
   "outputs": [],
   "source": [
    "def get_dates_df(df,y):\n",
    "    '''input the dataframe of movie info (df) and vector of nominee info (y)\n",
    "    outputs two dataframes:\n",
    "    a dataframe with imdb_id, day, month, year, and country of original_air_date and\n",
    "    a dataframe of the corresponding nominee status'''\n",
    "    dates_df= pd.DataFrame({'imdb_id': [],\n",
    "                        'day':[],\n",
    "                        'month':[] ,\n",
    "                        'year':[],\n",
    "                        'country':[]})\n",
    "    new_y=pd.DataFrame({'is_nominee':[]})\n",
    "    for i in range(0, len(df)):\n",
    "        #print(i)\n",
    "        newrow=[]\n",
    "        row=df.iloc[i]\n",
    "        #print(row)\n",
    "        if row['origingal air date'] == []:\n",
    "            #skip because we don't have info\n",
    "            pass            \n",
    "        elif row['origingal air date'][2] == ' ':\n",
    "            #we have day-month-year\n",
    "            #print('Day-MY')\n",
    "            newrow.append(row['imdb id'])\n",
    "            newrow.append(row['origingal air date'][0:2] )\n",
    "            newrow.append(row['origingal air date'][3:6])\n",
    "            newrow.append(row['origingal air date'][7:11])\n",
    "            newrow.append(row['origingal air date'][12:])\n",
    "        elif row['origingal air date'][0] in 'JFMASOND':\n",
    "            #we have month-year\n",
    "            #print('MONTH-YEAR!')\n",
    "            newrow.append(row['imdb id'])\n",
    "            newrow.append('')\n",
    "            newrow.append(row['origingal air date'][0:3])\n",
    "            newrow.append(row['origingal air date'][4:8])\n",
    "            newrow.append(row['origingal air date'][9:])\n",
    "        else: #row['origingal air date'][2] in '1234567890':\n",
    "            #we have year\n",
    "            #print('YEAR ONLY!')\n",
    "            #print(i)\n",
    "            newrow.append(row['imdb id'])\n",
    "            newrow.append('')\n",
    "            newrow.append('')\n",
    "            newrow.append(row['origingal air date'][0:5])\n",
    "            newrow.append(row['origingal air date'][6:])\n",
    "        #print('newrow is')\n",
    "        #print(newrow)\n",
    "        if newrow !=[] :\n",
    "            dates_df.loc[len(dates_df.index)] = newrow \n",
    "            new_y.loc[len(new_y.index)]=y.iloc[i]\n",
    "    return(dates_df, new_y)"
   ]
  },
  {
   "cell_type": "code",
   "execution_count": 143,
   "id": "366b9d24",
   "metadata": {
    "scrolled": true
   },
   "outputs": [],
   "source": [
    "dates_df, nominees_df= get_dates_df(X_train,y_train)"
   ]
  },
  {
   "cell_type": "code",
   "execution_count": 144,
   "id": "61830974",
   "metadata": {},
   "outputs": [],
   "source": [
    "#create a new column of dates_df that reads the month as a number 1-12\n",
    "#if no month is given, reads as 0\n",
    "month_number=[]\n",
    "for i in range(len(dates_df)):\n",
    "    if dates_df['month'][i] == 'Jan':\n",
    "        month_number.append(1)\n",
    "    elif  dates_df['month'][i] =='Feb':\n",
    "        month_number.append(2)\n",
    "    elif  dates_df['month'][i] == 'Mar':\n",
    "        month_number.append(3)\n",
    "    elif dates_df['month'][i] == 'Apr':\n",
    "        month_number.append(4)\n",
    "    elif dates_df['month'][i] == 'May':\n",
    "        month_number.append(5)\n",
    "    elif  dates_df['month'][i] == 'Jun':\n",
    "        month_number.append(6)\n",
    "    elif dates_df['month'][i] == 'Jul':\n",
    "        month_number.append(7)\n",
    "    elif dates_df['month'][i] == 'Aug':\n",
    "        month_number.append(8)\n",
    "    elif dates_df['month'][i] == 'Sep':\n",
    "        month_number.append(9)\n",
    "    elif  dates_df['month'][i] == 'Oct':\n",
    "        month_number.append(10)\n",
    "    elif dates_df['month'][i] == 'Nov':\n",
    "        month_number.append(11)\n",
    "    elif  dates_df['month'][i] == 'Dec':\n",
    "        month_number.append(12)\n",
    "    elif dates_df['month'][i] =='':\n",
    "        month_number.append(0)\n",
    "    else:\n",
    "        print('You MISSED one!')\n",
    "        print(dates_df['month'][i])"
   ]
  },
  {
   "cell_type": "code",
   "execution_count": 145,
   "id": "a44a39e3",
   "metadata": {},
   "outputs": [],
   "source": [
    "dates_df['month_num']=month_number"
   ]
  },
  {
   "cell_type": "code",
   "execution_count": 202,
   "id": "b2e332af",
   "metadata": {},
   "outputs": [
    {
     "data": {
      "text/html": [
       "<div>\n",
       "<style scoped>\n",
       "    .dataframe tbody tr th:only-of-type {\n",
       "        vertical-align: middle;\n",
       "    }\n",
       "\n",
       "    .dataframe tbody tr th {\n",
       "        vertical-align: top;\n",
       "    }\n",
       "\n",
       "    .dataframe thead th {\n",
       "        text-align: right;\n",
       "    }\n",
       "</style>\n",
       "<table border=\"1\" class=\"dataframe\">\n",
       "  <thead>\n",
       "    <tr style=\"text-align: right;\">\n",
       "      <th></th>\n",
       "      <th>imdb_id</th>\n",
       "      <th>day</th>\n",
       "      <th>month</th>\n",
       "      <th>year</th>\n",
       "      <th>country</th>\n",
       "      <th>month_num</th>\n",
       "    </tr>\n",
       "  </thead>\n",
       "  <tbody>\n",
       "    <tr>\n",
       "      <th>2020</th>\n",
       "      <td>2318440</td>\n",
       "      <td></td>\n",
       "      <td>Aug</td>\n",
       "      <td>2014</td>\n",
       "      <td>(USA)</td>\n",
       "      <td>8</td>\n",
       "    </tr>\n",
       "    <tr>\n",
       "      <th>823</th>\n",
       "      <td>14501226</td>\n",
       "      <td>22</td>\n",
       "      <td>Dec</td>\n",
       "      <td>2006</td>\n",
       "      <td>(USA)</td>\n",
       "      <td>12</td>\n",
       "    </tr>\n",
       "    <tr>\n",
       "      <th>1722</th>\n",
       "      <td>3666024</td>\n",
       "      <td>20</td>\n",
       "      <td>Jan</td>\n",
       "      <td>2017</td>\n",
       "      <td>(USA)</td>\n",
       "      <td>1</td>\n",
       "    </tr>\n",
       "    <tr>\n",
       "      <th>2577</th>\n",
       "      <td>2948356</td>\n",
       "      <td>04</td>\n",
       "      <td>Mar</td>\n",
       "      <td>2016</td>\n",
       "      <td>(USA)</td>\n",
       "      <td>3</td>\n",
       "    </tr>\n",
       "    <tr>\n",
       "      <th>610</th>\n",
       "      <td>1851909</td>\n",
       "      <td>05</td>\n",
       "      <td>Mar</td>\n",
       "      <td>2011</td>\n",
       "      <td>(Japan)</td>\n",
       "      <td>3</td>\n",
       "    </tr>\n",
       "    <tr>\n",
       "      <th>1381</th>\n",
       "      <td>11212672</td>\n",
       "      <td>01</td>\n",
       "      <td>Jan</td>\n",
       "      <td>2019</td>\n",
       "      <td>(USA)</td>\n",
       "      <td>1</td>\n",
       "    </tr>\n",
       "    <tr>\n",
       "      <th>1076</th>\n",
       "      <td>12369756</td>\n",
       "      <td>05</td>\n",
       "      <td>May</td>\n",
       "      <td>2020</td>\n",
       "      <td>(USA)</td>\n",
       "      <td>5</td>\n",
       "    </tr>\n",
       "    <tr>\n",
       "      <th>1426</th>\n",
       "      <td>13048312</td>\n",
       "      <td>11</td>\n",
       "      <td>Jun</td>\n",
       "      <td>2021</td>\n",
       "      <td>(Japan)</td>\n",
       "      <td>6</td>\n",
       "    </tr>\n",
       "    <tr>\n",
       "      <th>2052</th>\n",
       "      <td>4926026</td>\n",
       "      <td>23</td>\n",
       "      <td>Sep</td>\n",
       "      <td>2015</td>\n",
       "      <td>(Belgium)</td>\n",
       "      <td>9</td>\n",
       "    </tr>\n",
       "    <tr>\n",
       "      <th>265</th>\n",
       "      <td>6139698</td>\n",
       "      <td>07</td>\n",
       "      <td>Mar</td>\n",
       "      <td>2015</td>\n",
       "      <td>(Japan)</td>\n",
       "      <td>3</td>\n",
       "    </tr>\n",
       "  </tbody>\n",
       "</table>\n",
       "</div>"
      ],
      "text/plain": [
       "       imdb_id day month  year    country  month_num\n",
       "2020   2318440       Aug  2014      (USA)          8\n",
       "823   14501226  22   Dec  2006      (USA)         12\n",
       "1722   3666024  20   Jan  2017      (USA)          1\n",
       "2577   2948356  04   Mar  2016      (USA)          3\n",
       "610    1851909  05   Mar  2011    (Japan)          3\n",
       "1381  11212672  01   Jan  2019      (USA)          1\n",
       "1076  12369756  05   May  2020      (USA)          5\n",
       "1426  13048312  11   Jun  2021    (Japan)          6\n",
       "2052   4926026  23   Sep  2015  (Belgium)          9\n",
       "265    6139698  07   Mar  2015    (Japan)          3"
      ]
     },
     "execution_count": 202,
     "metadata": {},
     "output_type": "execute_result"
    }
   ],
   "source": [
    "dates_df.sample(10)"
   ]
  },
  {
   "cell_type": "markdown",
   "id": "8c28d0a7",
   "metadata": {},
   "source": [
    "# Visualizing the data"
   ]
  },
  {
   "cell_type": "code",
   "execution_count": 151,
   "id": "149de290",
   "metadata": {
    "scrolled": true
   },
   "outputs": [
    {
     "data": {
      "image/png": "[encoded data removed]",
      "text/plain": [
       "<Figure size 432x288 with 1 Axes>"
      ]
     },
     "metadata": {
      "needs_background": "light"
     },
     "output_type": "display_data"
    }
   ],
   "source": [
    "#A scatter plot of month vs. nomination status\n",
    "plt.scatter(dates_df['month_num'],\n",
    "           nominees_df['is_nominee'])\n",
    "\n",
    "plt.xlabel(\"Month\")\n",
    "plt.ylabel(\"Nominated\")\n",
    "plt.title(\"Month vs. Status\", fontsize=16)\n",
    "plt.show()"
   ]
  },
  {
   "cell_type": "markdown",
   "id": "310a3f4b",
   "metadata": {},
   "source": [
    "This just tell us that every month, a nominated movie and a non-nominated movie have been released.  That's not super exicting..."
   ]
  },
  {
   "cell_type": "code",
   "execution_count": 186,
   "id": "d82cc59d",
   "metadata": {
    "scrolled": true
   },
   "outputs": [
    {
     "data": {
      "image/png": "[encoded data removed]",
      "text/plain": [
       "<Figure size 432x288 with 1 Axes>"
      ]
     },
     "metadata": {
      "needs_background": "light"
     },
     "output_type": "display_data"
    }
   ],
   "source": [
    "#histogram of nominees each month\n",
    "#First, we create a list of just the nominees' months\n",
    "nominee_months=[]\n",
    "for i in range(len(dates_df)):\n",
    "    if nominees_df['is_nominee'][i]==1:\n",
    "        nominee_months.append(dates_df['month_num'][i])\n",
    "\n",
    "#Now we make a histogram of the months\n",
    "plt.hist(nominee_months,\n",
    "             bins=13)\n",
    "\n",
    "plt.xlabel(\"Month\")\n",
    "plt.ylabel(\"Number of Nominees\")\n",
    "plt.title(\"Nominees per Month\", fontsize=16)\n",
    "\n",
    "plt.show()"
   ]
  },
  {
   "cell_type": "markdown",
   "id": "fd980a91",
   "metadata": {},
   "source": [
    "So, it seems that November is a really good month to release an animated movie!  Otherwise, June is a good month.\n",
    "\n",
    "But, perhaps November and June are just when a lot of movies are released.  Let's explore the proportion of released movies that get nominated each month."
   ]
  },
  {
   "cell_type": "code",
   "execution_count": 193,
   "id": "ffd26eca",
   "metadata": {},
   "outputs": [],
   "source": [
    "#First, we create counts for movies each month and nominees each month\n",
    "total_movies=np.zeros(13)\n",
    "total_nominated_movies=np.zeros(13)\n",
    "for i in range(len(dates_df)):\n",
    "    total_movies[dates_df['month_num'][i]]=total_movies[dates_df['month_num'][i]]+1\n",
    "    if nominees_df['is_nominee'][i] == 1:\n",
    "        total_nominated_movies[dates_df['month_num'][i]]=total_nominated_movies[dates_df['month_num'][i]]+1\n",
    "\n",
    "proportion = [total_nominated_movies[i]/total_movies[i] for i in range(13)]"
   ]
  },
  {
   "cell_type": "code",
   "execution_count": 213,
   "id": "4bc02714",
   "metadata": {},
   "outputs": [
    {
     "data": {
      "image/png": "[encoded data removed]",
      "text/plain": [
       "<Figure size 432x288 with 3 Axes>"
      ]
     },
     "metadata": {
      "needs_background": "light"
     },
     "output_type": "display_data"
    }
   ],
   "source": [
    "#Some plots to show any trends\n",
    "\n",
    "fig, (ax1, ax2, ax3) = plt.subplots(3, sharex=True)\n",
    "\n",
    "ax1.plot(range(13), total_nominated_movies)\n",
    "ax1.set_title(\"Number of Movies That Are Nominated per Month\", fontsize=10)\n",
    "\n",
    "ax2.plot(range(13), proportion)\n",
    "ax2.set_title(\"Proportion of Movies That Are Nominated per Month\", fontsize=10)\n",
    "\n",
    "ax3.plot(range(13), total_movies)\n",
    "ax3.set_title(\"Total Animated Movies Released per Month\", fontsize=10)\n",
    "\n",
    "\n",
    "plt.show()"
   ]
  },
  {
   "cell_type": "markdown",
   "id": "f100e9c1",
   "metadata": {},
   "source": [
    "So, the spikes in nominated movies don't seem to correlate with spikes in movie production!  Month of release might be a good indicator of nomination status."
   ]
  }
 ],
 "metadata": {
  "kernelspec": {
   "display_name": "Python 3 (ipykernel)",
   "language": "python",
   "name": "python3"
  },
  "language_info": {
   "codemirror_mode": {
    "name": "ipython",
    "version": 3
   },
   "file_extension": ".py",
   "mimetype": "text/x-python",
   "name": "python",
   "nbconvert_exporter": "python",
   "pygments_lexer": "ipython3",
   "version": "3.9.7"
  }
 },
 "nbformat": 4,
 "nbformat_minor": 5
}
