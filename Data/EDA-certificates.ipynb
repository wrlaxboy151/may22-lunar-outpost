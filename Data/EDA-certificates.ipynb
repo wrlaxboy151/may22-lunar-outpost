{
 "cells": [
  {
   "cell_type": "markdown",
   "id": "dfdb4511",
   "metadata": {},
   "source": [
    "# Importing the necessary packages and data\n"
   ]
  },
  {
   "cell_type": "code",
   "execution_count": 1,
   "id": "ee922cf0",
   "metadata": {},
   "outputs": [],
   "source": [
    "import pandas as pd"
   ]
  },
  {
   "cell_type": "code",
   "execution_count": 2,
   "id": "7d2943c8",
   "metadata": {},
   "outputs": [],
   "source": [
    "from sklearn.model_selection import train_test_split"
   ]
  },
  {
   "cell_type": "code",
   "execution_count": 3,
   "id": "effcc2d9",
   "metadata": {},
   "outputs": [],
   "source": [
    "import matplotlib.pyplot as plt\n",
    "import seaborn as sns\n",
    "import numpy as np"
   ]
  },
  {
   "cell_type": "code",
   "execution_count": 4,
   "id": "a3acfea7",
   "metadata": {},
   "outputs": [],
   "source": [
    "main_df=pd.read_pickle('Data/df_of_imdb_data.pkl')\n",
    "\n",
    "y=main_df['is_nominee'].copy()"
   ]
  },
  {
   "cell_type": "markdown",
   "id": "cc67954a",
   "metadata": {},
   "source": [
    "# Making the train-test split"
   ]
  },
  {
   "cell_type": "code",
   "execution_count": 5,
   "id": "e47ab8b1",
   "metadata": {},
   "outputs": [],
   "source": [
    "X_train, X_test, y_train, y_test = train_test_split(main_df.copy(), y,\n",
    "                                                       shuffle=True,\n",
    "                                                       random_state=126029,\n",
    "                                                       test_size=.2,\n",
    "                                                       stratify=y\n",
    "                                                   )"
   ]
  },
  {
   "cell_type": "markdown",
   "id": "a2ba13ed",
   "metadata": {},
   "source": [
    "# Parsing the certificates info"
   ]
  },
  {
   "cell_type": "markdown",
   "id": "b0992f40",
   "metadata": {},
   "source": [
    "We see here that there are over 1,000 types of certificates.  I spent some time trying to parse them with a mixture of Google and good sense, but then I decided that just focusing on US ratings would make more sense.\n",
    "\n",
    "This first section is a mess.  I suggest skipping down to the next section if you are reading this without the intent to work on it."
   ]
  },
  {
   "cell_type": "code",
   "execution_count": 24,
   "id": "6dfd4712",
   "metadata": {
    "scrolled": false
   },
   "outputs": [
    {
     "data": {
      "text/plain": [
       "Japan:G                                    733\n",
       "South Korea:All                            731\n",
       "Singapore:PG                               532\n",
       "Italy:T                                    515\n",
       "France:Tous publics                        504\n",
       "                                          ... \n",
       "Brazil:18::(iTunes)                          1\n",
       "Russia:16+::(TV rating, edited)              1\n",
       "United Kingdom:18::(recommended rating)      1\n",
       "United States:Unrated::(YouTube)             1\n",
       "Turkey:16+                                   1\n",
       "Name: certificates, Length: 1356, dtype: int64"
      ]
     },
     "execution_count": 24,
     "metadata": {},
     "output_type": "execute_result"
    }
   ],
   "source": [
    "main_df['certificates'].explode().value_counts()"
   ]
  },
  {
   "cell_type": "code",
   "execution_count": 75,
   "id": "33cdd772",
   "metadata": {},
   "outputs": [],
   "source": [
    "ratings=['pending' for i in range(3901)]"
   ]
  },
  {
   "cell_type": "code",
   "execution_count": 76,
   "id": "7318f17a",
   "metadata": {},
   "outputs": [],
   "source": [
    "#If not available, rating 'not available'\n",
    "for i in range(len(main_df)):\n",
    "    if main_df.iloc[i]['certificates']==[]:\n",
    "        ratings[i] = 'not available'"
   ]
  },
  {
   "cell_type": "code",
   "execution_count": 236,
   "id": "21db8c8f",
   "metadata": {},
   "outputs": [],
   "source": [
    "#Ratings roughly equivalent to G, rated as PG for international consistency:\n",
    "for i in range(len(main_df)):\n",
    "    if ratings[i] == 'pending':\n",
    "        for rating in main_df.iloc[i]['certificates']:\n",
    "            if 'United States:G' in rating:\n",
    "                ratings[i] = 'PG'\n",
    "            if 'United States:TV-G' in rating:\n",
    "                ratings[i]='PG'\n",
    "            elif 'Japan:G' in rating:\n",
    "                ratings[i] ='PG'\n",
    "            elif 'Japan:All Ages' in rating:\n",
    "                ratings[i]='PG'\n",
    "            elif 'Hong Kong:I' in rating:\n",
    "                ratings[i]='PG'\n",
    "            elif 'Finland:S' in rating:\n",
    "                ratings[i]='PG'\n",
    "            elif 'Spain:A' in rating:\n",
    "                ratings[i]='PG'\n",
    "            elif 'Italy:T' in rating:\n",
    "                ratings[i]='PG'\n",
    "            elif 'Malaysia:U' in rating:\n",
    "                ratings[i] = 'PG'\n",
    "            elif 'South Korea:All' in rating:\n",
    "                ratings[i]='PG'\n",
    "            elif 'Argentina:Atp' in rating:\n",
    "                ratings[i]='PG'\n",
    "            elif 'Canada:G' in rating:\n",
    "                ratings[i]='PG'\n",
    "            elif 'Germany:0' in rating:\n",
    "                ratings[i]='PG'\n",
    "            elif 'Australia:G' in rating:\n",
    "                ratings[i]='PG'\n",
    "            elif 'Russia:0+' in rating:\n",
    "                ratings[i] ='PG'\n",
    "            elif 'United Kingdom:U' in rating:\n",
    "                ratings[i]='PG'\n",
    "            elif 'Philippines:G' in rating:\n",
    "                ratings[i] = 'PG'\n",
    "            elif 'Brazil:Livre' in rating:\n",
    "                ratings[i]='PG'\n",
    "            elif 'Mexico:A' in rating:\n",
    "                ratings[i]='PG'\n",
    "            elif 'Singapore:G' in rating:\n",
    "                ratings[i] = 'PG'\n",
    "            elif 'Czechia:U' in rating:\n",
    "                ratings[i]='PG'\n",
    "            elif 'Denmark:A' in rating:\n",
    "                ratings[i] = 'PG'\n",
    "            elif 'India:U' in rating:\n",
    "                ratings[i] = 'PG'\n",
    "            elif 'Switzerland:0' in rating:\n",
    "                ratings[i] = 'PG'\n",
    "            elif 'Chile:TE' in rating:\n",
    "                ratings[i] = 'PG'"
   ]
  },
  {
   "cell_type": "code",
   "execution_count": 206,
   "id": "52550211",
   "metadata": {},
   "outputs": [],
   "source": [
    "#Roughly equivalent to PG\n",
    "for i in range(len(main_df)):\n",
    "    if ratings[i] == 'pending':\n",
    "        for rating in main_df.iloc[i]['certificates']:\n",
    "            if 'United States:PG' in rating:\n",
    "                ratings[i] = 'PG'\n",
    "            elif 'United States:TV-Y' in rating:\n",
    "                ratings[i]='PG'\n",
    "            elif 'United States:TV-PG' in rating:\n",
    "                ratings[i]='PG'\n",
    "            elif 'France:Tous publics' in rating:\n",
    "                ratings[i] ='PG'\n",
    "            elif 'United Kingdom:PG' in rating:\n",
    "                ratings[i]='PG'\n",
    "            elif 'Germany:6' in rating:\n",
    "                ratings[i]='PG'\n",
    "            elif 'Australia:PG' in rating:\n",
    "                ratings[i]='PG'\n",
    "            elif 'Singapore:PG' in rating:\n",
    "                ratings[i]='PG'"
   ]
  },
  {
   "cell_type": "code",
   "execution_count": 257,
   "id": "cb0cff4f",
   "metadata": {},
   "outputs": [],
   "source": [
    "#Roughly equivalent to PG-13:\n",
    "for i in range(len(main_df)):\n",
    "    if ratings[i] == 'pending':\n",
    "        for rating in main_df.iloc[i]['certificates']:\n",
    "            if 'United States:PG-13' in rating:\n",
    "                ratings[i] = 'PG-13'\n",
    "            elif 'United States:TV-14' in rating:\n",
    "                ratings[i]='PG-13'\n",
    "            elif 'Japan:PG-12' in rating:\n",
    "                ratings[i] ='PG-13'\n",
    "            elif 'Singapore:PG13' in rating:\n",
    "                ratings[i]='PG-13'\n",
    "            elif 'Germany:12' in rating:\n",
    "                ratings[i]='PG-13'\n",
    "            elif 'Spain:13' in rating:\n",
    "                ratings[i] = 'PG-13'\n",
    "            elif 'Finland:K-11' in rating:\n",
    "                ratings[i]='PG-13'\n",
    "            elif 'Argentina:13' in rating:\n",
    "                ratings[i] = 'PG-13'\n",
    "            elif 'South Korea:12' in rating:\n",
    "                ratings[i] = 'PG-13'\n",
    "            elif 'United Kingdom:12' in rating:\n",
    "                ratings[i]='PG-13'\n",
    "            elif 'United Kingdom:13' in rating:\n",
    "                ratings[i] = 'PG-13'\n",
    "            elif 'Philippines:PG-13' in rating:\n",
    "                ratings[i] = 'PG-13'\n",
    "            elif 'Japan:PG12' in rating:\n",
    "                ratings[i] = 'PG-13'\n",
    "            elif 'Brazil:12' in rating:\n",
    "                ratings[i] = 'PG-13'\n",
    "            elif 'Brazil:10' in rating:\n",
    "                ratings[i] = 'PG-13'\n",
    "            elif 'Brazil:14' in rating:\n",
    "                ratings[i] = 'PG-13'"
   ]
  },
  {
   "cell_type": "code",
   "execution_count": 247,
   "id": "d49d7bdc",
   "metadata": {},
   "outputs": [],
   "source": [
    "#Roughly equivalent to R\n",
    "for i in range(len(main_df)):\n",
    "    if ratings[i] == 'pending':\n",
    "        for rating in main_df.iloc[i]['certificates']:\n",
    "            if 'United States:R' in rating:\n",
    "                ratings[i] = 'R'\n",
    "            if 'United States:TV-MA' in rating:\n",
    "                ratings[i]='R'\n",
    "            elif 'United Kingdom:15' in rating:\n",
    "                ratings[i]='R'\n",
    "            elif 'Australia:M' in rating:\n",
    "                ratings[i]='R'\n",
    "            elif 'Singapore:NC-16' in rating:\n",
    "                ratings[i]='R'\n",
    "            elif 'Singapore:M18' in rating:\n",
    "                ratings[i]='R'\n",
    "            elif 'Japan:R-15' in rating:\n",
    "                ratings[i] ='R'\n",
    "            elif 'United States:M' in rating:\n",
    "                ratings[i]='R'\n",
    "            elif 'Brazil:16' in rating:\n",
    "                ratings[i] = 'R'\n"
   ]
  },
  {
   "cell_type": "code",
   "execution_count": 125,
   "id": "34c2d4fb",
   "metadata": {},
   "outputs": [],
   "source": [
    "#If rated United States:NC-17 , rating is NC-17\n",
    "for i in range(len(main_df)):\n",
    "    if ratings[i] == 'pending':\n",
    "        for rating in main_df.iloc[i]['certificates']:\n",
    "            if 'United States:NC-17' in rating:\n",
    "                ratings[i] = 'NC-17'\n",
    "            elif 'United Kingdom:18' in rating:\n",
    "                ratings[i] = 'NC-17'"
   ]
  },
  {
   "cell_type": "code",
   "execution_count": 240,
   "id": "4a7d6621",
   "metadata": {},
   "outputs": [],
   "source": [
    "#If no rating at all, not available\n",
    "for i in range(len(main_df)):\n",
    "    if ratings[i]=='pending':\n",
    "        if main_df.iloc[i]['certificates']==['United States:Unrated']:\n",
    "            ratings[i] = 'not available'\n",
    "        if main_df.iloc[i]['certificates'] ==['United States:Not Rated']:\n",
    "            ratings[i]='not available'\n",
    "        elif main_df.iloc[i]['certificates'] ==['Germany:Not Rated']:\n",
    "            ratings[i] = 'not available'"
   ]
  },
  {
   "cell_type": "code",
   "execution_count": 259,
   "id": "b1f4b74b",
   "metadata": {},
   "outputs": [
    {
     "name": "stdout",
     "output_type": "stream",
     "text": [
      "['Finland:K-3']\n",
      "['Switzerland:7::(canton of Geneva)', 'Switzerland:7::(canton of Vaud)']\n",
      "['Finland:K-7', 'Portugal:M/4', 'Switzerland:7::(canton of Geneva)', 'Switzerland:7::(canton of Vaud)']\n",
      "['Netherlands:AL']\n",
      "['Norway:A::(TV rating)', 'Sweden:Btl']\n",
      "['Netherlands:AL']\n",
      "['South Korea:15']\n",
      "['Netherlands:6']\n",
      "['Finland:K-7', 'Finland:K-3']\n",
      "['Portugal:M/12']\n",
      "['Belgium:KT/EA']\n",
      "['Portugal:M/4']\n",
      "['Hungary:12']\n",
      "['Canada:14A::(TV rating)', 'South Korea:15', 'United States:Not Rated']\n",
      "['Norway:7::(cinema rating)', 'Poland:13::(self-applied)']\n",
      "['Russia:16+']\n",
      "['Denmark:7', 'Norway:7::(recommended rating)', 'Sweden:Btl']\n",
      "['Russia:6+']\n",
      "['Finland:K-7', 'Norway:7::(DVD rating)']\n",
      "['Japan:A']\n",
      "['Finland:K-7', 'Netherlands:AL', 'Sweden:7']\n",
      "['Portugal:M/4']\n",
      "['Canada:18A::(Ontario)', 'France:12', 'Portugal:M/16']\n",
      "['Singapore:R21']\n",
      "['Denmark:16', 'Poland:16']\n",
      "['South Korea:15']\n",
      "['France:16']\n",
      "['Denmark:15', 'United States:Not Rated']\n",
      "['Italy:VM18::(dvd rating)']\n",
      "['Finland:K-3']\n",
      "['Turkey:G']\n",
      "['Nigeria:G::(self-applied)']\n",
      "['Russia:14+']\n",
      "['South Korea:18']\n",
      "['Chile:14', 'Denmark:15', 'Ireland:18::(self-applied)', 'Russia:18+', 'United States:Unrated']\n",
      "['Netherlands:9', 'Spain:7::(ICAA)']\n",
      "['United States:Unrated::(DVD rating)']\n",
      "['Spain:7']\n",
      "['Hungary:12', 'United States:Not Rated']\n",
      "['Finland:K-7::(TV)', 'Mexico:B']\n",
      "['United States:Not Rated', 'Ukraine:ZA']\n",
      "['Maldives:PG', 'Maldives:PU', 'Maldives:18+R', 'Maldives:18+', 'Maldives:15+', 'Maldives:12+']\n",
      "['Germany:16']\n",
      "['Canada:18A::(Alberta/British Columbia/Manitoba/Ontario)']\n",
      "['Netherlands:6']\n",
      "['Germany:16']\n",
      "['United States:Not Rated', 'Ukraine:ZA']\n",
      "['Netherlands:AL']\n",
      "['Ukraine:ZA']\n",
      "['Hungary:18', 'South Korea:15']\n",
      "['Germany:Not Rated', 'United States:Not Rated']\n",
      "['Germany:Not Rated', 'Singapore:NC16']\n",
      "['Denmark:7', 'Finland:K-7', 'Netherlands:6', 'Norway:A', 'Sweden:Btl', 'United States:Not Rated']\n",
      "['South Africa:A']\n",
      "['Netherlands:AL']\n",
      "['Netherlands:AL', 'United Kingdom:Not Rated']\n",
      "['Turkey:G']\n",
      "['Russia:6+']\n",
      "['Sweden:Btl']\n",
      "['Italy:VM14::(dvd rating)']\n",
      "['South Korea:15']\n"
     ]
    }
   ],
   "source": [
    "for i in range(0,2000):\n",
    "    if ratings[i] =='pending':\n",
    "        print(main_df.iloc[i]['certificates'])"
   ]
  },
  {
   "cell_type": "code",
   "execution_count": 21,
   "id": "13002a54",
   "metadata": {},
   "outputs": [
    {
     "data": {
      "text/plain": [
       "['United States:TV-PG',\n",
       " 'United States:R',\n",
       " 'United States:Unrated',\n",
       " 'United States:G',\n",
       " 'United States:PG-13',\n",
       " 'United States:TV-PG::(DL, TV rating.)',\n",
       " 'United States:TV-PG::(DLV)',\n",
       " 'United States:TV-PG::(TV Rating)',\n",
       " 'United States:PG',\n",
       " 'United States:Not Rated',\n",
       " 'United States:TV-14::(TV rating)',\n",
       " 'United States:TV-PG::(cable rating)',\n",
       " 'United States:TV-Y',\n",
       " 'United States:TV-G',\n",
       " 'United States:TV-PG::(ABC)',\n",
       " 'United States:TV-G::(Disney Channel)',\n",
       " 'United States:TV-Y7',\n",
       " 'United States:G::(No. 38494)',\n",
       " 'United States:TV-PG::(ABC Family)',\n",
       " 'United States:PG::(Approved No. 38658)',\n",
       " 'United States:TV-Y7::(Disney Channel)',\n",
       " 'United States:TV-G::(Fox Movie Channel)',\n",
       " 'United States:G::(No. 38853)',\n",
       " 'United States:TV-PG::(Disney)',\n",
       " 'United States:TV-G::(FreeForm)',\n",
       " 'United States:PG::(No. 38107)',\n",
       " 'United States:PG::(No. 39338)',\n",
       " 'United States:PG::(No. 39135)',\n",
       " 'United States:TV-G::(DVD rating)',\n",
       " 'United States:TV-PG::(TV rating)',\n",
       " 'United States:TV-MA',\n",
       " 'United States:Not Rated::(Suggested 15+)',\n",
       " 'United States:TV-14',\n",
       " 'United States:TV-G::(TV rating)',\n",
       " 'United States:TV-Y7-FV::(DVD rating)',\n",
       " 'United States:TV-Y7::(FV)',\n",
       " 'United States:TV-PG::(V)',\n",
       " 'United States:TV-14::(TV Rating)',\n",
       " 'United States:TV-MA::(Adult Swim airing)',\n",
       " 'United States:TV-PG::(DLV, TV Rating)',\n",
       " 'United States:TV-PG::(DV)',\n",
       " 'United States:TV-Y7::(DVD rating)',\n",
       " 'United States:TV-Y7::(TV rating)',\n",
       " 'United States:TV-MA::(cable rating)',\n",
       " 'United States:TV-Y7-FV::(TV rating)',\n",
       " 'United States:TV-G::(VHS and DVD rating)',\n",
       " 'United States:TV-Y::(Sprout)',\n",
       " 'United States:TV-Y::(Universal Kids)',\n",
       " 'United States:TV-PG::(VHS and DVD rating)',\n",
       " 'United States:TV-PG::(DLSV)',\n",
       " 'United States:TV-PG::(LV)',\n",
       " 'United States:TV-PG::(S, V)',\n",
       " 'United States:TV-G::(some airings)',\n",
       " 'United States:TV-14::(DLSV)',\n",
       " 'United States:TV-PG::(Cartoon Network)',\n",
       " 'United States:TV-14::(DVD rating)',\n",
       " 'United States:TV-PG::(Disney Channel)',\n",
       " 'United States:TV-Y7-FV',\n",
       " 'United States:TV-PG::(DVD rating)',\n",
       " 'United States:TV-PG::(V, Cartoon Network)',\n",
       " 'United States:TV-Y::(TV rating)',\n",
       " 'United States:TV-PG::(tv rating)',\n",
       " 'United States:TV-G::(Cartoon Network)',\n",
       " 'United States:Not Rated::(DVD rating)',\n",
       " 'United States:TV-14::(DVD)',\n",
       " 'United States:TV-14::(LVS)',\n",
       " 'United States:TV-MA::(Adult Swim Rating)',\n",
       " 'United States:PG::(featurette)',\n",
       " 'United States:TV-14::(ABC Family)',\n",
       " 'United States:PG-13::(No. 45146)',\n",
       " 'United States:G::(DVD rating)',\n",
       " 'United States:TV-14::(Adult Swim airing)',\n",
       " 'United States:TV-PG::(Nickelodeon)',\n",
       " 'United States:TV-G::(Most airings)',\n",
       " 'United States:TV-14::(Funimation DVD rating)',\n",
       " 'United States:TV-MA::(DVD rating)',\n",
       " 'United States:TV-Y7-FV::(Fox Movie Channel)',\n",
       " 'United States:TV-MA::(LSV)',\n",
       " 'United States:TV-G::(TV Rating)',\n",
       " 'United States:TV-Y7::(Universal Kids)',\n",
       " 'United States:TV-14::(video rating)',\n",
       " 'United States:TV-Y::(Netflix)',\n",
       " 'United States:TV-G::(Comedy Central)',\n",
       " 'United States:TV-MA::(Netflix)',\n",
       " 'United States:TV-14::(some airings)',\n",
       " 'United States:TV-PG::(video rating)',\n",
       " 'United States:TV-MA::(TV rating)',\n",
       " 'United States:TV-14::(V)',\n",
       " 'United States:TV-PG::(official rating)',\n",
       " 'United States:TV-PG::(Most airings)',\n",
       " 'United States:TV-Y7::(FV, Cartoon Network)',\n",
       " 'United States:TV-Y7::(Netflix)',\n",
       " 'United States:M',\n",
       " 'United States:TV-PG::(Netflix)',\n",
       " 'United States:Not Rated::(DVD and Blu-ray rating)',\n",
       " 'United States:Not Rated::(Amazon Prime self-rating)',\n",
       " 'United States:TV-MA::(L, V)',\n",
       " 'United States:TV-14::(Netflix)',\n",
       " 'United States:TV-PG::(DSV)',\n",
       " 'United States:TV-PG::(DS)',\n",
       " 'United States:TV-Y::(DVD rating)',\n",
       " 'United States:Unrated::(DVD rating)',\n",
       " 'United States:PG-13::(Tubi self-applied)',\n",
       " 'United States:Unrated::(YouTube)',\n",
       " 'United States:TV-G::(Nickelodeon)',\n",
       " 'United States:TV-PG::(Cartoon Network/Nickelodeon)',\n",
       " 'United States:TV-PG::(Netflix rating)',\n",
       " 'United States:TV-Y7::(Netflix self-rating)',\n",
       " 'United States:G::(self-applied)',\n",
       " 'United States:MA-17',\n",
       " 'United States:MA-13',\n",
       " 'United States:GA',\n",
       " 'United States:E',\n",
       " 'United States:TV-14::(self-applied)',\n",
       " 'United States:TV-PG::(FX)',\n",
       " 'United States:TV-14::(DLSV, TV rating)',\n",
       " 'United States:TV-MA::(LSV, TV rating)',\n",
       " 'United States:TV-PG::(DLS, TV Rating.)',\n",
       " 'United States:TV-14::(Funimation rating)',\n",
       " 'United States:Not Rated::(DVD and iTunes rating)',\n",
       " 'United States:TV-Y7::(FV, TV rating)',\n",
       " 'United States:TV-MA::(L, V, S, D)',\n",
       " 'United States:TV-PG::(new rating)',\n",
       " 'United States:Approved',\n",
       " 'United States:TV-PG::(D)',\n",
       " 'United States:Approved::(self-applied)',\n",
       " 'United States:E::(recommended rating)',\n",
       " 'United States:TV-PG::(DSV, TV rating)',\n",
       " 'United States:TV-Y7::(FV, Netflix self-rating)',\n",
       " 'United States:TV-Y7-FV::(video rating)',\n",
       " 'United States:Not Rated::(video rating)',\n",
       " 'United States:TV-MA::(streaming rating)',\n",
       " 'United States:Not Rated::(theatrical)',\n",
       " 'United States:TV-Y::(Netflix rating)',\n",
       " 'United States:PG-13::(subtitled)',\n",
       " 'United States:TV-MA::(self-applied)',\n",
       " 'United States:T',\n",
       " 'United States:E10+',\n",
       " 'United States:TV-PG::(self-applied)',\n",
       " 'United States:PG::(#52747)',\n",
       " 'United States:TV-Y7::(self-applied)',\n",
       " 'United States:TV-Y::(self-applied)',\n",
       " 'United States:TV-PG::(LV, TV Rating)',\n",
       " 'United States:TV-G::(self-applied)',\n",
       " 'United States:PG::(cert#53744)',\n",
       " 'United States:PG::(self-applied)',\n",
       " 'United States:G::(cert#53411)',\n",
       " 'United States:PG::(cert#53156)',\n",
       " 'United States:NC-17',\n",
       " 'United States:PG-13::([subtitled])']"
      ]
     },
     "execution_count": 21,
     "metadata": {},
     "output_type": "execute_result"
    }
   ],
   "source": [
    "L=[]\n",
    "for i in range(len(main_df['certificates'])):\n",
    "    for j in main_df['certificates'][i]:\n",
    "        if len(j)>13:\n",
    "            if j[0:13] =='United States':\n",
    "                if j not in L:\n",
    "                    L.append(j)\n",
    "L"
   ]
  },
  {
   "cell_type": "code",
   "execution_count": 40,
   "id": "0e9602b3",
   "metadata": {},
   "outputs": [
    {
     "data": {
      "text/plain": [
       "['Japan:G',\n",
       " 'Japan:PG-12',\n",
       " 'Japan:G::(Amazon Video Rating)',\n",
       " 'Japan:All Ages',\n",
       " 'Japan:G::(self-applied)',\n",
       " 'Japan:G::(new rating)',\n",
       " 'Japan:R-15',\n",
       " 'Japan:R-18',\n",
       " 'Japan:Unrated',\n",
       " 'Japan:G::(MTRCB)',\n",
       " 'Japan:(Banned)',\n",
       " 'Japan:R18+',\n",
       " 'Japan:PG12',\n",
       " 'Japan:R15+',\n",
       " 'Japan:A',\n",
       " 'Japan:G::(General Audience)',\n",
       " 'Japan:Z',\n",
       " 'Japan:C',\n",
       " 'Japan:15',\n",
       " 'Japan:PG12::(self-applied)',\n",
       " 'Japan:G::(theatrical rating)',\n",
       " 'Japan:R18+::(self-applied)']"
      ]
     },
     "execution_count": 40,
     "metadata": {},
     "output_type": "execute_result"
    }
   ],
   "source": [
    "J=[]\n",
    "for i in range(len(main_df['certificates'])):\n",
    "    for j in main_df['certificates'][i]:\n",
    "        if len(j)>5:\n",
    "            if j[0:5] =='Japan':\n",
    "                if j not in J:\n",
    "                    J.append(j)\n",
    "J"
   ]
  },
  {
   "cell_type": "markdown",
   "id": "ff6018ed",
   "metadata": {},
   "source": [
    "# US Ratings Only"
   ]
  },
  {
   "cell_type": "code",
   "execution_count": 333,
   "id": "5157b6c0",
   "metadata": {},
   "outputs": [],
   "source": [
    "#We create a list of ratings for the movies, using G, PG, PG-13, R to classify them (rough equivalents to TV ratings)\n",
    "def process_ratings(df):\n",
    "    '''inputs a dataframe (df) of movies\n",
    "    outputs a list of the US ratings'''\n",
    "    ratings = ['pending' for i in range(len(df))]\n",
    "\n",
    "    for i in range(len(df)):\n",
    "        #if ratings[i] == 'pending':\n",
    "            for rating in df.iloc[i]['certificates']:\n",
    "                if 'United States' ==rating[0:13]:\n",
    "                    #print(rating)\n",
    "                    if 'United States:G' in rating:\n",
    "                        ratings[i] = 'G'\n",
    "                    elif 'United States:TV-G' in rating:\n",
    "                        ratings[i] = 'G'\n",
    "                    elif 'United States:TV-Y' in rating:\n",
    "                        ratings[i]='PG'\n",
    "                    elif 'United States:PG-13' in rating:\n",
    "                        ratings[i]='PG-13'\n",
    "                    elif 'United States:PG' in rating:\n",
    "                        ratings[i]='PG' #ORDER HERE IS IMPORTANT!\n",
    "                        #print('this is normal')\n",
    "                    elif 'United States:TV-PG' in rating:\n",
    "                        ratings[i] = 'PG'\n",
    "                    elif 'United States:TV-14' in rating:\n",
    "                        ratings[i] = 'PG-13'\n",
    "                    elif 'United States:R' in rating:\n",
    "                        ratings[i] = 'R'\n",
    "                    elif 'United States:TV-MA' in rating:\n",
    "                        ratings[i]='R'\n",
    "                    elif 'United States:M' in rating:\n",
    "                        ratings[i]='R'\n",
    "                        #print('uh oh!')\n",
    "                    elif 'United States:NC-17' in rating:\n",
    "                        ratings[i] = 'R'\n",
    "    for i in range(len(df)):\n",
    "        if ratings[i] =='pending':\n",
    "            ratings[i] ='Unrated'\n",
    "    return ratings"
   ]
  },
  {
   "cell_type": "code",
   "execution_count": 334,
   "id": "deab0363",
   "metadata": {},
   "outputs": [],
   "source": [
    "ratings=process_ratings(X_train)"
   ]
  },
  {
   "cell_type": "code",
   "execution_count": 335,
   "id": "fe656bc1",
   "metadata": {},
   "outputs": [
    {
     "data": {
      "text/plain": [
       "['Unrated',\n",
       " 'G',\n",
       " 'Unrated',\n",
       " 'Unrated',\n",
       " 'Unrated',\n",
       " 'G',\n",
       " 'Unrated',\n",
       " 'Unrated',\n",
       " 'Unrated',\n",
       " 'G']"
      ]
     },
     "execution_count": 335,
     "metadata": {},
     "output_type": "execute_result"
    }
   ],
   "source": [
    "ratings[0:10]"
   ]
  },
  {
   "cell_type": "code",
   "execution_count": 337,
   "id": "b563c342",
   "metadata": {},
   "outputs": [],
   "source": [
    "#Assigning numbers to the rankings:\n",
    "#0 is unprovided, then in order of age-appropriateness\n",
    "rating_rank = []\n",
    "for i in range(len(ratings)):\n",
    "    if ratings[i] == 'G':\n",
    "        rating_rank.append(1)\n",
    "    elif ratings[i] == 'PG':\n",
    "        rating_rank.append(2)\n",
    "    elif ratings[i] == 'PG-13':\n",
    "        rating_rank.append(3)\n",
    "    elif ratings[i] == 'R':\n",
    "        rating_rank.append(4)\n",
    "    elif ratings[i] == 'Unrated':\n",
    "        rating_rank.append(0)\n",
    "    else:\n",
    "        print(\"You missed one!\")\n",
    "        print(ratings[i])"
   ]
  },
  {
   "cell_type": "code",
   "execution_count": 338,
   "id": "4473e4f1",
   "metadata": {},
   "outputs": [
    {
     "data": {
      "text/plain": [
       "3120"
      ]
     },
     "execution_count": 338,
     "metadata": {},
     "output_type": "execute_result"
    }
   ],
   "source": [
    "len(ratings)"
   ]
  },
  {
   "cell_type": "code",
   "execution_count": 341,
   "id": "6028d242",
   "metadata": {
    "scrolled": false
   },
   "outputs": [
    {
     "data": {
      "text/plain": [
       "PG         49\n",
       "G          12\n",
       "PG-13       7\n",
       "R           2\n",
       "Unrated     1\n",
       "Name: rating, dtype: int64"
      ]
     },
     "execution_count": 341,
     "metadata": {},
     "output_type": "execute_result"
    }
   ],
   "source": [
    "nominee_ratings= pd.DataFrame({'imdb_id': [],\n",
    "                    'rating': []})\n",
    "for i in range(len(ratings)):\n",
    "    if X_train.iloc[i]['is_nominee'] ==1:\n",
    "        nominee_ratings.loc[len(nominee_ratings.index)] = [X_train.iloc[i]['imdb_id'], ratings[i]]\n",
    "        \n",
    "nominee_ratings['rating'].value_counts()    "
   ]
  },
  {
   "cell_type": "code",
   "execution_count": 343,
   "id": "80c27803",
   "metadata": {},
   "outputs": [
    {
     "data": {
      "text/plain": [
       "467"
      ]
     },
     "execution_count": 343,
     "metadata": {},
     "output_type": "execute_result"
    }
   ],
   "source": [
    "ratings.count('PG')"
   ]
  },
  {
   "cell_type": "markdown",
   "id": "8c28d0a7",
   "metadata": {},
   "source": [
    "# Visualizing the data"
   ]
  },
  {
   "cell_type": "code",
   "execution_count": 346,
   "id": "5a34f524",
   "metadata": {
    "scrolled": false
   },
   "outputs": [
    {
     "data": {
      "image/png": "[encoded data removed]",
      "text/plain": [
       "<Figure size 432x288 with 1 Axes>"
      ]
     },
     "metadata": {
      "needs_background": "light"
     },
     "output_type": "display_data"
    }
   ],
   "source": [
    "#What ratings are the nominated movies?\n",
    "toplot=nominee_ratings['rating'].value_counts()\n",
    "\n",
    "ax=toplot.plot.bar(xlabel='Rating', ylabel='Number of Nominees', rot=0,\n",
    "                    title='US Ratings of Nominees')"
   ]
  },
  {
   "cell_type": "code",
   "execution_count": 352,
   "id": "63c8650d",
   "metadata": {},
   "outputs": [
    {
     "data": {
      "text/plain": [
       "2"
      ]
     },
     "execution_count": 352,
     "metadata": {},
     "output_type": "execute_result"
    }
   ],
   "source": [
    "nominee_ratings['rating'].value_counts()[3]"
   ]
  },
  {
   "cell_type": "code",
   "execution_count": 358,
   "id": "726e4a61",
   "metadata": {},
   "outputs": [
    {
     "data": {
      "image/png": "[encoded data removed]",
      "text/plain": [
       "<Figure size 1440x576 with 1 Axes>"
      ]
     },
     "metadata": {
      "needs_background": "light"
     },
     "output_type": "display_data"
    }
   ],
   "source": [
    "#What proportion of all movies of a given rating are nominees?\n",
    "toplot=pd.DataFrame({'PG':[nominee_ratings['rating'].value_counts()[0]/ratings.count('PG')],\n",
    "        'G':[nominee_ratings['rating'].value_counts()[1]/ratings.count('G')],\n",
    "        'PG-13':[nominee_ratings['rating'].value_counts()[2]/ratings.count('PG-13')],\n",
    "        'R':[nominee_ratings['rating'].value_counts()[3]/ratings.count('R')],\n",
    "        'Unrated':[nominee_ratings['rating'].value_counts()[4]/ratings.count('Unrated')]\n",
    "        })\n",
    "\n",
    "ax=toplot.plot.bar(xlabel='Rating', ylabel='Propotion Which Are Nominees', figsize=(20,8),\n",
    "                    title='Proportionate Ratings of Nominees')"
   ]
  },
  {
   "cell_type": "code",
   "execution_count": null,
   "id": "47f10205",
   "metadata": {},
   "outputs": [],
   "source": []
  }
 ],
 "metadata": {
  "kernelspec": {
   "display_name": "Python 3 (ipykernel)",
   "language": "python",
   "name": "python3"
  },
  "language_info": {
   "codemirror_mode": {
    "name": "ipython",
    "version": 3
   },
   "file_extension": ".py",
   "mimetype": "text/x-python",
   "name": "python",
   "nbconvert_exporter": "python",
   "pygments_lexer": "ipython3",
   "version": "3.9.7"
  }
 },
 "nbformat": 4,
 "nbformat_minor": 5
}
