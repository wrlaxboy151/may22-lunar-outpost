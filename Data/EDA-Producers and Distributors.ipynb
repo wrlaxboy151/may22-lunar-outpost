{
 "cells": [
  {
   "cell_type": "markdown",
   "id": "7c941859",
   "metadata": {},
   "source": [
    "# Importing the necessary packages and data\n"
   ]
  },
  {
   "cell_type": "code",
   "execution_count": 1,
   "id": "3aaa37cc",
   "metadata": {},
   "outputs": [],
   "source": [
    "import pandas as pd"
   ]
  },
  {
   "cell_type": "code",
   "execution_count": 2,
   "id": "b3f81e0c",
   "metadata": {},
   "outputs": [],
   "source": [
    "from sklearn.model_selection import train_test_split"
   ]
  },
  {
   "cell_type": "code",
   "execution_count": 3,
   "id": "96e27c84",
   "metadata": {},
   "outputs": [],
   "source": [
    "import matplotlib.pyplot as plt\n",
    "import seaborn as sns\n",
    "import numpy as np"
   ]
  },
  {
   "cell_type": "code",
   "execution_count": 15,
   "id": "4263c164",
   "metadata": {},
   "outputs": [],
   "source": [
    "main_df=pd.read_pickle('Data/df_of_imdb_data.pkl')\n",
    "\n",
    "y=main_df['is_nominee']"
   ]
  },
  {
   "cell_type": "markdown",
   "id": "06da80f4",
   "metadata": {},
   "source": [
    "# Making the train-test split"
   ]
  },
  {
   "cell_type": "code",
   "execution_count": 17,
   "id": "ee22d9ee",
   "metadata": {},
   "outputs": [],
   "source": [
    "X_train, X_test, y_train, y_test = train_test_split(main_df.copy(),\n",
    "                                                    y,\n",
    "                                                       shuffle=True,\n",
    "                                                       random_state=126029,\n",
    "                                                       test_size=.2,\n",
    "                                                       stratify=y\n",
    "                                                   )"
   ]
  },
  {
   "cell_type": "markdown",
   "id": "e82dd1c6",
   "metadata": {},
   "source": [
    "# Getting the lengths of producers and distributors lists"
   ]
  },
  {
   "cell_type": "code",
   "execution_count": 37,
   "id": "3368efad",
   "metadata": {},
   "outputs": [],
   "source": [
    "def get_lens_df(df):\n",
    "    '''input the dataframe of movie info (df)\n",
    "    outputs a dataframe:\n",
    "    imdb_id, len(producers), len(distributors), nominee status'''\n",
    "    lens_df= pd.DataFrame({'imdb_id': [],\n",
    "                        'len_prod':[],\n",
    "                        'len_dist':[] ,\n",
    "                        'is_nominee':[]})\n",
    "    for i in range(0, len(df)):\n",
    "        row=df.iloc[i]\n",
    "        newrow=[\n",
    "            row['imdb_id'],\n",
    "            len(row['producers']),\n",
    "            len(row['distributors']),\n",
    "            row['is_nominee']\n",
    "                ]\n",
    "        lens_df.loc[len(lens_df.index)] = newrow \n",
    "    return(lens_df)"
   ]
  },
  {
   "cell_type": "code",
   "execution_count": 39,
   "id": "8b499e44",
   "metadata": {
    "scrolled": true
   },
   "outputs": [],
   "source": [
    "lens_df = get_lens_df(X_train)"
   ]
  },
  {
   "cell_type": "code",
   "execution_count": 41,
   "id": "84933212",
   "metadata": {},
   "outputs": [
    {
     "data": {
      "text/html": [
       "<div>\n",
       "<style scoped>\n",
       "    .dataframe tbody tr th:only-of-type {\n",
       "        vertical-align: middle;\n",
       "    }\n",
       "\n",
       "    .dataframe tbody tr th {\n",
       "        vertical-align: top;\n",
       "    }\n",
       "\n",
       "    .dataframe thead th {\n",
       "        text-align: right;\n",
       "    }\n",
       "</style>\n",
       "<table border=\"1\" class=\"dataframe\">\n",
       "  <thead>\n",
       "    <tr style=\"text-align: right;\">\n",
       "      <th></th>\n",
       "      <th>imdb_id</th>\n",
       "      <th>len_prod</th>\n",
       "      <th>len_dist</th>\n",
       "      <th>is_nominee</th>\n",
       "    </tr>\n",
       "  </thead>\n",
       "  <tbody>\n",
       "    <tr>\n",
       "      <th>0</th>\n",
       "      <td>2509428</td>\n",
       "      <td>1</td>\n",
       "      <td>1</td>\n",
       "      <td>0</td>\n",
       "    </tr>\n",
       "    <tr>\n",
       "      <th>1</th>\n",
       "      <td>0206367</td>\n",
       "      <td>6</td>\n",
       "      <td>7</td>\n",
       "      <td>0</td>\n",
       "    </tr>\n",
       "    <tr>\n",
       "      <th>2</th>\n",
       "      <td>5480816</td>\n",
       "      <td>3</td>\n",
       "      <td>5</td>\n",
       "      <td>0</td>\n",
       "    </tr>\n",
       "    <tr>\n",
       "      <th>3</th>\n",
       "      <td>0455142</td>\n",
       "      <td>4</td>\n",
       "      <td>13</td>\n",
       "      <td>0</td>\n",
       "    </tr>\n",
       "    <tr>\n",
       "      <th>4</th>\n",
       "      <td>11457742</td>\n",
       "      <td>0</td>\n",
       "      <td>0</td>\n",
       "      <td>0</td>\n",
       "    </tr>\n",
       "    <tr>\n",
       "      <th>5</th>\n",
       "      <td>6306568</td>\n",
       "      <td>2</td>\n",
       "      <td>0</td>\n",
       "      <td>0</td>\n",
       "    </tr>\n",
       "    <tr>\n",
       "      <th>6</th>\n",
       "      <td>7264946</td>\n",
       "      <td>3</td>\n",
       "      <td>0</td>\n",
       "      <td>0</td>\n",
       "    </tr>\n",
       "    <tr>\n",
       "      <th>7</th>\n",
       "      <td>11814526</td>\n",
       "      <td>0</td>\n",
       "      <td>1</td>\n",
       "      <td>0</td>\n",
       "    </tr>\n",
       "    <tr>\n",
       "      <th>8</th>\n",
       "      <td>19719738</td>\n",
       "      <td>0</td>\n",
       "      <td>0</td>\n",
       "      <td>0</td>\n",
       "    </tr>\n",
       "    <tr>\n",
       "      <th>9</th>\n",
       "      <td>0885415</td>\n",
       "      <td>13</td>\n",
       "      <td>25</td>\n",
       "      <td>0</td>\n",
       "    </tr>\n",
       "    <tr>\n",
       "      <th>10</th>\n",
       "      <td>1155696</td>\n",
       "      <td>0</td>\n",
       "      <td>2</td>\n",
       "      <td>0</td>\n",
       "    </tr>\n",
       "    <tr>\n",
       "      <th>11</th>\n",
       "      <td>1006926</td>\n",
       "      <td>6</td>\n",
       "      <td>2</td>\n",
       "      <td>0</td>\n",
       "    </tr>\n",
       "    <tr>\n",
       "      <th>12</th>\n",
       "      <td>2321301</td>\n",
       "      <td>5</td>\n",
       "      <td>1</td>\n",
       "      <td>0</td>\n",
       "    </tr>\n",
       "    <tr>\n",
       "      <th>13</th>\n",
       "      <td>0300576</td>\n",
       "      <td>3</td>\n",
       "      <td>3</td>\n",
       "      <td>0</td>\n",
       "    </tr>\n",
       "    <tr>\n",
       "      <th>14</th>\n",
       "      <td>0432283</td>\n",
       "      <td>8</td>\n",
       "      <td>40</td>\n",
       "      <td>1</td>\n",
       "    </tr>\n",
       "  </tbody>\n",
       "</table>\n",
       "</div>"
      ],
      "text/plain": [
       "     imdb_id  len_prod  len_dist  is_nominee\n",
       "0    2509428         1         1           0\n",
       "1    0206367         6         7           0\n",
       "2    5480816         3         5           0\n",
       "3    0455142         4        13           0\n",
       "4   11457742         0         0           0\n",
       "5    6306568         2         0           0\n",
       "6    7264946         3         0           0\n",
       "7   11814526         0         1           0\n",
       "8   19719738         0         0           0\n",
       "9    0885415        13        25           0\n",
       "10   1155696         0         2           0\n",
       "11   1006926         6         2           0\n",
       "12   2321301         5         1           0\n",
       "13   0300576         3         3           0\n",
       "14   0432283         8        40           1"
      ]
     },
     "execution_count": 41,
     "metadata": {},
     "output_type": "execute_result"
    }
   ],
   "source": [
    "lens_df.head(15)"
   ]
  },
  {
   "cell_type": "markdown",
   "id": "3b144b25",
   "metadata": {},
   "source": [
    "# Visualizing the data"
   ]
  },
  {
   "cell_type": "code",
   "execution_count": 46,
   "id": "e7c38103",
   "metadata": {},
   "outputs": [
    {
     "data": {
      "image/png": "[encoded data removed]",
      "text/plain": [
       "<Figure size 432x288 with 1 Axes>"
      ]
     },
     "metadata": {
      "needs_background": "light"
     },
     "output_type": "display_data"
    }
   ],
   "source": [
    "plt.scatter(lens_df['len_prod'],\n",
    "           lens_df['is_nominee'])\n",
    "\n",
    "plt.title(\"Number of Producers vs Nomination\", fontsize=16)\n",
    "\n",
    "plt.xlabel(\"# of Producers\")\n",
    "plt.ylabel('Is Nominated')\n",
    "\n",
    "plt.show()"
   ]
  },
  {
   "cell_type": "markdown",
   "id": "c659741f",
   "metadata": {},
   "source": [
    "There does seem to be a sweet spot of 1-20 producers, but this data doesn't seem to suggest anything strong.  If anything, less producers is better."
   ]
  },
  {
   "cell_type": "code",
   "execution_count": 47,
   "id": "0da1e6bf",
   "metadata": {},
   "outputs": [
    {
     "data": {
      "image/png": "[encoded data removed]",
      "text/plain": [
       "<Figure size 432x288 with 1 Axes>"
      ]
     },
     "metadata": {
      "needs_background": "light"
     },
     "output_type": "display_data"
    }
   ],
   "source": [
    "plt.scatter(lens_df['len_dist'],\n",
    "           lens_df['is_nominee'])\n",
    "\n",
    "plt.title(\"Number of Distributors vs Nomination\", fontsize=16)\n",
    "\n",
    "plt.xlabel(\"# of Distributors\")\n",
    "plt.ylabel('Is Nominated')\n",
    "\n",
    "plt.show()"
   ]
  },
  {
   "cell_type": "markdown",
   "id": "d8ef0a8b",
   "metadata": {},
   "source": [
    "There's a slight correlation of more distributors to nomination status, and one very, very big outlier.\n",
    "\n",
    "Who is that outlier?"
   ]
  },
  {
   "cell_type": "code",
   "execution_count": 48,
   "id": "d27f7954",
   "metadata": {},
   "outputs": [
    {
     "data": {
      "text/html": [
       "<div>\n",
       "<style scoped>\n",
       "    .dataframe tbody tr th:only-of-type {\n",
       "        vertical-align: middle;\n",
       "    }\n",
       "\n",
       "    .dataframe tbody tr th {\n",
       "        vertical-align: top;\n",
       "    }\n",
       "\n",
       "    .dataframe thead th {\n",
       "        text-align: right;\n",
       "    }\n",
       "</style>\n",
       "<table border=\"1\" class=\"dataframe\">\n",
       "  <thead>\n",
       "    <tr style=\"text-align: right;\">\n",
       "      <th></th>\n",
       "      <th>imdb_id</th>\n",
       "      <th>len_prod</th>\n",
       "      <th>len_dist</th>\n",
       "      <th>is_nominee</th>\n",
       "    </tr>\n",
       "  </thead>\n",
       "  <tbody>\n",
       "    <tr>\n",
       "      <th>1318</th>\n",
       "      <td>0126029</td>\n",
       "      <td>11</td>\n",
       "      <td>160</td>\n",
       "      <td>1</td>\n",
       "    </tr>\n",
       "  </tbody>\n",
       "</table>\n",
       "</div>"
      ],
      "text/plain": [
       "      imdb_id  len_prod  len_dist  is_nominee\n",
       "1318  0126029        11       160           1"
      ]
     },
     "execution_count": 48,
     "metadata": {},
     "output_type": "execute_result"
    }
   ],
   "source": [
    "lens_df[lens_df['len_dist']>120]"
   ]
  },
  {
   "cell_type": "code",
   "execution_count": 50,
   "id": "a73c8b8a",
   "metadata": {
    "scrolled": true
   },
   "outputs": [
    {
     "data": {
      "text/plain": [
       "15    Shrek\n",
       "Name: titles, dtype: object"
      ]
     },
     "execution_count": 50,
     "metadata": {},
     "output_type": "execute_result"
    }
   ],
   "source": [
    "main_df[main_df['imdb_id']=='0126029']['titles']"
   ]
  },
  {
   "cell_type": "markdown",
   "id": "4771af3c",
   "metadata": {},
   "source": [
    "Of course it's Shrek."
   ]
  }
 ],
 "metadata": {
  "kernelspec": {
   "display_name": "Python 3 (ipykernel)",
   "language": "python",
   "name": "python3"
  },
  "language_info": {
   "codemirror_mode": {
    "name": "ipython",
    "version": 3
   },
   "file_extension": ".py",
   "mimetype": "text/x-python",
   "name": "python",
   "nbconvert_exporter": "python",
   "pygments_lexer": "ipython3",
   "version": "3.9.7"
  }
 },
 "nbformat": 4,
 "nbformat_minor": 5
}
