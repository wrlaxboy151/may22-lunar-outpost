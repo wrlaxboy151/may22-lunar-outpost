{
 "cells": [
  {
   "cell_type": "markdown",
   "id": "7c941859",
   "metadata": {},
   "source": [
    "# Importing the necessary packages and data\n"
   ]
  },
  {
   "cell_type": "code",
   "execution_count": 1,
   "id": "3aaa37cc",
   "metadata": {},
   "outputs": [],
   "source": [
    "import pandas as pd"
   ]
  },
  {
   "cell_type": "code",
   "execution_count": 2,
   "id": "b3f81e0c",
   "metadata": {},
   "outputs": [],
   "source": [
    "from sklearn.model_selection import train_test_split"
   ]
  },
  {
   "cell_type": "code",
   "execution_count": 3,
   "id": "96e27c84",
   "metadata": {},
   "outputs": [],
   "source": [
    "import matplotlib.pyplot as plt\n",
    "import seaborn as sns\n",
    "import numpy as np"
   ]
  },
  {
   "cell_type": "code",
   "execution_count": 4,
   "id": "4263c164",
   "metadata": {},
   "outputs": [],
   "source": [
    "main_df=pd.read_pickle('Data/df_of_imdb_data.pkl')\n",
    "\n",
    "y=main_df['is_nominee']"
   ]
  },
  {
   "cell_type": "markdown",
   "id": "06da80f4",
   "metadata": {},
   "source": [
    "# Making the train-test split"
   ]
  },
  {
   "cell_type": "code",
   "execution_count": 5,
   "id": "ee22d9ee",
   "metadata": {},
   "outputs": [],
   "source": [
    "X_train, X_test, y_train, y_test = train_test_split(main_df.copy(),\n",
    "                                                    y,\n",
    "                                                       shuffle=True,\n",
    "                                                       random_state=126029,\n",
    "                                                       test_size=.2,\n",
    "                                                       stratify=y\n",
    "                                                   )"
   ]
  },
  {
   "cell_type": "markdown",
   "id": "e82dd1c6",
   "metadata": {},
   "source": [
    "# Cleaning the voting data"
   ]
  },
  {
   "cell_type": "code",
   "execution_count": 15,
   "id": "3368efad",
   "metadata": {},
   "outputs": [],
   "source": [
    "def empty_votes(df):\n",
    "    '''input the dataframe of movie info (df)\n",
    "    outputs a dataframe:\n",
    "    imdb_id, votes\n",
    "    where votes is 0 if votes was []'''\n",
    "    votes_df= pd.DataFrame({'imdb_id': [],\n",
    "                        'votes':[]})\n",
    "    for i in range(0, len(df)):\n",
    "        row=df.iloc[i]\n",
    "        if row['votes']==[]:\n",
    "            vote=0\n",
    "        else:\n",
    "            vote=row['votes']\n",
    "        newrow=[\n",
    "            row['imdb_id'],\n",
    "            vote\n",
    "                ]\n",
    "        votes_df.loc[len(votes_df.index)] = newrow \n",
    "    return(votes_df)"
   ]
  },
  {
   "cell_type": "code",
   "execution_count": 16,
   "id": "8b499e44",
   "metadata": {
    "scrolled": true
   },
   "outputs": [],
   "source": [
    "votes_df = empty_votes(X_train)"
   ]
  },
  {
   "cell_type": "code",
   "execution_count": 19,
   "id": "84933212",
   "metadata": {},
   "outputs": [
    {
     "data": {
      "text/html": [
       "<div>\n",
       "<style scoped>\n",
       "    .dataframe tbody tr th:only-of-type {\n",
       "        vertical-align: middle;\n",
       "    }\n",
       "\n",
       "    .dataframe tbody tr th {\n",
       "        vertical-align: top;\n",
       "    }\n",
       "\n",
       "    .dataframe thead th {\n",
       "        text-align: right;\n",
       "    }\n",
       "</style>\n",
       "<table border=\"1\" class=\"dataframe\">\n",
       "  <thead>\n",
       "    <tr style=\"text-align: right;\">\n",
       "      <th></th>\n",
       "      <th>imdb_id</th>\n",
       "      <th>votes</th>\n",
       "    </tr>\n",
       "  </thead>\n",
       "  <tbody>\n",
       "    <tr>\n",
       "      <th>0</th>\n",
       "      <td>2509428</td>\n",
       "      <td>13</td>\n",
       "    </tr>\n",
       "    <tr>\n",
       "      <th>1</th>\n",
       "      <td>0206367</td>\n",
       "      <td>1160</td>\n",
       "    </tr>\n",
       "    <tr>\n",
       "      <th>2</th>\n",
       "      <td>5480816</td>\n",
       "      <td>46</td>\n",
       "    </tr>\n",
       "    <tr>\n",
       "      <th>3</th>\n",
       "      <td>0455142</td>\n",
       "      <td>1537</td>\n",
       "    </tr>\n",
       "    <tr>\n",
       "      <th>4</th>\n",
       "      <td>11457742</td>\n",
       "      <td>0</td>\n",
       "    </tr>\n",
       "  </tbody>\n",
       "</table>\n",
       "</div>"
      ],
      "text/plain": [
       "    imdb_id  votes\n",
       "0   2509428     13\n",
       "1   0206367   1160\n",
       "2   5480816     46\n",
       "3   0455142   1537\n",
       "4  11457742      0"
      ]
     },
     "execution_count": 19,
     "metadata": {},
     "output_type": "execute_result"
    }
   ],
   "source": [
    "votes_df.head()"
   ]
  },
  {
   "cell_type": "markdown",
   "id": "3b144b25",
   "metadata": {},
   "source": [
    "# Visualizing the data"
   ]
  },
  {
   "cell_type": "code",
   "execution_count": 18,
   "id": "e7c38103",
   "metadata": {},
   "outputs": [
    {
     "data": {
      "image/png": "[encoded data removed]",
      "text/plain": [
       "<Figure size 432x288 with 1 Axes>"
      ]
     },
     "metadata": {
      "needs_background": "light"
     },
     "output_type": "display_data"
    }
   ],
   "source": [
    "plt.scatter(votes_df['votes'],\n",
    "           X_train['is_nominee'])\n",
    "\n",
    "plt.title(\"Number of IMDb Votes vs Nomination\", fontsize=16)\n",
    "\n",
    "plt.xlabel(\"# of Votes\")\n",
    "plt.ylabel('Is Nominated')\n",
    "\n",
    "plt.show()"
   ]
  },
  {
   "cell_type": "markdown",
   "id": "bb92f9bf",
   "metadata": {},
   "source": [
    "So there seems to be a correlation to more votes $\\rightarrow$ more nominations"
   ]
  }
 ],
 "metadata": {
  "kernelspec": {
   "display_name": "Python 3 (ipykernel)",
   "language": "python",
   "name": "python3"
  },
  "language_info": {
   "codemirror_mode": {
    "name": "ipython",
    "version": 3
   },
   "file_extension": ".py",
   "mimetype": "text/x-python",
   "name": "python",
   "nbconvert_exporter": "python",
   "pygments_lexer": "ipython3",
   "version": "3.9.7"
  }
 },
 "nbformat": 4,
 "nbformat_minor": 5
}
