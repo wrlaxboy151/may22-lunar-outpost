{
 "cells": [
  {
   "cell_type": "markdown",
   "id": "d9cf8991",
   "metadata": {},
   "source": [
    "# Creating a Model to Predict whether an Animated Film will Nominated.\n",
    "\n",
    "## Feature\n",
    "In this model the only feature I will consider is the month of a movie release. "
   ]
  },
  {
   "cell_type": "code",
   "execution_count": 21,
   "id": "88784d45",
   "metadata": {},
   "outputs": [],
   "source": [
    "# import packages for handling the data and plotting \n",
    "import numpy as np\n",
    "import pandas as pd\n",
    "\n",
    "import seaborn as sns\n",
    "import matplotlib.pyplot as plt\n",
    "\n",
    "from imdb import Cinemagoer\n",
    "\n",
    "from helper_functions import a, get_month, drop_test, timeseries_split\n",
    "\n",
    "sns.set_style(\"whitegrid\")"
   ]
  },
  {
   "cell_type": "code",
   "execution_count": 22,
   "id": "f175acea",
   "metadata": {},
   "outputs": [
    {
     "data": {
      "text/html": [
       "<div>\n",
       "<style scoped>\n",
       "    .dataframe tbody tr th:only-of-type {\n",
       "        vertical-align: middle;\n",
       "    }\n",
       "\n",
       "    .dataframe tbody tr th {\n",
       "        vertical-align: top;\n",
       "    }\n",
       "\n",
       "    .dataframe thead th {\n",
       "        text-align: right;\n",
       "    }\n",
       "</style>\n",
       "<table border=\"1\" class=\"dataframe\">\n",
       "  <thead>\n",
       "    <tr style=\"text-align: right;\">\n",
       "      <th></th>\n",
       "      <th>imdb_id</th>\n",
       "      <th>titles</th>\n",
       "      <th>year</th>\n",
       "      <th>original_air_date</th>\n",
       "      <th>countries</th>\n",
       "      <th>language</th>\n",
       "      <th>genres</th>\n",
       "      <th>certificates</th>\n",
       "      <th>rating</th>\n",
       "      <th>votes</th>\n",
       "      <th>color_info</th>\n",
       "      <th>runtimes</th>\n",
       "      <th>box_office</th>\n",
       "      <th>producers</th>\n",
       "      <th>directors</th>\n",
       "      <th>production_company</th>\n",
       "      <th>distributors</th>\n",
       "      <th>metascore</th>\n",
       "      <th>is_nominee</th>\n",
       "    </tr>\n",
       "  </thead>\n",
       "  <tbody>\n",
       "    <tr>\n",
       "      <th>0</th>\n",
       "      <td>0388130</td>\n",
       "      <td>Initial D: Third Stage</td>\n",
       "      <td>2001</td>\n",
       "      <td>13 Jan 2001 (Japan)</td>\n",
       "      <td>[Japan]</td>\n",
       "      <td>[en, ja, cmn]</td>\n",
       "      <td>[Animation, Action, Romance, Sport]</td>\n",
       "      <td>[Australia:PG, Japan:G, United States:TV-PG]</td>\n",
       "      <td>7.6</td>\n",
       "      <td>1390</td>\n",
       "      <td>[Color]</td>\n",
       "      <td>[100]</td>\n",
       "      <td>[]</td>\n",
       "      <td>[2246748]</td>\n",
       "      <td>[1245306, 1564830]</td>\n",
       "      <td>[0179653, 0021660, 0099762, 0113955, 0036168]</td>\n",
       "      <td>[0179653, 0053157, 0039940, 0921883]</td>\n",
       "      <td>{'data': {}, 'titlesRefs': {}, 'namesRefs': {}}</td>\n",
       "      <td>0</td>\n",
       "    </tr>\n",
       "    <tr>\n",
       "      <th>1</th>\n",
       "      <td>0273772</td>\n",
       "      <td>Don't Make Trouble!</td>\n",
       "      <td>2001</td>\n",
       "      <td>17 Jan 2001 (France)</td>\n",
       "      <td>[France]</td>\n",
       "      <td>[fr, ar]</td>\n",
       "      <td>[Animation, Drama, Comedy]</td>\n",
       "      <td>[France:Tous publics]</td>\n",
       "      <td>6.6</td>\n",
       "      <td>49</td>\n",
       "      <td>[Color]</td>\n",
       "      <td>[70]</td>\n",
       "      <td>[]</td>\n",
       "      <td>[1007620, 0099748, 0501590, 0851724]</td>\n",
       "      <td>[0002174, 0071117, 0099379, 0181117, 0216816, ...</td>\n",
       "      <td>[0072738, 0069857]</td>\n",
       "      <td>[0038517]</td>\n",
       "      <td>{'data': {}, 'titlesRefs': {}, 'namesRefs': {}}</td>\n",
       "      <td>0</td>\n",
       "    </tr>\n",
       "    <tr>\n",
       "      <th>2</th>\n",
       "      <td>0243017</td>\n",
       "      <td>Waking Life</td>\n",
       "      <td>2001</td>\n",
       "      <td>07 Mar 2002 (Australia)</td>\n",
       "      <td>[United States]</td>\n",
       "      <td>[en]</td>\n",
       "      <td>[Animation, Drama, Fantasy]</td>\n",
       "      <td>[Argentina:13, Australia:M, Brazil:Livre, Cana...</td>\n",
       "      <td>7.7</td>\n",
       "      <td>63692</td>\n",
       "      <td>[Color]</td>\n",
       "      <td>[99]</td>\n",
       "      <td>{'Opening Weekend United States': '$88,977, 21...</td>\n",
       "      <td>[0438210, 0657921, 0782270, 0806189, 0808819, ...</td>\n",
       "      <td>[0000500]</td>\n",
       "      <td>[0028932, 0046530, 0042682, 0054189, 0123642, ...</td>\n",
       "      <td>[0000756, 0028932, 0007180, 0125154, 0067533, ...</td>\n",
       "      <td>{'data': {'metascore': '83', 'metacritic url':...</td>\n",
       "      <td>0</td>\n",
       "    </tr>\n",
       "    <tr>\n",
       "      <th>3</th>\n",
       "      <td>0291559</td>\n",
       "      <td>Wave Twisters</td>\n",
       "      <td>2001</td>\n",
       "      <td>[]</td>\n",
       "      <td>[United States]</td>\n",
       "      <td>[en]</td>\n",
       "      <td>[Animation, Adventure, Musical, Sci-Fi]</td>\n",
       "      <td>[United States:Unrated]</td>\n",
       "      <td>7.4</td>\n",
       "      <td>551</td>\n",
       "      <td>[Color]</td>\n",
       "      <td>[46]</td>\n",
       "      <td>[]</td>\n",
       "      <td>[1029039]</td>\n",
       "      <td>[1000898, 1037263]</td>\n",
       "      <td>[0060259]</td>\n",
       "      <td>[]</td>\n",
       "      <td>{'data': {}, 'titlesRefs': {}, 'namesRefs': {}}</td>\n",
       "      <td>0</td>\n",
       "    </tr>\n",
       "    <tr>\n",
       "      <th>4</th>\n",
       "      <td>0277909</td>\n",
       "      <td>Mutant Aliens</td>\n",
       "      <td>2001</td>\n",
       "      <td>09 Jan 2002 (France)</td>\n",
       "      <td>[United States]</td>\n",
       "      <td>[en]</td>\n",
       "      <td>[Animation, Comedy, Sci-Fi]</td>\n",
       "      <td>[France:Tous publics, Germany:16, South Korea:...</td>\n",
       "      <td>6.6</td>\n",
       "      <td>1204</td>\n",
       "      <td>[Color]</td>\n",
       "      <td>[81]</td>\n",
       "      <td>{'Budget': '$200,000 (estimated)'}</td>\n",
       "      <td>[0390350, 0687739]</td>\n",
       "      <td>[0687739]</td>\n",
       "      <td>[0077590]</td>\n",
       "      <td>[0068070, 0112126, 0084806]</td>\n",
       "      <td>{'data': {'metascore': '39', 'metacritic url':...</td>\n",
       "      <td>0</td>\n",
       "    </tr>\n",
       "  </tbody>\n",
       "</table>\n",
       "</div>"
      ],
      "text/plain": [
       "   imdb_id                  titles  year        original_air_date  \\\n",
       "0  0388130  Initial D: Third Stage  2001      13 Jan 2001 (Japan)   \n",
       "1  0273772     Don't Make Trouble!  2001     17 Jan 2001 (France)   \n",
       "2  0243017             Waking Life  2001  07 Mar 2002 (Australia)   \n",
       "3  0291559           Wave Twisters  2001                       []   \n",
       "4  0277909           Mutant Aliens  2001     09 Jan 2002 (France)   \n",
       "\n",
       "         countries       language                                   genres  \\\n",
       "0          [Japan]  [en, ja, cmn]      [Animation, Action, Romance, Sport]   \n",
       "1         [France]       [fr, ar]               [Animation, Drama, Comedy]   \n",
       "2  [United States]           [en]              [Animation, Drama, Fantasy]   \n",
       "3  [United States]           [en]  [Animation, Adventure, Musical, Sci-Fi]   \n",
       "4  [United States]           [en]              [Animation, Comedy, Sci-Fi]   \n",
       "\n",
       "                                        certificates rating  votes color_info  \\\n",
       "0       [Australia:PG, Japan:G, United States:TV-PG]    7.6   1390    [Color]   \n",
       "1                              [France:Tous publics]    6.6     49    [Color]   \n",
       "2  [Argentina:13, Australia:M, Brazil:Livre, Cana...    7.7  63692    [Color]   \n",
       "3                            [United States:Unrated]    7.4    551    [Color]   \n",
       "4  [France:Tous publics, Germany:16, South Korea:...    6.6   1204    [Color]   \n",
       "\n",
       "  runtimes                                         box_office  \\\n",
       "0    [100]                                                 []   \n",
       "1     [70]                                                 []   \n",
       "2     [99]  {'Opening Weekend United States': '$88,977, 21...   \n",
       "3     [46]                                                 []   \n",
       "4     [81]                 {'Budget': '$200,000 (estimated)'}   \n",
       "\n",
       "                                           producers  \\\n",
       "0                                          [2246748]   \n",
       "1               [1007620, 0099748, 0501590, 0851724]   \n",
       "2  [0438210, 0657921, 0782270, 0806189, 0808819, ...   \n",
       "3                                          [1029039]   \n",
       "4                                 [0390350, 0687739]   \n",
       "\n",
       "                                           directors  \\\n",
       "0                                 [1245306, 1564830]   \n",
       "1  [0002174, 0071117, 0099379, 0181117, 0216816, ...   \n",
       "2                                          [0000500]   \n",
       "3                                 [1000898, 1037263]   \n",
       "4                                          [0687739]   \n",
       "\n",
       "                                  production_company  \\\n",
       "0      [0179653, 0021660, 0099762, 0113955, 0036168]   \n",
       "1                                 [0072738, 0069857]   \n",
       "2  [0028932, 0046530, 0042682, 0054189, 0123642, ...   \n",
       "3                                          [0060259]   \n",
       "4                                          [0077590]   \n",
       "\n",
       "                                        distributors  \\\n",
       "0               [0179653, 0053157, 0039940, 0921883]   \n",
       "1                                          [0038517]   \n",
       "2  [0000756, 0028932, 0007180, 0125154, 0067533, ...   \n",
       "3                                                 []   \n",
       "4                        [0068070, 0112126, 0084806]   \n",
       "\n",
       "                                           metascore  is_nominee  \n",
       "0    {'data': {}, 'titlesRefs': {}, 'namesRefs': {}}           0  \n",
       "1    {'data': {}, 'titlesRefs': {}, 'namesRefs': {}}           0  \n",
       "2  {'data': {'metascore': '83', 'metacritic url':...           0  \n",
       "3    {'data': {}, 'titlesRefs': {}, 'namesRefs': {}}           0  \n",
       "4  {'data': {'metascore': '39', 'metacritic url':...           0  "
      ]
     },
     "execution_count": 22,
     "metadata": {},
     "output_type": "execute_result"
    }
   ],
   "source": [
    "# load in data set\n",
    "movie_data = pd.read_pickle('../Data/df_of_imdb_data.pkl')\n",
    "\n",
    "# look at first couple of entries \n",
    "movie_data.head()"
   ]
  },
  {
   "cell_type": "markdown",
   "id": "1c9119a9",
   "metadata": {},
   "source": [
    "We are doing a time series type split where the training set is movies from 2001-2017 and the test set is movies from 2018-2019. So a first step would be to make sure that every movie has a year"
   ]
  },
  {
   "cell_type": "code",
   "execution_count": 23,
   "id": "6346763d",
   "metadata": {},
   "outputs": [
    {
     "data": {
      "text/plain": [
       "3900"
      ]
     },
     "execution_count": 23,
     "metadata": {},
     "output_type": "execute_result"
    }
   ],
   "source": [
    "# checking for empty years\n",
    "movie_data['year'].apply(lambda y: False if len(str(y)) < 4 else True).sum()"
   ]
  },
  {
   "cell_type": "code",
   "execution_count": 24,
   "id": "3f73b634",
   "metadata": {},
   "outputs": [
    {
     "data": {
      "text/plain": [
       "(array([3107]),)"
      ]
     },
     "execution_count": 24,
     "metadata": {},
     "output_type": "execute_result"
    }
   ],
   "source": [
    "# one movie is missing a year we can look it up and then replace it with its year\n",
    "# if it is relevant\n",
    "\n",
    "# replace empty year as a nan \n",
    "movie_data_copy = movie_data['year'].apply(lambda y: np.nan if len(str(y)) < 4 else y)\n",
    "\n",
    "# find index of nan year \n",
    "np.where(pd.isnull(movie_data_copy))"
   ]
  },
  {
   "cell_type": "code",
   "execution_count": 25,
   "id": "7bac808b",
   "metadata": {},
   "outputs": [
    {
     "data": {
      "text/plain": [
       "imdb_id                                                      10172802\n",
       "titles                                               Outlander - IMDb\n",
       "year                                                               []\n",
       "original_air_date                             04 Jul 2019 (Australia)\n",
       "countries                                             [United States]\n",
       "language                                                         [en]\n",
       "genres                                                    [Animation]\n",
       "certificates                                            [Australia:M]\n",
       "rating                                                             []\n",
       "votes                                                              []\n",
       "color_info                                                    [Color]\n",
       "runtimes                                                         [68]\n",
       "box_office                             {'Budget': 'AUD5 (estimated)'}\n",
       "producers                                                  [10616103]\n",
       "directors                                                  [10616103]\n",
       "production_company                                                 []\n",
       "distributors                                                       []\n",
       "metascore             {'data': {}, 'titlesRefs': {}, 'namesRefs': {}}\n",
       "is_nominee                                                          0\n",
       "Name: 3107, dtype: object"
      ]
     },
     "execution_count": 25,
     "metadata": {},
     "output_type": "execute_result"
    }
   ],
   "source": [
    "movie_data.iloc[3107]"
   ]
  },
  {
   "cell_type": "code",
   "execution_count": 26,
   "id": "eee79d1f",
   "metadata": {},
   "outputs": [
    {
     "data": {
      "text/plain": [
       "imdb_id                                                      10172802\n",
       "titles                                               Outlander - IMDb\n",
       "year                                                             2019\n",
       "original_air_date                             04 Jul 2019 (Australia)\n",
       "countries                                             [United States]\n",
       "language                                                         [en]\n",
       "genres                                                    [Animation]\n",
       "certificates                                            [Australia:M]\n",
       "rating                                                             []\n",
       "votes                                                              []\n",
       "color_info                                                    [Color]\n",
       "runtimes                                                         [68]\n",
       "box_office                             {'Budget': 'AUD5 (estimated)'}\n",
       "producers                                                  [10616103]\n",
       "directors                                                  [10616103]\n",
       "production_company                                                 []\n",
       "distributors                                                       []\n",
       "metascore             {'data': {}, 'titlesRefs': {}, 'namesRefs': {}}\n",
       "is_nominee                                                          0\n",
       "Name: 3107, dtype: object"
      ]
     },
     "execution_count": 26,
     "metadata": {},
     "output_type": "execute_result"
    }
   ],
   "source": [
    "# manually add year 2019 for now \n",
    "movie_data['year'].values[3107] = 2019\n",
    "movie_data.iloc[3107]"
   ]
  },
  {
   "cell_type": "code",
   "execution_count": 27,
   "id": "f6975d3e",
   "metadata": {},
   "outputs": [],
   "source": [
    "# Test Train Split \n",
    "\n",
    "# First drop movies missing an original air date\n",
    "#movie_data['original_air_date'] = movie_data['original_air_date'].apply(lambda y: np.nan if len(y) == 0 else y)\n",
    "#movie_data = movie_data.dropna()\n",
    "\n",
    "movie_data_train = movie_data[movie_data['year'] <= 2017].copy()\n",
    "movie_data_test = movie_data[(movie_data['year'] >= 2018)\n",
    "                            & (movie_data['year'] <= 2019)].copy()\n"
   ]
  },
  {
   "cell_type": "code",
   "execution_count": 28,
   "id": "101d2a64",
   "metadata": {},
   "outputs": [
    {
     "data": {
      "text/plain": [
       "0        13 Jan 2001 (Japan)\n",
       "1       17 Jan 2001 (France)\n",
       "2    07 Mar 2002 (Australia)\n",
       "3                         []\n",
       "4       09 Jan 2002 (France)\n",
       "Name: original_air_date, dtype: object"
      ]
     },
     "execution_count": 28,
     "metadata": {},
     "output_type": "execute_result"
    }
   ],
   "source": [
    "movie_data_train['original_air_date'].head()"
   ]
  },
  {
   "cell_type": "code",
   "execution_count": 29,
   "id": "6a29f3f9",
   "metadata": {},
   "outputs": [
    {
     "data": {
      "text/plain": [
       "12    1927\n",
       "0      493\n",
       "5      128\n",
       "9      107\n",
       "Name: original_air_date, dtype: int64"
      ]
     },
     "execution_count": 29,
     "metadata": {},
     "output_type": "execute_result"
    }
   ],
   "source": [
    "# all of the possible date lengths \n",
    "movie_data_train['original_air_date'].apply(a).apply(lambda x: len(x)).explode().value_counts()"
   ]
  },
  {
   "cell_type": "code",
   "execution_count": 30,
   "id": "486d1a72",
   "metadata": {},
   "outputs": [],
   "source": [
    "def get_month(date_string):\n",
    "    POSSIBLE_DATE_FORMATS = ['%d %b %Y ', '%b %Y '] \n",
    "    for date_format in POSSIBLE_DATE_FORMATS:\n",
    "        try:\n",
    "            return datetime.strptime(date_string, date_format).month \n",
    "        except ValueError:\n",
    "            pass # if incorrect format, keep trying other formats\n",
    "    return 0"
   ]
  },
  {
   "cell_type": "markdown",
   "id": "c135aac5",
   "metadata": {},
   "source": [
    "We now have a dataframe that contains the dates and the nominees, we want to create a dataframe that only captures the months and also encodes the months to variables from 1-12 "
   ]
  },
  {
   "cell_type": "code",
   "execution_count": 31,
   "id": "b4f1f0fb",
   "metadata": {},
   "outputs": [],
   "source": [
    "from datetime import datetime\n",
    "movie_data_train['month_num'] = movie_data_train['original_air_date'].apply(a).apply(get_month)\n"
   ]
  },
  {
   "cell_type": "code",
   "execution_count": 32,
   "id": "1110d6c9",
   "metadata": {},
   "outputs": [],
   "source": [
    "X_train = movie_data_train['month_num']\n",
    "y_train = movie_data_train['is_nominee']"
   ]
  },
  {
   "cell_type": "code",
   "execution_count": 33,
   "id": "af81d908",
   "metadata": {},
   "outputs": [
    {
     "data": {
      "image/png": "[encoded data removed]",
      "text/plain": [
       "<Figure size 1008x288 with 1 Axes>"
      ]
     },
     "metadata": {},
     "output_type": "display_data"
    }
   ],
   "source": [
    "plt.figure(figsize=(14,4))\n",
    "plt.hist(X_train[y_train==0], color='b', alpha=.5, label=\"y=0\")\n",
    "plt.hist(X_train[y_train==1], color='r', alpha=.5, label=\"y=1\")\n",
    "plt.legend(fontsize=14)\n",
    "plt.title('Month',fontsize=16)\n",
    "plt.show()"
   ]
  },
  {
   "cell_type": "markdown",
   "id": "980b1d61",
   "metadata": {},
   "source": [
    "Looking the distribution of original air date months it does not look like this is a feature that classifies being nominated or not. Nevertheless I will build some models anyways"
   ]
  },
  {
   "cell_type": "code",
   "execution_count": 18,
   "id": "7407a330",
   "metadata": {},
   "outputs": [],
   "source": [
    "from sklearn.model_selection import StratifiedKFold\n",
    "from sklearn.linear_model import LogisticRegression\n",
    "from sklearn.metrics import confusion_matrix, precision_score"
   ]
  },
  {
   "cell_type": "code",
   "execution_count": 38,
   "id": "58b2c1a8",
   "metadata": {},
   "outputs": [
    {
     "name": "stderr",
     "output_type": "stream",
     "text": [
      "/Users/wmreese/opt/anaconda3/lib/python3.9/site-packages/sklearn/metrics/_classification.py:1248: UndefinedMetricWarning: Precision is ill-defined and being set to 0.0 due to no predicted samples. Use `zero_division` parameter to control this behavior.\n",
      "  _warn_prf(average, modifier, msg_start, len(result))\n",
      "/Users/wmreese/opt/anaconda3/lib/python3.9/site-packages/sklearn/metrics/_classification.py:1248: UndefinedMetricWarning: Precision is ill-defined and being set to 0.0 due to no predicted samples. Use `zero_division` parameter to control this behavior.\n",
      "  _warn_prf(average, modifier, msg_start, len(result))\n",
      "/Users/wmreese/opt/anaconda3/lib/python3.9/site-packages/sklearn/metrics/_classification.py:1248: UndefinedMetricWarning: Precision is ill-defined and being set to 0.0 due to no predicted samples. Use `zero_division` parameter to control this behavior.\n",
      "  _warn_prf(average, modifier, msg_start, len(result))\n",
      "/Users/wmreese/opt/anaconda3/lib/python3.9/site-packages/sklearn/metrics/_classification.py:1248: UndefinedMetricWarning: Precision is ill-defined and being set to 0.0 due to no predicted samples. Use `zero_division` parameter to control this behavior.\n",
      "  _warn_prf(average, modifier, msg_start, len(result))\n",
      "/Users/wmreese/opt/anaconda3/lib/python3.9/site-packages/sklearn/metrics/_classification.py:1248: UndefinedMetricWarning: Precision is ill-defined and being set to 0.0 due to no predicted samples. Use `zero_division` parameter to control this behavior.\n",
      "  _warn_prf(average, modifier, msg_start, len(result))\n",
      "/Users/wmreese/opt/anaconda3/lib/python3.9/site-packages/sklearn/metrics/_classification.py:1248: UndefinedMetricWarning: Precision is ill-defined and being set to 0.0 due to no predicted samples. Use `zero_division` parameter to control this behavior.\n",
      "  _warn_prf(average, modifier, msg_start, len(result))\n",
      "/Users/wmreese/opt/anaconda3/lib/python3.9/site-packages/sklearn/metrics/_classification.py:1248: UndefinedMetricWarning: Precision is ill-defined and being set to 0.0 due to no predicted samples. Use `zero_division` parameter to control this behavior.\n",
      "  _warn_prf(average, modifier, msg_start, len(result))\n",
      "/Users/wmreese/opt/anaconda3/lib/python3.9/site-packages/sklearn/metrics/_classification.py:1248: UndefinedMetricWarning: Precision is ill-defined and being set to 0.0 due to no predicted samples. Use `zero_division` parameter to control this behavior.\n",
      "  _warn_prf(average, modifier, msg_start, len(result))\n",
      "/Users/wmreese/opt/anaconda3/lib/python3.9/site-packages/sklearn/metrics/_classification.py:1248: UndefinedMetricWarning: Precision is ill-defined and being set to 0.0 due to no predicted samples. Use `zero_division` parameter to control this behavior.\n",
      "  _warn_prf(average, modifier, msg_start, len(result))\n",
      "/Users/wmreese/opt/anaconda3/lib/python3.9/site-packages/sklearn/metrics/_classification.py:1248: UndefinedMetricWarning: Precision is ill-defined and being set to 0.0 due to no predicted samples. Use `zero_division` parameter to control this behavior.\n",
      "  _warn_prf(average, modifier, msg_start, len(result))\n"
     ]
    }
   ],
   "source": [
    "log_reg_tprs = np.zeros((5, len(X_train)))\n",
    "log_reg_fprs = np.zeros((5, len(X_train)))\n",
    "log_reg_precs = np.zeros((5, len(X_train)))\n",
    "\n",
    "i = 0\n",
    "for train_index, test_index in timeseries_split(movie_data_train,5):\n",
    "    X_train = movie_data_train[['year','month_num']]\n",
    "    y_train = movie_data_train['is_nominee']\n",
    "    X_tt = X_train.iloc[train_index]\n",
    "    X_ho = X_train.iloc[test_index]\n",
    "    y_tt = y_train.iloc[train_index]\n",
    "    y_ho = y_train.iloc[test_index]\n",
    "    j = 0\n",
    "    for c in X_train.columns:\n",
    "        log_reg = LogisticRegression()\n",
    "        \n",
    "        log_reg.fit(X_tt[c].values.reshape(-1,1), y_tt.values)\n",
    "        \n",
    "        pred = log_reg.predict(X_ho[c].values.reshape(-1,1))\n",
    "        \n",
    "        conf_mat = confusion_matrix(y_ho.values, pred)\n",
    "        \n",
    "        log_reg_precs[i,j] = precision_score(y_ho.values, pred)\n",
    "        log_reg_tprs[i,j] = conf_mat[1,1]/(conf_mat[1,0] + conf_mat[1,1])\n",
    "        log_reg_fprs[i,j] = conf_mat[0,1]/(conf_mat[0,0] + conf_mat[0,1])\n",
    "        j = j + 1\n",
    "    i = i + 1"
   ]
  },
  {
   "cell_type": "markdown",
   "id": "6ccd4d6d",
   "metadata": {},
   "source": [
    "It seems like the logistic regression model is not predicting anything other than 0's"
   ]
  },
  {
   "cell_type": "code",
   "execution_count": null,
   "id": "f0fdb2cd",
   "metadata": {},
   "outputs": [],
   "source": []
  }
 ],
 "metadata": {
  "kernelspec": {
   "display_name": "Python 3 (ipykernel)",
   "language": "python",
   "name": "python3"
  },
  "language_info": {
   "codemirror_mode": {
    "name": "ipython",
    "version": 3
   },
   "file_extension": ".py",
   "mimetype": "text/x-python",
   "name": "python",
   "nbconvert_exporter": "python",
   "pygments_lexer": "ipython3",
   "version": "3.9.7"
  }
 },
 "nbformat": 4,
 "nbformat_minor": 5
}
