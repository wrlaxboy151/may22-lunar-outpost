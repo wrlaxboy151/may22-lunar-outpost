{
 "cells": [
  {
   "cell_type": "markdown",
   "id": "33c41441",
   "metadata": {},
   "source": [
    "# **In this notebook we want to scape a list of all of the Animated Feature Film Oscar nominations**\n"
   ]
  },
  {
   "cell_type": "markdown",
   "id": "43beafa8",
   "metadata": {},
   "source": [
    "1. Locate URL containing results we want "
   ]
  },
  {
   "cell_type": "code",
   "execution_count": 21,
   "id": "4a84d512",
   "metadata": {},
   "outputs": [],
   "source": [
    "base_url = 'https://awardsdatabase.oscars.org/search/getresults?query=%7B%22Sort%22%3A%223-Award%20Category-Chron%22%2C%22AwardCategory%22%3A%5B%226%22%5D%2C%22AwardShowNumberFrom%22%3A74%2C%22AwardShowNumberTo%22%3A94%2C%22Search%22%3A30%7D'"
   ]
  },
  {
   "cell_type": "markdown",
   "id": "dd0ce523",
   "metadata": {},
   "source": [
    "**Importing packages we many need**"
   ]
  },
  {
   "cell_type": "code",
   "execution_count": 22,
   "id": "ebcb4827",
   "metadata": {},
   "outputs": [],
   "source": [
    "import requests\n",
    "import bs4\n",
    "from bs4 import BeautifulSoup"
   ]
  },
  {
   "cell_type": "code",
   "execution_count": 23,
   "id": "97b30431",
   "metadata": {},
   "outputs": [],
   "source": [
    "r = requests.get(base_url)"
   ]
  },
  {
   "cell_type": "code",
   "execution_count": 25,
   "id": "6d5665d9",
   "metadata": {},
   "outputs": [],
   "source": [
    "soup = BeautifulSoup(r.content, 'html.parser')"
   ]
  },
  {
   "cell_type": "code",
   "execution_count": 26,
   "id": "6d560da5",
   "metadata": {},
   "outputs": [
    {
     "data": {
      "text/plain": [
       "200"
      ]
     },
     "execution_count": 26,
     "metadata": {},
     "output_type": "execute_result"
    }
   ],
   "source": [
    "r.status_code"
   ]
  },
  {
   "cell_type": "code",
   "execution_count": 27,
   "id": "53f4f7b9",
   "metadata": {},
   "outputs": [
    {
     "data": {
      "text/plain": [
       "'<!DOCTYPE html>\\n<html>\\n <head>\\n  <meta content=\"The Academy Awards Database\" name=\"title\"/>\\n  <meta content=\"The Official Academy Awards Database containing records of past Academy Award winners and nominees\" name=\"description\"/>\\n  <meta content=\"Award database, Oscar database, Oscars database, Academy Award winner, Academy Award winners, Academy Award nominee, Academy Award nominees, Academy Awards facts, Academy Awards statistics, Academy Awards stats, Oscar winner, Oscar winners, Oscar nominee, Oscar nominees, Oscar facts, Oscar statistics, Oscar stats\" name=\"keywords\"/>\\n  <meta content=\"Copyright (C) 2022 Academy of Motion Picture Arts and Sciences\" name=\"copyright\"/>\\n  <meta content=\"width=device-width, initial-scale=1.0 maximum-scale=1.0, user-scalable=no\" name=\"viewport\"/>\\n  <meta charset=\"utf-8\" content=\"text/html\" http-equiv=\"Content-Type\">\\n   <meta content=\"IE=edge,chrome=1\" http-equiv=\"X-UA-Compatible\">\\n    <meta content=\"no-cache\" http-equiv=\"Cache-Control\"/>\\n    <meta content=\"no-cache\" http-equiv=\"Pragma\"/>\\n    <meta content=\"0\" http-equiv=\"Expires\"/>\\n    <title>\\n     Browser Unsupported - Academy Awards Search | Academy of Motion Picture Arts &amp; Sciences\\n    </title>\\n    <!--oscars.org icon-->\\n    <link href=\"https://www1.oscars.org/favicon.png\" rel=\"icon\" type=\"image/png\"/>\\n    <!--oscars.org media queries-->\\n    <link href=\"https://www.oscars.org/sites/all/themes/oscar/css/oscar.styles.css\" media=\"screen and (min-device-width: 960px)\" rel=\"stylesheet\" type=\"text/css\"/>\\n    <link href=\"https://www.oscars.org/sites/all/themes/oscartablet/css/oscartablet.styles.css\" media=\"only screen and (min-device-width: 720px) and (max-device-width: 959px)\" rel=\"stylesheet\" type=\"text/css\"/>\\n    <link href=\"https://www.oscars.org/sites/all/themes/oscarphone/css/oscarphone.styles.css\" media=\"only screen and (max-device-width: 719px)\" rel=\"stylesheet\" type=\"text/css\"/>\\n    <!--oscars.org stylesheets-->\\n    <style media=\"screen,print\" type=\"text/css\">\\n     @import \"https://www1.oscars.org/vendor/old/css/oscarsMain-20141001.css\";\\n    </style>\\n    <style media=\"screen,print\" type=\"text/css\">\\n     @import \"https://www1.oscars.org/vendor/old/css/oscarsInner-20141001.css\";\\n    </style>\\n    <style media=\"screen,print\" type=\"text/css\">\\n     @import \"https://www1.oscars.org/vendor/old/css/oscarsMainNew-20141001-awardsdb.css\";\\n    </style>\\n    <style media=\"print\" type=\"text/css\">\\n     @import \"https://www1.oscars.org/vendor/old/css/oscarsPrint-20141001.css\";\\n    </style>\\n    <!--awards search stylesheets-->\\n    <link href=\"/Content/bootstrap.min.css?~v=R4KekuJrYhujm8d_KZ-U9ncV9NV54BkLdeWiiCdkodI1\" rel=\"stylesheet\"/>\\n    <link href=\"/Content/bootstrap-multiselect.min.css?~v=viFSnnCZihTuHXEb99dgXbARzO2TfNuggwixtATYZHY1\" rel=\"stylesheet\"/>\\n    <link href=\"/Content/common.min.css?~v=uMDkAnHtlyo7-odWUiKPAwuIoSEySAX3WyGOcrf0UcI1\" rel=\"stylesheet\"/>\\n    <link href=\"/Content/site.min.css?~v=OZL6nPh7BdxrtLZ-4vTBsv1Hxp1ldD2K_jrG7LJ74h01\" rel=\"stylesheet\"/>\\n    <!--oscars.org scripts-->\\n    <script src=\"https://www1.oscars.org/vendor/old/scripts/1.7.1/jquery.min.js\" type=\"text/javascript\">\\n    </script>\\n    <script src=\"https://www1.oscars.org/vendor/old/scripts/jquery.ba-dotimeout.min.js\" type=\"text/javascript\">\\n    </script>\\n    <!-- this script is required for the site nav to work -->\\n    <script src=\"https://www1.oscars.org/vendor/old/scripts/header.js\" type=\"text/javascript\">\\n    </script>\\n    <script src=\"https://www1.oscars.org/vendor/old/scripts/ga.js\" type=\"text/javascript\">\\n    </script>\\n    <!--browser compatibility-->\\n    <noscript>\\n     <meta content=\"0;url=BrowserUnsupported\" http-equiv=\"refresh\">\\n     </meta>\\n    </noscript>\\n   </meta>\\n  </meta>\\n </head>\\n <body>\\n  <!-- start wrapperOuter -->\\n  <div id=\"wrapperOuter\">\\n   <!-- start wrapperInner -->\\n   <div id=\"wrapperInner\">\\n    <!-- start header -->\\n    <div id=\"header\">\\n     <header>\\n      <div class=\"site-header\">\\n       <div class=\"logo\">\\n        <a href=\"https://www.oscars.org/\" style=\"left: 0px;\">\\n         <img border=\"0\" src=\"https://www1.oscars.org/vendor/old/images/logo.png\"/>\\n        </a>\\n       </div>\\n       <div class=\"site-login\">\\n        <a href=\"https://www.members.oscars.org/\">\\n         MEMBERS LOGIN\\n        </a>\\n       </div>\\n       <div class=\"site-search\">\\n        <form accept-charset=\"UTF-8\" action=\"https://www.oscars.org/search/site/\" class=\"search-form\" id=\"search-block-form\" method=\"post\" target=\"_self\">\\n         <input autocomplete=\"off\" class=\"apachesolr-autocomplete unprocessed custom-search-box form-text form-autocomplete\" id=\"edit-search-block-form--2\" maxlength=\"128\" name=\"search_block_form\" placeholder=\"\" size=\"10\" title=\"\" type=\"text\" value=\"\"/>\\n         <input alt=\"Search\" class=\"custom-search-button form-submit\" id=\"edit-submit\" name=\"op\" src=\"https://www1.oscars.org/vendor/old/images/icon-search.png\" type=\"image\"/>\\n         <input name=\"form_build_id\" type=\"hidden\" value=\"form-s89VspXM23MBdbchNJTyFDcNTLLiZo-ocEyCWQtYero\"/>\\n         <input name=\"form_id\" type=\"hidden\" value=\"search_block_form\"/>\\n        </form>\\n       </div>\\n      </div>\\n      <div class=\"site-nav-wrapper\">\\n       <nav class=\"site-nav js-site-nav\">\\n        <ul>\\n         <li class=\"site-nav-item js-site-nav-item\" data-section=\"awards\">\\n          Awards\\n         </li>\\n         <li class=\"site-nav-item js-site-nav-item\" data-section=\"museum\">\\n          Museum\\n         </li>\\n         <li class=\"site-nav-item js-site-nav-item\" data-section=\"events\">\\n          Events\\n         </li>\\n         <li class=\"site-nav-item js-site-nav-item\" data-section=\"explore\">\\n          Explore\\n         </li>\\n         <li class=\"site-nav-item js-site-nav-item\" data-section=\"learn\">\\n          Learn\\n         </li>\\n        </ul>\\n       </nav>\\n      </div>\\n      <div class=\"site-sub-nav-wrapper js-site-sub-nav-wrapper\">\\n       <nav class=\"site-sub-nav js-site-sub-nav\">\\n        <ul class=\"\" data-section=\"awards\">\\n         <li class=\"site-nav-sub-item\">\\n          <a href=\"http://www.oscars.org/oscars\">\\n           Oscars\\n          </a>\\n         </li>\\n         <li class=\"site-nav-sub-item\">\\n          <a href=\"http://www.oscars.org/governors\">\\n           Governors Awards\\n          </a>\\n         </li>\\n         <li class=\"site-nav-sub-item\">\\n          <a href=\"http://www.oscars.org/sci-tech\">\\n           Sci-Tech Awards\\n          </a>\\n         </li>\\n         <li class=\"site-nav-sub-item\">\\n          <a href=\"http://www.oscars.org/saa\">\\n           Student Academy Awards\\n          </a>\\n         </li>\\n         <li class=\"site-nav-sub-item\">\\n          <a href=\"http://www.oscars.org/nicholl\">\\n           Academy Nicholl Fellowships\\n          </a>\\n         </li>\\n        </ul>\\n        <ul data-section=\"museum\">\\n         <li class=\"site-nav-sub-item\">\\n          <a href=\"http://www.oscars.org/academy-museum\">\\n           About the Museum\\n          </a>\\n         </li>\\n        </ul>\\n        <ul class=\"\" data-section=\"events\">\\n         <li class=\"site-nav-sub-item\">\\n          <a href=\"http://www.oscars.org/events\">\\n           Calendar\\n          </a>\\n         </li>\\n         <li class=\"site-nav-sub-item\">\\n          <a href=\"http://www.oscars.org/hollywoodcostume/\">\\n           Hollywood Costume\\n          </a>\\n         </li>\\n        </ul>\\n        <ul data-section=\"explore\">\\n         <li class=\"site-nav-sub-item\">\\n          <a href=\"http://www.oscars.org/academy-collection\">\\n           Collection Highlights\\n          </a>\\n         </li>\\n         <li class=\"site-nav-sub-item\">\\n          <a href=\"http://www.oscars.org/academy-story\">\\n           Academy Story\\n          </a>\\n         </li>\\n         <li class=\"site-nav-sub-item\">\\n          <a href=\"http://www.oscars.org/news\">\\n           News\\n          </a>\\n         </li>\\n         <!-- <li class=\"site-nav-sub-item\"><a href=\"http://www.oscars.org/member-voices\">Member Voices</a></li>-->\\n         <li class=\"site-nav-sub-item\">\\n          <a href=\"http://www.oscars.org/videos-photos\">\\n           Videos &amp; Photos\\n          </a>\\n         </li>\\n        </ul>\\n        <ul data-section=\"learn\">\\n         <li class=\"site-nav-sub-item\">\\n          <a href=\"http://www.oscars.org/film-archive\">\\n           Academy Film Archive\\n          </a>\\n         </li>\\n         <li class=\"site-nav-sub-item\">\\n          <a href=\"http://www.oscars.org/library\">\\n           Margaret Herrick Library\\n          </a>\\n         </li>\\n         <li class=\"site-nav-sub-item\">\\n          <a href=\"http://www.oscars.org/oral-history\">\\n           Oral History\\n          </a>\\n         </li>\\n         <li class=\"site-nav-sub-item\">\\n          <a href=\"http://www.oscars.org/science-technology\">\\n           Science &amp; Technology\\n          </a>\\n         </li>\\n         <li class=\"site-nav-sub-item\">\\n          <a href=\"http://www.oscars.org/educational-programs\">\\n           Educational Programs\\n          </a>\\n         </li>\\n        </ul>\\n       </nav>\\n      </div>\\n     </header>\\n    </div>\\n    <!-- end header -->\\n    <!-- start content -->\\n    <div id=\"content\">\\n     <!-- start main -->\\n     <div id=\"main\">\\n      <div class=\"container awards-body-container\">\\n       <!--modal-->\\n       <div class=\"modal fade\" id=\"awardsmodal\">\\n        <div class=\"modal-dialog\" role=\"document\">\\n         <div class=\"modal-content\">\\n          <div class=\"modal-header\">\\n           <button aria-label=\"Close\" class=\"close\" data-dismiss=\"modal\" type=\"button\">\\n            <span aria-hidden=\"true\">\\n             ×\\n            </span>\\n           </button>\\n           <h4 class=\"modal-title\">\\n            Error\\n           </h4>\\n          </div>\\n          <div class=\"modal-body\">\\n          </div>\\n          <div class=\"modal-footer\">\\n           <button class=\"btn btn-secondary\" data-dismiss=\"modal\" type=\"button\">\\n            Close\\n           </button>\\n          </div>\\n         </div>\\n         <!-- /.modal-content -->\\n        </div>\\n        <!-- /.modal-dialog -->\\n       </div>\\n       <!-- /.modal -->\\n       <!--awards content row-->\\n       <div class=\"row awards-content-row\">\\n        <div class=\"body-content awards-body-content\" id=\"awardsbodycontent\">\\n         <!DOCTYPE html>\\n         <html>\\n          <head>\\n           <meta content=\"width=device-width\" name=\"viewport\">\\n            <title>\\n             Academy Awards Search - Browser Unsupported | Academy of Motion Picture Arts &amp; Sciences\\n            </title>\\n            <link href=\"/content/common.css\" rel=\"stylesheet\" type=\"text/css\"/>\\n           </meta>\\n          </head>\\n          <body>\\n           <h2>\\n            Browser Unsupported\\n           </h2>\\n           <p>\\n            Your browser is not supported. This site requires JavaScript and cookies to be enabled.\\n           </p>\\n           <p>\\n            The following browsers are supported:\\n           </p>\\n           <table class=\"Grid\">\\n            <tbody>\\n             <tr>\\n              <th>\\n               Browser\\n              </th>\\n              <th>\\n               Versions Supported\\n              </th>\\n             </tr>\\n             <tr>\\n              <td>\\n               Chrome\\n              </td>\\n              <td>\\n               48.0+\\n              </td>\\n             </tr>\\n             <tr>\\n              <td>\\n               Firefox\\n              </td>\\n              <td>\\n               44.0+\\n              </td>\\n             </tr>\\n             <tr>\\n              <td>\\n               Internet Explorer\\n              </td>\\n              <td>\\n               9+\\n              </td>\\n             </tr>\\n             <tr>\\n              <td>\\n               Opera\\n              </td>\\n              <td>\\n               12.1x and 35.0+\\n              </td>\\n             </tr>\\n            </tbody>\\n           </table>\\n          </body>\\n         </html>\\n         <div class=\"container awards-search-container\" style=\"font-size: 15px;\">\\n          Note: Names and film titles in the Academy Awards Database are derived from film credits and other documentation submitted to the Academy at the time of nomination or award. Changes to name forms or other information contained in the Database may be considered upon request, with respect to preservation of the historical record and the nominee/award recipient.\\n         </div>\\n        </div>\\n        <!-- <div style=\"\">Note: Names and film titles in the Academy Awards Database are derived from film credits and other documentation submitted to the Academy at the time of nomination or award. Changes to name forms or other information contained in the Database may be considered upon request, with respect to preservation of the historical record and the nominee/award recipient.</div>-->\\n       </div>\\n       <!--/.awards-content-row-->\\n      </div>\\n     </div>\\n     <!-- end main -->\\n    </div>\\n    <!-- end content -->\\n    <!--start footer-->\\n    <div id=\"footer\">\\n     <footer>\\n      <ul class=\"footer-menu\">\\n       <li class=\"footer-menu-item\">\\n        <a href=\"http://www.oscars.org/about\">\\n         ABOUT\\n        </a>\\n       </li>\\n       <li class=\"footer-menu-item\">\\n        <a href=\"http://www.oscars.org/contact\">\\n         CONTACT\\n        </a>\\n       </li>\\n       <li class=\"footer-menu-item\">\\n        <a href=\"http://www.oscars.org/legal\">\\n         LEGAL\\n        </a>\\n       </li>\\n       <li class=\"footer-menu-item\">\\n        <a href=\"http://www.oscars.org/sitemap\">\\n         SITE MAP\\n        </a>\\n       </li>\\n       <li class=\"footer-menu-item\">\\n        <a href=\"http://www.oscars.org/careers\">\\n         CAREERS\\n        </a>\\n       </li>\\n       <li class=\"footer-menu-item\">\\n        <a href=\"http://www.oscars.org/press\">\\n         PRESS\\n        </a>\\n       </li>\\n      </ul>\\n      <div class=\"copyright\">\\n       ©\\r\\n                2022\\r\\n                Academy of Motion Picture Arts and Sciences\\n      </div>\\n     </footer>\\n    </div>\\n    <!-- end footer -->\\n   </div>\\n   <!-- end wrapperInner -->\\n  </div>\\n  <!-- end wrapperOuter -->\\n  <div class=\"clear\">\\n  </div>\\n  <!--scripts-->\\n  <!-- google analytics-->\\n  <script>\\n   (function (i, s, o, g, r, a, m) {\\r\\n                i[\\'GoogleAnalyticsObject\\'] = r; i[r] = i[r] || function () {\\r\\n                    (i[r].q = i[r].q || []).push(arguments)\\r\\n                }, i[r].l = 1 * new Date(); a = s.createElement(o),\\r\\n                m = s.getElementsByTagName(o)[0]; a.async = 1; a.src = g; m.parentNode.insertBefore(a, m)\\r\\n            })(window, document, \\'script\\', \\'https://www.google-analytics.com/analytics.js\\', \\'ga\\');\\r\\n\\r\\n            ga(\\'create\\', \\'UA-33598486-1\\', \\'auto\\');            \\r\\n            ga(\\'send\\', \\'pageview\\');\\n  </script>\\n  <!--jquery-->\\n  <script src=\"/Scripts/jquery-1.10.2.min.js?~v=VfbFXC2P374xjYDYKPikYDMhsk_Iu5U6EKDQ3rMBkqw1\">\\n  </script>\\n  <!--jquery validation-->\\n  <script src=\"/Scripts/jquery.validate.min.js?~v=iEeGQrlQ_XD9IWgkOTDE3NIIVrbOZGN-vRAA8w2geu41\">\\n  </script>\\n  <script src=\"/Scripts/jquery.validate.unobtrusive.min.js?~v=FdfBZEokEK2p0dTGTGFCZyF9vJ65yvxPPBisWhYZQCw1\">\\n  </script>\\n  <!--bootstrap-->\\n  <script src=\"/Scripts/bootstrap.min.js?~v=kvFv5uSX7Pax9YN67T3dtezSSmn5tsNMuP0p1To2Abo1\">\\n  </script>\\n  <!--bootstrap multiselect-->\\n  <script src=\"/Scripts/bootstrap-multiselect.min.js?~v=mqWJi3oAbWCc00U2YEovA_YJrl3MpzPb0SOhQ5tpT1o1\">\\n  </script>\\n  <!--awards search-->\\n  <script src=\"/Scripts/awards.min.js?~v=rolcRGYjMHdGS_4TkihbYvpQ8q6wV5-tkN0ilDO_E7c1\">\\n  </script>\\n  <script src=\"/Scripts/help.min.js?~v=rqOozmWVd8vTdoj7seamh9tFHKO1mQUzWRdcj2aC_3w1\">\\n  </script>\\n </body>\\n</html>\\n'"
      ]
     },
     "execution_count": 27,
     "metadata": {},
     "output_type": "execute_result"
    }
   ],
   "source": [
    "soup.prettify()"
   ]
  },
  {
   "cell_type": "code",
   "execution_count": 28,
   "id": "d7a204b1",
   "metadata": {},
   "outputs": [
    {
     "data": {
      "text/plain": [
       "[<a href=\"https://www.oscars.org/\" style=\"left: 0px;\">\n",
       " <img border=\"0\" src=\"https://www1.oscars.org/vendor/old/images/logo.png\"/>\n",
       " </a>,\n",
       " <a href=\"https://www.members.oscars.org/\">MEMBERS LOGIN</a>,\n",
       " <a href=\"http://www.oscars.org/oscars\">Oscars</a>,\n",
       " <a href=\"http://www.oscars.org/governors\">Governors Awards</a>,\n",
       " <a href=\"http://www.oscars.org/sci-tech\">Sci-Tech Awards</a>,\n",
       " <a href=\"http://www.oscars.org/saa\">Student Academy Awards</a>,\n",
       " <a href=\"http://www.oscars.org/nicholl\">Academy Nicholl Fellowships</a>,\n",
       " <a href=\"http://www.oscars.org/academy-museum\">About the Museum</a>,\n",
       " <a href=\"http://www.oscars.org/events\">Calendar</a>,\n",
       " <a href=\"http://www.oscars.org/hollywoodcostume/\">Hollywood Costume</a>,\n",
       " <a href=\"http://www.oscars.org/academy-collection\">Collection Highlights</a>,\n",
       " <a href=\"http://www.oscars.org/academy-story\">Academy Story</a>,\n",
       " <a href=\"http://www.oscars.org/news\">News</a>,\n",
       " <a href=\"http://www.oscars.org/videos-photos\">Videos &amp; Photos</a>,\n",
       " <a href=\"http://www.oscars.org/film-archive\">Academy Film Archive</a>,\n",
       " <a href=\"http://www.oscars.org/library\">Margaret Herrick Library</a>,\n",
       " <a href=\"http://www.oscars.org/oral-history\">Oral History</a>,\n",
       " <a href=\"http://www.oscars.org/science-technology\">Science &amp; Technology</a>,\n",
       " <a href=\"http://www.oscars.org/educational-programs\">Educational Programs</a>,\n",
       " <a href=\"http://www.oscars.org/about\">ABOUT</a>,\n",
       " <a href=\"http://www.oscars.org/contact\">CONTACT</a>,\n",
       " <a href=\"http://www.oscars.org/legal\">LEGAL</a>,\n",
       " <a href=\"http://www.oscars.org/sitemap\">SITE MAP</a>,\n",
       " <a href=\"http://www.oscars.org/careers\">CAREERS</a>,\n",
       " <a href=\"http://www.oscars.org/press\">PRESS</a>]"
      ]
     },
     "execution_count": 28,
     "metadata": {},
     "output_type": "execute_result"
    }
   ],
   "source": [
    "soup.find_all('a')"
   ]
  },
  {
   "cell_type": "code",
   "execution_count": null,
   "id": "5be1bfa4",
   "metadata": {},
   "outputs": [],
   "source": []
  }
 ],
 "metadata": {
  "kernelspec": {
   "display_name": "Python 3 (ipykernel)",
   "language": "python",
   "name": "python3"
  },
  "language_info": {
   "codemirror_mode": {
    "name": "ipython",
    "version": 3
   },
   "file_extension": ".py",
   "mimetype": "text/x-python",
   "name": "python",
   "nbconvert_exporter": "python",
   "pygments_lexer": "ipython3",
   "version": "3.9.7"
  }
 },
 "nbformat": 4,
 "nbformat_minor": 5
}
