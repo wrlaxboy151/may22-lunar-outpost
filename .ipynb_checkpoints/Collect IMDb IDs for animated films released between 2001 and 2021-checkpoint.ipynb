{
 "cells": [
  {
   "cell_type": "markdown",
   "id": "028a9b54",
   "metadata": {},
   "source": [
    "# Collecting Data From IMDB"
   ]
  },
  {
   "cell_type": "markdown",
   "id": "4360d682",
   "metadata": {},
   "source": [
    "#### This Notebook uses beautiful soup to scrape a list of films from IMDb advanced search results.\n",
    "Search terms are:\n",
    "animated films, time 2001 to 2021, runtime >= 40 mins "
   ]
  },
  {
   "cell_type": "code",
   "execution_count": 2,
   "id": "79f171b4",
   "metadata": {},
   "outputs": [],
   "source": [
    "import imdb\n",
    "from imdb import Cinemagoer\n",
    "import requests\n",
    "import bs4\n",
    "from bs4 import BeautifulSoup"
   ]
  },
  {
   "cell_type": "code",
   "execution_count": 14,
   "id": "f789f634",
   "metadata": {},
   "outputs": [],
   "source": [
    "ia = Cinemagoer()"
   ]
  },
  {
   "cell_type": "code",
   "execution_count": 7,
   "id": "97f8df10",
   "metadata": {},
   "outputs": [],
   "source": [
    "base_url = 'https://www.imdb.com/search/title/?title_type=feature&release_date=2001-01-01,2021-12-31&genres=animation&runtime=40,&view=simple&sort=release_date,asc'"
   ]
  },
  {
   "cell_type": "code",
   "execution_count": 5,
   "id": "358f4abf",
   "metadata": {},
   "outputs": [],
   "source": [
    "# for a given page url on imdb, this function will gather all the links for the searched films and return a list of \n",
    "# film ids of the form '/titls/tt########'\n",
    "\n",
    "def gather_id_urls(url):\n",
    "    id_urls = []\n",
    "    r = requests.get(url)\n",
    "    soup = BeautifulSoup(r.content, 'html.parser')\n",
    "    movies= []\n",
    "    for a in soup.find_all('a', href=True):\n",
    "        if ('/title/tt' in a['href']) & (a['href'] not in id_urls):\n",
    "            id_urls.append(a['href'])    \n",
    "    return id_urls"
   ]
  },
  {
   "cell_type": "code",
   "execution_count": 3,
   "id": "36de5196",
   "metadata": {},
   "outputs": [],
   "source": [
    "# given a list of imdb ids of the form '/title/tt######/' returns id of the form ######\n",
    "\n",
    "def clean_ids_from_urls(id_urls):\n",
    "    imdb_ids = []\n",
    "    for ids in id_urls:\n",
    "        imdb_ids.append(ids[9:-1])\n",
    "    return imdb_ids"
   ]
  },
  {
   "cell_type": "code",
   "execution_count": 8,
   "id": "c722b2b3",
   "metadata": {},
   "outputs": [],
   "source": [
    "# the first page of search results\n",
    "id_urls = gather_id_urls(base_url)\n",
    "\n",
    "# search results between 51 and 3900 in groups of 50 note that film 3901 is not included but \n",
    "# does it seems reasonable that it is excluded due to the lack of information about the film.\n",
    "\n",
    "for page in range(51, 3901, 50):\n",
    "    url_next = '&start=' + str(page) + '&ref_=adv_nxtpage'\n",
    "    url = base_url + url_next\n",
    "    id_urls.extend(gather_id_urls(url))"
   ]
  },
  {
   "cell_type": "code",
   "execution_count": 9,
   "id": "7d41613e",
   "metadata": {},
   "outputs": [
    {
     "data": {
      "text/plain": [
       "3900"
      ]
     },
     "execution_count": 9,
     "metadata": {},
     "output_type": "execute_result"
    }
   ],
   "source": [
    "# sanity check, 3900 films is expected length\n",
    "len(id_urls)"
   ]
  },
  {
   "cell_type": "code",
   "execution_count": 12,
   "id": "f9401916",
   "metadata": {},
   "outputs": [],
   "source": [
    "# create list of all animated films from 2001 to 2021 with runtime of at least 40 mins.\n",
    "\n",
    "imdb_ids = clean_ids_from_urls(id_urls)"
   ]
  },
  {
   "cell_type": "code",
   "execution_count": 15,
   "id": "fac5c8fc",
   "metadata": {},
   "outputs": [
    {
     "data": {
      "text/plain": [
       "<Movie id:15764078[http] title:_Marriage on Fire (2021)_>"
      ]
     },
     "execution_count": 15,
     "metadata": {},
     "output_type": "execute_result"
    }
   ],
   "source": [
    "# sanity check, last film in list is \"Marriage on Fire\"\n",
    "\n",
    "ia.get_movie(imdb_ids[-1])"
   ]
  }
 ],
 "metadata": {
  "kernelspec": {
   "display_name": "Python 3 (ipykernel)",
   "language": "python",
   "name": "python3"
  },
  "language_info": {
   "codemirror_mode": {
    "name": "ipython",
    "version": 3
   },
   "file_extension": ".py",
   "mimetype": "text/x-python",
   "name": "python",
   "nbconvert_exporter": "python",
   "pygments_lexer": "ipython3",
   "version": "3.9.12"
  }
 },
 "nbformat": 4,
 "nbformat_minor": 5
}
