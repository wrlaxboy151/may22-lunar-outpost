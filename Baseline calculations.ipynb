{
 "cells": [
  {
   "cell_type": "markdown",
   "id": "0bd47443",
   "metadata": {},
   "source": [
    "Precision is given by\n",
    "$\\displaystyle \\frac{TP}{TP+FP}$\n",
    "\n",
    "Recall is given by\n",
    "$\\displaystyle \\frac{TP}{TP+FN}$"
   ]
  },
  {
   "cell_type": "markdown",
   "id": "f66ae650",
   "metadata": {},
   "source": [
    "For each year, suppose we choose $n$ movies to be chosen, where $n$ varies from 0 to the number of movies produced that year.  Then, pick the max recall and precision for each year.  Take the average of those to find our baseline."
   ]
  },
  {
   "cell_type": "code",
   "execution_count": 41,
   "id": "f8c3c95c",
   "metadata": {},
   "outputs": [],
   "source": [
    "import pandas as pd\n",
    "from sklearn.metrics import precision_score, recall_score\n",
    "import math\n",
    "import matplotlib.pyplot as plt\n",
    "import numpy as np"
   ]
  },
  {
   "cell_type": "code",
   "execution_count": 3,
   "id": "4d21af1e",
   "metadata": {},
   "outputs": [],
   "source": [
    "main2=pd.read_pickle('Data/Data_from_imdb_onehot1.pkl')"
   ]
  },
  {
   "cell_type": "markdown",
   "id": "432b3117",
   "metadata": {},
   "source": [
    "Let $n$ be the number of movies we pick to be nominees, and $k$ be the number of movies.\n",
    "\n",
    "Expected $TP$ value is $\\displaystyle \\sum_{i=0}^n i \\cdot P_i$ where $P_i$ is the probability that we chose $i$ correctly.\n",
    "\n",
    "Then, $\\displaystyle P_i = \\frac{\\binom{n}{i} \\binom{k-n}{n-i}}{\\binom{k}{n}}$"
   ]
  },
  {
   "cell_type": "code",
   "execution_count": 29,
   "id": "7f5239bf",
   "metadata": {},
   "outputs": [
    {
     "name": "stdout",
     "output_type": "stream",
     "text": [
      "4\n",
      "4\n",
      "3\n",
      "4\n",
      "2\n",
      "3\n",
      "3\n",
      "3\n",
      "5\n",
      "5\n",
      "3\n",
      "6\n",
      "6\n",
      "5\n",
      "3\n",
      "5\n",
      "5\n",
      "5\n",
      "6\n",
      "4\n",
      "5\n"
     ]
    }
   ],
   "source": [
    "final_precs=[]\n",
    "final_recs=[]\n",
    "best_prec=[]\n",
    "best_rec=[]\n",
    "for y in range(2001,2022):\n",
    "    #Find k and n\n",
    "    k=0\n",
    "    m=0\n",
    "    for j in range(len(main2)):\n",
    "        if main2.iloc[j]['year']== y:\n",
    "            k=k+1\n",
    "            if main2.iloc[j]['is_nominee'] ==1:\n",
    "                m=m+1\n",
    "    #Now, k is the number of movies in year=y\n",
    "    #     and m is the number of nominees in year=y\n",
    "    print(m)\n",
    "    \n",
    "    #Make an array of TP's for values of n from 0 to m\n",
    "    exp_TP = []\n",
    "    for n in range(m+1):\n",
    "        exp_val=0\n",
    "        for i in range(n+1):\n",
    "            exp_val=exp_val +i* math.comb(n,i)*math.comb(k-n,n-i)/math.comb(k,n)\n",
    "        exp_TP.append(exp_val)\n",
    "        \n",
    "    precisions=[exp_TP[x]/x for x in range(1,len(exp_TP))]\n",
    "    recalls = [exp_TP[x]/m for x in range(1,len(exp_TP))]\n",
    "    #This ignores when x=0, but we know that precision and recall is non-negative\n",
    "    best_prec.append(precisions.index(max(precisions))+1)\n",
    "    best_rec.append(recalls.index(max(recalls))+1)\n",
    "    final_precs.append(max(precisions))\n",
    "    final_recs.append(max(recalls))\n",
    "    \n",
    "            \n",
    "    "
   ]
  },
  {
   "cell_type": "code",
   "execution_count": 23,
   "id": "b924eb7a",
   "metadata": {},
   "outputs": [
    {
     "data": {
      "text/plain": [
       "[4, 4, 3, 4, 2, 3, 3, 3, 5, 5, 3, 6, 6, 5, 3, 5, 5, 5, 6, 4, 5]"
      ]
     },
     "execution_count": 23,
     "metadata": {},
     "output_type": "execute_result"
    }
   ],
   "source": [
    "best_prec"
   ]
  },
  {
   "cell_type": "code",
   "execution_count": 24,
   "id": "6ee4e8ef",
   "metadata": {},
   "outputs": [
    {
     "data": {
      "text/plain": [
       "[4, 4, 3, 4, 2, 3, 3, 3, 5, 5, 3, 6, 6, 5, 3, 5, 5, 5, 6, 4, 5]"
      ]
     },
     "execution_count": 24,
     "metadata": {},
     "output_type": "execute_result"
    }
   ],
   "source": [
    "best_rec"
   ]
  },
  {
   "cell_type": "markdown",
   "id": "e22cfdbf",
   "metadata": {},
   "source": [
    "The best precision and recall come when $n=m$. Thus, we should choose the number of movies that will be nominated."
   ]
  },
  {
   "cell_type": "code",
   "execution_count": 27,
   "id": "31c52d04",
   "metadata": {
    "scrolled": true
   },
   "outputs": [
    {
     "data": {
      "text/plain": [
       "[0.06249999999999999,\n",
       " 0.0606060606060606,\n",
       " 0.04285714285714285,\n",
       " 0.052631578947368425,\n",
       " 0.024096385542168676,\n",
       " 0.02586206896551724,\n",
       " 0.022900763358778622,\n",
       " 0.0234375,\n",
       " 0.0352112676056338,\n",
       " 0.028735632183908046,\n",
       " 0.013698630136986302,\n",
       " 0.02912621359223301,\n",
       " 0.02985074626865672,\n",
       " 0.02232142857142857,\n",
       " 0.011904761904761904,\n",
       " 0.02100840336134454,\n",
       " 0.018867924528301886,\n",
       " 0.017421602787456445,\n",
       " 0.015789473684210527,\n",
       " 0.014981273408239699,\n",
       " 0.016025641025641024]"
      ]
     },
     "execution_count": 27,
     "metadata": {},
     "output_type": "execute_result"
    }
   ],
   "source": [
    "final_precs"
   ]
  },
  {
   "cell_type": "code",
   "execution_count": 28,
   "id": "b4bfa1b0",
   "metadata": {},
   "outputs": [
    {
     "data": {
      "text/plain": [
       "[0.06249999999999999,\n",
       " 0.0606060606060606,\n",
       " 0.04285714285714285,\n",
       " 0.052631578947368425,\n",
       " 0.024096385542168676,\n",
       " 0.02586206896551724,\n",
       " 0.022900763358778622,\n",
       " 0.0234375,\n",
       " 0.0352112676056338,\n",
       " 0.028735632183908046,\n",
       " 0.013698630136986302,\n",
       " 0.02912621359223301,\n",
       " 0.02985074626865672,\n",
       " 0.02232142857142857,\n",
       " 0.011904761904761904,\n",
       " 0.02100840336134454,\n",
       " 0.018867924528301886,\n",
       " 0.017421602787456445,\n",
       " 0.015789473684210527,\n",
       " 0.014981273408239699,\n",
       " 0.016025641025641024]"
      ]
     },
     "execution_count": 28,
     "metadata": {},
     "output_type": "execute_result"
    }
   ],
   "source": [
    "final_recs"
   ]
  },
  {
   "cell_type": "markdown",
   "id": "5b084c5f",
   "metadata": {},
   "source": [
    "Now, let's graph the expected precisions and recalls, and the averages, for the years in our validation sets."
   ]
  },
  {
   "cell_type": "code",
   "execution_count": 51,
   "id": "3558ca11",
   "metadata": {},
   "outputs": [],
   "source": [
    "val_precs=final_precs[12:17]"
   ]
  },
  {
   "cell_type": "code",
   "execution_count": 56,
   "id": "4e052fed",
   "metadata": {},
   "outputs": [],
   "source": [
    "val_recs=final_recs[12:17]"
   ]
  },
  {
   "cell_type": "code",
   "execution_count": 52,
   "id": "8e94d3e5",
   "metadata": {},
   "outputs": [
    {
     "data": {
      "text/plain": [
       "[0.02985074626865672,\n",
       " 0.02232142857142857,\n",
       " 0.011904761904761904,\n",
       " 0.02100840336134454,\n",
       " 0.018867924528301886]"
      ]
     },
     "execution_count": 52,
     "metadata": {},
     "output_type": "execute_result"
    }
   ],
   "source": [
    "val_precs"
   ]
  },
  {
   "cell_type": "code",
   "execution_count": 53,
   "id": "c6b4eb36",
   "metadata": {},
   "outputs": [],
   "source": [
    "ave=np.mean(val_precs)\n",
    "val_precs.append(ave)"
   ]
  },
  {
   "cell_type": "code",
   "execution_count": 54,
   "id": "3b9b9513",
   "metadata": {},
   "outputs": [
    {
     "data": {
      "text/plain": [
       "[0.02985074626865672,\n",
       " 0.02232142857142857,\n",
       " 0.011904761904761904,\n",
       " 0.02100840336134454,\n",
       " 0.018867924528301886,\n",
       " 0.020790652926898724]"
      ]
     },
     "execution_count": 54,
     "metadata": {},
     "output_type": "execute_result"
    }
   ],
   "source": [
    "val_precs"
   ]
  },
  {
   "cell_type": "code",
   "execution_count": 57,
   "id": "fb043af6",
   "metadata": {},
   "outputs": [],
   "source": [
    "ave=np.mean(val_recs)\n",
    "val_recs.append(ave)\n"
   ]
  },
  {
   "cell_type": "code",
   "execution_count": 58,
   "id": "0d0bb9f2",
   "metadata": {},
   "outputs": [
    {
     "data": {
      "text/plain": [
       "[0.02985074626865672,\n",
       " 0.02232142857142857,\n",
       " 0.011904761904761904,\n",
       " 0.02100840336134454,\n",
       " 0.018867924528301886,\n",
       " 0.020790652926898724]"
      ]
     },
     "execution_count": 58,
     "metadata": {},
     "output_type": "execute_result"
    }
   ],
   "source": [
    "val_recs"
   ]
  },
  {
   "cell_type": "markdown",
   "id": "e74adec9",
   "metadata": {},
   "source": [
    "It makes sense that precision and recall are the same because the number that we're predicting matches the actual."
   ]
  },
  {
   "cell_type": "code",
   "execution_count": 70,
   "id": "29de1844",
   "metadata": {},
   "outputs": [
    {
     "data": {
      "image/png": "[encoded data removed]",
      "text/plain": [
       "<Figure size 576x432 with 1 Axes>"
      ]
     },
     "metadata": {
      "needs_background": "light"
     },
     "output_type": "display_data"
    }
   ],
   "source": [
    "plt.figure(figsize=(8,6))\n",
    "\n",
    "plt.scatter(['2013','2014','2015','2016','2017'], val_recs[:-1])\n",
    "plt.plot(['2013','2017'],[val_recs[5], val_recs[5]], '--', color='red', label='Average')\n",
    "\n",
    "plt.legend()\n",
    "\n",
    "plt.ylim(-0.1,1.1)\n",
    "plt.title('Baseline Predictions')\n",
    "plt.ylabel('Precision/Recall')\n",
    "plt.xlabel('Year')\n",
    "\n",
    "plt.show()"
   ]
  },
  {
   "cell_type": "code",
   "execution_count": null,
   "id": "c6e324d8",
   "metadata": {},
   "outputs": [],
   "source": []
  }
 ],
 "metadata": {
  "kernelspec": {
   "display_name": "Python 3 (ipykernel)",
   "language": "python",
   "name": "python3"
  },
  "language_info": {
   "codemirror_mode": {
    "name": "ipython",
    "version": 3
   },
   "file_extension": ".py",
   "mimetype": "text/x-python",
   "name": "python",
   "nbconvert_exporter": "python",
   "pygments_lexer": "ipython3",
   "version": "3.9.7"
  }
 },
 "nbformat": 4,
 "nbformat_minor": 5
}
