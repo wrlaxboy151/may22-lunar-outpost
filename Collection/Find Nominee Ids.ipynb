{
 "cells": [
  {
   "cell_type": "markdown",
   "id": "7a86d6e1",
   "metadata": {},
   "source": [
    "## **This is a Jupyter Notebook Showing How we Obtained the IMDB IDs of Best Animated Feature Nominees**"
   ]
  },
  {
   "cell_type": "markdown",
   "id": "5eb2f399",
   "metadata": {},
   "source": [
    "To determine the Imdb ids of Best Animated Feature Nominees we first read in a text file corresponding to the titles of the nominees taken directly from the academy award database **(list_of_nominees.txt)**. The url of the nominee list is given in the **award_url.txt** file located in the Data folder."
   ]
  },
  {
   "cell_type": "code",
   "execution_count": 1,
   "id": "84c51f46",
   "metadata": {},
   "outputs": [],
   "source": [
    "# importing packages\n",
    "\n",
    "import numpy as np\n",
    "import pandas as pd\n",
    "from imdb import Cinemagoer\n"
   ]
  },
  {
   "cell_type": "code",
   "execution_count": 2,
   "id": "9d6f1bca",
   "metadata": {},
   "outputs": [],
   "source": [
    "with open(\"../Data/list_of_nominees.txt\", \"r\") as file:\n",
    "    nominees = file.read()\n",
    "    nominees = nominees.split('\\n')\n"
   ]
  },
  {
   "cell_type": "code",
   "execution_count": 3,
   "id": "3623135d",
   "metadata": {},
   "outputs": [
    {
     "data": {
      "text/plain": [
       "'Monsters, Inc.'"
      ]
     },
     "execution_count": 3,
     "metadata": {},
     "output_type": "execute_result"
    }
   ],
   "source": [
    "# sample nominee \n",
    "nominees[3]"
   ]
  },
  {
   "cell_type": "markdown",
   "id": "d71e5089",
   "metadata": {},
   "source": [
    "Next we read in the imdb ids corresponding to animated films released from 2001 to 2021 **(animated_films_ids1.csv)**. This is the window of time that the Best Animated Feature Academy Award began."
   ]
  },
  {
   "cell_type": "code",
   "execution_count": 6,
   "id": "150d8834",
   "metadata": {},
   "outputs": [],
   "source": [
    "ids = pd.read_csv('../Data/df_of_animated_movies.csv',\n",
    "                           dtype = {'movie_id':'str'})"
   ]
  },
  {
   "cell_type": "code",
   "execution_count": 7,
   "id": "59171475",
   "metadata": {},
   "outputs": [
    {
     "data": {
      "text/html": [
       "<div>\n",
       "<style scoped>\n",
       "    .dataframe tbody tr th:only-of-type {\n",
       "        vertical-align: middle;\n",
       "    }\n",
       "\n",
       "    .dataframe tbody tr th {\n",
       "        vertical-align: top;\n",
       "    }\n",
       "\n",
       "    .dataframe thead th {\n",
       "        text-align: right;\n",
       "    }\n",
       "</style>\n",
       "<table border=\"1\" class=\"dataframe\">\n",
       "  <thead>\n",
       "    <tr style=\"text-align: right;\">\n",
       "      <th></th>\n",
       "      <th>movie_id</th>\n",
       "    </tr>\n",
       "  </thead>\n",
       "  <tbody>\n",
       "    <tr>\n",
       "      <th>0</th>\n",
       "      <td>0388130</td>\n",
       "    </tr>\n",
       "    <tr>\n",
       "      <th>1</th>\n",
       "      <td>0273772</td>\n",
       "    </tr>\n",
       "    <tr>\n",
       "      <th>2</th>\n",
       "      <td>0243017</td>\n",
       "    </tr>\n",
       "    <tr>\n",
       "      <th>3</th>\n",
       "      <td>0291559</td>\n",
       "    </tr>\n",
       "    <tr>\n",
       "      <th>4</th>\n",
       "      <td>0277909</td>\n",
       "    </tr>\n",
       "  </tbody>\n",
       "</table>\n",
       "</div>"
      ],
      "text/plain": [
       "  movie_id\n",
       "0  0388130\n",
       "1  0273772\n",
       "2  0243017\n",
       "3  0291559\n",
       "4  0277909"
      ]
     },
     "execution_count": 7,
     "metadata": {},
     "output_type": "execute_result"
    }
   ],
   "source": [
    "ids.head()"
   ]
  },
  {
   "cell_type": "code",
   "execution_count": 8,
   "id": "fdd83e4e",
   "metadata": {},
   "outputs": [],
   "source": [
    "imdb_ids = ids['movie_id'].values.tolist() # change ids to list"
   ]
  },
  {
   "cell_type": "markdown",
   "id": "0e2da3ec",
   "metadata": {},
   "source": [
    "Now that we have a dataframe of the animated films ids and a list of nominee names we need to convert the nominee names to imdb ids. This can be accomplished with the Cinemagoer object from the Cinemagoer package. Info about the package is available here: https://cinemagoer.github.io/"
   ]
  },
  {
   "cell_type": "code",
   "execution_count": 9,
   "id": "d7f9193b",
   "metadata": {},
   "outputs": [
    {
     "name": "stdout",
     "output_type": "stream",
     "text": [
      "Jimmy Neutron: Boy Genius  is a nominee!\n",
      "Monsters, Inc.  is a nominee!\n",
      "Shrek  is a nominee!\n",
      "Ice Age  is a nominee!\n",
      "Lilo & Stitch  is a nominee!\n",
      "Spirit: Stallion of the Cimarron  is a nominee!\n",
      "Spirited Away  is a nominee!\n",
      "Treasure Planet  is a nominee!\n",
      "Brother Bear  is a nominee!\n",
      "Finding Nemo  is a nominee!\n",
      "The Triplets of Belleville  is a nominee!\n",
      "The Incredibles  is a nominee!\n",
      "Shark Tale  is a nominee!\n",
      "Shrek 2  is a nominee!\n",
      "Howl's Moving Castle  is a nominee!\n",
      "Corpse Bride  is a nominee!\n",
      "Wallace & Gromit in The Curse of the Were-Rabbit  is a nominee!\n",
      "Cars  is a nominee!\n",
      "Happy Feet  is a nominee!\n",
      "Monster House  is a nominee!\n",
      "Persepolis  is a nominee!\n",
      "Ratatouille  is a nominee!\n",
      "Surf's Up  is a nominee!\n",
      "Bolt  is a nominee!\n",
      "Kung Fu Panda  is a nominee!\n",
      "WALL-E  is a nominee!\n",
      "Coraline  is a nominee!\n",
      "Fantastic Mr. Fox  is a nominee!\n",
      "The Princess and the Frog  is a nominee!\n",
      "The Secret of Kells  is a nominee!\n",
      "Up  is a nominee!\n",
      "How to Train Your Dragon  is a nominee!\n",
      "The Illusionist (2010)  is a nominee!\n",
      "Toy Story 3  is a nominee!\n",
      "A Cat in Paris  is a nominee!\n",
      "Chico & Rita  is a nominee!\n",
      "Kung Fu Panda 2  is a nominee!\n",
      "Puss in Boots  is a nominee!\n",
      "Rango  is a nominee!\n",
      "Brave  is a nominee!\n",
      "Frankenweenie  is a nominee!\n",
      "ParaNorman  is a nominee!\n",
      "The Pirates! Band of Misfits  is a nominee!\n",
      "Wreck-It Ralph  is a nominee!\n",
      "The Croods  is a nominee!\n",
      "Despicable Me 2  is a nominee!\n",
      "Ernest & Celestine  is a nominee!\n",
      "Frozen  is a nominee!\n",
      "The Wind Rises  is a nominee!\n",
      "Big Hero 6  is a nominee!\n",
      "The Boxtrolls  is a nominee!\n",
      "How to Train Your Dragon 2  is a nominee!\n",
      "Song of the Sea  is a nominee!\n",
      "The Tale of the Princess Kaguya  is a nominee!\n",
      "Anomalisa  is a nominee!\n",
      "Boy and the World  is a nominee!\n",
      "Inside Out  is a nominee!\n",
      "Shaun the Sheep Movie  is a nominee!\n",
      "When Marnie Was There  is a nominee!\n",
      "Kubo and the Two Strings  is a nominee!\n",
      "Moana  is a nominee!\n",
      "My Life as a Zucchini  is a nominee!\n",
      "The Red Turtle  is a nominee!\n",
      "Zootopia  is a nominee!\n",
      "The Boss Baby  is a nominee!\n",
      "The Breadwinner  is a nominee!\n",
      "Coco  is a nominee!\n",
      "Ferdinand  is a nominee!\n",
      "Loving Vincent  is a nominee!\n",
      "Incredibles 2  is a nominee!\n",
      "Isle of Dogs  is a nominee!\n",
      "Mirai  is a nominee!\n",
      "Ralph Breaks the Internet  is a nominee!\n",
      "Spider-Man: Into the Spider-Verse  is a nominee!\n",
      "How to Train Your Dragon: The Hidden World  is a nominee!\n",
      "I Lost My Body  is a nominee!\n",
      "Klaus  is a nominee!\n",
      "Missing Link  is a nominee!\n",
      "Toy Story 4  is a nominee!\n",
      "Onward  is a nominee!\n",
      "Over the Moon  is a nominee!\n",
      "A Shaun the Sheep Movie: Farmageddon  is a nominee!\n",
      "Soul  is a nominee!\n",
      "Wolfwalkers  is a nominee!\n",
      "Encanto  is a nominee!\n",
      "Flee  is a nominee!\n",
      "Luca  is a nominee!\n",
      "The Mitchells vs. the Machines  is a nominee!\n",
      "Raya and the Last Dragon  is a nominee!\n"
     ]
    }
   ],
   "source": [
    "# for loop to create a list of nominee ids and an array of 0's and 1's\n",
    "ia = Cinemagoer()\n",
    "is_nominee = np.zeros((len(imdb_ids),),dtype=int)\n",
    "nominee_ids = []\n",
    "\n",
    "\n",
    "for nom in nominees:\n",
    "    movie = ia.search_movie(nom)\n",
    "    if movie: # checking if search returned something\n",
    "        movie = movie[0] # get first result returned by search_movie\n",
    "        #print(movie)\n",
    "        movie_id = movie.getID()\n",
    "        if movie_id in imdb_ids:\n",
    "            idx = imdb_ids.index(movie_id)\n",
    "            is_nominee[idx] = 1\n",
    "            nominee_ids.append(movie.getID())\n",
    "            print(nom,' is a nominee!')\n",
    "            "
   ]
  },
  {
   "cell_type": "code",
   "execution_count": 10,
   "id": "85402eaf",
   "metadata": {},
   "outputs": [
    {
     "data": {
      "text/plain": [
       "89"
      ]
     },
     "execution_count": 10,
     "metadata": {},
     "output_type": "execute_result"
    }
   ],
   "source": [
    "# There are 89 nominees so len(nominee_ids) = 89 \n",
    "len(nominee_ids)\n"
   ]
  },
  {
   "cell_type": "code",
   "execution_count": 11,
   "id": "3b3f00bb",
   "metadata": {},
   "outputs": [
    {
     "data": {
      "text/plain": [
       "89"
      ]
     },
     "execution_count": 11,
     "metadata": {},
     "output_type": "execute_result"
    }
   ],
   "source": [
    "# There should be 89 1's in is_nominee so its sum should be 89\n",
    "is_nominee.sum()"
   ]
  },
  {
   "cell_type": "code",
   "execution_count": 13,
   "id": "d40b04ff",
   "metadata": {},
   "outputs": [],
   "source": [
    "# create a dataframe for nominees\n",
    "nominee_df = pd.DataFrame({'imdb_id': ids['movie_id'], 'is_nominee': is_nominee})"
   ]
  },
  {
   "cell_type": "code",
   "execution_count": 14,
   "id": "e2e57664",
   "metadata": {},
   "outputs": [
    {
     "data": {
      "text/html": [
       "<div>\n",
       "<style scoped>\n",
       "    .dataframe tbody tr th:only-of-type {\n",
       "        vertical-align: middle;\n",
       "    }\n",
       "\n",
       "    .dataframe tbody tr th {\n",
       "        vertical-align: top;\n",
       "    }\n",
       "\n",
       "    .dataframe thead th {\n",
       "        text-align: right;\n",
       "    }\n",
       "</style>\n",
       "<table border=\"1\" class=\"dataframe\">\n",
       "  <thead>\n",
       "    <tr style=\"text-align: right;\">\n",
       "      <th></th>\n",
       "      <th>imdb_id</th>\n",
       "      <th>is_nominee</th>\n",
       "    </tr>\n",
       "  </thead>\n",
       "  <tbody>\n",
       "    <tr>\n",
       "      <th>15</th>\n",
       "      <td>0126029</td>\n",
       "      <td>1</td>\n",
       "    </tr>\n",
       "    <tr>\n",
       "      <th>26</th>\n",
       "      <td>0245429</td>\n",
       "      <td>1</td>\n",
       "    </tr>\n",
       "    <tr>\n",
       "      <th>47</th>\n",
       "      <td>0198781</td>\n",
       "      <td>1</td>\n",
       "    </tr>\n",
       "    <tr>\n",
       "      <th>51</th>\n",
       "      <td>0268397</td>\n",
       "      <td>1</td>\n",
       "    </tr>\n",
       "    <tr>\n",
       "      <th>74</th>\n",
       "      <td>0268380</td>\n",
       "      <td>1</td>\n",
       "    </tr>\n",
       "    <tr>\n",
       "      <th>...</th>\n",
       "      <td>...</td>\n",
       "      <td>...</td>\n",
       "    </tr>\n",
       "    <tr>\n",
       "      <th>3632</th>\n",
       "      <td>5109280</td>\n",
       "      <td>1</td>\n",
       "    </tr>\n",
       "    <tr>\n",
       "      <th>3656</th>\n",
       "      <td>7979580</td>\n",
       "      <td>1</td>\n",
       "    </tr>\n",
       "    <tr>\n",
       "      <th>3702</th>\n",
       "      <td>12801262</td>\n",
       "      <td>1</td>\n",
       "    </tr>\n",
       "    <tr>\n",
       "      <th>3829</th>\n",
       "      <td>2953050</td>\n",
       "      <td>1</td>\n",
       "    </tr>\n",
       "    <tr>\n",
       "      <th>3900</th>\n",
       "      <td>8430054</td>\n",
       "      <td>1</td>\n",
       "    </tr>\n",
       "  </tbody>\n",
       "</table>\n",
       "<p>89 rows × 2 columns</p>\n",
       "</div>"
      ],
      "text/plain": [
       "       imdb_id  is_nominee\n",
       "15     0126029           1\n",
       "26     0245429           1\n",
       "47     0198781           1\n",
       "51     0268397           1\n",
       "74     0268380           1\n",
       "...        ...         ...\n",
       "3632   5109280           1\n",
       "3656   7979580           1\n",
       "3702  12801262           1\n",
       "3829   2953050           1\n",
       "3900   8430054           1\n",
       "\n",
       "[89 rows x 2 columns]"
      ]
     },
     "execution_count": 14,
     "metadata": {},
     "output_type": "execute_result"
    }
   ],
   "source": [
    "nominee_df.loc[nominee_df['is_nominee'] == 1]"
   ]
  },
  {
   "cell_type": "code",
   "execution_count": 15,
   "id": "68bf1600",
   "metadata": {},
   "outputs": [],
   "source": [
    "# output dataframe to csv \n",
    "nominee_df.to_csv('../Data/df_of_nominees.csv',index=False)"
   ]
  },
  {
   "cell_type": "code",
   "execution_count": 16,
   "id": "3741bf1f",
   "metadata": {},
   "outputs": [],
   "source": [
    "# check to make sure df is correctly reading in \n",
    "nominee_df_test = pd.read_csv('../Data/df_of_nominees.csv',\n",
    "                dtype = {'imdb_id':'str', 'is_nominee':'int'})"
   ]
  },
  {
   "cell_type": "code",
   "execution_count": 20,
   "id": "1f59308e",
   "metadata": {},
   "outputs": [],
   "source": [
    "check = nominee_df_test == nominee_df"
   ]
  },
  {
   "cell_type": "code",
   "execution_count": 21,
   "id": "d67d57f7",
   "metadata": {},
   "outputs": [
    {
     "data": {
      "text/plain": [
       "imdb_id  is_nominee\n",
       "True     True          3901\n",
       "dtype: int64"
      ]
     },
     "execution_count": 21,
     "metadata": {},
     "output_type": "execute_result"
    }
   ],
   "source": [
    "check.value_counts()"
   ]
  },
  {
   "cell_type": "code",
   "execution_count": null,
   "id": "711d4287",
   "metadata": {},
   "outputs": [],
   "source": []
  }
 ],
 "metadata": {
  "kernelspec": {
   "display_name": "Python 3 (ipykernel)",
   "language": "python",
   "name": "python3"
  },
  "language_info": {
   "codemirror_mode": {
    "name": "ipython",
    "version": 3
   },
   "file_extension": ".py",
   "mimetype": "text/x-python",
   "name": "python",
   "nbconvert_exporter": "python",
   "pygments_lexer": "ipython3",
   "version": "3.9.7"
  }
 },
 "nbformat": 4,
 "nbformat_minor": 5
}
