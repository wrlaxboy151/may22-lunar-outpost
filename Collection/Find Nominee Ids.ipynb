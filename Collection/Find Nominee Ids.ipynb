{
 "cells": [
  {
   "cell_type": "markdown",
   "id": "7a86d6e1",
   "metadata": {},
   "source": [
    "## **This is a Jupyter Notebook Showing How we Obtained the IMDB IDs of Best Animated Feature Nominees**"
   ]
  },
  {
   "cell_type": "markdown",
   "id": "5eb2f399",
   "metadata": {},
   "source": [
    "To determine the Imdb ids of Best Animated Feature Nominees we first read in a text file corresponding to the titles of the nominees taken directly from the academy award database **(list_of_nominees.txt)**. The url of the nominee list is given in the **award_url.txt** file located in the Data folder."
   ]
  },
  {
   "cell_type": "code",
   "execution_count": 145,
   "id": "84c51f46",
   "metadata": {},
   "outputs": [],
   "source": [
    "# importing packages\n",
    "\n",
    "import numpy as np\n",
    "import pandas as pd\n",
    "from imdb import Cinemagoer\n"
   ]
  },
  {
   "cell_type": "code",
   "execution_count": 146,
   "id": "9d6f1bca",
   "metadata": {},
   "outputs": [],
   "source": [
    "with open(\"../Data/list_of_nominees.txt\", \"r\") as file:\n",
    "    nominees = file.read()\n",
    "    nominees = nominees.split('\\n')\n"
   ]
  },
  {
   "cell_type": "code",
   "execution_count": 147,
   "id": "3623135d",
   "metadata": {},
   "outputs": [
    {
     "data": {
      "text/plain": [
       "'Jimmy Neutron: Boy Genius'"
      ]
     },
     "execution_count": 147,
     "metadata": {},
     "output_type": "execute_result"
    }
   ],
   "source": [
    "# sample nominee \n",
    "nominees[1]"
   ]
  },
  {
   "cell_type": "markdown",
   "id": "d71e5089",
   "metadata": {},
   "source": [
    "Next we read in the imdb ids corresponding to animated films released from 2001 to 2021 **(animated_films_ids1.csv)**. This is the window of time that the Best Animated Feature Academy Award began."
   ]
  },
  {
   "cell_type": "code",
   "execution_count": 148,
   "id": "150d8834",
   "metadata": {},
   "outputs": [],
   "source": [
    "ids = pd.read_csv('../Data/animated_films_ids1.csv',\n",
    "                           dtype = {'animatedIds':'str'}, \n",
    "                           usecols = ['animatedIds'])"
   ]
  },
  {
   "cell_type": "code",
   "execution_count": 149,
   "id": "b81ce233",
   "metadata": {},
   "outputs": [
    {
     "data": {
      "text/html": [
       "<div>\n",
       "<style scoped>\n",
       "    .dataframe tbody tr th:only-of-type {\n",
       "        vertical-align: middle;\n",
       "    }\n",
       "\n",
       "    .dataframe tbody tr th {\n",
       "        vertical-align: top;\n",
       "    }\n",
       "\n",
       "    .dataframe thead th {\n",
       "        text-align: right;\n",
       "    }\n",
       "</style>\n",
       "<table border=\"1\" class=\"dataframe\">\n",
       "  <thead>\n",
       "    <tr style=\"text-align: right;\">\n",
       "      <th></th>\n",
       "      <th>animatedIds</th>\n",
       "    </tr>\n",
       "  </thead>\n",
       "  <tbody>\n",
       "    <tr>\n",
       "      <th>0</th>\n",
       "      <td>0388130</td>\n",
       "    </tr>\n",
       "    <tr>\n",
       "      <th>1</th>\n",
       "      <td>0273772</td>\n",
       "    </tr>\n",
       "    <tr>\n",
       "      <th>2</th>\n",
       "      <td>0243017</td>\n",
       "    </tr>\n",
       "    <tr>\n",
       "      <th>3</th>\n",
       "      <td>0291559</td>\n",
       "    </tr>\n",
       "    <tr>\n",
       "      <th>4</th>\n",
       "      <td>0277909</td>\n",
       "    </tr>\n",
       "  </tbody>\n",
       "</table>\n",
       "</div>"
      ],
      "text/plain": [
       "  animatedIds\n",
       "0     0388130\n",
       "1     0273772\n",
       "2     0243017\n",
       "3     0291559\n",
       "4     0277909"
      ]
     },
     "execution_count": 149,
     "metadata": {},
     "output_type": "execute_result"
    }
   ],
   "source": [
    "# look at first 5 ids\n",
    "ids.head()\n",
    "\n"
   ]
  },
  {
   "cell_type": "code",
   "execution_count": 150,
   "id": "fdd83e4e",
   "metadata": {},
   "outputs": [],
   "source": [
    "imdb_ids = ids['animatedIds'].values.tolist() # change ids to list"
   ]
  },
  {
   "cell_type": "markdown",
   "id": "0e2da3ec",
   "metadata": {},
   "source": [
    "Now that we have a dataframe of the animated films ids and a list of nominee names we need to convert the nominee names to imdb ids. This can be accomplished with the Cinemagoer object from the Cinemagoer package. Info about the package is available here: https://cinemagoer.github.io/"
   ]
  },
  {
   "cell_type": "code",
   "execution_count": 154,
   "id": "d7f9193b",
   "metadata": {},
   "outputs": [
    {
     "name": "stdout",
     "output_type": "stream",
     "text": [
      "Jimmy Neutron: Boy Genius  is a nominee!\n",
      "Monsters, Inc.  is a nominee!\n",
      "Shrek  is a nominee!\n",
      "Ice Age  is a nominee!\n",
      "Lilo & Stitch  is a nominee!\n",
      "Spirit: Stallion of the Cimarron  is a nominee!\n",
      "Spirited Away  is a nominee!\n",
      "Treasure Planet  is a nominee!\n",
      "Brother Bear  is a nominee!\n",
      "Finding Nemo  is a nominee!\n",
      "The Triplets of Belleville  is a nominee!\n",
      "The Incredibles  is a nominee!\n",
      "Shark Tale  is a nominee!\n",
      "Shrek 2  is a nominee!\n",
      "Howl's Moving Castle  is a nominee!\n",
      "Wallace & Gromit in The Curse of the Were-Rabbit  is a nominee!\n",
      "Cars  is a nominee!\n",
      "Happy Feet  is a nominee!\n",
      "Monster House  is a nominee!\n",
      "Persepolis  is a nominee!\n",
      "Ratatouille  is a nominee!\n",
      "Surf's Up  is a nominee!\n",
      "Bolt  is a nominee!\n",
      "Kung Fu Panda  is a nominee!\n",
      "WALL-E  is a nominee!\n",
      "Coraline  is a nominee!\n",
      "Fantastic Mr. Fox  is a nominee!\n",
      "The Princess and the Frog  is a nominee!\n",
      "The Secret of Kells  is a nominee!\n",
      "Up  is a nominee!\n",
      "How to Train Your Dragon  is a nominee!\n",
      "Toy Story 3  is a nominee!\n",
      "A Cat in Paris  is a nominee!\n",
      "Chico & Rita  is a nominee!\n",
      "Kung Fu Panda 2  is a nominee!\n",
      "Puss in Boots  is a nominee!\n",
      "Rango  is a nominee!\n",
      "Brave  is a nominee!\n",
      "Frankenweenie  is a nominee!\n",
      "ParaNorman  is a nominee!\n",
      "The Pirates! Band of Misfits  is a nominee!\n",
      "Wreck-It Ralph  is a nominee!\n",
      "The Croods  is a nominee!\n",
      "Despicable Me 2  is a nominee!\n",
      "Ernest & Celestine  is a nominee!\n",
      "Frozen  is a nominee!\n",
      "The Wind Rises  is a nominee!\n",
      "Big Hero 6  is a nominee!\n",
      "The Boxtrolls  is a nominee!\n",
      "How to Train Your Dragon 2  is a nominee!\n",
      "Song of the Sea  is a nominee!\n",
      "The Tale of the Princess Kaguya  is a nominee!\n",
      "Anomalisa  is a nominee!\n",
      "Boy and the World  is a nominee!\n",
      "Inside Out  is a nominee!\n",
      "Shaun the Sheep Movie  is a nominee!\n",
      "When Marnie Was There  is a nominee!\n",
      "Kubo and the Two Strings  is a nominee!\n",
      "Moana  is a nominee!\n",
      "My Life as a Zucchini  is a nominee!\n",
      "The Red Turtle  is a nominee!\n",
      "Zootopia  is a nominee!\n",
      "The Boss Baby  is a nominee!\n",
      "The Breadwinner  is a nominee!\n",
      "Coco  is a nominee!\n",
      "Ferdinand  is a nominee!\n",
      "Loving Vincent  is a nominee!\n",
      "Incredibles 2  is a nominee!\n",
      "Isle of Dogs  is a nominee!\n",
      "Mirai  is a nominee!\n",
      "Ralph Breaks the Internet  is a nominee!\n",
      "Spider-Man: Into the Spider-Verse  is a nominee!\n",
      "How to Train Your Dragon: The Hidden World  is a nominee!\n",
      "I Lost My Body  is a nominee!\n",
      "Klaus  is a nominee!\n",
      "Missing Link  is a nominee!\n",
      "Toy Story 4  is a nominee!\n",
      "Onward  is a nominee!\n",
      "Over the Moon  is a nominee!\n",
      "A Shaun the Sheep Movie: Farmageddon  is a nominee!\n",
      "Soul  is a nominee!\n",
      "Wolfwalkers  is a nominee!\n",
      "Encanto  is a nominee!\n",
      "Luca  is a nominee!\n",
      "The Mitchells vs. the Machines  is a nominee!\n",
      "Raya and the Last Dragon  is a nominee!\n"
     ]
    }
   ],
   "source": [
    "# double for loop to create a list of nominee ids \n",
    "# and an array of 0's and 1's\n",
    "ia = Cinemagoer()\n",
    "is_nominee = np.zeros((len(imdb_ids),1),dtype=int)\n",
    "nominee_ids = []\n",
    "\n",
    "\n",
    "for nom in nominees:\n",
    "    movie = ia.search_movie(nom)\n",
    "    if movie: # checking if search returned something\n",
    "        movie = movie[0]\n",
    "        movie_id = movie.getID()\n",
    "        if movie_id in imdb_ids:\n",
    "            idx = imdb_ids.index(movie_id)\n",
    "            is_nominee[idx] = 1\n",
    "            nominee_ids.append(movie.getID())\n",
    "            print(nom,' is a nominee!')\n",
    "            \n",
    "            \n",
    "                \n",
    "    \n",
    "    \n",
    "                \n",
    "                \n",
    "            \n",
    "        "
   ]
  },
  {
   "cell_type": "code",
   "execution_count": 143,
   "id": "85402eaf",
   "metadata": {},
   "outputs": [
    {
     "data": {
      "text/plain": [
       "'Initial D: Third Stage'"
      ]
     },
     "execution_count": 143,
     "metadata": {},
     "output_type": "execute_result"
    }
   ],
   "source": [
    "## Todo save nominee_ids "
   ]
  },
  {
   "cell_type": "code",
   "execution_count": null,
   "id": "3b3f00bb",
   "metadata": {},
   "outputs": [],
   "source": []
  }
 ],
 "metadata": {
  "kernelspec": {
   "display_name": "Python 3 (ipykernel)",
   "language": "python",
   "name": "python3"
  },
  "language_info": {
   "codemirror_mode": {
    "name": "ipython",
    "version": 3
   },
   "file_extension": ".py",
   "mimetype": "text/x-python",
   "name": "python",
   "nbconvert_exporter": "python",
   "pygments_lexer": "ipython3",
   "version": "3.9.7"
  }
 },
 "nbformat": 4,
 "nbformat_minor": 5
}
