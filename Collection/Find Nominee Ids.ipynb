{
 "cells": [
  {
   "cell_type": "markdown",
   "id": "7a86d6e1",
   "metadata": {},
   "source": [
    "## **This is a Jupyter Notebook Showing How we Obtained the IMDB IDs of Best Animated Feature Nominees**"
   ]
  },
  {
   "cell_type": "markdown",
   "id": "5eb2f399",
   "metadata": {},
   "source": [
    "To determine the Imdb ids of Best Animated Feature Nominees we first read in a text file corresponding to the titles of the nominees taken directly from the academy award database **(list_of_nominees.txt)**. The url of the nominee list is given in the **award_url.txt** file located in the Data folder."
   ]
  },
  {
   "cell_type": "code",
   "execution_count": 83,
   "id": "84c51f46",
   "metadata": {},
   "outputs": [],
   "source": [
    "# importing packages\n",
    "\n",
    "import numpy as np\n",
    "import pandas as pd\n",
    "from imdb import Cinemagoer\n"
   ]
  },
  {
   "cell_type": "code",
   "execution_count": 84,
   "id": "9d6f1bca",
   "metadata": {},
   "outputs": [],
   "source": [
    "with open(\"../Data/list_of_nominees.txt\", \"r\") as file:\n",
    "    nominees = file.read()\n",
    "    nominees = nominees.split('\\n')\n"
   ]
  },
  {
   "cell_type": "code",
   "execution_count": 85,
   "id": "3623135d",
   "metadata": {},
   "outputs": [
    {
     "data": {
      "text/plain": [
       "'The Mitchells vs. the Machines'"
      ]
     },
     "execution_count": 85,
     "metadata": {},
     "output_type": "execute_result"
    }
   ],
   "source": [
    "# sample nominee \n",
    "nominees[-5]"
   ]
  },
  {
   "cell_type": "code",
   "execution_count": 86,
   "id": "3b10fbe4",
   "metadata": {},
   "outputs": [
    {
     "data": {
      "text/plain": [
       "'Corpse Bride'"
      ]
     },
     "execution_count": 86,
     "metadata": {},
     "output_type": "execute_result"
    }
   ],
   "source": [
    "nominees[35]"
   ]
  },
  {
   "cell_type": "markdown",
   "id": "d71e5089",
   "metadata": {},
   "source": [
    "Next we read in the imdb ids corresponding to animated films released from 2001 to 2021 **(animated_films_ids1.csv)**. This is the window of time that the Best Animated Feature Academy Award began."
   ]
  },
  {
   "cell_type": "code",
   "execution_count": 87,
   "id": "150d8834",
   "metadata": {},
   "outputs": [],
   "source": [
    "ids = pd.read_csv('../Data/animated_films_ids1.csv',\n",
    "                           dtype = {'animatedIds':'str'},\n",
    "                           usecols = ['animatedIds'])"
   ]
  },
  {
   "cell_type": "code",
   "execution_count": 88,
   "id": "59171475",
   "metadata": {},
   "outputs": [
    {
     "data": {
      "text/html": [
       "<div>\n",
       "<style scoped>\n",
       "    .dataframe tbody tr th:only-of-type {\n",
       "        vertical-align: middle;\n",
       "    }\n",
       "\n",
       "    .dataframe tbody tr th {\n",
       "        vertical-align: top;\n",
       "    }\n",
       "\n",
       "    .dataframe thead th {\n",
       "        text-align: right;\n",
       "    }\n",
       "</style>\n",
       "<table border=\"1\" class=\"dataframe\">\n",
       "  <thead>\n",
       "    <tr style=\"text-align: right;\">\n",
       "      <th></th>\n",
       "      <th>animatedIds</th>\n",
       "    </tr>\n",
       "  </thead>\n",
       "  <tbody>\n",
       "    <tr>\n",
       "      <th>0</th>\n",
       "      <td>0388130</td>\n",
       "    </tr>\n",
       "    <tr>\n",
       "      <th>1</th>\n",
       "      <td>0273772</td>\n",
       "    </tr>\n",
       "    <tr>\n",
       "      <th>2</th>\n",
       "      <td>0243017</td>\n",
       "    </tr>\n",
       "    <tr>\n",
       "      <th>3</th>\n",
       "      <td>0291559</td>\n",
       "    </tr>\n",
       "    <tr>\n",
       "      <th>4</th>\n",
       "      <td>0277909</td>\n",
       "    </tr>\n",
       "  </tbody>\n",
       "</table>\n",
       "</div>"
      ],
      "text/plain": [
       "  animatedIds\n",
       "0     0388130\n",
       "1     0273772\n",
       "2     0243017\n",
       "3     0291559\n",
       "4     0277909"
      ]
     },
     "execution_count": 88,
     "metadata": {},
     "output_type": "execute_result"
    }
   ],
   "source": [
    "ids.head()"
   ]
  },
  {
   "cell_type": "code",
   "execution_count": 89,
   "id": "fdd83e4e",
   "metadata": {},
   "outputs": [],
   "source": [
    "imdb_ids = ids['animatedIds'].values.tolist() # change ids to list"
   ]
  },
  {
   "cell_type": "markdown",
   "id": "0e2da3ec",
   "metadata": {},
   "source": [
    "Now that we have a dataframe of the animated films ids and a list of nominee names we need to convert the nominee names to imdb ids. This can be accomplished with the Cinemagoer object from the Cinemagoer package. Info about the package is available here: https://cinemagoer.github.io/"
   ]
  },
  {
   "cell_type": "code",
   "execution_count": 90,
   "id": "d7f9193b",
   "metadata": {},
   "outputs": [
    {
     "name": "stdout",
     "output_type": "stream",
     "text": [
      "2000/01: 7/4/01\n",
      "Jimmy Neutron: Boy Genius\n",
      "Jimmy Neutron: Boy Genius  is a nominee!\n",
      "Monsters, Inc.\n",
      "Monsters, Inc.  is a nominee!\n",
      "Shrek\n",
      "Shrek  is a nominee!\n",
      "Tim Conway, Steve Lawrence, and Steven Warner\n",
      "NBC 75th Anniversary Special\n",
      "Ice Age\n",
      "Ice Age  is a nominee!\n",
      "Edel SMS Wedges with Chris Koske - 305 (2021) (Podcast Episode) - Golf Unfiltered Podcast\n",
      "Lilo & Stitch\n",
      "Lilo & Stitch  is a nominee!\n",
      "Hans Christian Andersen\n",
      "Spirit: Stallion of the Cimarron\n",
      "Spirit: Stallion of the Cimarron  is a nominee!\n",
      "Jeffrey Katzenberg\n",
      "Spirited Away\n",
      "Spirited Away  is a nominee!\n",
      "Hayao Miyazaki\n",
      "Treasure Planet\n",
      "Treasure Planet  is a nominee!\n",
      "Gentlemen Broncos\n",
      "037: 6th February 2021 (2021) (Podcast Episode) - Quicklink Daily Cycling Podcast\n",
      "Brother Bear\n",
      "Brother Bear  is a nominee!\n",
      "Finding Nemo\n",
      "Finding Nemo  is a nominee!\n",
      "Andrew Stanton, WALL-E, VH1 Critics Choice Awards 2009\n",
      "The Triplets of Belleville\n",
      "The Triplets of Belleville  is a nominee!\n",
      "The Cartoon According to Sylvain Chomet\n",
      "The Incredibles\n",
      "The Incredibles  is a nominee!\n",
      "Brad Bird\n",
      "Shark Tale\n",
      "Shark Tale  is a nominee!\n",
      "Shrek 2\n",
      "Shrek 2  is a nominee!\n",
      "Andrew Adamson\n",
      "Chocolate Wrestling, Margarita Beach, and Hefner's 78th\n",
      "Howl's Moving Castle\n",
      "Howl's Moving Castle  is a nominee!\n",
      "Hayao Miyazaki\n",
      "Corpse Bride\n",
      "Corpse Bride  is a nominee!\n",
      "Wallace & Gromit: The Curse of the Were-Rabbit\n",
      "Wallace & Gromit in The Curse of the Were-Rabbit  is a nominee!\n",
      "Cars\n",
      "Cars  is a nominee!\n",
      "John Lasseter\n",
      "Happy Feet\n",
      "Happy Feet  is a nominee!\n",
      "George Miller\n",
      "Monster House\n",
      "Monster House  is a nominee!\n",
      "Henry Lawfull & Gil Kenan\n",
      "2007 80th Annual Scripps National Spelling Bee\n",
      "Persepolis\n",
      "Persepolis  is a nominee!\n",
      "Ratatouille\n",
      "Ratatouille  is a nominee!\n",
      "Brad Bird\n",
      "Surf's Up\n",
      "Surf's Up  is a nominee!\n",
      "Bolt\n",
      "Bolt  is a nominee!\n",
      "Kung Fu Panda\n",
      "Kung Fu Panda  is a nominee!\n",
      "WALL·E\n",
      "WALL-E  is a nominee!\n",
      "Andrew Stanton, WALL-E, VH1 Critics Choice Awards 2009\n",
      "82nd Annual Scripps National Spelling Bee Finals\n",
      "Coraline\n",
      "Coraline  is a nominee!\n",
      "Henry Selick Deserves More Respect! Obscure Animation: James and the Giant Peach (2021) (Podcast Episode) - Rachel's Reviews\n",
      "Fantastic Mr. Fox\n",
      "Fantastic Mr. Fox  is a nominee!\n",
      "Wes Anderson\n",
      "The Princess and the Frog\n",
      "The Princess and the Frog  is a nominee!\n",
      "The Secret of Kells\n",
      "The Secret of Kells  is a nominee!\n",
      "Tom Moore\n",
      "Up\n",
      "Up  is a nominee!\n",
      "Pete Docter (2017) (Podcast Episode) - Nickelodeon Animation Podcast\n",
      "How to Train Your Dragon\n",
      "How to Train Your Dragon  is a nominee!\n",
      "The Illusionist\n",
      "The Illusionist (2010)  is a nominee!\n",
      "The Cartoon According to Sylvain Chomet\n",
      "Toy Story 3\n",
      "Toy Story 3  is a nominee!\n",
      "296 -- Lee Unkrich (2018) (Podcast Episode) - The Empire Film Podcast\n",
      "Ep. 184 - The Runaways (2010) (2019) (Podcast Episode) - Jaret Goes to the Movies (Movie Reviews)\n",
      "A Cat in Paris\n",
      "A Cat in Paris  is a nominee!\n",
      "Pris de court\n",
      "Chico & Rita\n",
      "Chico & Rita  is a nominee!\n",
      "Kung Fu Panda 2\n",
      "Kung Fu Panda 2  is a nominee!\n",
      "Jennifer Yuh Nelson (2016) (Podcast Episode) - Nickelodeon Animation Podcast\n",
      "Puss in Boots\n",
      "Puss in Boots  is a nominee!\n",
      "Chris Miller & Phil Lord - Directors, Writers, Producers (2021) (Podcast Episode)  - Season 1 | Episode 78  - Team Deakins\n",
      "Rango\n",
      "Rango  is a nominee!\n",
      "251: Gore Verbinski (2017) (Podcast Episode) - The Empire Film Podcast\n",
      "1285: The Ultimate At-home Ab & Core Workout (2020) (Podcast Episode) - Mind Pump: Raw Fitness Truth\n",
      "Brave\n",
      "Brave  is a nominee!\n",
      "Frankenweenie\n",
      "Frankenweenie  is a nominee!\n",
      "Tim Burton\n",
      "ParaNorman\n",
      "ParaNorman  is a nominee!\n",
      "The Pirates! Band of Misfits\n",
      "The Pirates! Band of Misfits  is a nominee!\n",
      "Peter Lord (2019) (Podcast Episode)  - Season 15 | Episode 9  - Richard Herring's Leicester Square Theatre Podcast\n",
      "Wreck-It Ralph\n",
      "Wreck-It Ralph  is a nominee!\n",
      "Rich Moore (2013) (Podcast Episode)  - Season 2 | Episode 271  - ID10T with Chris Hardwick\n",
      "Ep. 1386 - The End Of The Cuomo Show (2021) (Podcast Episode) - The Ben Shapiro Show\n",
      "The Croods\n",
      "The Croods  is a nominee!\n",
      "Despicable Me 2\n",
      "Despicable Me 2  is a nominee!\n",
      "Ernest & Celestine\n",
      "Ernest & Celestine  is a nominee!\n",
      "Frozen\n",
      "Frozen  is a nominee!\n",
      "The Wind Rises\n",
      "The Wind Rises  is a nominee!\n",
      "TDT 387 - The Best and Worst of 2014, part 2 (2014) (Podcast Episode) - The Dice Tower\n",
      "Big Hero 6\n",
      "Big Hero 6  is a nominee!\n",
      "The Boxtrolls\n",
      "The Boxtrolls  is a nominee!\n",
      "How to Train Your Dragon 2\n",
      "How to Train Your Dragon 2  is a nominee!\n",
      "Song of the Sea\n",
      "Song of the Sea  is a nominee!\n",
      "The Tale of The Princess Kaguya\n",
      "The Tale of the Princess Kaguya  is a nominee!\n",
      "1588: That Busy, Huh? What Are You Avoiding? by Helene Massicotte of Free To Pursue on Technology Distractions (2020) (Podcast Episode) - Optimal Living Daily: Personal Development & Minimalism\n",
      "Anomalisa\n",
      "Anomalisa  is a nominee!\n",
      "202: Charlie Kaufman, Duke Johnson, Anya Taylor-Joy (2016) (Podcast Episode) - The Empire Film Podcast\n",
      "The Boy and the World\n",
      "Boy and the World  is a nominee!\n",
      "La Brea\n",
      "Inside Out\n",
      "Inside Out  is a nominee!\n",
      "Shaun the Sheep Movie\n",
      "Shaun the Sheep Movie  is a nominee!\n",
      "When Marnie Was There\n",
      "When Marnie Was There  is a nominee!\n",
      "Wired To Hunt Podcast #89: The State of Whitetails in 2016 w/Kip Adams (2016) (Podcast Episode) - Wired to Hunt Podcast\n",
      "Kubo and the Two Strings\n",
      "Kubo and the Two Strings  is a nominee!\n",
      "Moana\n",
      "Moana  is a nominee!\n",
      "My Life as a Zucchini\n",
      "My Life as a Zucchini  is a nominee!\n",
      "The Red Turtle\n",
      "The Red Turtle  is a nominee!\n",
      "Zootopia\n",
      "Zootopia  is a nominee!\n",
      "1790 Three-Room Restoration\n",
      "The Boss Baby\n",
      "The Boss Baby  is a nominee!\n",
      "The Breadwinner\n",
      "The Breadwinner  is a nominee!\n",
      "Coco\n",
      "Coco  is a nominee!\n",
      "Ferdinand\n",
      "Ferdinand  is a nominee!\n",
      "Loving Vincent\n",
      "Loving Vincent  is a nominee!\n",
      "Border - Gavaskar Trophy 2018-19: 1st Test, Day 1\n",
      "Incredibles 2\n",
      "Incredibles 2  is a nominee!\n",
      "Isle of Dogs\n",
      "Isle of Dogs  is a nominee!\n",
      "Mirai\n",
      "Mirai  is a nominee!\n",
      "Ralph Breaks the Internet\n",
      "Ralph Breaks the Internet  is a nominee!\n",
      "Spider-Man: Into the Spider-Verse\n",
      "Spider-Man: Into the Spider-Verse  is a nominee!\n",
      "1999 2nd Round Knicks vs Hawks (Game 1)\n",
      "How to Train Your Dragon: The Hidden World\n",
      "How to Train Your Dragon: The Hidden World  is a nominee!\n",
      "I Lost My Body\n",
      "I Lost My Body  is a nominee!\n",
      "Klaus\n",
      "Klaus  is a nominee!\n",
      "Missing Link\n",
      "Missing Link  is a nominee!\n",
      "Toy Story 4\n",
      "Toy Story 4  is a nominee!\n",
      "Flop Fest 2020 - 9/3/20 (2020) (Podcast Episode) - Chris Vernon Show\n",
      "Onward\n",
      "Onward  is a nominee!\n",
      "Over the Moon\n",
      "Over the Moon  is a nominee!\n",
      "A Shaun the Sheep Movie: Farmageddon\n",
      "A Shaun the Sheep Movie: Farmageddon  is a nominee!\n",
      "Soul\n",
      "Soul  is a nominee!\n",
      "Pete Docter & Dana Murray Interview Special: Soul (2021) (Podcast Episode) - Radio 1's Screen Time\n",
      "Wolfwalkers\n",
      "Wolfwalkers  is a nominee!\n",
      "2020.12.19 4 A PecuÃ¡ria de Corte em 2020 e em 2021 (2020) (Podcast Episode) - Momento Agricola\n",
      "Encanto\n",
      "Encanto  is a nominee!\n",
      "Flee\n",
      "Luca\n",
      "Luca  is a nominee!\n",
      "The Mitchells vs the Machines\n",
      "The Mitchells vs. the Machines  is a nominee!\n",
      "Raya and the Last Dragon\n",
      "Raya and the Last Dragon  is a nominee!\n"
     ]
    }
   ],
   "source": [
    "# for loop to create a list of nominee ids and an array of 0's and 1's\n",
    "ia = Cinemagoer()\n",
    "is_nominee = np.zeros((len(imdb_ids),1),dtype=int)\n",
    "nominee_ids = []\n",
    "\n",
    "\n",
    "for nom in nominees:\n",
    "    movie = ia.search_movie(nom)\n",
    "    if movie: # checking if search returned something\n",
    "        movie = movie[0] # get first result returned by search_movie\n",
    "        print(movie)\n",
    "        movie_id = movie.getID()\n",
    "        if movie_id in imdb_ids:\n",
    "            idx = imdb_ids.index(movie_id)\n",
    "            is_nominee[idx] = 1\n",
    "            nominee_ids.append(movie.getID())\n",
    "            print(nom,' is a nominee!')\n",
    "            "
   ]
  },
  {
   "cell_type": "code",
   "execution_count": 91,
   "id": "85402eaf",
   "metadata": {},
   "outputs": [
    {
     "data": {
      "text/plain": [
       "88"
      ]
     },
     "execution_count": 91,
     "metadata": {},
     "output_type": "execute_result"
    }
   ],
   "source": [
    "# There are 89 nominees so len(nominee_ids) = 89 \n",
    "# and there should be 89 1's in is_nomi\n",
    "len(nominee_ids)\n"
   ]
  },
  {
   "cell_type": "code",
   "execution_count": 92,
   "id": "3b3f00bb",
   "metadata": {},
   "outputs": [
    {
     "data": {
      "text/plain": [
       "88"
      ]
     },
     "execution_count": 92,
     "metadata": {},
     "output_type": "execute_result"
    }
   ],
   "source": [
    "is_nominee.sum()"
   ]
  },
  {
   "cell_type": "code",
   "execution_count": 93,
   "id": "0a6b5010",
   "metadata": {},
   "outputs": [
    {
     "data": {
      "text/plain": [
       "[<Movie id:8430054[http] title:_Flee (2021)_>,\n",
       " <Movie id:7972618[http] title:_Flee (I) (2018)_>,\n",
       " <Movie id:18557856[http] title:_Flee (2020)_>,\n",
       " <Movie id:0402711[http] title:_\"Boston Legal\" (2004)_>,\n",
       " <Movie id:11470034[http] title:_Fleetwood x Ducati James: Jenna Jameson (2018)_>,\n",
       " <Movie id:0103408[http] title:_\"Eek! The Cat\" (1992)_>,\n",
       " <Movie id:8277896[http] title:_Fleeing the Complex (2015) (VG)_>,\n",
       " <Movie id:13141936[http] title:_Flee the Light (2021)_>,\n",
       " <Movie id:5606664[http] title:_Doctor Sleep (2019)_>,\n",
       " <Movie id:1327801[http] title:_\"Glee\" (2009)_>,\n",
       " <Movie id:5687612[http] title:_\"Fleabag\" (2016)_>,\n",
       " <Movie id:14140886[http] title:_\"The 7 Lives of Lea\" (2022)_>,\n",
       " <Movie id:0910936[http] title:_Pineapple Express (2008)_>,\n",
       " <Movie id:0408236[http] title:_Sweeney Todd: The Demon Barber of Fleet Street (2007)_>,\n",
       " <Movie id:2270382[http] title:_To Boldly Flee (2012) (V)_>,\n",
       " <Movie id:0162661[http] title:_Sleepy Hollow (1999)_>,\n",
       " <Movie id:0117665[http] title:_Sleepers (1996)_>,\n",
       " <Movie id:5140218[http] title:_\"Mohawk Girls\" To Flee or Not to Flee? (2015)_>,\n",
       " <Movie id:0073486[http] title:_One Flew Over the Cuckoo's Nest (1975)_>,\n",
       " <Movie id:5603376[http] title:_\"Al Hajjaj\" Fleeing (2003)_>]"
      ]
     },
     "execution_count": 93,
     "metadata": {},
     "output_type": "execute_result"
    }
   ],
   "source": [
    "ia.search_movie('Flee').getID"
   ]
  },
  {
   "cell_type": "code",
   "execution_count": null,
   "id": "d40b04ff",
   "metadata": {},
   "outputs": [],
   "source": []
  }
 ],
 "metadata": {
  "kernelspec": {
   "display_name": "Python 3 (ipykernel)",
   "language": "python",
   "name": "python3"
  },
  "language_info": {
   "codemirror_mode": {
    "name": "ipython",
    "version": 3
   },
   "file_extension": ".py",
   "mimetype": "text/x-python",
   "name": "python",
   "nbconvert_exporter": "python",
   "pygments_lexer": "ipython3",
   "version": "3.9.7"
  }
 },
 "nbformat": 4,
 "nbformat_minor": 5
}
