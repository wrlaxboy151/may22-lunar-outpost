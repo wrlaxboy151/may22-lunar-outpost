{
 "cells": [
  {
   "cell_type": "markdown",
   "id": "eed907a6",
   "metadata": {},
   "source": [
    "A written summary of this notebook can be found here:\n",
    "    <a href=\"https://docs.google.com/document/d/1IwEJG9dk8pRHBeDzMarifRONW3Vl7PrPjvVlc-kS9cs/edit#\">\n",
    "       Google Doc </a>"
   ]
  },
  {
   "cell_type": "markdown",
   "id": "2f40c5f7",
   "metadata": {},
   "source": [
    "# Downloading the necessary packages and data"
   ]
  },
  {
   "cell_type": "code",
   "execution_count": 1,
   "id": "be8eaf56",
   "metadata": {},
   "outputs": [],
   "source": [
    "import pandas as pd"
   ]
  },
  {
   "cell_type": "code",
   "execution_count": 2,
   "id": "e5773745",
   "metadata": {},
   "outputs": [],
   "source": [
    "import numpy as np"
   ]
  },
  {
   "cell_type": "code",
   "execution_count": 146,
   "id": "70f2de8e",
   "metadata": {},
   "outputs": [],
   "source": [
    "from sklearn.metrics import precision_score, recall_score\n",
    "from sklearn.linear_model import LogisticRegression, LinearRegression\n",
    "from sklearn.tree import DecisionTreeClassifier\n",
    "#from sklearn.decomposition import PCA\n",
    "#from sklearn.preprocessing import StandardScaler\n",
    "from sklearn.svm import SVC, LinearSVC\n",
    "from sklearn.neighbors import KNeighborsClassifier\n",
    "\n",
    "from sklearn.ensemble import VotingClassifier"
   ]
  },
  {
   "cell_type": "code",
   "execution_count": 171,
   "id": "ea49cc60",
   "metadata": {},
   "outputs": [],
   "source": [
    "import matplotlib.pyplot as plt\n",
    "import seaborn as sns"
   ]
  },
  {
   "cell_type": "code",
   "execution_count": 65,
   "id": "accd3925",
   "metadata": {},
   "outputs": [],
   "source": [
    "main_df=pd.read_pickle('../may22-lunar-outpost/Data/df_of_imdb_data.pkl')"
   ]
  },
  {
   "cell_type": "markdown",
   "id": "2dcf9def",
   "metadata": {},
   "source": [
    "# One-hot encoding the important info"
   ]
  },
  {
   "cell_type": "markdown",
   "id": "0d442f30",
   "metadata": {},
   "source": [
    "## Countries:\n",
    "    one column\n",
    "    1 if domestic (United States) and 0 otherwise\n",
    "    \n",
    "The function `countries_onehot` can be used to quickly change the number of countries"
   ]
  },
  {
   "cell_type": "code",
   "execution_count": 5,
   "id": "d8cb8237",
   "metadata": {},
   "outputs": [],
   "source": [
    "#countries\n",
    "def countries_onehot(df, country_list):\n",
    "    '''inputs a movie dataframe (df) and a list of countries as strings (country_list)\n",
    "    output a movie dataframe with extra columns with :\n",
    "    title of each column is the country,  \n",
    "    gives a 1 if the country appears in the country list, and 0 otherwise'''\n",
    "    new_df=df.copy()\n",
    "    for country in country_list:\n",
    "        binary_list =[]\n",
    "        for i in range(len(df)):\n",
    "            if country in df.iloc[i]['countries']: \n",
    "                #Right now, this encodes EVERY country listed, not just the most important one\n",
    "                binary_list.append(1)\n",
    "            else:\n",
    "                binary_list.append(0)\n",
    "        new_df[country] = binary_list\n",
    "    return new_df"
   ]
  },
  {
   "cell_type": "markdown",
   "id": "dc07fc6e",
   "metadata": {},
   "source": [
    "## Genres\n",
    "    5 columns\n",
    "        -Family\n",
    "        -Adventure\n",
    "        -Comedy\n",
    "        -Fantasy\n",
    "        -Other\n",
    "    Has 1 if included as one of the genres, and 0 otherwise\n",
    "    To change the number of genres included, we need to edit `genres_onehot` directly.  The possible genres are \n",
    "    \n",
    "        Animation, Family, Adventure, Comedy, Fantasy, Action, Drama,           \n",
    "        Sci-Fi, Romance, Mystery, Thriller, Musical, Horror, Crime,            \n",
    "        Music, History, War, Sport, Biography, Western, Documentary, Game-Show"
   ]
  },
  {
   "cell_type": "code",
   "execution_count": 7,
   "id": "9b8c28cc",
   "metadata": {},
   "outputs": [],
   "source": [
    "def genres_onehot(df):\n",
    "    '''input the dataframe of movie info (df)\n",
    "    outputs dataframe:\n",
    "    a dataframe with imdb_id,  one-hot encoding for genres EXCEPT animation and 'Other' category for smaller genres'''\n",
    "    genres_df= pd.DataFrame({\n",
    "                        'Family':[],\n",
    "                        'Adventure':[] ,\n",
    "                        'Comedy':[],\n",
    "                        'Fantasy':[],\n",
    "#                        'Action':[],\n",
    "#                        'Drama':[],\n",
    "#                        'Sci-Fi':[],\n",
    "                        'Other':[]\n",
    "                            })\n",
    "    for i in range(0, len(df)):\n",
    "        row=df.iloc[i]\n",
    "        newrow=pd.DataFrame({\n",
    "                        'Family':[0],\n",
    "                        'Adventure':[0] ,\n",
    "                        'Comedy':[0],\n",
    "                        'Fantasy':[0],\n",
    "#                        'Action':[0],\n",
    "#                        'Drama':[0],\n",
    "#                        'Sci-Fi':[0],\n",
    "                        'Other':[0]\n",
    "                            })\n",
    "        \n",
    "        for genre in row['genres']:\n",
    "            if genre == 'Animation':\n",
    "                pass\n",
    "            elif genre not in ['Family',\n",
    "                               'Adventure',\n",
    "                               'Comedy',\n",
    "                               'Fantasy',\n",
    "#                               'Action', \n",
    "#                               'Drama',\n",
    "#                               'Sci-Fi'\n",
    "                              ]:\n",
    "                newrow.iloc[0, newrow.columns.get_loc('Other')] = int(1)\n",
    "            else:\n",
    "                newrow.iloc[0, newrow.columns.get_loc(genre)] = int(1)\n",
    "        genres_df=pd.concat([genres_df, newrow],ignore_index=True )\n",
    "    return(pd.concat([df,genres_df],axis=1))"
   ]
  },
  {
   "cell_type": "markdown",
   "id": "a9f75c10",
   "metadata": {},
   "source": [
    "## Certificates"
   ]
  },
  {
   "cell_type": "code",
   "execution_count": 9,
   "id": "1dcc8fbe",
   "metadata": {},
   "outputs": [],
   "source": [
    "#This is a helper function\n",
    "#We create a list of ratings for the movies, using G, PG, PG-13, R to classify them (rough equivalents to TV ratings)\n",
    "#For our purposes, NC-17 is rated R\n",
    "def process_ratings(df):\n",
    "    '''inputs a dataframe (df) of movies\n",
    "    outputs a list of the US ratings'''\n",
    "    ratings = ['pending' for i in range(len(df))]\n",
    "\n",
    "    for i in range(len(df)):\n",
    "        #if ratings[i] == 'pending':\n",
    "            for rating in df.iloc[i]['certificates']:\n",
    "                if 'United States' ==rating[0:13]:\n",
    "                    #print(rating)\n",
    "                    if 'United States:G' in rating:\n",
    "                        ratings[i] = 'G'\n",
    "                    elif 'United States:TV-G' in rating:\n",
    "                        ratings[i] = 'G'\n",
    "                    elif 'United States:TV-Y' in rating:\n",
    "                        ratings[i]='PG'\n",
    "                    elif 'United States:PG-13' in rating:\n",
    "                        ratings[i]='PG-13'\n",
    "                    elif 'United States:PG' in rating:\n",
    "                        ratings[i]='PG' #ORDER HERE IS IMPORTANT!\n",
    "                        #print('this is normal')\n",
    "                    elif 'United States:TV-PG' in rating:\n",
    "                        ratings[i] = 'PG'\n",
    "                    elif 'United States:TV-14' in rating:\n",
    "                        ratings[i] = 'PG-13'\n",
    "                    elif 'United States:R' in rating:\n",
    "                        ratings[i] = 'R'\n",
    "                    elif 'United States:TV-MA' in rating:\n",
    "                        ratings[i]='R'\n",
    "                    elif 'United States:M' in rating:\n",
    "                        ratings[i]='R'\n",
    "                        #print('uh oh!')\n",
    "                    elif 'United States:NC-17' in rating:\n",
    "                        ratings[i] = 'R'\n",
    "    for i in range(len(df)):\n",
    "        if ratings[i] =='pending':\n",
    "            ratings[i] ='Unrated'\n",
    "    return ratings"
   ]
  },
  {
   "cell_type": "code",
   "execution_count": 10,
   "id": "74367cf0",
   "metadata": {},
   "outputs": [],
   "source": [
    "#Get the one-hot encoded values\n",
    "def certificates_onehot(df):\n",
    "    '''input a movie dataframe, output a movie dataframe with the\n",
    "    US ratings one-hot encoded'''\n",
    "    \n",
    "    parsed_ratings=process_ratings(df)\n",
    "    temp_df=pd.DataFrame({'pr': parsed_ratings})\n",
    "    \n",
    "    temp_df2 = pd.get_dummies(temp_df['pr'])\n",
    "    return(pd.concat([df, temp_df2], axis=1))"
   ]
  },
  {
   "cell_type": "markdown",
   "id": "c72817ea",
   "metadata": {},
   "source": [
    "## Metascores"
   ]
  },
  {
   "cell_type": "code",
   "execution_count": 12,
   "id": "5f93af52",
   "metadata": {},
   "outputs": [],
   "source": [
    "def metascore_onehot(df):\n",
    "    '''inputs a dataframe (df) and outputs a dataframe with an extra column\n",
    "    1 if it has a metascore, 0 otherwise'''\n",
    "    metascore_column=[]\n",
    "    new_df=df.copy()\n",
    "    for i in range(len(df)):\n",
    "        if df.iloc[i]['metascore']['data'] == {}:\n",
    "            metascore_column.append(0)\n",
    "        else:\n",
    "            metascore_column.append(1)\n",
    "    new_df['metascore_available']=metascore_column\n",
    "    return(new_df)\n",
    "            "
   ]
  },
  {
   "cell_type": "markdown",
   "id": "b02d0346",
   "metadata": {},
   "source": [
    "## Making the new dataframe"
   ]
  },
  {
   "cell_type": "code",
   "execution_count": 66,
   "id": "18a90c9b",
   "metadata": {
    "scrolled": true
   },
   "outputs": [
    {
     "data": {
      "text/html": [
       "<div>\n",
       "<style scoped>\n",
       "    .dataframe tbody tr th:only-of-type {\n",
       "        vertical-align: middle;\n",
       "    }\n",
       "\n",
       "    .dataframe tbody tr th {\n",
       "        vertical-align: top;\n",
       "    }\n",
       "\n",
       "    .dataframe thead th {\n",
       "        text-align: right;\n",
       "    }\n",
       "</style>\n",
       "<table border=\"1\" class=\"dataframe\">\n",
       "  <thead>\n",
       "    <tr style=\"text-align: right;\">\n",
       "      <th></th>\n",
       "      <th>imdb_id</th>\n",
       "      <th>titles</th>\n",
       "      <th>year</th>\n",
       "      <th>original_air_date</th>\n",
       "      <th>countries</th>\n",
       "      <th>language</th>\n",
       "      <th>genres</th>\n",
       "      <th>certificates</th>\n",
       "      <th>rating</th>\n",
       "      <th>votes</th>\n",
       "      <th>...</th>\n",
       "      <th>Adventure</th>\n",
       "      <th>Comedy</th>\n",
       "      <th>Fantasy</th>\n",
       "      <th>Other</th>\n",
       "      <th>G</th>\n",
       "      <th>PG</th>\n",
       "      <th>PG-13</th>\n",
       "      <th>R</th>\n",
       "      <th>Unrated</th>\n",
       "      <th>metascore_available</th>\n",
       "    </tr>\n",
       "  </thead>\n",
       "  <tbody>\n",
       "    <tr>\n",
       "      <th>0</th>\n",
       "      <td>0388130</td>\n",
       "      <td>Initial D: Third Stage</td>\n",
       "      <td>2001</td>\n",
       "      <td>13 Jan 2001 (Japan)</td>\n",
       "      <td>[Japan]</td>\n",
       "      <td>[en, ja, cmn]</td>\n",
       "      <td>[Animation, Action, Romance, Sport]</td>\n",
       "      <td>[Australia:PG, Japan:G, United States:TV-PG]</td>\n",
       "      <td>7.6</td>\n",
       "      <td>1390</td>\n",
       "      <td>...</td>\n",
       "      <td>0.0</td>\n",
       "      <td>0.0</td>\n",
       "      <td>0.0</td>\n",
       "      <td>1.0</td>\n",
       "      <td>0</td>\n",
       "      <td>1</td>\n",
       "      <td>0</td>\n",
       "      <td>0</td>\n",
       "      <td>0</td>\n",
       "      <td>0</td>\n",
       "    </tr>\n",
       "    <tr>\n",
       "      <th>1</th>\n",
       "      <td>0273772</td>\n",
       "      <td>Don't Make Trouble!</td>\n",
       "      <td>2001</td>\n",
       "      <td>17 Jan 2001 (France)</td>\n",
       "      <td>[France]</td>\n",
       "      <td>[fr, ar]</td>\n",
       "      <td>[Animation, Drama, Comedy]</td>\n",
       "      <td>[France:Tous publics]</td>\n",
       "      <td>6.6</td>\n",
       "      <td>49</td>\n",
       "      <td>...</td>\n",
       "      <td>0.0</td>\n",
       "      <td>1.0</td>\n",
       "      <td>0.0</td>\n",
       "      <td>1.0</td>\n",
       "      <td>0</td>\n",
       "      <td>0</td>\n",
       "      <td>0</td>\n",
       "      <td>0</td>\n",
       "      <td>1</td>\n",
       "      <td>0</td>\n",
       "    </tr>\n",
       "    <tr>\n",
       "      <th>2</th>\n",
       "      <td>0243017</td>\n",
       "      <td>Waking Life</td>\n",
       "      <td>2001</td>\n",
       "      <td>07 Mar 2002 (Australia)</td>\n",
       "      <td>[United States]</td>\n",
       "      <td>[en]</td>\n",
       "      <td>[Animation, Drama, Fantasy]</td>\n",
       "      <td>[Argentina:13, Australia:M, Brazil:Livre, Cana...</td>\n",
       "      <td>7.7</td>\n",
       "      <td>63692</td>\n",
       "      <td>...</td>\n",
       "      <td>0.0</td>\n",
       "      <td>0.0</td>\n",
       "      <td>1.0</td>\n",
       "      <td>1.0</td>\n",
       "      <td>0</td>\n",
       "      <td>0</td>\n",
       "      <td>0</td>\n",
       "      <td>1</td>\n",
       "      <td>0</td>\n",
       "      <td>1</td>\n",
       "    </tr>\n",
       "    <tr>\n",
       "      <th>3</th>\n",
       "      <td>0291559</td>\n",
       "      <td>Wave Twisters</td>\n",
       "      <td>2001</td>\n",
       "      <td>[]</td>\n",
       "      <td>[United States]</td>\n",
       "      <td>[en]</td>\n",
       "      <td>[Animation, Adventure, Musical, Sci-Fi]</td>\n",
       "      <td>[United States:Unrated]</td>\n",
       "      <td>7.4</td>\n",
       "      <td>551</td>\n",
       "      <td>...</td>\n",
       "      <td>1.0</td>\n",
       "      <td>0.0</td>\n",
       "      <td>0.0</td>\n",
       "      <td>1.0</td>\n",
       "      <td>0</td>\n",
       "      <td>0</td>\n",
       "      <td>0</td>\n",
       "      <td>0</td>\n",
       "      <td>1</td>\n",
       "      <td>0</td>\n",
       "    </tr>\n",
       "    <tr>\n",
       "      <th>4</th>\n",
       "      <td>0277909</td>\n",
       "      <td>Mutant Aliens</td>\n",
       "      <td>2001</td>\n",
       "      <td>09 Jan 2002 (France)</td>\n",
       "      <td>[United States]</td>\n",
       "      <td>[en]</td>\n",
       "      <td>[Animation, Comedy, Sci-Fi]</td>\n",
       "      <td>[France:Tous publics, Germany:16, South Korea:...</td>\n",
       "      <td>6.6</td>\n",
       "      <td>1204</td>\n",
       "      <td>...</td>\n",
       "      <td>0.0</td>\n",
       "      <td>1.0</td>\n",
       "      <td>0.0</td>\n",
       "      <td>1.0</td>\n",
       "      <td>0</td>\n",
       "      <td>0</td>\n",
       "      <td>0</td>\n",
       "      <td>1</td>\n",
       "      <td>0</td>\n",
       "      <td>1</td>\n",
       "    </tr>\n",
       "  </tbody>\n",
       "</table>\n",
       "<p>5 rows × 31 columns</p>\n",
       "</div>"
      ],
      "text/plain": [
       "   imdb_id                  titles  year        original_air_date  \\\n",
       "0  0388130  Initial D: Third Stage  2001      13 Jan 2001 (Japan)   \n",
       "1  0273772     Don't Make Trouble!  2001     17 Jan 2001 (France)   \n",
       "2  0243017             Waking Life  2001  07 Mar 2002 (Australia)   \n",
       "3  0291559           Wave Twisters  2001                       []   \n",
       "4  0277909           Mutant Aliens  2001     09 Jan 2002 (France)   \n",
       "\n",
       "         countries       language                                   genres  \\\n",
       "0          [Japan]  [en, ja, cmn]      [Animation, Action, Romance, Sport]   \n",
       "1         [France]       [fr, ar]               [Animation, Drama, Comedy]   \n",
       "2  [United States]           [en]              [Animation, Drama, Fantasy]   \n",
       "3  [United States]           [en]  [Animation, Adventure, Musical, Sci-Fi]   \n",
       "4  [United States]           [en]              [Animation, Comedy, Sci-Fi]   \n",
       "\n",
       "                                        certificates rating  votes  ...  \\\n",
       "0       [Australia:PG, Japan:G, United States:TV-PG]    7.6   1390  ...   \n",
       "1                              [France:Tous publics]    6.6     49  ...   \n",
       "2  [Argentina:13, Australia:M, Brazil:Livre, Cana...    7.7  63692  ...   \n",
       "3                            [United States:Unrated]    7.4    551  ...   \n",
       "4  [France:Tous publics, Germany:16, South Korea:...    6.6   1204  ...   \n",
       "\n",
       "  Adventure Comedy Fantasy Other  G PG PG-13  R  Unrated  metascore_available  \n",
       "0       0.0    0.0     0.0   1.0  0  1     0  0        0                    0  \n",
       "1       0.0    1.0     0.0   1.0  0  0     0  0        1                    0  \n",
       "2       0.0    0.0     1.0   1.0  0  0     0  1        0                    1  \n",
       "3       1.0    0.0     0.0   1.0  0  0     0  0        1                    0  \n",
       "4       0.0    1.0     0.0   1.0  0  0     0  1        0                    1  \n",
       "\n",
       "[5 rows x 31 columns]"
      ]
     },
     "execution_count": 66,
     "metadata": {},
     "output_type": "execute_result"
    }
   ],
   "source": [
    "main_df=countries_onehot(main_df, ['United States'])\n",
    "main_df=genres_onehot(main_df)\n",
    "main_df=certificates_onehot(main_df)\n",
    "main_df=metascore_onehot(main_df)\n",
    "\n",
    "main_df.head()"
   ]
  },
  {
   "cell_type": "code",
   "execution_count": 15,
   "id": "4a00d567",
   "metadata": {
    "scrolled": true
   },
   "outputs": [
    {
     "data": {
      "text/html": [
       "<div>\n",
       "<style scoped>\n",
       "    .dataframe tbody tr th:only-of-type {\n",
       "        vertical-align: middle;\n",
       "    }\n",
       "\n",
       "    .dataframe tbody tr th {\n",
       "        vertical-align: top;\n",
       "    }\n",
       "\n",
       "    .dataframe thead th {\n",
       "        text-align: right;\n",
       "    }\n",
       "</style>\n",
       "<table border=\"1\" class=\"dataframe\">\n",
       "  <thead>\n",
       "    <tr style=\"text-align: right;\">\n",
       "      <th></th>\n",
       "      <th>imdb_id</th>\n",
       "      <th>titles</th>\n",
       "      <th>year</th>\n",
       "      <th>original_air_date</th>\n",
       "      <th>countries</th>\n",
       "      <th>language</th>\n",
       "      <th>genres</th>\n",
       "      <th>certificates</th>\n",
       "      <th>rating</th>\n",
       "      <th>votes</th>\n",
       "      <th>...</th>\n",
       "      <th>Adventure</th>\n",
       "      <th>Comedy</th>\n",
       "      <th>Fantasy</th>\n",
       "      <th>Other</th>\n",
       "      <th>G</th>\n",
       "      <th>PG</th>\n",
       "      <th>PG-13</th>\n",
       "      <th>R</th>\n",
       "      <th>Unrated</th>\n",
       "      <th>metascore_available</th>\n",
       "    </tr>\n",
       "  </thead>\n",
       "  <tbody>\n",
       "    <tr>\n",
       "      <th>3107</th>\n",
       "      <td>10172802</td>\n",
       "      <td>Outlander - IMDb</td>\n",
       "      <td>[]</td>\n",
       "      <td>04 Jul 2019 (Australia)</td>\n",
       "      <td>[United States]</td>\n",
       "      <td>[en]</td>\n",
       "      <td>[Animation]</td>\n",
       "      <td>[Australia:M]</td>\n",
       "      <td>[]</td>\n",
       "      <td>[]</td>\n",
       "      <td>...</td>\n",
       "      <td>0.0</td>\n",
       "      <td>0.0</td>\n",
       "      <td>0.0</td>\n",
       "      <td>0.0</td>\n",
       "      <td>0</td>\n",
       "      <td>0</td>\n",
       "      <td>0</td>\n",
       "      <td>0</td>\n",
       "      <td>1</td>\n",
       "      <td>0</td>\n",
       "    </tr>\n",
       "  </tbody>\n",
       "</table>\n",
       "<p>1 rows × 31 columns</p>\n",
       "</div>"
      ],
      "text/plain": [
       "       imdb_id            titles year        original_air_date  \\\n",
       "3107  10172802  Outlander - IMDb   []  04 Jul 2019 (Australia)   \n",
       "\n",
       "            countries language       genres   certificates rating votes  ...  \\\n",
       "3107  [United States]     [en]  [Animation]  [Australia:M]     []    []  ...   \n",
       "\n",
       "     Adventure Comedy Fantasy Other  G PG PG-13  R  Unrated  \\\n",
       "3107       0.0    0.0     0.0   0.0  0  0     0  0        1   \n",
       "\n",
       "      metascore_available  \n",
       "3107                    0  \n",
       "\n",
       "[1 rows x 31 columns]"
      ]
     },
     "execution_count": 15,
     "metadata": {},
     "output_type": "execute_result"
    }
   ],
   "source": [
    "main_df[main_df['imdb_id']=='10172802']"
   ]
  },
  {
   "cell_type": "code",
   "execution_count": 16,
   "id": "3540f09a",
   "metadata": {
    "scrolled": true
   },
   "outputs": [],
   "source": [
    "main_df.at[3107,'year']=2019"
   ]
  },
  {
   "cell_type": "code",
   "execution_count": 17,
   "id": "5fd5438a",
   "metadata": {},
   "outputs": [],
   "source": [
    "main_df.to_pickle('../may22-lunar-outpost/Data/Data_from_imdb_onehot1.pkl')"
   ]
  },
  {
   "cell_type": "markdown",
   "id": "a273406a",
   "metadata": {},
   "source": [
    "# Splitting the test and training data"
   ]
  },
  {
   "cell_type": "code",
   "execution_count": 18,
   "id": "f4d23292",
   "metadata": {},
   "outputs": [],
   "source": [
    "main2=pd.read_pickle('Data/Data_from_imdb_onehot1.pkl')"
   ]
  },
  {
   "cell_type": "code",
   "execution_count": 19,
   "id": "9c4bab38",
   "metadata": {},
   "outputs": [
    {
     "data": {
      "text/html": [
       "<div>\n",
       "<style scoped>\n",
       "    .dataframe tbody tr th:only-of-type {\n",
       "        vertical-align: middle;\n",
       "    }\n",
       "\n",
       "    .dataframe tbody tr th {\n",
       "        vertical-align: top;\n",
       "    }\n",
       "\n",
       "    .dataframe thead th {\n",
       "        text-align: right;\n",
       "    }\n",
       "</style>\n",
       "<table border=\"1\" class=\"dataframe\">\n",
       "  <thead>\n",
       "    <tr style=\"text-align: right;\">\n",
       "      <th></th>\n",
       "      <th>imdb_id</th>\n",
       "      <th>titles</th>\n",
       "      <th>year</th>\n",
       "      <th>original_air_date</th>\n",
       "      <th>countries</th>\n",
       "      <th>language</th>\n",
       "      <th>genres</th>\n",
       "      <th>certificates</th>\n",
       "      <th>rating</th>\n",
       "      <th>votes</th>\n",
       "      <th>...</th>\n",
       "      <th>Adventure</th>\n",
       "      <th>Comedy</th>\n",
       "      <th>Fantasy</th>\n",
       "      <th>Other</th>\n",
       "      <th>G</th>\n",
       "      <th>PG</th>\n",
       "      <th>PG-13</th>\n",
       "      <th>R</th>\n",
       "      <th>Unrated</th>\n",
       "      <th>metascore_available</th>\n",
       "    </tr>\n",
       "  </thead>\n",
       "  <tbody>\n",
       "    <tr>\n",
       "      <th>0</th>\n",
       "      <td>0388130</td>\n",
       "      <td>Initial D: Third Stage</td>\n",
       "      <td>2001</td>\n",
       "      <td>13 Jan 2001 (Japan)</td>\n",
       "      <td>[Japan]</td>\n",
       "      <td>[en, ja, cmn]</td>\n",
       "      <td>[Animation, Action, Romance, Sport]</td>\n",
       "      <td>[Australia:PG, Japan:G, United States:TV-PG]</td>\n",
       "      <td>7.6</td>\n",
       "      <td>1390</td>\n",
       "      <td>...</td>\n",
       "      <td>0.0</td>\n",
       "      <td>0.0</td>\n",
       "      <td>0.0</td>\n",
       "      <td>1.0</td>\n",
       "      <td>0</td>\n",
       "      <td>1</td>\n",
       "      <td>0</td>\n",
       "      <td>0</td>\n",
       "      <td>0</td>\n",
       "      <td>0</td>\n",
       "    </tr>\n",
       "    <tr>\n",
       "      <th>1</th>\n",
       "      <td>0273772</td>\n",
       "      <td>Don't Make Trouble!</td>\n",
       "      <td>2001</td>\n",
       "      <td>17 Jan 2001 (France)</td>\n",
       "      <td>[France]</td>\n",
       "      <td>[fr, ar]</td>\n",
       "      <td>[Animation, Drama, Comedy]</td>\n",
       "      <td>[France:Tous publics]</td>\n",
       "      <td>6.6</td>\n",
       "      <td>49</td>\n",
       "      <td>...</td>\n",
       "      <td>0.0</td>\n",
       "      <td>1.0</td>\n",
       "      <td>0.0</td>\n",
       "      <td>1.0</td>\n",
       "      <td>0</td>\n",
       "      <td>0</td>\n",
       "      <td>0</td>\n",
       "      <td>0</td>\n",
       "      <td>1</td>\n",
       "      <td>0</td>\n",
       "    </tr>\n",
       "    <tr>\n",
       "      <th>2</th>\n",
       "      <td>0243017</td>\n",
       "      <td>Waking Life</td>\n",
       "      <td>2001</td>\n",
       "      <td>07 Mar 2002 (Australia)</td>\n",
       "      <td>[United States]</td>\n",
       "      <td>[en]</td>\n",
       "      <td>[Animation, Drama, Fantasy]</td>\n",
       "      <td>[Argentina:13, Australia:M, Brazil:Livre, Cana...</td>\n",
       "      <td>7.7</td>\n",
       "      <td>63692</td>\n",
       "      <td>...</td>\n",
       "      <td>0.0</td>\n",
       "      <td>0.0</td>\n",
       "      <td>1.0</td>\n",
       "      <td>1.0</td>\n",
       "      <td>0</td>\n",
       "      <td>0</td>\n",
       "      <td>0</td>\n",
       "      <td>1</td>\n",
       "      <td>0</td>\n",
       "      <td>1</td>\n",
       "    </tr>\n",
       "    <tr>\n",
       "      <th>3</th>\n",
       "      <td>0291559</td>\n",
       "      <td>Wave Twisters</td>\n",
       "      <td>2001</td>\n",
       "      <td>[]</td>\n",
       "      <td>[United States]</td>\n",
       "      <td>[en]</td>\n",
       "      <td>[Animation, Adventure, Musical, Sci-Fi]</td>\n",
       "      <td>[United States:Unrated]</td>\n",
       "      <td>7.4</td>\n",
       "      <td>551</td>\n",
       "      <td>...</td>\n",
       "      <td>1.0</td>\n",
       "      <td>0.0</td>\n",
       "      <td>0.0</td>\n",
       "      <td>1.0</td>\n",
       "      <td>0</td>\n",
       "      <td>0</td>\n",
       "      <td>0</td>\n",
       "      <td>0</td>\n",
       "      <td>1</td>\n",
       "      <td>0</td>\n",
       "    </tr>\n",
       "    <tr>\n",
       "      <th>4</th>\n",
       "      <td>0277909</td>\n",
       "      <td>Mutant Aliens</td>\n",
       "      <td>2001</td>\n",
       "      <td>09 Jan 2002 (France)</td>\n",
       "      <td>[United States]</td>\n",
       "      <td>[en]</td>\n",
       "      <td>[Animation, Comedy, Sci-Fi]</td>\n",
       "      <td>[France:Tous publics, Germany:16, South Korea:...</td>\n",
       "      <td>6.6</td>\n",
       "      <td>1204</td>\n",
       "      <td>...</td>\n",
       "      <td>0.0</td>\n",
       "      <td>1.0</td>\n",
       "      <td>0.0</td>\n",
       "      <td>1.0</td>\n",
       "      <td>0</td>\n",
       "      <td>0</td>\n",
       "      <td>0</td>\n",
       "      <td>1</td>\n",
       "      <td>0</td>\n",
       "      <td>1</td>\n",
       "    </tr>\n",
       "  </tbody>\n",
       "</table>\n",
       "<p>5 rows × 31 columns</p>\n",
       "</div>"
      ],
      "text/plain": [
       "   imdb_id                  titles  year        original_air_date  \\\n",
       "0  0388130  Initial D: Third Stage  2001      13 Jan 2001 (Japan)   \n",
       "1  0273772     Don't Make Trouble!  2001     17 Jan 2001 (France)   \n",
       "2  0243017             Waking Life  2001  07 Mar 2002 (Australia)   \n",
       "3  0291559           Wave Twisters  2001                       []   \n",
       "4  0277909           Mutant Aliens  2001     09 Jan 2002 (France)   \n",
       "\n",
       "         countries       language                                   genres  \\\n",
       "0          [Japan]  [en, ja, cmn]      [Animation, Action, Romance, Sport]   \n",
       "1         [France]       [fr, ar]               [Animation, Drama, Comedy]   \n",
       "2  [United States]           [en]              [Animation, Drama, Fantasy]   \n",
       "3  [United States]           [en]  [Animation, Adventure, Musical, Sci-Fi]   \n",
       "4  [United States]           [en]              [Animation, Comedy, Sci-Fi]   \n",
       "\n",
       "                                        certificates rating  votes  ...  \\\n",
       "0       [Australia:PG, Japan:G, United States:TV-PG]    7.6   1390  ...   \n",
       "1                              [France:Tous publics]    6.6     49  ...   \n",
       "2  [Argentina:13, Australia:M, Brazil:Livre, Cana...    7.7  63692  ...   \n",
       "3                            [United States:Unrated]    7.4    551  ...   \n",
       "4  [France:Tous publics, Germany:16, South Korea:...    6.6   1204  ...   \n",
       "\n",
       "  Adventure Comedy Fantasy Other  G PG PG-13  R  Unrated  metascore_available  \n",
       "0       0.0    0.0     0.0   1.0  0  1     0  0        0                    0  \n",
       "1       0.0    1.0     0.0   1.0  0  0     0  0        1                    0  \n",
       "2       0.0    0.0     1.0   1.0  0  0     0  1        0                    1  \n",
       "3       1.0    0.0     0.0   1.0  0  0     0  0        1                    0  \n",
       "4       0.0    1.0     0.0   1.0  0  0     0  1        0                    1  \n",
       "\n",
       "[5 rows x 31 columns]"
      ]
     },
     "execution_count": 19,
     "metadata": {},
     "output_type": "execute_result"
    }
   ],
   "source": [
    "main2.head()"
   ]
  },
  {
   "cell_type": "code",
   "execution_count": 20,
   "id": "aa794714",
   "metadata": {},
   "outputs": [],
   "source": [
    "#create a dataframe that drops given years\n",
    "def drop_test(df,L):\n",
    "    '''input a dataframe of movies (df) and a list of years as int (L)\n",
    "    outputs a dataframe that does not include the movies in years in L'''\n",
    "    indices =[]\n",
    "    for i in range(len(df)):\n",
    "        if df.iloc[i]['year'] in L:\n",
    "            indices.append(i)\n",
    "    new_df=df.drop(indices)\n",
    "    return(new_df)\n",
    "\n",
    "#main2.drop([0, 1])"
   ]
  },
  {
   "cell_type": "code",
   "execution_count": 21,
   "id": "69bebf6b",
   "metadata": {},
   "outputs": [],
   "source": [
    "train_set=drop_test(main2, [2018,2019,2020,2021])"
   ]
  },
  {
   "cell_type": "markdown",
   "id": "70ce1c13",
   "metadata": {},
   "source": [
    "# Finally making the model based on genres, certificates, domestic, and metascore availability"
   ]
  },
  {
   "cell_type": "markdown",
   "id": "3308e5c9",
   "metadata": {},
   "source": [
    "### Splitting the validation data"
   ]
  },
  {
   "cell_type": "code",
   "execution_count": 79,
   "id": "abb32b69",
   "metadata": {},
   "outputs": [],
   "source": [
    "def timeseries_split(df, k):\n",
    "    '''takes in a movie dataframe (df),  k (int)\n",
    "    and outputs a tuple that behaves like kfold.split when kfold =kfold = TimeSeriesSplit(n_splits = k,\n",
    "                           test_size = 1)\n",
    "    that is, the output is a tuple of 2-tuples, where\n",
    "    the first element of each tuple is the indices of the train set and\n",
    "    the second element is the indices of the test set\n",
    "    unlike TimeSeriesSplit it can only handle one dataframe at a time'''\n",
    "    if len(df['year'].value_counts()) <k:\n",
    "        #print('Error: dataframe too small for k and test size')\n",
    "        raise ValueError(\"Not enough data for given k\")\n",
    "        \n",
    "    df=df.copy()\n",
    "    \n",
    "    answer=[]\n",
    "    i=0\n",
    "    while i <k:\n",
    "        last_year=df['year'].max()\n",
    "        \n",
    "        #get array of indices of last year in list\n",
    "        index_set=np.array(df[df['year']==last_year].index)\n",
    "        \n",
    "        #add these to test_sets\n",
    "        #test_sets=[index_set] + test_sets\n",
    "        \n",
    "        #delete rows from dataframe\n",
    "        df=drop_test(df,[last_year])\n",
    "        #print(len(df))\n",
    "        \n",
    "        #add to train_sets\n",
    "        index_set2=np.array(df.index)\n",
    "        #print((index_set2))\n",
    "        #train_sets=[index_set2]+train_sets\n",
    "        \n",
    "        new_set=(index_set2, index_set)\n",
    "        answer=[new_set] + answer\n",
    "        \n",
    "        i=i+1\n",
    "    \n",
    "    return tuple(answer)\n",
    "\n",
    "#Output 2 lists\n",
    "#first list is a list of arrays of training indices\n",
    "#second list is a list of arrays of testing indices"
   ]
  },
  {
   "cell_type": "code",
   "execution_count": 80,
   "id": "664359c9",
   "metadata": {},
   "outputs": [
    {
     "name": "stdout",
     "output_type": "stream",
     "text": [
      "TRAIN INDEX: [   0    1    2 ... 2387 2388 2389]\n",
      "TEST INDEX: [2390 2391 2392 2393 2394 2395 2396 2397 2398 2399 2400 2401 2402 2403\n",
      " 2404 2405 2406 2407 2408 2409 2410 2411 2412 2413 2414 2415 2416 2417\n",
      " 2418 2419 2420 2421 2422 2423 2424 2425 2426 2427 2428 2429 2430 2431\n",
      " 2432 2433 2434 2435 2436 2437 2438 2439 2440 2441 2442 2443 2444 2445\n",
      " 2446 2447 2448 2449 2450 2451 2452 2453 2454 2455 2456 2457 2458 2459\n",
      " 2460 2461 2462 2463 2464 2465 2466 2467 2468 2469 2470 2471 2472 2473\n",
      " 2474 2475 2476 2477 2478 2479 2480 2481 2482 2483 2484 2485 2486 2487\n",
      " 2488 2489 2490 2491 2492 2493 2494 2495 2496 2497 2498 2499 2500 2501\n",
      " 2502 2503 2504 2505 2506 2507 2508 2509 2510 2511 2512 2513 2514 2515\n",
      " 2516 2517 2518 2519 2520 2521 2522 2523 2524 2525 2526 2527 2528 2529\n",
      " 2530 2531 2532 2533 2534 2535 2536 2537 2538 2539 2540 2541 2542 2543\n",
      " 2544 2545 2546 2547 2548 2549 2550 2551 2552 2553 2554 2555 2556 2557\n",
      " 2558 2559 2560 2561 2562 2563 2564 2565 2566 2567 2568 2569 2570 2571\n",
      " 2572 2573 2574 2575 2576 2577 2578 2579 2580 2581 2582 2583 2584 2585\n",
      " 2586 2587 2588 2589 2590 2591 2592 2593 2594 2595 2596 2597 2598 2599\n",
      " 2600 2601 2602 2603 2604 2605 2606 2607 2608 2609 2610 2611 2612 2613\n",
      " 2614 2615 2616 2617 2618 2619 2620 2621 2622 2623 2624 2625 2626 2627\n",
      " 2628 2629 2630 2631 2632 2633 2634 2635 2636 2637 2638 2639 2640 2641\n",
      " 2642 2643 2644 2645 2646 2647 2648 2649 2650 2651 2652 2653 2654]\n",
      "\n",
      "\n",
      "TRAIN INDEX: [   0    1    2 ... 2652 2653 2654]\n",
      "TEST INDEX: [2655 2656 2657 2658 2659 2660 2661 2662 2663 2664 2665 2666 2667 2668\n",
      " 2669 2670 2671 2672 2673 2674 2675 2676 2677 2678 2679 2680 2681 2682\n",
      " 2683 2684 2685 2686 2687 2688 2689 2690 2691 2692 2693 2694 2695 2696\n",
      " 2697 2698 2699 2700 2701 2702 2703 2704 2705 2706 2707 2708 2709 2710\n",
      " 2711 2712 2713 2714 2715 2716 2717 2718 2719 2720 2721 2722 2723 2724\n",
      " 2725 2726 2727 2728 2729 2730 2731 2732 2733 2734 2735 2736 2737 2738\n",
      " 2739 2740 2741 2742 2743 2744 2745 2746 2747 2748 2749 2750 2751 2752\n",
      " 2753 2754 2755 2756 2757 2758 2759 2760 2761 2762 2763 2764 2765 2766\n",
      " 2767 2768 2769 2770 2771 2772 2773 2774 2775 2776 2777 2778 2779 2780\n",
      " 2781 2782 2783 2784 2785 2786 2787 2788 2789 2790 2791 2792 2793 2794\n",
      " 2795 2796 2797 2798 2799 2800 2801 2802 2803 2804 2805 2806 2807 2808\n",
      " 2809 2810 2811 2812 2813 2814 2815 2816 2817 2818 2819 2820 2821 2822\n",
      " 2823 2824 2825 2826 2827 2828 2829 2830 2831 2832 2833 2834 2835 2836\n",
      " 2837 2838 2839 2840 2841 2842 2843 2844 2845 2846 2847 2848 2849 2850\n",
      " 2851 2852 2853 2854 2855 2856 2857 2858 2859 2860 2861 2862 2863 2864\n",
      " 2865 2866 2867 2868 2869 2870 2871 2872 2873 2874 2875 2876 2877 2878\n",
      " 2879 2880 2881 2882 2883 2884 2885 2886 2887 2888 2889 2890 2891 2892\n",
      " 2893 2894 2895 2896 2897 2898 2899 2900 2901 2902 2903 2904 2905 2906\n",
      " 2907 2908 2909 2910 2911 2912 2913 2914 2915 2916 2917 2918 2919 2920\n",
      " 2921 2922 2923 2924 2925 2926 2927 2928 2929 2930 2931 2932 2933 2934\n",
      " 2935 2936 2937 2938 2939 2940 2941]\n",
      "\n",
      "\n",
      "TRAIN INDEX: [   0    1    2 ... 2939 2940 2941]\n",
      "TEST INDEX: [2942 2943 2944 2945 2946 2947 2948 2949 2950 2951 2952 2953 2954 2955\n",
      " 2956 2957 2958 2959 2960 2961 2962 2963 2964 2965 2966 2967 2968 2969\n",
      " 2970 2971 2972 2973 2974 2975 2976 2977 2978 2979 2980 2981 2982 2983\n",
      " 2984 2985 2986 2987 2988 2989 2990 2991 2992 2993 2994 2995 2996 2997\n",
      " 2998 2999 3000 3001 3002 3003 3004 3005 3006 3007 3008 3009 3010 3011\n",
      " 3012 3013 3014 3015 3016 3017 3018 3019 3020 3021 3022 3023 3024 3025\n",
      " 3026 3027 3028 3029 3030 3031 3032 3033 3034 3035 3036 3037 3038 3039\n",
      " 3040 3041 3042 3043 3044 3045 3046 3047 3048 3049 3050 3051 3052 3053\n",
      " 3054 3055 3056 3057 3058 3059 3060 3061 3062 3063 3064 3065 3066 3067\n",
      " 3068 3069 3070 3071 3072 3073 3074 3075 3076 3077 3078 3079 3080 3081\n",
      " 3082 3083 3084 3085 3086 3087 3088 3089 3090 3091 3092 3093 3094 3095\n",
      " 3096 3097 3098 3099 3100 3101 3102 3103 3104 3105 3106 3107 3108 3109\n",
      " 3110 3111 3112 3113 3114 3115 3116 3117 3118 3119 3120 3121 3122 3123\n",
      " 3124 3125 3126 3127 3128 3129 3130 3131 3132 3133 3134 3135 3136 3137\n",
      " 3138 3139 3140 3141 3142 3143 3144 3145 3146 3147 3148 3149 3150 3151\n",
      " 3152 3153 3154 3155 3156 3157 3158 3159 3160 3161 3162 3163 3164 3165\n",
      " 3166 3167 3168 3169 3170 3171 3172 3173 3174 3175 3176 3177 3178 3179\n",
      " 3180 3181 3182 3183 3184 3185 3186 3187 3188 3189 3190 3191 3192 3193\n",
      " 3194 3195 3196 3197 3198 3199 3200 3201 3202 3203 3204 3205 3206 3207\n",
      " 3208 3209 3210 3211 3212 3213 3214 3215 3216 3217 3218 3219 3220 3221\n",
      " 3222 3223 3224 3225 3226 3227 3228 3229 3230 3231 3232 3233 3234 3235\n",
      " 3236 3237 3238 3239 3240 3241 3242 3243 3244 3245 3246 3247 3248 3249\n",
      " 3250 3251 3252 3253 3254 3255 3256 3257 3258 3259 3260 3261 3262 3263\n",
      " 3264 3265 3266 3267 3268 3269 3270 3271 3272 3273 3274 3275 3276 3277\n",
      " 3278 3279 3280 3281 3282 3283 3284 3285 3286 3287 3288 3289 3290 3291\n",
      " 3292 3293 3294 3295 3296 3297 3298 3299 3300 3301 3302 3303 3304 3305\n",
      " 3306 3307 3308 3309 3310 3311 3312 3313 3314 3315 3316 3317 3318 3319\n",
      " 3320 3321]\n",
      "\n",
      "\n",
      "TRAIN INDEX: [   0    1    2 ... 3319 3320 3321]\n",
      "TEST INDEX: [3322 3323 3324 3325 3326 3327 3328 3329 3330 3331 3332 3333 3334 3335\n",
      " 3336 3337 3338 3339 3340 3341 3342 3343 3344 3345 3346 3347 3348 3349\n",
      " 3350 3351 3352 3353 3354 3355 3356 3357 3358 3359 3360 3361 3362 3363\n",
      " 3364 3365 3366 3367 3368 3369 3370 3371 3372 3373 3374 3375 3376 3377\n",
      " 3378 3379 3380 3381 3382 3383 3384 3385 3386 3387 3388 3389 3390 3391\n",
      " 3392 3393 3394 3395 3396 3397 3398 3399 3400 3401 3402 3403 3404 3405\n",
      " 3406 3407 3408 3409 3410 3411 3412 3413 3414 3415 3416 3417 3418 3419\n",
      " 3420 3421 3422 3423 3424 3425 3426 3427 3428 3429 3430 3431 3432 3433\n",
      " 3434 3435 3436 3437 3438 3439 3440 3441 3442 3443 3444 3445 3446 3447\n",
      " 3448 3449 3450 3451 3452 3453 3454 3455 3456 3457 3458 3459 3460 3461\n",
      " 3462 3463 3464 3465 3466 3467 3468 3469 3470 3471 3472 3473 3474 3475\n",
      " 3476 3477 3478 3479 3480 3481 3482 3483 3484 3485 3486 3487 3488 3489\n",
      " 3490 3491 3492 3493 3494 3495 3496 3497 3498 3499 3500 3501 3502 3503\n",
      " 3504 3505 3506 3507 3508 3509 3510 3511 3512 3513 3514 3515 3516 3517\n",
      " 3518 3519 3520 3521 3522 3523 3524 3525 3526 3527 3528 3529 3530 3531\n",
      " 3532 3533 3534 3535 3536 3537 3538 3539 3540 3541 3542 3543 3544 3545\n",
      " 3546 3547 3548 3549 3550 3551 3552 3553 3554 3555 3556 3557 3558 3559\n",
      " 3560 3561 3562 3563 3564 3565 3566 3567 3568 3569 3570 3571 3572 3573\n",
      " 3574 3575 3576 3577 3578 3579 3580 3581 3582 3583 3584 3585 3586 3587\n",
      " 3588]\n",
      "\n",
      "\n",
      "TRAIN INDEX: [   0    1    2 ... 3586 3587 3588]\n",
      "TEST INDEX: [3589 3590 3591 3592 3593 3594 3595 3596 3597 3598 3599 3600 3601 3602\n",
      " 3603 3604 3605 3606 3607 3608 3609 3610 3611 3612 3613 3614 3615 3616\n",
      " 3617 3618 3619 3620 3621 3622 3623 3624 3625 3626 3627 3628 3629 3630\n",
      " 3631 3632 3633 3634 3635 3636 3637 3638 3639 3640 3641 3642 3643 3644\n",
      " 3645 3646 3647 3648 3649 3650 3651 3652 3653 3654 3655 3656 3657 3658\n",
      " 3659 3660 3661 3662 3663 3664 3665 3666 3667 3668 3669 3670 3671 3672\n",
      " 3673 3674 3675 3676 3677 3678 3679 3680 3681 3682 3683 3684 3685 3686\n",
      " 3687 3688 3689 3690 3691 3692 3693 3694 3695 3696 3697 3698 3699 3700\n",
      " 3701 3702 3703 3704 3705 3706 3707 3708 3709 3710 3711 3712 3713 3714\n",
      " 3715 3716 3717 3718 3719 3720 3721 3722 3723 3724 3725 3726 3727 3728\n",
      " 3729 3730 3731 3732 3733 3734 3735 3736 3737 3738 3739 3740 3741 3742\n",
      " 3743 3744 3745 3746 3747 3748 3749 3750 3751 3752 3753 3754 3755 3756\n",
      " 3757 3758 3759 3760 3761 3762 3763 3764 3765 3766 3767 3768 3769 3770\n",
      " 3771 3772 3773 3774 3775 3776 3777 3778 3779 3780 3781 3782 3783 3784\n",
      " 3785 3786 3787 3788 3789 3790 3791 3792 3793 3794 3795 3796 3797 3798\n",
      " 3799 3800 3801 3802 3803 3804 3805 3806 3807 3808 3809 3810 3811 3812\n",
      " 3813 3814 3815 3816 3817 3818 3819 3820 3821 3822 3823 3824 3825 3826\n",
      " 3827 3828 3829 3830 3831 3832 3833 3834 3835 3836 3837 3838 3839 3840\n",
      " 3841 3842 3843 3844 3845 3846 3847 3848 3849 3850 3851 3852 3853 3854\n",
      " 3855 3856 3857 3858 3859 3860 3861 3862 3863 3864 3865 3866 3867 3868\n",
      " 3869 3870 3871 3872 3873 3874 3875 3876 3877 3878 3879 3880 3881 3882\n",
      " 3883 3884 3885 3886 3887 3888 3889 3890 3891 3892 3893 3894 3895 3896\n",
      " 3897 3898 3899 3900]\n",
      "\n",
      "\n"
     ]
    }
   ],
   "source": [
    "#for testing that it works just like kfold.split\n",
    "#kfold = TimeSeriesSplit(n_splits = 5, test_size = 14)\n",
    "\n",
    "for train_index, test_index in timeseries_split(main2,5):\n",
    "    print(\"TRAIN INDEX:\", train_index)\n",
    "    print(\"TEST INDEX:\", test_index)\n",
    "    print()\n",
    "    print()"
   ]
  },
  {
   "cell_type": "markdown",
   "id": "1fae5c05",
   "metadata": {},
   "source": [
    "### Decision Tree"
   ]
  },
  {
   "cell_type": "code",
   "execution_count": 77,
   "id": "c9f80ffd",
   "metadata": {},
   "outputs": [
    {
     "data": {
      "text/plain": [
       "Index(['imdb_id', 'titles', 'year', 'original_air_date', 'countries',\n",
       "       'language', 'genres', 'certificates', 'rating', 'votes', 'color_info',\n",
       "       'runtimes', 'box_office', 'producers', 'directors',\n",
       "       'production_company', 'distributors', 'metascore', 'is_nominee',\n",
       "       'United States', 'Family', 'Adventure', 'Comedy', 'Fantasy', 'Other',\n",
       "       'G', 'PG', 'PG-13', 'R', 'Unrated', 'metascore_available'],\n",
       "      dtype='object')"
      ]
     },
     "execution_count": 77,
     "metadata": {},
     "output_type": "execute_result"
    }
   ],
   "source": [
    "train_set.columns"
   ]
  },
  {
   "cell_type": "markdown",
   "id": "f2d98df9",
   "metadata": {},
   "source": [
    "Now we do a cross validation to find a good value for max_depth"
   ]
  },
  {
   "cell_type": "code",
   "execution_count": 100,
   "id": "5c881f01",
   "metadata": {},
   "outputs": [],
   "source": [
    "def est_decision_tree(j):\n",
    "    '''goes through j max_depth values on decision trees on training set.\n",
    "    Creates an array of precisions and recalls, to be processed'''\n",
    "    precs=np.zeros((j,5))\n",
    "    recs = np.zeros((j,5))\n",
    "    for i in range(0,j):\n",
    "        k=0\n",
    "        for train_index, val_index in timeseries_split(train_set,5):\n",
    "\n",
    "            # make decision tree with maxdepth i+1\n",
    "            tree=DecisionTreeClassifier(max_depth=1*(i+1))\n",
    "            tree.fit(\n",
    "                train_set.iloc[train_index][['United States', 'Family', 'Adventure', 'Comedy', 'Fantasy', 'Other',\n",
    "                                           'G', 'PG', 'PG-13', 'R', 'Unrated', 'metascore_available']],\n",
    "                train_set.iloc[train_index]['is_nominee']\n",
    "                    )\n",
    "            pred=tree.predict(train_set.iloc[val_index][['United States', 'Family', 'Adventure', 'Comedy', 'Fantasy',\n",
    "                                                         'Other','G', 'PG', 'PG-13', 'R', 'Unrated',\n",
    "                                                         'metascore_available']]\n",
    "                        )\n",
    "\n",
    "            # add metrics to the tables\n",
    "            precs[i,k]=precision_score(train_set.iloc[val_index]['is_nominee'], pred, zero_division=0)\n",
    "            recs[i,k]=recall_score(train_set.iloc[val_index]['is_nominee'], pred, zero_division=0)\n",
    "            k=k+1\n",
    "\n",
    "    return(precs, recs)"
   ]
  },
  {
   "cell_type": "code",
   "execution_count": 119,
   "id": "149eb523",
   "metadata": {},
   "outputs": [],
   "source": [
    "metrics1=est_decision_tree(10)"
   ]
  },
  {
   "cell_type": "code",
   "execution_count": 120,
   "id": "f47a696f",
   "metadata": {
    "scrolled": false
   },
   "outputs": [
    {
     "data": {
      "text/plain": [
       "(array([[0.        , 0.        , 0.        , 0.        , 0.        ],\n",
       "        [0.        , 0.        , 0.        , 0.        , 0.        ],\n",
       "        [0.        , 0.        , 0.        , 0.        , 0.        ],\n",
       "        [0.        , 0.        , 0.        , 0.        , 0.        ],\n",
       "        [0.        , 0.        , 0.        , 0.        , 0.        ],\n",
       "        [0.5       , 0.        , 0.        , 0.        , 1.        ],\n",
       "        [0.33333333, 0.        , 0.        , 1.        , 1.        ],\n",
       "        [0.5       , 0.        , 0.        , 1.        , 0.5       ],\n",
       "        [0.5       , 0.        , 0.        , 1.        , 0.5       ],\n",
       "        [0.5       , 0.        , 0.        , 1.        , 0.5       ]]),\n",
       " array([[0.        , 0.        , 0.        , 0.        , 0.        ],\n",
       "        [0.        , 0.        , 0.        , 0.        , 0.        ],\n",
       "        [0.        , 0.        , 0.        , 0.        , 0.        ],\n",
       "        [0.        , 0.        , 0.        , 0.        , 0.        ],\n",
       "        [0.        , 0.        , 0.        , 0.        , 0.        ],\n",
       "        [0.16666667, 0.        , 0.        , 0.        , 0.2       ],\n",
       "        [0.16666667, 0.        , 0.        , 0.2       , 0.2       ],\n",
       "        [0.16666667, 0.        , 0.        , 0.2       , 0.2       ],\n",
       "        [0.16666667, 0.        , 0.        , 0.2       , 0.2       ],\n",
       "        [0.16666667, 0.        , 0.        , 0.2       , 0.2       ]]))"
      ]
     },
     "execution_count": 120,
     "metadata": {},
     "output_type": "execute_result"
    }
   ],
   "source": [
    "metrics1"
   ]
  },
  {
   "cell_type": "markdown",
   "id": "5c7cee42",
   "metadata": {},
   "source": [
    "Shall we make a pretty picture? Maybe later"
   ]
  },
  {
   "cell_type": "code",
   "execution_count": 224,
   "id": "25292482",
   "metadata": {
    "scrolled": true
   },
   "outputs": [
    {
     "data": {
      "image/png": "[encoded data removed]",
      "text/plain": [
       "<Figure size 576x432 with 1 Axes>"
      ]
     },
     "metadata": {
      "needs_background": "light"
     },
     "output_type": "display_data"
    }
   ],
   "source": [
    "plt.figure(figsize=(8,6))\n",
    "\n",
    "plt.scatter(5*[1,2,3,4,5,6,7,8,9,10], np.transpose(metrics1[0]).reshape(1,-1))\n",
    "\n",
    "plt.scatter(range(1,11), np.mean(metrics1[0], axis=1), label='Average')\n",
    "\n",
    "plt.title('Precision Scores for Decision Tree', fontsize=20)\n",
    "plt.xlabel('Max_depth')\n",
    "plt.ylabel('Precision')\n",
    "plt.ylim(-0.1,1.1)\n",
    "\n",
    "plt.legend()\n",
    "\n",
    "plt.show()"
   ]
  },
  {
   "cell_type": "code",
   "execution_count": 225,
   "id": "cb06c51a",
   "metadata": {
    "scrolled": false
   },
   "outputs": [
    {
     "data": {
      "image/png": "[encoded data removed]",
      "text/plain": [
       "<Figure size 576x432 with 1 Axes>"
      ]
     },
     "metadata": {
      "needs_background": "light"
     },
     "output_type": "display_data"
    }
   ],
   "source": [
    "plt.figure(figsize=(8,6))\n",
    "\n",
    "plt.scatter(5*[1,2,3,4,5,6,7,8,9,10], np.transpose(metrics1[1]).reshape(1,-1))\n",
    "\n",
    "plt.scatter(range(1,11), np.mean(metrics1[1], axis=1), label='Average')\n",
    "\n",
    "plt.title('Recall Scores for Decision Tree', fontsize=20)\n",
    "plt.xlabel('Max_depth')\n",
    "plt.ylabel('Recall')\n",
    "plt.ylim(-0.1,1.1)\n",
    "\n",
    "plt.legend()\n",
    "\n",
    "plt.show()"
   ]
  },
  {
   "cell_type": "code",
   "execution_count": 219,
   "id": "0e920df9",
   "metadata": {},
   "outputs": [
    {
     "name": "stdout",
     "output_type": "stream",
     "text": [
      "Recall:\n",
      "0.11333333333333333\n",
      "Precision:\n",
      "0.4\n"
     ]
    }
   ],
   "source": [
    "print('Recall:')\n",
    "print(np.mean(metrics1[1], axis=1)[9])\n",
    "print('Precision:')\n",
    "print(np.mean(metrics1[0], axis=1)[9])"
   ]
  },
  {
   "cell_type": "markdown",
   "id": "8e0f568b",
   "metadata": {},
   "source": [
    "#### <font color='MediumOrchid'>For Decision Trees, both precision and recall seem to level out after max_depth 8.  Let's call this 10 for good measure.  So, the best (for now) Decision Tree Classifier is: </font>"
   ]
  },
  {
   "cell_type": "code",
   "execution_count": 105,
   "id": "85036bbf",
   "metadata": {},
   "outputs": [
    {
     "data": {
      "text/plain": [
       "DecisionTreeClassifier(max_depth=10)"
      ]
     },
     "execution_count": 105,
     "metadata": {},
     "output_type": "execute_result"
    }
   ],
   "source": [
    "tree=DecisionTreeClassifier(max_depth=10)\n",
    "\n",
    "tree.fit(train_set[['United States', 'Family', 'Adventure', 'Comedy', 'Fantasy', 'Other',\n",
    "                                           'G', 'PG', 'PG-13', 'R', 'Unrated', 'metascore_available']],\n",
    "        train_set['is_nominee']\n",
    "        )"
   ]
  },
  {
   "cell_type": "markdown",
   "id": "166c5f52",
   "metadata": {},
   "source": [
    "### k Nearest Neighbors Classifier"
   ]
  },
  {
   "cell_type": "code",
   "execution_count": 110,
   "id": "b59c849d",
   "metadata": {},
   "outputs": [],
   "source": [
    "def est_knn(j):\n",
    "    '''goes through k in range(1,j+1) on kNN models on training set.\n",
    "    Creates an array of precisions and recalls, to be processed'''\n",
    "    precs=np.zeros((j,5))\n",
    "    recs = np.zeros((j,5))\n",
    "    for i in range(0,j):\n",
    "        x=0\n",
    "        for train_index, val_index in timeseries_split(train_set,5):\n",
    "\n",
    "            # make k Nearest Neighbors model with k=i+1\n",
    "            kNN = KNeighborsClassifier(n_neighbors=1*(i+1))\n",
    "            kNN.fit(\n",
    "                train_set.iloc[train_index][['United States', 'Family', 'Adventure', 'Comedy', 'Fantasy', 'Other',\n",
    "                                           'G', 'PG', 'PG-13', 'R', 'Unrated', 'metascore_available']],\n",
    "                train_set.iloc[train_index]['is_nominee']\n",
    "                    )\n",
    "            pred=kNN.predict(train_set.iloc[val_index][['United States', 'Family', 'Adventure', 'Comedy', 'Fantasy',\n",
    "                                                         'Other','G', 'PG', 'PG-13', 'R', 'Unrated',\n",
    "                                                         'metascore_available']]\n",
    "                        )\n",
    "\n",
    "            # add metrics to the tables\n",
    "            precs[i,x]=precision_score(train_set.iloc[val_index]['is_nominee'], pred, zero_division=0)\n",
    "            recs[i,x]=recall_score(train_set.iloc[val_index]['is_nominee'], pred, zero_division=0)\n",
    "            x=x+1\n",
    "\n",
    "    return(precs, recs)"
   ]
  },
  {
   "cell_type": "code",
   "execution_count": 121,
   "id": "ad588e61",
   "metadata": {},
   "outputs": [],
   "source": [
    "metrics2=est_knn(5)"
   ]
  },
  {
   "cell_type": "code",
   "execution_count": 122,
   "id": "56922c90",
   "metadata": {
    "scrolled": false
   },
   "outputs": [
    {
     "data": {
      "text/plain": [
       "(array([[0.28571429, 0.66666667, 0.25      , 0.28571429, 0.2       ],\n",
       "        [0.5       , 0.5       , 0.        , 0.        , 0.        ],\n",
       "        [0.5       , 0.5       , 0.        , 0.        , 0.5       ],\n",
       "        [0.        , 0.        , 0.        , 0.        , 0.        ],\n",
       "        [0.        , 0.        , 0.        , 0.        , 0.        ]]),\n",
       " array([[0.33333333, 0.4       , 0.66666667, 0.4       , 0.2       ],\n",
       "        [0.16666667, 0.2       , 0.        , 0.        , 0.        ],\n",
       "        [0.16666667, 0.2       , 0.        , 0.        , 0.2       ],\n",
       "        [0.        , 0.        , 0.        , 0.        , 0.        ],\n",
       "        [0.        , 0.        , 0.        , 0.        , 0.        ]]))"
      ]
     },
     "execution_count": 122,
     "metadata": {},
     "output_type": "execute_result"
    }
   ],
   "source": [
    "metrics2"
   ]
  },
  {
   "cell_type": "code",
   "execution_count": 226,
   "id": "eb550975",
   "metadata": {},
   "outputs": [
    {
     "data": {
      "image/png": "[encoded data removed]",
      "text/plain": [
       "<Figure size 576x432 with 1 Axes>"
      ]
     },
     "metadata": {
      "needs_background": "light"
     },
     "output_type": "display_data"
    }
   ],
   "source": [
    "plt.figure(figsize=(8,6))\n",
    "\n",
    "plt.scatter(5*[1,2,3,4,5], np.transpose(metrics2[1]).reshape(1,-1))\n",
    "\n",
    "plt.scatter(range(1,6), np.mean(metrics2[1], axis=1), label='Average')\n",
    "\n",
    "plt.title('Recall Scores for kNN Classifier', fontsize=20)\n",
    "plt.xlabel('Number of Neighbors')\n",
    "plt.ylabel('Recall')\n",
    "plt.ylim(-0.1,1.1)\n",
    "\n",
    "plt.legend()\n",
    "\n",
    "plt.show()"
   ]
  },
  {
   "cell_type": "code",
   "execution_count": 227,
   "id": "3259da7e",
   "metadata": {},
   "outputs": [
    {
     "data": {
      "image/png": "[encoded data removed]",
      "text/plain": [
       "<Figure size 576x432 with 1 Axes>"
      ]
     },
     "metadata": {
      "needs_background": "light"
     },
     "output_type": "display_data"
    }
   ],
   "source": [
    "plt.figure(figsize=(8,6))\n",
    "\n",
    "plt.scatter(5*[1,2,3,4,5], np.transpose(metrics2[0]).reshape(1,-1))\n",
    "\n",
    "plt.scatter(range(1,6), np.mean(metrics2[0], axis=1), label='Average')\n",
    "\n",
    "plt.title('Precision Scores for kNN Classifier', fontsize=20)\n",
    "plt.xlabel('Number of Neighbors')\n",
    "plt.ylabel('Precision')\n",
    "plt.ylim(-0.1,1.1)\n",
    "\n",
    "plt.legend()\n",
    "\n",
    "plt.show()"
   ]
  },
  {
   "cell_type": "code",
   "execution_count": 221,
   "id": "9da350ec",
   "metadata": {},
   "outputs": [
    {
     "name": "stdout",
     "output_type": "stream",
     "text": [
      "Recall:\n",
      "0.39999999999999997\n",
      "Precision:\n",
      "0.3376190476190476\n"
     ]
    }
   ],
   "source": [
    "print('Recall:')\n",
    "print(np.mean(metrics2[1], axis=1)[0])\n",
    "print('Precision:')\n",
    "print(np.mean(metrics2[0], axis=1)[0])"
   ]
  },
  {
   "cell_type": "markdown",
   "id": "b3be3fbb",
   "metadata": {},
   "source": [
    "#### <font color='MediumOrchid'>For k Nearest Neighbors, the more neighbors the worse off we are.  This actually may make sense because so few movies are nominated for Oscars that if we take more than 3 neighbors, we're predicting that no movies are nominated, ever. Overall, it seems we really should take one neighbor.  Thus, the best (for now) k Nearest Neighbors model is:</font>"
   ]
  },
  {
   "cell_type": "code",
   "execution_count": 118,
   "id": "9752e148",
   "metadata": {
    "scrolled": true
   },
   "outputs": [
    {
     "data": {
      "text/plain": [
       "KNeighborsClassifier(n_neighbors=1)"
      ]
     },
     "execution_count": 118,
     "metadata": {},
     "output_type": "execute_result"
    }
   ],
   "source": [
    "kNN = KNeighborsClassifier(n_neighbors=1)\n",
    "kNN.fit(\n",
    "        train_set.iloc[train_index][['United States', 'Family', 'Adventure', 'Comedy', 'Fantasy', 'Other',\n",
    "                                           'G', 'PG', 'PG-13', 'R', 'Unrated', 'metascore_available']],\n",
    "        train_set.iloc[train_index]['is_nominee']\n",
    "        )"
   ]
  },
  {
   "cell_type": "markdown",
   "id": "89d8b5d5",
   "metadata": {},
   "source": [
    "As a future direction, I'd like to play with the metric kNN is using"
   ]
  },
  {
   "cell_type": "markdown",
   "id": "9aa67243",
   "metadata": {},
   "source": [
    "### Support Vector Machine - linear and non-linear"
   ]
  },
  {
   "cell_type": "markdown",
   "id": "0ba569c9",
   "metadata": {},
   "source": [
    "I doubt it will be any good, but let's try a linear SVC for fun."
   ]
  },
  {
   "cell_type": "code",
   "execution_count": 127,
   "id": "1967ba0e",
   "metadata": {},
   "outputs": [],
   "source": [
    "def est_linear_svc(j):\n",
    "    '''goes through C in 1/2^range(j) on linear SVC models on training set.\n",
    "    Creates an array of precisions and recalls, to be processed'''\n",
    "    precs=np.zeros((j,5))\n",
    "    recs = np.zeros((j,5))\n",
    "    for i in range(0,j):\n",
    "        x=0\n",
    "        for train_index, val_index in timeseries_split(train_set,5):\n",
    "\n",
    "            # make Linear SVC model with C=1/2^j\n",
    "            svc = LinearSVC(C=2**(-1*j))\n",
    "            svc.fit(\n",
    "                train_set.iloc[train_index][['United States', 'Family', 'Adventure', 'Comedy', 'Fantasy', 'Other',\n",
    "                                           'G', 'PG', 'PG-13', 'R', 'Unrated', 'metascore_available']],\n",
    "                train_set.iloc[train_index]['is_nominee']\n",
    "                    )\n",
    "            pred=svc.predict(train_set.iloc[val_index][['United States', 'Family', 'Adventure', 'Comedy', 'Fantasy',\n",
    "                                                         'Other','G', 'PG', 'PG-13', 'R', 'Unrated',\n",
    "                                                         'metascore_available']]\n",
    "                        )\n",
    "\n",
    "            # add metrics to the tables\n",
    "            precs[i,x]=precision_score(train_set.iloc[val_index]['is_nominee'], pred, zero_division=0)\n",
    "            recs[i,x]=recall_score(train_set.iloc[val_index]['is_nominee'], pred, zero_division=0)\n",
    "            x=x+1\n",
    "\n",
    "    return(precs, recs)"
   ]
  },
  {
   "cell_type": "code",
   "execution_count": 129,
   "id": "49c6bfc6",
   "metadata": {},
   "outputs": [],
   "source": [
    "metrics3=est_linear_svc(5)"
   ]
  },
  {
   "cell_type": "code",
   "execution_count": 130,
   "id": "b708a20a",
   "metadata": {},
   "outputs": [
    {
     "data": {
      "text/plain": [
       "(array([[0., 0., 0., 0., 0.],\n",
       "        [0., 0., 0., 0., 0.],\n",
       "        [0., 0., 0., 0., 0.],\n",
       "        [0., 0., 0., 0., 0.],\n",
       "        [0., 0., 0., 0., 0.]]),\n",
       " array([[0., 0., 0., 0., 0.],\n",
       "        [0., 0., 0., 0., 0.],\n",
       "        [0., 0., 0., 0., 0.],\n",
       "        [0., 0., 0., 0., 0.],\n",
       "        [0., 0., 0., 0., 0.]]))"
      ]
     },
     "execution_count": 130,
     "metadata": {},
     "output_type": "execute_result"
    }
   ],
   "source": [
    "metrics3"
   ]
  },
  {
   "cell_type": "markdown",
   "id": "c628233f",
   "metadata": {},
   "source": [
    "Yup. Terrible.  Let's try non-linear versions."
   ]
  },
  {
   "cell_type": "code",
   "execution_count": 133,
   "id": "45fe0fad",
   "metadata": {},
   "outputs": [],
   "source": [
    "def est_rbf_svc(j):\n",
    "    '''goes through C in range(j) on SVC models on training set.\n",
    "    Creates an array of precisions and recalls, to be processed'''\n",
    "    precs=np.zeros((j,5))\n",
    "    recs = np.zeros((j,5))\n",
    "    for i in range(0,j):\n",
    "        x=0\n",
    "        for train_index, val_index in timeseries_split(train_set,5):\n",
    "\n",
    "            # make k Nearest Neighbors model with k=i+1\n",
    "            svc = SVC(C=2**(-1*j), kernel='rbf', max_iter=10000)\n",
    "            svc.fit(\n",
    "                train_set.iloc[train_index][['United States', 'Family', 'Adventure', 'Comedy', 'Fantasy', 'Other',\n",
    "                                           'G', 'PG', 'PG-13', 'R', 'Unrated', 'metascore_available']],\n",
    "                train_set.iloc[train_index]['is_nominee']\n",
    "                    )\n",
    "            pred=svc.predict(train_set.iloc[val_index][['United States', 'Family', 'Adventure', 'Comedy', 'Fantasy',\n",
    "                                                         'Other','G', 'PG', 'PG-13', 'R', 'Unrated',\n",
    "                                                         'metascore_available']]\n",
    "                        )\n",
    "\n",
    "            # add metrics to the tables\n",
    "            precs[i,x]=precision_score(train_set.iloc[val_index]['is_nominee'], pred, zero_division=0)\n",
    "            recs[i,x]=recall_score(train_set.iloc[val_index]['is_nominee'], pred, zero_division=0)\n",
    "            x=x+1\n",
    "\n",
    "    return(precs, recs)"
   ]
  },
  {
   "cell_type": "code",
   "execution_count": 134,
   "id": "f575aea8",
   "metadata": {},
   "outputs": [],
   "source": [
    "metrics4= est_rbf_svc(10)"
   ]
  },
  {
   "cell_type": "code",
   "execution_count": 135,
   "id": "3875d72d",
   "metadata": {},
   "outputs": [
    {
     "data": {
      "text/plain": [
       "(array([[0., 0., 0., 0., 0.],\n",
       "        [0., 0., 0., 0., 0.],\n",
       "        [0., 0., 0., 0., 0.],\n",
       "        [0., 0., 0., 0., 0.],\n",
       "        [0., 0., 0., 0., 0.],\n",
       "        [0., 0., 0., 0., 0.],\n",
       "        [0., 0., 0., 0., 0.],\n",
       "        [0., 0., 0., 0., 0.],\n",
       "        [0., 0., 0., 0., 0.],\n",
       "        [0., 0., 0., 0., 0.]]),\n",
       " array([[0., 0., 0., 0., 0.],\n",
       "        [0., 0., 0., 0., 0.],\n",
       "        [0., 0., 0., 0., 0.],\n",
       "        [0., 0., 0., 0., 0.],\n",
       "        [0., 0., 0., 0., 0.],\n",
       "        [0., 0., 0., 0., 0.],\n",
       "        [0., 0., 0., 0., 0.],\n",
       "        [0., 0., 0., 0., 0.],\n",
       "        [0., 0., 0., 0., 0.],\n",
       "        [0., 0., 0., 0., 0.]]))"
      ]
     },
     "execution_count": 135,
     "metadata": {},
     "output_type": "execute_result"
    }
   ],
   "source": [
    "metrics4"
   ]
  },
  {
   "cell_type": "code",
   "execution_count": 137,
   "id": "0ff54ad9",
   "metadata": {},
   "outputs": [],
   "source": [
    "def est_sig_svc(j):\n",
    "    '''goes through C in range(j) on SVC models on training set.\n",
    "    Creates an array of precisions and recalls, to be processed'''\n",
    "    precs=np.zeros((j,5))\n",
    "    recs = np.zeros((j,5))\n",
    "    for i in range(0,j):\n",
    "        x=0\n",
    "        for train_index, val_index in timeseries_split(train_set,5):\n",
    "\n",
    "            # make k Nearest Neighbors model with k=i+1\n",
    "            svc = SVC(C=2**(-1*j), kernel='sigmoid', max_iter=10000)\n",
    "            svc.fit(\n",
    "                train_set.iloc[train_index][['United States', 'Family', 'Adventure', 'Comedy', 'Fantasy', 'Other',\n",
    "                                           'G', 'PG', 'PG-13', 'R', 'Unrated', 'metascore_available']],\n",
    "                train_set.iloc[train_index]['is_nominee']\n",
    "                    )\n",
    "            pred=svc.predict(train_set.iloc[val_index][['United States', 'Family', 'Adventure', 'Comedy', 'Fantasy',\n",
    "                                                         'Other','G', 'PG', 'PG-13', 'R', 'Unrated',\n",
    "                                                         'metascore_available']]\n",
    "                        )\n",
    "\n",
    "            # add metrics to the tables\n",
    "            precs[i,x]=precision_score(train_set.iloc[val_index]['is_nominee'], pred, zero_division=0)\n",
    "            recs[i,x]=recall_score(train_set.iloc[val_index]['is_nominee'], pred, zero_division=0)\n",
    "            x=x+1\n",
    "\n",
    "    return(precs, recs)"
   ]
  },
  {
   "cell_type": "code",
   "execution_count": 138,
   "id": "d5f2d22f",
   "metadata": {},
   "outputs": [],
   "source": [
    "metrics5=est_sig_svc(10)"
   ]
  },
  {
   "cell_type": "code",
   "execution_count": 139,
   "id": "3285a2d0",
   "metadata": {},
   "outputs": [
    {
     "data": {
      "text/plain": [
       "(array([[0., 0., 0., 0., 0.],\n",
       "        [0., 0., 0., 0., 0.],\n",
       "        [0., 0., 0., 0., 0.],\n",
       "        [0., 0., 0., 0., 0.],\n",
       "        [0., 0., 0., 0., 0.],\n",
       "        [0., 0., 0., 0., 0.],\n",
       "        [0., 0., 0., 0., 0.],\n",
       "        [0., 0., 0., 0., 0.],\n",
       "        [0., 0., 0., 0., 0.],\n",
       "        [0., 0., 0., 0., 0.]]),\n",
       " array([[0., 0., 0., 0., 0.],\n",
       "        [0., 0., 0., 0., 0.],\n",
       "        [0., 0., 0., 0., 0.],\n",
       "        [0., 0., 0., 0., 0.],\n",
       "        [0., 0., 0., 0., 0.],\n",
       "        [0., 0., 0., 0., 0.],\n",
       "        [0., 0., 0., 0., 0.],\n",
       "        [0., 0., 0., 0., 0.],\n",
       "        [0., 0., 0., 0., 0.],\n",
       "        [0., 0., 0., 0., 0.]]))"
      ]
     },
     "execution_count": 139,
     "metadata": {},
     "output_type": "execute_result"
    }
   ],
   "source": [
    "metrics5"
   ]
  },
  {
   "cell_type": "code",
   "execution_count": 143,
   "id": "1e57067f",
   "metadata": {},
   "outputs": [],
   "source": [
    "def est_poly_svc(j,n):\n",
    "    '''goes through C in range(j) on SVC models on training set.\n",
    "    with polynomial degree n\n",
    "    Creates an array of precisions and recalls, to be processed'''\n",
    "    precs=np.zeros((j,5))\n",
    "    recs = np.zeros((j,5))\n",
    "    for i in range(0,j):\n",
    "        x=0\n",
    "        for train_index, val_index in timeseries_split(train_set,5):\n",
    "\n",
    "            # make k Nearest Neighbors model with k=i+1\n",
    "            svc = SVC(C=2**(-1*j), kernel='poly', degree=n, max_iter=10000)\n",
    "            svc.fit(\n",
    "                train_set.iloc[train_index][['United States', 'Family', 'Adventure', 'Comedy', 'Fantasy', 'Other',\n",
    "                                           'G', 'PG', 'PG-13', 'R', 'Unrated', 'metascore_available']],\n",
    "                train_set.iloc[train_index]['is_nominee']\n",
    "                    )\n",
    "            pred=svc.predict(train_set.iloc[val_index][['United States', 'Family', 'Adventure', 'Comedy', 'Fantasy',\n",
    "                                                         'Other','G', 'PG', 'PG-13', 'R', 'Unrated',\n",
    "                                                         'metascore_available']]\n",
    "                        )\n",
    "\n",
    "            # add metrics to the tables\n",
    "            precs[i,x]=precision_score(train_set.iloc[val_index]['is_nominee'], pred, zero_division=0)\n",
    "            recs[i,x]=recall_score(train_set.iloc[val_index]['is_nominee'], pred, zero_division=0)\n",
    "            x=x+1\n",
    "\n",
    "    return(precs, recs)"
   ]
  },
  {
   "cell_type": "code",
   "execution_count": 144,
   "id": "1ed7c8c2",
   "metadata": {},
   "outputs": [
    {
     "name": "stdout",
     "output_type": "stream",
     "text": [
      "i= 0\n",
      "[[0. 0. 0. 0. 0.]\n",
      " [0. 0. 0. 0. 0.]\n",
      " [0. 0. 0. 0. 0.]\n",
      " [0. 0. 0. 0. 0.]\n",
      " [0. 0. 0. 0. 0.]\n",
      " [0. 0. 0. 0. 0.]\n",
      " [0. 0. 0. 0. 0.]\n",
      " [0. 0. 0. 0. 0.]\n",
      " [0. 0. 0. 0. 0.]\n",
      " [0. 0. 0. 0. 0.]]\n",
      "[[0. 0. 0. 0. 0.]\n",
      " [0. 0. 0. 0. 0.]\n",
      " [0. 0. 0. 0. 0.]\n",
      " [0. 0. 0. 0. 0.]\n",
      " [0. 0. 0. 0. 0.]\n",
      " [0. 0. 0. 0. 0.]\n",
      " [0. 0. 0. 0. 0.]\n",
      " [0. 0. 0. 0. 0.]\n",
      " [0. 0. 0. 0. 0.]\n",
      " [0. 0. 0. 0. 0.]]\n",
      "\n",
      "============================\n",
      "i= 1\n",
      "[[0. 0. 0. 0. 0.]\n",
      " [0. 0. 0. 0. 0.]\n",
      " [0. 0. 0. 0. 0.]\n",
      " [0. 0. 0. 0. 0.]\n",
      " [0. 0. 0. 0. 0.]\n",
      " [0. 0. 0. 0. 0.]\n",
      " [0. 0. 0. 0. 0.]\n",
      " [0. 0. 0. 0. 0.]\n",
      " [0. 0. 0. 0. 0.]\n",
      " [0. 0. 0. 0. 0.]]\n",
      "[[0. 0. 0. 0. 0.]\n",
      " [0. 0. 0. 0. 0.]\n",
      " [0. 0. 0. 0. 0.]\n",
      " [0. 0. 0. 0. 0.]\n",
      " [0. 0. 0. 0. 0.]\n",
      " [0. 0. 0. 0. 0.]\n",
      " [0. 0. 0. 0. 0.]\n",
      " [0. 0. 0. 0. 0.]\n",
      " [0. 0. 0. 0. 0.]\n",
      " [0. 0. 0. 0. 0.]]\n",
      "\n",
      "============================\n",
      "i= 2\n",
      "[[0. 0. 0. 0. 0.]\n",
      " [0. 0. 0. 0. 0.]\n",
      " [0. 0. 0. 0. 0.]\n",
      " [0. 0. 0. 0. 0.]\n",
      " [0. 0. 0. 0. 0.]\n",
      " [0. 0. 0. 0. 0.]\n",
      " [0. 0. 0. 0. 0.]\n",
      " [0. 0. 0. 0. 0.]\n",
      " [0. 0. 0. 0. 0.]\n",
      " [0. 0. 0. 0. 0.]]\n",
      "[[0. 0. 0. 0. 0.]\n",
      " [0. 0. 0. 0. 0.]\n",
      " [0. 0. 0. 0. 0.]\n",
      " [0. 0. 0. 0. 0.]\n",
      " [0. 0. 0. 0. 0.]\n",
      " [0. 0. 0. 0. 0.]\n",
      " [0. 0. 0. 0. 0.]\n",
      " [0. 0. 0. 0. 0.]\n",
      " [0. 0. 0. 0. 0.]\n",
      " [0. 0. 0. 0. 0.]]\n",
      "\n",
      "============================\n",
      "i= 3\n",
      "[[0. 0. 0. 0. 0.]\n",
      " [0. 0. 0. 0. 0.]\n",
      " [0. 0. 0. 0. 0.]\n",
      " [0. 0. 0. 0. 0.]\n",
      " [0. 0. 0. 0. 0.]\n",
      " [0. 0. 0. 0. 0.]\n",
      " [0. 0. 0. 0. 0.]\n",
      " [0. 0. 0. 0. 0.]\n",
      " [0. 0. 0. 0. 0.]\n",
      " [0. 0. 0. 0. 0.]]\n",
      "[[0. 0. 0. 0. 0.]\n",
      " [0. 0. 0. 0. 0.]\n",
      " [0. 0. 0. 0. 0.]\n",
      " [0. 0. 0. 0. 0.]\n",
      " [0. 0. 0. 0. 0.]\n",
      " [0. 0. 0. 0. 0.]\n",
      " [0. 0. 0. 0. 0.]\n",
      " [0. 0. 0. 0. 0.]\n",
      " [0. 0. 0. 0. 0.]\n",
      " [0. 0. 0. 0. 0.]]\n",
      "\n",
      "============================\n",
      "i= 4\n",
      "[[0. 0. 0. 0. 0.]\n",
      " [0. 0. 0. 0. 0.]\n",
      " [0. 0. 0. 0. 0.]\n",
      " [0. 0. 0. 0. 0.]\n",
      " [0. 0. 0. 0. 0.]\n",
      " [0. 0. 0. 0. 0.]\n",
      " [0. 0. 0. 0. 0.]\n",
      " [0. 0. 0. 0. 0.]\n",
      " [0. 0. 0. 0. 0.]\n",
      " [0. 0. 0. 0. 0.]]\n",
      "[[0. 0. 0. 0. 0.]\n",
      " [0. 0. 0. 0. 0.]\n",
      " [0. 0. 0. 0. 0.]\n",
      " [0. 0. 0. 0. 0.]\n",
      " [0. 0. 0. 0. 0.]\n",
      " [0. 0. 0. 0. 0.]\n",
      " [0. 0. 0. 0. 0.]\n",
      " [0. 0. 0. 0. 0.]\n",
      " [0. 0. 0. 0. 0.]\n",
      " [0. 0. 0. 0. 0.]]\n",
      "\n",
      "============================\n",
      "i= 5\n",
      "[[0. 0. 0. 0. 0.]\n",
      " [0. 0. 0. 0. 0.]\n",
      " [0. 0. 0. 0. 0.]\n",
      " [0. 0. 0. 0. 0.]\n",
      " [0. 0. 0. 0. 0.]\n",
      " [0. 0. 0. 0. 0.]\n",
      " [0. 0. 0. 0. 0.]\n",
      " [0. 0. 0. 0. 0.]\n",
      " [0. 0. 0. 0. 0.]\n",
      " [0. 0. 0. 0. 0.]]\n",
      "[[0. 0. 0. 0. 0.]\n",
      " [0. 0. 0. 0. 0.]\n",
      " [0. 0. 0. 0. 0.]\n",
      " [0. 0. 0. 0. 0.]\n",
      " [0. 0. 0. 0. 0.]\n",
      " [0. 0. 0. 0. 0.]\n",
      " [0. 0. 0. 0. 0.]\n",
      " [0. 0. 0. 0. 0.]\n",
      " [0. 0. 0. 0. 0.]\n",
      " [0. 0. 0. 0. 0.]]\n",
      "\n",
      "============================\n",
      "i= 6\n",
      "[[0. 0. 0. 0. 0.]\n",
      " [0. 0. 0. 0. 0.]\n",
      " [0. 0. 0. 0. 0.]\n",
      " [0. 0. 0. 0. 0.]\n",
      " [0. 0. 0. 0. 0.]\n",
      " [0. 0. 0. 0. 0.]\n",
      " [0. 0. 0. 0. 0.]\n",
      " [0. 0. 0. 0. 0.]\n",
      " [0. 0. 0. 0. 0.]\n",
      " [0. 0. 0. 0. 0.]]\n",
      "[[0. 0. 0. 0. 0.]\n",
      " [0. 0. 0. 0. 0.]\n",
      " [0. 0. 0. 0. 0.]\n",
      " [0. 0. 0. 0. 0.]\n",
      " [0. 0. 0. 0. 0.]\n",
      " [0. 0. 0. 0. 0.]\n",
      " [0. 0. 0. 0. 0.]\n",
      " [0. 0. 0. 0. 0.]\n",
      " [0. 0. 0. 0. 0.]\n",
      " [0. 0. 0. 0. 0.]]\n",
      "\n",
      "============================\n",
      "i= 7\n",
      "[[0. 0. 0. 0. 0.]\n",
      " [0. 0. 0. 0. 0.]\n",
      " [0. 0. 0. 0. 0.]\n",
      " [0. 0. 0. 0. 0.]\n",
      " [0. 0. 0. 0. 0.]\n",
      " [0. 0. 0. 0. 0.]\n",
      " [0. 0. 0. 0. 0.]\n",
      " [0. 0. 0. 0. 0.]\n",
      " [0. 0. 0. 0. 0.]\n",
      " [0. 0. 0. 0. 0.]]\n",
      "[[0. 0. 0. 0. 0.]\n",
      " [0. 0. 0. 0. 0.]\n",
      " [0. 0. 0. 0. 0.]\n",
      " [0. 0. 0. 0. 0.]\n",
      " [0. 0. 0. 0. 0.]\n",
      " [0. 0. 0. 0. 0.]\n",
      " [0. 0. 0. 0. 0.]\n",
      " [0. 0. 0. 0. 0.]\n",
      " [0. 0. 0. 0. 0.]\n",
      " [0. 0. 0. 0. 0.]]\n",
      "\n",
      "============================\n",
      "i= 8\n",
      "[[0. 0. 0. 0. 0.]\n",
      " [0. 0. 0. 0. 0.]\n",
      " [0. 0. 0. 0. 0.]\n",
      " [0. 0. 0. 0. 0.]\n",
      " [0. 0. 0. 0. 0.]\n",
      " [0. 0. 0. 0. 0.]\n",
      " [0. 0. 0. 0. 0.]\n",
      " [0. 0. 0. 0. 0.]\n",
      " [0. 0. 0. 0. 0.]\n",
      " [0. 0. 0. 0. 0.]]\n",
      "[[0. 0. 0. 0. 0.]\n",
      " [0. 0. 0. 0. 0.]\n",
      " [0. 0. 0. 0. 0.]\n",
      " [0. 0. 0. 0. 0.]\n",
      " [0. 0. 0. 0. 0.]\n",
      " [0. 0. 0. 0. 0.]\n",
      " [0. 0. 0. 0. 0.]\n",
      " [0. 0. 0. 0. 0.]\n",
      " [0. 0. 0. 0. 0.]\n",
      " [0. 0. 0. 0. 0.]]\n",
      "\n",
      "============================\n",
      "i= 9\n",
      "[[0. 0. 0. 0. 0.]\n",
      " [0. 0. 0. 0. 0.]\n",
      " [0. 0. 0. 0. 0.]\n",
      " [0. 0. 0. 0. 0.]\n",
      " [0. 0. 0. 0. 0.]\n",
      " [0. 0. 0. 0. 0.]\n",
      " [0. 0. 0. 0. 0.]\n",
      " [0. 0. 0. 0. 0.]\n",
      " [0. 0. 0. 0. 0.]\n",
      " [0. 0. 0. 0. 0.]]\n",
      "[[0. 0. 0. 0. 0.]\n",
      " [0. 0. 0. 0. 0.]\n",
      " [0. 0. 0. 0. 0.]\n",
      " [0. 0. 0. 0. 0.]\n",
      " [0. 0. 0. 0. 0.]\n",
      " [0. 0. 0. 0. 0.]\n",
      " [0. 0. 0. 0. 0.]\n",
      " [0. 0. 0. 0. 0.]\n",
      " [0. 0. 0. 0. 0.]\n",
      " [0. 0. 0. 0. 0.]]\n",
      "\n",
      "============================\n"
     ]
    }
   ],
   "source": [
    "metrics6=[]\n",
    "for i in range(10):\n",
    "    metrics=est_poly_svc(10,i)\n",
    "    metrics6.append(metrics)\n",
    "    print('i=', str(i))\n",
    "    print(metrics[0])\n",
    "    print(metrics[1])\n",
    "    print()\n",
    "    print('============================')\n",
    "    "
   ]
  },
  {
   "cell_type": "markdown",
   "id": "c176b2f2",
   "metadata": {},
   "source": [
    "#### <font color='MediumOrchid'>For Support Vector Machines, there were no correct predictions.  So, I will not use them moving forward.</font>"
   ]
  },
  {
   "cell_type": "markdown",
   "id": "638751d6",
   "metadata": {},
   "source": [
    "# A Voting Model based on the above"
   ]
  },
  {
   "cell_type": "code",
   "execution_count": null,
   "id": "6fd7eed7",
   "metadata": {},
   "outputs": [],
   "source": [
    "voting = VotingClassifier([\n",
    "    ('knn', KNeighborsClassifier(1)),\n",
    "    ('tree', DecisionTreeClassifier(max_depth=10))\n",
    "])\n",
    "\n",
    "voting.fit(\n",
    "                train_set.iloc[train_index][['United States', 'Family', 'Adventure', 'Comedy', 'Fantasy', 'Other',\n",
    "                                           'G', 'PG', 'PG-13', 'R', 'Unrated', 'metascore_available']],\n",
    "                train_set.iloc[train_index]['is_nominee']\n",
    "                    )"
   ]
  },
  {
   "cell_type": "code",
   "execution_count": 166,
   "id": "1433b9fe",
   "metadata": {},
   "outputs": [],
   "source": [
    "def voting(n):\n",
    "    '''n = weights of the voting model\n",
    "    Creates an array of precisions and recalls, to be processed'''\n",
    "    precs=np.zeros((n,5))\n",
    "    recs = np.zeros((n,5))\n",
    "    for i in range(0,n):\n",
    "        x=0\n",
    "        for train_index, val_index in timeseries_split(train_set,5):\n",
    "\n",
    "            # make voting model \n",
    "            voting = VotingClassifier([\n",
    "                ('knn', KNeighborsClassifier(1)),\n",
    "                ('tree', DecisionTreeClassifier(max_depth=10))\n",
    "                                    ],\n",
    "                weights=[1,i])\n",
    "            voting.fit(\n",
    "                train_set.iloc[train_index][['United States', 'Family', 'Adventure', 'Comedy', 'Fantasy', 'Other',\n",
    "                                           'G', 'PG', 'PG-13', 'R', 'Unrated', 'metascore_available']],\n",
    "                train_set.iloc[train_index]['is_nominee']\n",
    "                    )\n",
    "            pred=voting.predict(train_set.iloc[val_index][['United States', 'Family', 'Adventure', 'Comedy', 'Fantasy',\n",
    "                                                         'Other','G', 'PG', 'PG-13', 'R', 'Unrated',\n",
    "                                                         'metascore_available']]\n",
    "                        )\n",
    "\n",
    "            # add metrics to the tables\n",
    "            precs[i,x]=precision_score(train_set.iloc[val_index]['is_nominee'], pred, zero_division=0)\n",
    "            recs[i,x]=recall_score(train_set.iloc[val_index]['is_nominee'], pred, zero_division=0)\n",
    "            x=x+1\n",
    "\n",
    "    return(precs, recs)"
   ]
  },
  {
   "cell_type": "code",
   "execution_count": 167,
   "id": "3c71f507",
   "metadata": {},
   "outputs": [],
   "source": [
    "metrics7=voting(1)"
   ]
  },
  {
   "cell_type": "code",
   "execution_count": 168,
   "id": "0c308748",
   "metadata": {},
   "outputs": [
    {
     "data": {
      "text/plain": [
       "(array([[0.28571429, 0.66666667, 0.25      , 0.28571429, 0.2       ]]),\n",
       " array([[0.33333333, 0.4       , 0.66666667, 0.4       , 0.2       ]]))"
      ]
     },
     "execution_count": 168,
     "metadata": {},
     "output_type": "execute_result"
    }
   ],
   "source": [
    "metrics7"
   ]
  },
  {
   "cell_type": "code",
   "execution_count": 169,
   "id": "9106959d",
   "metadata": {},
   "outputs": [],
   "source": [
    "metrics8=voting(10)"
   ]
  },
  {
   "cell_type": "code",
   "execution_count": 170,
   "id": "815ade07",
   "metadata": {},
   "outputs": [
    {
     "data": {
      "text/plain": [
       "(array([[0.28571429, 0.66666667, 0.25      , 0.28571429, 0.2       ],\n",
       "        [0.5       , 0.        , 0.        , 0.        , 0.        ],\n",
       "        [0.5       , 0.        , 0.        , 1.        , 0.5       ],\n",
       "        [0.5       , 0.        , 0.        , 1.        , 0.5       ],\n",
       "        [0.5       , 0.        , 0.        , 1.        , 0.5       ],\n",
       "        [0.5       , 0.        , 0.        , 1.        , 0.5       ],\n",
       "        [0.5       , 0.        , 0.        , 1.        , 0.5       ],\n",
       "        [0.5       , 0.        , 0.        , 1.        , 0.5       ],\n",
       "        [0.5       , 0.        , 0.        , 1.        , 0.5       ],\n",
       "        [0.5       , 0.        , 0.        , 1.        , 0.5       ]]),\n",
       " array([[0.33333333, 0.4       , 0.66666667, 0.4       , 0.2       ],\n",
       "        [0.16666667, 0.        , 0.        , 0.        , 0.        ],\n",
       "        [0.16666667, 0.        , 0.        , 0.2       , 0.2       ],\n",
       "        [0.16666667, 0.        , 0.        , 0.2       , 0.2       ],\n",
       "        [0.16666667, 0.        , 0.        , 0.2       , 0.2       ],\n",
       "        [0.16666667, 0.        , 0.        , 0.2       , 0.2       ],\n",
       "        [0.16666667, 0.        , 0.        , 0.2       , 0.2       ],\n",
       "        [0.16666667, 0.        , 0.        , 0.2       , 0.2       ],\n",
       "        [0.16666667, 0.        , 0.        , 0.2       , 0.2       ],\n",
       "        [0.16666667, 0.        , 0.        , 0.2       , 0.2       ]]))"
      ]
     },
     "execution_count": 170,
     "metadata": {},
     "output_type": "execute_result"
    }
   ],
   "source": [
    "metrics8"
   ]
  },
  {
   "cell_type": "code",
   "execution_count": 230,
   "id": "d263a768",
   "metadata": {
    "scrolled": true
   },
   "outputs": [
    {
     "data": {
      "image/png": "[encoded data removed]",
      "text/plain": [
       "<Figure size 576x432 with 1 Axes>"
      ]
     },
     "metadata": {
      "needs_background": "light"
     },
     "output_type": "display_data"
    }
   ],
   "source": [
    "plt.figure(figsize=(8,6))\n",
    "\n",
    "plt.scatter(5*[1,2,3,4,5,6,7,8,9,10], np.transpose(metrics8[0]).reshape(1,-1))\n",
    "\n",
    "plt.scatter(range(1,11), np.mean(metrics8[0], axis=1), label='Average')\n",
    "\n",
    "plt.title('Precision Scores for Voting Model', fontsize=20)\n",
    "plt.xlabel('Votes to Tree')\n",
    "plt.ylabel('Precision')\n",
    "plt.ylim(-0.1,1.1)\n",
    "\n",
    "plt.legend()\n",
    "\n",
    "plt.show()"
   ]
  },
  {
   "cell_type": "code",
   "execution_count": 229,
   "id": "dc3a1264",
   "metadata": {},
   "outputs": [
    {
     "data": {
      "image/png": "[encoded data removed]",
      "text/plain": [
       "<Figure size 576x432 with 1 Axes>"
      ]
     },
     "metadata": {
      "needs_background": "light"
     },
     "output_type": "display_data"
    }
   ],
   "source": [
    "plt.figure(figsize=(8,6))\n",
    "\n",
    "plt.scatter(5*[1,2,3,4,5,6,7,8,9,10], np.transpose(metrics8[1]).reshape(1,-1))\n",
    "\n",
    "plt.scatter(range(1,11), np.mean(metrics8[1], axis=1), label='Average')\n",
    "\n",
    "plt.title('Recall Scores for Voting Model', fontsize=20)\n",
    "plt.xlabel('Votes to Tree')\n",
    "plt.ylabel('Recall')\n",
    "plt.ylim(-0.1,1.1)\n",
    "\n",
    "plt.legend()\n",
    "\n",
    "plt.show()"
   ]
  },
  {
   "cell_type": "code",
   "execution_count": 228,
   "id": "cd92bba5",
   "metadata": {},
   "outputs": [
    {
     "name": "stdout",
     "output_type": "stream",
     "text": [
      "Recall:\n",
      "0.39999999999999997\n",
      "Precision:\n",
      "0.3376190476190476\n"
     ]
    }
   ],
   "source": [
    "print('Recall:')\n",
    "print(np.mean(metrics8[1], axis=1)[0])\n",
    "print('Precision:')\n",
    "print(np.mean(metrics8[0], axis=1)[0])"
   ]
  },
  {
   "cell_type": "code",
   "execution_count": 214,
   "id": "47944931",
   "metadata": {},
   "outputs": [],
   "source": [
    "def voting2(n):\n",
    "    '''n = weights of the voting model\n",
    "    Creates an array of precisions and recalls, to be processed'''\n",
    "    precs=np.zeros((n,5))\n",
    "    recs = np.zeros((n,5))\n",
    "    for i in range(0,n):\n",
    "        x=0\n",
    "        for train_index, val_index in timeseries_split(train_set,5):\n",
    "\n",
    "            # make voting model \n",
    "            voting = VotingClassifier([\n",
    "                ('knn', KNeighborsClassifier(1)),\n",
    "                ('tree', DecisionTreeClassifier(max_depth=10))\n",
    "                                    ],\n",
    "                weights=[i,1])\n",
    "            voting.fit(\n",
    "                train_set.iloc[train_index][['United States', 'Family', 'Adventure', 'Comedy', 'Fantasy', 'Other',\n",
    "                                           'G', 'PG', 'PG-13', 'R', 'Unrated', 'metascore_available']],\n",
    "                train_set.iloc[train_index]['is_nominee']\n",
    "                    )\n",
    "            pred=voting.predict(train_set.iloc[val_index][['United States', 'Family', 'Adventure', 'Comedy', 'Fantasy',\n",
    "                                                         'Other','G', 'PG', 'PG-13', 'R', 'Unrated',\n",
    "                                                         'metascore_available']]\n",
    "                        )\n",
    "\n",
    "            # add metrics to the tables\n",
    "            precs[i,x]=precision_score(train_set.iloc[val_index]['is_nominee'], pred, zero_division=0)\n",
    "            recs[i,x]=recall_score(train_set.iloc[val_index]['is_nominee'], pred, zero_division=0)\n",
    "            x=x+1\n",
    "\n",
    "    return(precs, recs)"
   ]
  },
  {
   "cell_type": "code",
   "execution_count": 235,
   "id": "67ca5e39",
   "metadata": {},
   "outputs": [],
   "source": [
    "metrics9=voting2(10)"
   ]
  },
  {
   "cell_type": "code",
   "execution_count": 236,
   "id": "9b35377d",
   "metadata": {},
   "outputs": [
    {
     "data": {
      "text/plain": [
       "(array([[0.5       , 0.        , 0.        , 1.        , 0.5       ],\n",
       "        [0.5       , 0.        , 0.        , 0.        , 0.        ],\n",
       "        [0.28571429, 0.66666667, 0.25      , 0.28571429, 0.2       ],\n",
       "        [0.28571429, 0.66666667, 0.25      , 0.28571429, 0.2       ],\n",
       "        [0.28571429, 0.66666667, 0.25      , 0.28571429, 0.2       ],\n",
       "        [0.28571429, 0.66666667, 0.25      , 0.28571429, 0.2       ],\n",
       "        [0.28571429, 0.66666667, 0.25      , 0.28571429, 0.2       ],\n",
       "        [0.28571429, 0.66666667, 0.25      , 0.28571429, 0.2       ],\n",
       "        [0.28571429, 0.66666667, 0.25      , 0.28571429, 0.2       ],\n",
       "        [0.28571429, 0.66666667, 0.25      , 0.28571429, 0.2       ]]),\n",
       " array([[0.16666667, 0.        , 0.        , 0.2       , 0.2       ],\n",
       "        [0.16666667, 0.        , 0.        , 0.        , 0.        ],\n",
       "        [0.33333333, 0.4       , 0.66666667, 0.4       , 0.2       ],\n",
       "        [0.33333333, 0.4       , 0.66666667, 0.4       , 0.2       ],\n",
       "        [0.33333333, 0.4       , 0.66666667, 0.4       , 0.2       ],\n",
       "        [0.33333333, 0.4       , 0.66666667, 0.4       , 0.2       ],\n",
       "        [0.33333333, 0.4       , 0.66666667, 0.4       , 0.2       ],\n",
       "        [0.33333333, 0.4       , 0.66666667, 0.4       , 0.2       ],\n",
       "        [0.33333333, 0.4       , 0.66666667, 0.4       , 0.2       ],\n",
       "        [0.33333333, 0.4       , 0.66666667, 0.4       , 0.2       ]]))"
      ]
     },
     "execution_count": 236,
     "metadata": {},
     "output_type": "execute_result"
    }
   ],
   "source": [
    "metrics9"
   ]
  },
  {
   "cell_type": "code",
   "execution_count": 237,
   "id": "456a9292",
   "metadata": {},
   "outputs": [
    {
     "data": {
      "image/png": "[encoded data removed]",
      "text/plain": [
       "<Figure size 576x432 with 1 Axes>"
      ]
     },
     "metadata": {
      "needs_background": "light"
     },
     "output_type": "display_data"
    }
   ],
   "source": [
    "plt.figure(figsize=(8,6))\n",
    "\n",
    "plt.scatter(5*[1,2,3,4,5,6,7,8,9,10], np.transpose(metrics9[1]).reshape(1,-1))\n",
    "\n",
    "plt.scatter(range(1,11), np.mean(metrics9[1], axis=1), label='Average')\n",
    "\n",
    "plt.title('Recall Scores for Voting Model', fontsize=20)\n",
    "plt.xlabel('Votes to kNN')\n",
    "plt.ylabel('Recall')\n",
    "plt.ylim(-0.1,1.1)\n",
    "\n",
    "plt.legend()\n",
    "\n",
    "plt.show()"
   ]
  },
  {
   "cell_type": "code",
   "execution_count": 238,
   "id": "217e6e19",
   "metadata": {},
   "outputs": [
    {
     "data": {
      "image/png": "[encoded data removed]",
      "text/plain": [
       "<Figure size 576x432 with 1 Axes>"
      ]
     },
     "metadata": {
      "needs_background": "light"
     },
     "output_type": "display_data"
    }
   ],
   "source": [
    "plt.figure(figsize=(8,6))\n",
    "\n",
    "plt.scatter(5*[1,2,3,4,5,6,7,8,9,10], np.transpose(metrics9[0]).reshape(1,-1))\n",
    "\n",
    "plt.scatter(range(1,11), np.mean(metrics9[0], axis=1), label='Average')\n",
    "\n",
    "plt.title('Precision Scores for Voting Model', fontsize=20)\n",
    "plt.xlabel('Votes to kNN')\n",
    "plt.ylabel('Precision')\n",
    "plt.ylim(-0.1,1.1)\n",
    "\n",
    "plt.legend()\n",
    "\n",
    "plt.show()"
   ]
  },
  {
   "cell_type": "code",
   "execution_count": 241,
   "id": "a0258393",
   "metadata": {},
   "outputs": [
    {
     "name": "stdout",
     "output_type": "stream",
     "text": [
      "Recall:\n",
      "0.11333333333333333\n",
      "Precision:\n",
      "0.4\n"
     ]
    }
   ],
   "source": [
    "print('Recall:')\n",
    "print(np.mean(metrics9[1], axis=1)[0])\n",
    "print('Precision:')\n",
    "print(np.mean(metrics9[0], axis=1)[0])"
   ]
  },
  {
   "cell_type": "code",
   "execution_count": 242,
   "id": "d6ea32c6",
   "metadata": {},
   "outputs": [
    {
     "name": "stdout",
     "output_type": "stream",
     "text": [
      "Recall:\n",
      "0.39999999999999997\n",
      "Precision:\n",
      "0.3376190476190476\n"
     ]
    }
   ],
   "source": [
    "print('Recall:')\n",
    "print(np.mean(metrics9[1], axis=1)[2])\n",
    "print('Precision:')\n",
    "print(np.mean(metrics9[0], axis=1)[2])"
   ]
  },
  {
   "cell_type": "code",
   "execution_count": null,
   "id": "8f680199",
   "metadata": {},
   "outputs": [],
   "source": []
  }
 ],
 "metadata": {
  "kernelspec": {
   "display_name": "Python 3 (ipykernel)",
   "language": "python",
   "name": "python3"
  },
  "language_info": {
   "codemirror_mode": {
    "name": "ipython",
    "version": 3
   },
   "file_extension": ".py",
   "mimetype": "text/x-python",
   "name": "python",
   "nbconvert_exporter": "python",
   "pygments_lexer": "ipython3",
   "version": "3.9.7"
  }
 },
 "nbformat": 4,
 "nbformat_minor": 5
}
